{
 "cells": [
  {
   "attachments": {},
   "cell_type": "markdown",
   "metadata": {},
   "source": [
    "# Timeseries datarames\n",
    "\n",
    "> Fill in a module description here"
   ]
  },
  {
   "cell_type": "code",
   "execution_count": null,
   "metadata": {},
   "outputs": [],
   "source": [
    "#| default_exp timeseriesdataframe"
   ]
  },
  {
   "cell_type": "code",
   "execution_count": null,
   "metadata": {},
   "outputs": [],
   "source": [
    "#| hide\n",
    "from nbdev.showdoc import *  # noqa: F403\n"
   ]
  },
  {
   "cell_type": "code",
   "execution_count": null,
   "metadata": {},
   "outputs": [],
   "source": [
    "#| export\n",
    "import typing\n",
    "import logging\n",
    "import json\n",
    "import numpy as np\n",
    "import pandas as pd\n"
   ]
  },
  {
   "cell_type": "code",
   "execution_count": null,
   "metadata": {},
   "outputs": [],
   "source": [
    "#| export\n",
    "try:\n",
    "    logging.getLogger(__name__).info(f\"Loading {__name__} from {__file__}\")\n",
    "except:  # noqa: E722\n",
    "    pass\n",
    "\n",
    "syslog = logging.getLogger(__name__)"
   ]
  },
  {
   "cell_type": "code",
   "execution_count": null,
   "metadata": {},
   "outputs": [],
   "source": []
  },
  {
   "attachments": {},
   "cell_type": "markdown",
   "metadata": {},
   "source": [
    "## Timeseries dataframes\n",
    "\n",
    "Timeseries data is a cornerstone of our data manipulation and most processing is on them"
   ]
  },
  {
   "cell_type": "markdown",
   "metadata": {},
   "source": [
    "### `set_time_index_zone`\n",
    "\n",
    "Processing may depend on proper timezone awareness, this utility to set the timezone on a datetime index"
   ]
  },
  {
   "cell_type": "code",
   "execution_count": null,
   "metadata": {},
   "outputs": [],
   "source": [
    "#| export\n",
    "\n",
    "def set_time_index_zone(\n",
    "        df:pd.DataFrame,    # Dataframe to set or convert the timeindex on\n",
    "        timezone            # Timezone to set\n",
    "    ) :\n",
    "    \"\"\"\n",
    "    Sets the time zone of the index of a pandas DataFrame.\n",
    "\n",
    "    Args:\n",
    "        df (pd.DataFrame): The DataFrame whose index time zone is to be set.\n",
    "        timezone (str): The desired time zone.\n",
    "\n",
    "    Returns:\n",
    "        pd.DataFrame: The modified DataFrame with its index time zone set \n",
    "        to the specified time zone.\n",
    "\n",
    "    Raises:\n",
    "        None\n",
    "\n",
    "    Examples:\n",
    "        >>> df = pd.DataFrame({'A': [1, 2, 3]}, index=pd.DatetimeIndex(['2022-01-01', '2022-01-02', '2022-01-03']))\n",
    "        >>> set_time_index_zone(df, 'Europe/Berlin')\n",
    "                     A\n",
    "        2022-01-01  1\n",
    "        2022-01-02  2\n",
    "        2022-01-03  3\n",
    "        DatetimeIndex: 3 entries, 2022-01-01 01:00:00+01:00 to 2022-01-03 01:00:00+01:00\n",
    "    \"\"\"\n",
    "    \n",
    "    if isinstance(df.index, pd.DatetimeIndex):\n",
    "        df.index.name = 'time'\n",
    "        if not hasattr(df.index, 'tz')  or not df.index.tz or not df.index.tz:\n",
    "            df.index = df.index.tz_localize('UTC').tz_convert(timezone)\n",
    "        elif str(df.index.tz) != timezone:\n",
    "            df.index = df.index.tz_convert(timezone)\n",
    "\n",
    "    return df\n"
   ]
  },
  {
   "cell_type": "markdown",
   "metadata": {},
   "source": [
    "#### Example"
   ]
  },
  {
   "cell_type": "code",
   "execution_count": null,
   "metadata": {},
   "outputs": [
    {
     "data": {
      "text/plain": [
       "DatetimeIndex(['2022-01-01 01:00:00+01:00', '2022-01-02 01:00:00+01:00',\n",
       "               '2022-01-03 01:00:00+01:00'],\n",
       "              dtype='datetime64[ns, Europe/Berlin]', name='time', freq=None)"
      ]
     },
     "execution_count": null,
     "metadata": {},
     "output_type": "execute_result"
    }
   ],
   "source": [
    "df = pd.DataFrame({'A': [1, 2, 3]}, index=pd.DatetimeIndex(['2022-01-01', '2022-01-02', '2022-01-03']))\n",
    "set_time_index_zone(df, 'Europe/Berlin')\n",
    "df.index"
   ]
  },
  {
   "cell_type": "markdown",
   "metadata": {},
   "source": [
    "### timeseries_dataframe\n",
    "\n",
    "Converts Pandas dataframes and series, Numpy array's and recarrays or a dictionary of \n",
    "individual timeseries into a Pandas dataframe with one datetime index. With all arrays \n",
    "dataframes and series it is assumed that the first column contains the timestamps."
   ]
  },
  {
   "cell_type": "code",
   "execution_count": null,
   "metadata": {},
   "outputs": [],
   "source": [
    "#| export\n",
    "\n",
    "def timeseries_dataframe(\n",
    "        data:typing.Union[pd.DataFrame, pd.Series, dict, np.ndarray, np.recarray], \n",
    "        timezone='UTC', \n",
    "        columnnames=None):\n",
    "    \n",
    "    \"\"\"Convert various tabular data formats to timeseries DataFrame\n",
    "\n",
    "    Args:\n",
    "        data (Union[pd.DataFrame, pd.Series, dict, np.ndarray, np.recarray]): The input data to be converted.\n",
    "        timezone (str, optional): The timezone to set for the index of the DataFrame. Defaults to 'UTC'.\n",
    "        columnnames (Optional[List[str]]): The column names to use for the DataFrame. Defaults to None.\n",
    "\n",
    "    Returns:\n",
    "        pd.DataFrame: The converted timeseries DataFrame with the index set to the specified timezone.\n",
    "    \"\"\"\n",
    "\n",
    "    if isinstance(data, pd.DataFrame):\n",
    "        df = data.copy()\n",
    "        df.index = pd.DatetimeIndex(df.index).round('ms')\n",
    "\n",
    "    elif isinstance(data, pd.Series):\n",
    "        df = pd.DataFrame(data)\n",
    "        df.index = pd.DatetimeIndex(df.index).round('ms')\n",
    "\n",
    "    elif isinstance(data, dict):\n",
    "        # assume a dict/mapping of individual arrays representing timeseries \n",
    "        df = pd.DataFrame({\n",
    "            C:pd.Series(data=A[:,1], index=pd.DatetimeIndex(A[:,0]*1e9)) if isinstance(A, np.ndarray) else A\n",
    "            for C,A in data.items()\n",
    "        })\n",
    "\n",
    "    elif data.dtype.names is not None:\n",
    "        # structured or recarray, we use column names from the recarray\n",
    "        df = pd.DataFrame(\n",
    "            data=data.view(dtype=np.float64).reshape(data.shape[0],len(data.dtype))[:,range(1,len(data.dtype))],\n",
    "            index=pd.DatetimeIndex(data.view(dtype=np.float64).reshape(data.shape[0],len(data.dtype))[:,0] * 1e9),\n",
    "            columns=data.dtype.names[1:]\n",
    "        )\n",
    "\n",
    "    else:\n",
    "        if data.shape[0] > 0:\n",
    "            # column names, either 'value' if there is only one column, or\n",
    "            # value_0, value_1 .... value_nn when more the one column is present\n",
    "            if data.shape[1]>2:\n",
    "                columns=[f\"value_{str(i+1)}\" for i in range(data.shape[1]-1)] if not columnnames else [f\"{str(i)}\" for i in columnnames[1:]]\n",
    "            else:\n",
    "                columns=['value']\n",
    "\n",
    "            df = pd.DataFrame(\n",
    "                data=data[:, 1:],\n",
    "                index=pd.DatetimeIndex(data[:,0]*1e9),\n",
    "                columns=columns\n",
    "            )\n",
    "        else:\n",
    "            return pd.DataFrame()\n",
    "\n",
    "    return set_time_index_zone(df, timezone)"
   ]
  },
  {
   "cell_type": "code",
   "execution_count": null,
   "metadata": {},
   "outputs": [],
   "source": []
  },
  {
   "cell_type": "markdown",
   "metadata": {},
   "source": [
    "### `timeseries_dataframe_from_datadict`"
   ]
  },
  {
   "cell_type": "code",
   "execution_count": null,
   "metadata": {},
   "outputs": [],
   "source": [
    "#| exports\n",
    "def timeseries_dataframe_from_datadict(\n",
    "        data:dict, \n",
    "        timecolumns=None,\n",
    "        recordformat='records',\n",
    "        nested=False\n",
    "):\n",
    "        \n",
    "    \"\"\"\n",
    "    Converts a data dict into a pandas DataFrame based on the specified record format. \n",
    "    Parameters:\n",
    "        - data: A dictionary containing the data to convert.\n",
    "        - timecolumns: A list of column names to be treated as time columns.\n",
    "        - recordformat: A string specifying the format of the data records ('records', 'table', 'split', 'index', 'tight').\n",
    "    Returns:\n",
    "        - df: A pandas DataFrame with a DatetimeIndex representing the converted data.\n",
    "    \"\"\"\n",
    "\n",
    "    orient = recordformat.lower()\n",
    "    assert orient in ['records', 'table', 'split', 'index', 'tight']\n",
    "    assert timecolumns, 'No time columns specified'\n",
    "\n",
    "    #print(f\"Converting {'nested' if nested else 'flat'} data dict to DataFrame with orient={orient} and timecolumns={timecolumns}\")\n",
    "    \n",
    "    if orient == 'records':\n",
    "        if nested:\n",
    "            # data is a nested structure, we need to normalize it\n",
    "            df = pd.json_normalize(data, sep='.', errors='ignore')  # type: ignore\n",
    "\n",
    "        else:\n",
    "            # data is a structured ndarray, sequence of tuples or dicts, or DataFrame\n",
    "            df = pd.DataFrame.from_records(data, coerce_float=True)  # type: ignore\n",
    "            \n",
    "        time_columns_in_df = [C for C in df.columns if C in timecolumns]\n",
    "        if not  time_columns_in_df:\n",
    "            time_column = df.columns[0]\n",
    "        else:\n",
    "            time_column = time_columns_in_df[0]\n",
    "\n",
    "    elif orient == 'table':\n",
    "        # data is in pandas table format\n",
    "        time_column = data['schema']['primaryKey'][0]\n",
    "        df = pd.DataFrame.from_dict(data['data'], coerce_float=True).set_index(data['schema']['primaryKey'])\n",
    "        df.index.name = 'time'\n",
    "    else:\n",
    "        # data  is formatted according to 'orient' parameter (pandas)\n",
    "        df = pd.DataFrame.from_dict(data, orient=orient, coerce_float=True) # type: ignore\n",
    "        time_column = df.index.name\n",
    "\n",
    "\n",
    "    df.columns = list(df.columns)\n",
    "    df[time_column] = pd.to_datetime(df[time_column],utc=True,format='ISO8601')\n",
    "    df.set_index(time_column, inplace=True)\n",
    "    df.index = pd.DatetimeIndex(df.index).round('ms')\n",
    "    \n",
    "    df.index.name = 'time'\n",
    "\n",
    "    return df\n"
   ]
  },
  {
   "cell_type": "code",
   "execution_count": null,
   "metadata": {},
   "outputs": [],
   "source": [
    "#| export\n",
    "test_data_dict_3_samples= [\n",
    "    {\n",
    "        \"time\":\"2023-05-04T10:04:49.000Z\",\n",
    "        \"value\":16.72\n",
    "    },\n",
    "    {\n",
    "        \"time\":\"2023-05-04T10:24:51.000Z\",\n",
    "        \"value\":16.65\n",
    "    },\n",
    "    {\n",
    "        \"time\":\"2023-05-04T10:44:53.000Z\",\n",
    "        \"value\":16.55\n",
    "    }\n",
    "]"
   ]
  },
  {
   "cell_type": "code",
   "execution_count": null,
   "metadata": {},
   "outputs": [
    {
     "data": {
      "application/vnd.microsoft.datawrangler.viewer.v0+json": {
       "columns": [
        {
         "name": "time",
         "rawType": "datetime64[ns, UTC]",
         "type": "unknown"
        },
        {
         "name": "value",
         "rawType": "float64",
         "type": "float"
        }
       ],
       "ref": "09455bd0-a256-47c9-ab82-7e7f85250d8f",
       "rows": [
        [
         "2023-05-04 10:04:49+00:00",
         "16.72"
        ],
        [
         "2023-05-04 10:24:51+00:00",
         "16.65"
        ],
        [
         "2023-05-04 10:44:53+00:00",
         "16.55"
        ]
       ],
       "shape": {
        "columns": 1,
        "rows": 3
       }
      },
      "text/html": [
       "<div>\n",
       "<style scoped>\n",
       "    .dataframe tbody tr th:only-of-type {\n",
       "        vertical-align: middle;\n",
       "    }\n",
       "\n",
       "    .dataframe tbody tr th {\n",
       "        vertical-align: top;\n",
       "    }\n",
       "\n",
       "    .dataframe thead th {\n",
       "        text-align: right;\n",
       "    }\n",
       "</style>\n",
       "<table border=\"1\" class=\"dataframe\">\n",
       "  <thead>\n",
       "    <tr style=\"text-align: right;\">\n",
       "      <th></th>\n",
       "      <th>value</th>\n",
       "    </tr>\n",
       "    <tr>\n",
       "      <th>time</th>\n",
       "      <th></th>\n",
       "    </tr>\n",
       "  </thead>\n",
       "  <tbody>\n",
       "    <tr>\n",
       "      <th>2023-05-04 10:04:49+00:00</th>\n",
       "      <td>16.72</td>\n",
       "    </tr>\n",
       "    <tr>\n",
       "      <th>2023-05-04 10:24:51+00:00</th>\n",
       "      <td>16.65</td>\n",
       "    </tr>\n",
       "    <tr>\n",
       "      <th>2023-05-04 10:44:53+00:00</th>\n",
       "      <td>16.55</td>\n",
       "    </tr>\n",
       "  </tbody>\n",
       "</table>\n",
       "</div>"
      ],
      "text/plain": [
       "                           value\n",
       "time                            \n",
       "2023-05-04 10:04:49+00:00  16.72\n",
       "2023-05-04 10:24:51+00:00  16.65\n",
       "2023-05-04 10:44:53+00:00  16.55"
      ]
     },
     "execution_count": null,
     "metadata": {},
     "output_type": "execute_result"
    }
   ],
   "source": [
    "df = timeseries_dataframe_from_datadict(test_data_dict_3_samples, timecolumns=['time'])\n",
    "df"
   ]
  },
  {
   "cell_type": "code",
   "execution_count": null,
   "metadata": {},
   "outputs": [
    {
     "data": {
      "text/plain": [
       "DatetimeIndex(['2023-05-04 10:04:49+00:00', '2023-05-04 10:24:51+00:00',\n",
       "               '2023-05-04 10:44:53+00:00'],\n",
       "              dtype='datetime64[ns, UTC]', name='time', freq=None)"
      ]
     },
     "execution_count": null,
     "metadata": {},
     "output_type": "execute_result"
    }
   ],
   "source": [
    "df.index"
   ]
  },
  {
   "cell_type": "code",
   "execution_count": null,
   "metadata": {},
   "outputs": [
    {
     "data": {
      "application/vnd.microsoft.datawrangler.viewer.v0+json": {
       "columns": [
        {
         "name": "time",
         "rawType": "datetime64[ns, Europe/Amsterdam]",
         "type": "unknown"
        },
        {
         "name": "value",
         "rawType": "float64",
         "type": "float"
        }
       ],
       "ref": "cd414268-d98b-46f1-9a98-341cac58a684",
       "rows": [
        [
         "2023-05-04 12:04:49+02:00",
         "16.72"
        ],
        [
         "2023-05-04 12:24:51+02:00",
         "16.65"
        ],
        [
         "2023-05-04 12:44:53+02:00",
         "16.55"
        ]
       ],
       "shape": {
        "columns": 1,
        "rows": 3
       }
      },
      "text/html": [
       "<div>\n",
       "<style scoped>\n",
       "    .dataframe tbody tr th:only-of-type {\n",
       "        vertical-align: middle;\n",
       "    }\n",
       "\n",
       "    .dataframe tbody tr th {\n",
       "        vertical-align: top;\n",
       "    }\n",
       "\n",
       "    .dataframe thead th {\n",
       "        text-align: right;\n",
       "    }\n",
       "</style>\n",
       "<table border=\"1\" class=\"dataframe\">\n",
       "  <thead>\n",
       "    <tr style=\"text-align: right;\">\n",
       "      <th></th>\n",
       "      <th>value</th>\n",
       "    </tr>\n",
       "    <tr>\n",
       "      <th>time</th>\n",
       "      <th></th>\n",
       "    </tr>\n",
       "  </thead>\n",
       "  <tbody>\n",
       "    <tr>\n",
       "      <th>2023-05-04 12:04:49+02:00</th>\n",
       "      <td>16.72</td>\n",
       "    </tr>\n",
       "    <tr>\n",
       "      <th>2023-05-04 12:24:51+02:00</th>\n",
       "      <td>16.65</td>\n",
       "    </tr>\n",
       "    <tr>\n",
       "      <th>2023-05-04 12:44:53+02:00</th>\n",
       "      <td>16.55</td>\n",
       "    </tr>\n",
       "  </tbody>\n",
       "</table>\n",
       "</div>"
      ],
      "text/plain": [
       "                           value\n",
       "time                            \n",
       "2023-05-04 12:04:49+02:00  16.72\n",
       "2023-05-04 12:24:51+02:00  16.65\n",
       "2023-05-04 12:44:53+02:00  16.55"
      ]
     },
     "execution_count": null,
     "metadata": {},
     "output_type": "execute_result"
    }
   ],
   "source": [
    "df = set_time_index_zone( \n",
    "    timeseries_dataframe_from_datadict(\n",
    "        test_data_dict_3_samples, \n",
    "        timecolumns=['time']\n",
    "    ), \n",
    "    timezone='Europe/Amsterdam'\n",
    ")\n",
    "df"
   ]
  },
  {
   "cell_type": "code",
   "execution_count": null,
   "metadata": {},
   "outputs": [
    {
     "data": {
      "text/plain": [
       "DatetimeIndex(['2023-05-04 12:04:49+02:00', '2023-05-04 12:24:51+02:00',\n",
       "               '2023-05-04 12:44:53+02:00'],\n",
       "              dtype='datetime64[ns, Europe/Amsterdam]', name='time', freq=None)"
      ]
     },
     "execution_count": null,
     "metadata": {},
     "output_type": "execute_result"
    }
   ],
   "source": [
    "df.index"
   ]
  },
  {
   "cell_type": "markdown",
   "metadata": {},
   "source": [
    "### Timezones"
   ]
  },
  {
   "cell_type": "code",
   "execution_count": null,
   "metadata": {},
   "outputs": [
    {
     "data": {
      "text/plain": [
       "DatetimeIndex(['2018-04-10 09:01:01.123000+02:00',\n",
       "               '2018-04-10 09:01:02.123000+02:00',\n",
       "               '2018-04-10 09:01:03.123000+02:00'],\n",
       "              dtype='datetime64[ns, Europe/Amsterdam]', freq='s')"
      ]
     },
     "execution_count": null,
     "metadata": {},
     "output_type": "execute_result"
    }
   ],
   "source": [
    "rng = pd.date_range(pd.Timestamp(\"2018-04-10T09:01:01.123+02:00\"), periods=3, freq='s').tz_convert('Europe/Amsterdam')\n",
    "rng"
   ]
  },
  {
   "cell_type": "code",
   "execution_count": null,
   "metadata": {},
   "outputs": [
    {
     "data": {
      "text/plain": [
       "Index(['2018-04-10T09:01:01+0200', '2018-04-10T09:01:02+0200',\n",
       "       '2018-04-10T09:01:03+0200'],\n",
       "      dtype='object')"
      ]
     },
     "execution_count": null,
     "metadata": {},
     "output_type": "execute_result"
    }
   ],
   "source": [
    "\n",
    "rng.strftime(\"%FT%R:%S%z\")\n"
   ]
  },
  {
   "cell_type": "code",
   "execution_count": null,
   "metadata": {},
   "outputs": [
    {
     "data": {
      "text/plain": [
       "DatetimeIndex(['2018-04-10 09:01:01+02:00', '2018-04-10 09:01:02+02:00',\n",
       "               '2018-04-10 09:01:03+02:00'],\n",
       "              dtype='datetime64[ns, UTC+02:00]', freq=None)"
      ]
     },
     "execution_count": null,
     "metadata": {},
     "output_type": "execute_result"
    }
   ],
   "source": [
    "pd.DatetimeIndex(rng.strftime(\"%FT%R:%S%z\")).round('ms')"
   ]
  },
  {
   "cell_type": "code",
   "execution_count": null,
   "metadata": {},
   "outputs": [
    {
     "data": {
      "text/plain": [
       "Index(['2018-04-10T07:01:01Z', '2018-04-10T07:01:02Z', '2018-04-10T07:01:03Z'], dtype='object')"
      ]
     },
     "execution_count": null,
     "metadata": {},
     "output_type": "execute_result"
    }
   ],
   "source": [
    "\n",
    "rng.tz_convert('UTC').strftime(\"%FT%R:%SZ\")\n"
   ]
  },
  {
   "cell_type": "code",
   "execution_count": null,
   "metadata": {},
   "outputs": [],
   "source": [
    "# .map(lambda x: x.isoformat())"
   ]
  },
  {
   "cell_type": "code",
   "execution_count": null,
   "metadata": {},
   "outputs": [],
   "source": [
    "rng = pd.date_range(pd.Timestamp(\"2018-04-10T09:01:01.123+02:00\"), periods=30000, freq='s').tz_convert('Europe/Amsterdam')\n"
   ]
  },
  {
   "cell_type": "markdown",
   "metadata": {},
   "source": [
    "#### Which is faster, `strftime()` or `isoformat()`?"
   ]
  },
  {
   "cell_type": "code",
   "execution_count": null,
   "metadata": {},
   "outputs": [
    {
     "name": "stdout",
     "output_type": "stream",
     "text": [
      "340 ms ± 18.3 ms per loop (mean ± std. dev. of 7 runs, 1 loop each)\n"
     ]
    }
   ],
   "source": [
    "%%timeit\n",
    "ft = rng.strftime(\"%FT%R:%S%z\")\n"
   ]
  },
  {
   "cell_type": "code",
   "execution_count": null,
   "metadata": {},
   "outputs": [
    {
     "name": "stdout",
     "output_type": "stream",
     "text": [
      "136 ms ± 9.46 ms per loop (mean ± std. dev. of 7 runs, 10 loops each)\n"
     ]
    }
   ],
   "source": [
    "%%timeit\n",
    "ft = rng.map(lambda x: x.isoformat(timespec='milliseconds'))\n"
   ]
  },
  {
   "cell_type": "code",
   "execution_count": null,
   "metadata": {},
   "outputs": [],
   "source": []
  },
  {
   "cell_type": "markdown",
   "metadata": {},
   "source": [
    "### `timeseries_dataframe_to_datadict`"
   ]
  },
  {
   "cell_type": "code",
   "execution_count": null,
   "metadata": {},
   "outputs": [],
   "source": [
    "#| export\n",
    "def timeseries_dataframe_to_datadict(\n",
    "        data:typing.Union[pd.DataFrame, pd.Series, dict], \n",
    "        recordformat:str='records', \n",
    "        timezone:str='UTC'):\n",
    "\n",
    "    \"\"\"\n",
    "    Convert a timeseries DataFrame or Series into a dictionary representation.\n",
    "\n",
    "    Args:\n",
    "        data (Union[pd.DataFrame, pd.Series, dict]): The input data to be converted. It can be \n",
    "        a pandas DataFrame, Series, or a dictionary.\n",
    "        recordformat (str, optional): The format of the output records. Defaults to 'records'.\n",
    "        timezone (str, optional): The timezone to use for the DataFrame index. Defaults to 'UTC'.\n",
    "\n",
    "    Returns:\n",
    "        Union[dict, list]: The converted dictionary representation of the input data, a \n",
    "        dictionary or a list of dictionaries depending on the `recordformat` parameter.\n",
    "    \"\"\"\n",
    "        \n",
    "    orient = recordformat.lower()\n",
    "\n",
    "    normalized_data = timeseries_dataframe(data, timezone=timezone)\n",
    "    if isinstance(normalized_data.index, pd.DatetimeIndex):\n",
    "        if timezone == 'UTC':\n",
    "            normalized_data.index = normalized_data.index.strftime(\"%FT%R:%SZ\")\n",
    "        else:\n",
    "            normalized_data.index = normalized_data.index.map(lambda x: x.isoformat(timespec='milliseconds'))\n",
    "                 \n",
    "    if orient == 'records':\n",
    "        records = normalized_data.reset_index().to_dict(orient='records')\n",
    "    else:\n",
    "        records =  normalized_data.to_dict(orient=orient)\n",
    "    \n",
    "    return records    \n"
   ]
  },
  {
   "cell_type": "code",
   "execution_count": null,
   "metadata": {},
   "outputs": [
    {
     "data": {
      "application/vnd.microsoft.datawrangler.viewer.v0+json": {
       "columns": [
        {
         "name": "time",
         "rawType": "datetime64[ns, UTC]",
         "type": "unknown"
        },
        {
         "name": "value",
         "rawType": "float64",
         "type": "float"
        }
       ],
       "ref": "d10dc01b-91ad-4419-9871-ca176360ac54",
       "rows": [
        [
         "2023-05-04 09:04:49.050000+00:00",
         "16.72"
        ],
        [
         "2023-05-04 10:24:51.010000+00:00",
         "16.65"
        ],
        [
         "2023-05-04 10:44:53+00:00",
         "16.55"
        ],
        [
         "2023-05-04 10:44:53+00:00",
         null
        ]
       ],
       "shape": {
        "columns": 1,
        "rows": 4
       }
      },
      "text/html": [
       "<div>\n",
       "<style scoped>\n",
       "    .dataframe tbody tr th:only-of-type {\n",
       "        vertical-align: middle;\n",
       "    }\n",
       "\n",
       "    .dataframe tbody tr th {\n",
       "        vertical-align: top;\n",
       "    }\n",
       "\n",
       "    .dataframe thead th {\n",
       "        text-align: right;\n",
       "    }\n",
       "</style>\n",
       "<table border=\"1\" class=\"dataframe\">\n",
       "  <thead>\n",
       "    <tr style=\"text-align: right;\">\n",
       "      <th></th>\n",
       "      <th>value</th>\n",
       "    </tr>\n",
       "    <tr>\n",
       "      <th>time</th>\n",
       "      <th></th>\n",
       "    </tr>\n",
       "  </thead>\n",
       "  <tbody>\n",
       "    <tr>\n",
       "      <th>2023-05-04 09:04:49.050000+00:00</th>\n",
       "      <td>16.72</td>\n",
       "    </tr>\n",
       "    <tr>\n",
       "      <th>2023-05-04 10:24:51.010000+00:00</th>\n",
       "      <td>16.65</td>\n",
       "    </tr>\n",
       "    <tr>\n",
       "      <th>2023-05-04 10:44:53+00:00</th>\n",
       "      <td>16.55</td>\n",
       "    </tr>\n",
       "    <tr>\n",
       "      <th>2023-05-04 10:44:53+00:00</th>\n",
       "      <td>NaN</td>\n",
       "    </tr>\n",
       "  </tbody>\n",
       "</table>\n",
       "</div>"
      ],
      "text/plain": [
       "                                  value\n",
       "time                                   \n",
       "2023-05-04 09:04:49.050000+00:00  16.72\n",
       "2023-05-04 10:24:51.010000+00:00  16.65\n",
       "2023-05-04 10:44:53+00:00         16.55\n",
       "2023-05-04 10:44:53+00:00           NaN"
      ]
     },
     "execution_count": null,
     "metadata": {},
     "output_type": "execute_result"
    }
   ],
   "source": [
    "df = timeseries_dataframe_from_datadict([\n",
    "      {\n",
    "         \"time\":\"2023-05-04T10:04:49.050+01:00\",\n",
    "         \"value\":16.72\n",
    "      },\n",
    "      {\n",
    "         \"time\":\"2023-05-04T10:24:51.010Z\",\n",
    "         \"value\":16.65\n",
    "      },\n",
    "      {\n",
    "         \"time\":\"2023-05-04T10:44:53.000Z\",\n",
    "         \"value\":16.55\n",
    "      },\n",
    "      {\n",
    "         \"time\":\"2023-05-04T10:44:53.000Z\",\n",
    "         \"value\":np.nan\n",
    "      }\n",
    "   ], timecolumns=['time'])\n",
    "\n",
    "df"
   ]
  },
  {
   "cell_type": "code",
   "execution_count": null,
   "metadata": {},
   "outputs": [
    {
     "data": {
      "text/plain": [
       "DatetimeIndex(['2023-05-04 09:04:49.050000+00:00',\n",
       "               '2023-05-04 10:24:51.010000+00:00',\n",
       "                      '2023-05-04 10:44:53+00:00',\n",
       "                      '2023-05-04 10:44:53+00:00'],\n",
       "              dtype='datetime64[ns, UTC]', name='time', freq=None)"
      ]
     },
     "execution_count": null,
     "metadata": {},
     "output_type": "execute_result"
    }
   ],
   "source": [
    "df.index"
   ]
  },
  {
   "cell_type": "code",
   "execution_count": null,
   "metadata": {},
   "outputs": [
    {
     "data": {
      "application/vnd.microsoft.datawrangler.viewer.v0+json": {
       "columns": [
        {
         "name": "time",
         "rawType": "datetime64[ns, UTC]",
         "type": "unknown"
        },
        {
         "name": "value",
         "rawType": "float64",
         "type": "float"
        }
       ],
       "ref": "8b716663-8fa7-429b-8b76-7057ce539197",
       "rows": [
        [
         "2023-05-04 09:04:49.050000+00:00",
         "16.72"
        ],
        [
         "2023-05-04 10:24:51.010000+00:00",
         "16.65"
        ],
        [
         "2023-05-04 10:44:53+00:00",
         "16.55"
        ],
        [
         "2023-05-04 10:44:53+00:00",
         null
        ]
       ],
       "shape": {
        "columns": 1,
        "rows": 4
       }
      },
      "text/html": [
       "<div>\n",
       "<style scoped>\n",
       "    .dataframe tbody tr th:only-of-type {\n",
       "        vertical-align: middle;\n",
       "    }\n",
       "\n",
       "    .dataframe tbody tr th {\n",
       "        vertical-align: top;\n",
       "    }\n",
       "\n",
       "    .dataframe thead th {\n",
       "        text-align: right;\n",
       "    }\n",
       "</style>\n",
       "<table border=\"1\" class=\"dataframe\">\n",
       "  <thead>\n",
       "    <tr style=\"text-align: right;\">\n",
       "      <th></th>\n",
       "      <th>value</th>\n",
       "    </tr>\n",
       "    <tr>\n",
       "      <th>time</th>\n",
       "      <th></th>\n",
       "    </tr>\n",
       "  </thead>\n",
       "  <tbody>\n",
       "    <tr>\n",
       "      <th>2023-05-04 09:04:49.050000+00:00</th>\n",
       "      <td>16.72</td>\n",
       "    </tr>\n",
       "    <tr>\n",
       "      <th>2023-05-04 10:24:51.010000+00:00</th>\n",
       "      <td>16.65</td>\n",
       "    </tr>\n",
       "    <tr>\n",
       "      <th>2023-05-04 10:44:53+00:00</th>\n",
       "      <td>16.55</td>\n",
       "    </tr>\n",
       "    <tr>\n",
       "      <th>2023-05-04 10:44:53+00:00</th>\n",
       "      <td>NaN</td>\n",
       "    </tr>\n",
       "  </tbody>\n",
       "</table>\n",
       "</div>"
      ],
      "text/plain": [
       "                                  value\n",
       "time                                   \n",
       "2023-05-04 09:04:49.050000+00:00  16.72\n",
       "2023-05-04 10:24:51.010000+00:00  16.65\n",
       "2023-05-04 10:44:53+00:00         16.55\n",
       "2023-05-04 10:44:53+00:00           NaN"
      ]
     },
     "execution_count": null,
     "metadata": {},
     "output_type": "execute_result"
    }
   ],
   "source": [
    "df = timeseries_dataframe_from_datadict([\n",
    "      {\n",
    "         \"time\":\"2023-05-04T10:04:49.050+01:00\",\n",
    "         \"value\":16.72\n",
    "      },\n",
    "      {\n",
    "         \"time\":\"2023-05-04T10:24:51.010Z\",\n",
    "         \"value\":16.65\n",
    "      },\n",
    "      {\n",
    "         \"time\":\"2023-05-04T10:44:53.000Z\",\n",
    "         \"value\":16.55\n",
    "      },\n",
    "      {\n",
    "         \"time\":\"2023-05-04T10:44:53.000Z\",\n",
    "         \"value\":np.nan\n",
    "      }\n",
    "   ], timecolumns=['time'])\n",
    "\n",
    "df"
   ]
  },
  {
   "cell_type": "code",
   "execution_count": null,
   "metadata": {},
   "outputs": [
    {
     "data": {
      "text/plain": [
       "DatetimeIndex(['2023-05-04 09:04:49.050000+00:00',\n",
       "               '2023-05-04 10:24:51.010000+00:00',\n",
       "                      '2023-05-04 10:44:53+00:00',\n",
       "                      '2023-05-04 10:44:53+00:00'],\n",
       "              dtype='datetime64[ns, UTC]', name='time', freq=None)"
      ]
     },
     "execution_count": null,
     "metadata": {},
     "output_type": "execute_result"
    }
   ],
   "source": [
    "timeseries_dataframe(df, timezone='UTC').index"
   ]
  },
  {
   "cell_type": "code",
   "execution_count": null,
   "metadata": {},
   "outputs": [
    {
     "data": {
      "application/vnd.microsoft.datawrangler.viewer.v0+json": {
       "columns": [
        {
         "name": "time",
         "rawType": "datetime64[ns, UTC]",
         "type": "unknown"
        },
        {
         "name": "value",
         "rawType": "float64",
         "type": "float"
        }
       ],
       "ref": "c0a18661-edd7-4233-9df3-9b0f83722787",
       "rows": [
        [
         "2023-05-04 09:04:49.050000+00:00",
         "16.72"
        ],
        [
         "2023-05-04 10:24:51.010000+00:00",
         "16.65"
        ],
        [
         "2023-05-04 10:44:53+00:00",
         "16.55"
        ],
        [
         "2023-05-04 10:44:53+00:00",
         null
        ]
       ],
       "shape": {
        "columns": 1,
        "rows": 4
       }
      },
      "text/html": [
       "<div>\n",
       "<style scoped>\n",
       "    .dataframe tbody tr th:only-of-type {\n",
       "        vertical-align: middle;\n",
       "    }\n",
       "\n",
       "    .dataframe tbody tr th {\n",
       "        vertical-align: top;\n",
       "    }\n",
       "\n",
       "    .dataframe thead th {\n",
       "        text-align: right;\n",
       "    }\n",
       "</style>\n",
       "<table border=\"1\" class=\"dataframe\">\n",
       "  <thead>\n",
       "    <tr style=\"text-align: right;\">\n",
       "      <th></th>\n",
       "      <th>value</th>\n",
       "    </tr>\n",
       "    <tr>\n",
       "      <th>time</th>\n",
       "      <th></th>\n",
       "    </tr>\n",
       "  </thead>\n",
       "  <tbody>\n",
       "    <tr>\n",
       "      <th>2023-05-04 09:04:49.050000+00:00</th>\n",
       "      <td>16.72</td>\n",
       "    </tr>\n",
       "    <tr>\n",
       "      <th>2023-05-04 10:24:51.010000+00:00</th>\n",
       "      <td>16.65</td>\n",
       "    </tr>\n",
       "    <tr>\n",
       "      <th>2023-05-04 10:44:53+00:00</th>\n",
       "      <td>16.55</td>\n",
       "    </tr>\n",
       "    <tr>\n",
       "      <th>2023-05-04 10:44:53+00:00</th>\n",
       "      <td>NaN</td>\n",
       "    </tr>\n",
       "  </tbody>\n",
       "</table>\n",
       "</div>"
      ],
      "text/plain": [
       "                                  value\n",
       "time                                   \n",
       "2023-05-04 09:04:49.050000+00:00  16.72\n",
       "2023-05-04 10:24:51.010000+00:00  16.65\n",
       "2023-05-04 10:44:53+00:00         16.55\n",
       "2023-05-04 10:44:53+00:00           NaN"
      ]
     },
     "execution_count": null,
     "metadata": {},
     "output_type": "execute_result"
    }
   ],
   "source": [
    "df = timeseries_dataframe_from_datadict([\n",
    "      {\n",
    "         \"time\":\"2023-05-04T10:04:49.050+01:00\",\n",
    "         \"value\":16.72\n",
    "      },\n",
    "      {\n",
    "         \"time\":\"2023-05-04T10:24:51.010Z\",\n",
    "         \"value\":16.65\n",
    "      },\n",
    "      {\n",
    "         \"time\":\"2023-05-04T10:44:53.000Z\",\n",
    "         \"value\":16.55\n",
    "      },\n",
    "      {\n",
    "         \"time\":\"2023-05-04T10:44:53.000Z\",\n",
    "         \"value\":np.nan\n",
    "      }\n",
    "   ], timecolumns=['time'])\n",
    "\n",
    "df"
   ]
  },
  {
   "cell_type": "code",
   "execution_count": null,
   "metadata": {},
   "outputs": [
    {
     "data": {
      "text/plain": [
       "[{'time': '2023-05-04T09:04:49Z', 'value': 16.72},\n",
       " {'time': '2023-05-04T10:24:51Z', 'value': 16.65},\n",
       " {'time': '2023-05-04T10:44:53Z', 'value': 16.55},\n",
       " {'time': '2023-05-04T10:44:53Z', 'value': nan}]"
      ]
     },
     "execution_count": null,
     "metadata": {},
     "output_type": "execute_result"
    }
   ],
   "source": [
    "timeseries_dataframe_to_datadict(df, recordformat='records')"
   ]
  },
  {
   "cell_type": "code",
   "execution_count": null,
   "metadata": {},
   "outputs": [
    {
     "data": {
      "application/vnd.microsoft.datawrangler.viewer.v0+json": {
       "columns": [
        {
         "name": "time",
         "rawType": "datetime64[ns, UTC]",
         "type": "unknown"
        },
        {
         "name": "value",
         "rawType": "float64",
         "type": "float"
        }
       ],
       "ref": "b38dc98f-9de0-40e9-8896-8f32c792a5e4",
       "rows": [
        [
         "2023-05-04 09:04:49.050000+00:00",
         "16.72"
        ],
        [
         "2023-05-04 10:24:51.010000+00:00",
         "16.65"
        ],
        [
         "2023-05-04 10:44:53+00:00",
         "16.55"
        ],
        [
         "2023-05-04 10:44:53+00:00",
         null
        ]
       ],
       "shape": {
        "columns": 1,
        "rows": 4
       }
      },
      "text/html": [
       "<div>\n",
       "<style scoped>\n",
       "    .dataframe tbody tr th:only-of-type {\n",
       "        vertical-align: middle;\n",
       "    }\n",
       "\n",
       "    .dataframe tbody tr th {\n",
       "        vertical-align: top;\n",
       "    }\n",
       "\n",
       "    .dataframe thead th {\n",
       "        text-align: right;\n",
       "    }\n",
       "</style>\n",
       "<table border=\"1\" class=\"dataframe\">\n",
       "  <thead>\n",
       "    <tr style=\"text-align: right;\">\n",
       "      <th></th>\n",
       "      <th>value</th>\n",
       "    </tr>\n",
       "    <tr>\n",
       "      <th>time</th>\n",
       "      <th></th>\n",
       "    </tr>\n",
       "  </thead>\n",
       "  <tbody>\n",
       "    <tr>\n",
       "      <th>2023-05-04 09:04:49.050000+00:00</th>\n",
       "      <td>16.72</td>\n",
       "    </tr>\n",
       "    <tr>\n",
       "      <th>2023-05-04 10:24:51.010000+00:00</th>\n",
       "      <td>16.65</td>\n",
       "    </tr>\n",
       "    <tr>\n",
       "      <th>2023-05-04 10:44:53+00:00</th>\n",
       "      <td>16.55</td>\n",
       "    </tr>\n",
       "    <tr>\n",
       "      <th>2023-05-04 10:44:53+00:00</th>\n",
       "      <td>NaN</td>\n",
       "    </tr>\n",
       "  </tbody>\n",
       "</table>\n",
       "</div>"
      ],
      "text/plain": [
       "                                  value\n",
       "time                                   \n",
       "2023-05-04 09:04:49.050000+00:00  16.72\n",
       "2023-05-04 10:24:51.010000+00:00  16.65\n",
       "2023-05-04 10:44:53+00:00         16.55\n",
       "2023-05-04 10:44:53+00:00           NaN"
      ]
     },
     "execution_count": null,
     "metadata": {},
     "output_type": "execute_result"
    }
   ],
   "source": [
    "df = timeseries_dataframe_from_datadict([\n",
    "      {\n",
    "         \"time\":\"2023-05-04T10:04:49.050+01:00\",\n",
    "         \"value\":16.72\n",
    "      },\n",
    "      {\n",
    "         \"time\":\"2023-05-04T10:24:51.010Z\",\n",
    "         \"value\":16.65\n",
    "      },\n",
    "      {\n",
    "         \"time\":\"2023-05-04T10:44:53.000Z\",\n",
    "         \"value\":16.55\n",
    "      },\n",
    "      {\n",
    "         \"time\":\"2023-05-04T10:44:53.000Z\",\n",
    "         \"value\":np.nan\n",
    "      }\n",
    "   ], timecolumns=['time'])\n",
    "\n",
    "df"
   ]
  },
  {
   "cell_type": "code",
   "execution_count": null,
   "metadata": {},
   "outputs": [
    {
     "data": {
      "text/plain": [
       "[{'time': '2023-05-04T11:04:49.050+02:00', 'value': 16.72},\n",
       " {'time': '2023-05-04T12:24:51.010+02:00', 'value': 16.65},\n",
       " {'time': '2023-05-04T12:44:53.000+02:00', 'value': 16.55},\n",
       " {'time': '2023-05-04T12:44:53.000+02:00', 'value': nan}]"
      ]
     },
     "execution_count": null,
     "metadata": {},
     "output_type": "execute_result"
    }
   ],
   "source": [
    "timeseries_dataframe_to_datadict(df, recordformat='records', timezone='Europe/Berlin')"
   ]
  },
  {
   "cell_type": "code",
   "execution_count": null,
   "metadata": {},
   "outputs": [
    {
     "data": {
      "text/plain": [
       "DatetimeIndex(['2023-05-04 09:04:49.050000+00:00',\n",
       "               '2023-05-04 10:24:51.010000+00:00',\n",
       "                      '2023-05-04 10:44:53+00:00',\n",
       "                      '2023-05-04 10:44:53+00:00'],\n",
       "              dtype='datetime64[ns, UTC]', name='time', freq=None)"
      ]
     },
     "execution_count": null,
     "metadata": {},
     "output_type": "execute_result"
    }
   ],
   "source": [
    "df.index"
   ]
  },
  {
   "cell_type": "code",
   "execution_count": null,
   "metadata": {},
   "outputs": [
    {
     "data": {
      "application/vnd.microsoft.datawrangler.viewer.v0+json": {
       "columns": [
        {
         "name": "time",
         "rawType": "datetime64[ns, UTC]",
         "type": "unknown"
        },
        {
         "name": "value",
         "rawType": "float64",
         "type": "float"
        }
       ],
       "ref": "8488736e-3774-445b-8d38-77d24b4cdaec",
       "rows": [
        [
         "2023-05-04 09:04:49.050000+00:00",
         "16.72"
        ],
        [
         "2023-05-04 10:24:51.010000+00:00",
         "16.65"
        ],
        [
         "2023-05-04 10:44:53+00:00",
         "16.55"
        ],
        [
         "2023-05-04 10:44:53+00:00",
         null
        ]
       ],
       "shape": {
        "columns": 1,
        "rows": 4
       }
      },
      "text/html": [
       "<div>\n",
       "<style scoped>\n",
       "    .dataframe tbody tr th:only-of-type {\n",
       "        vertical-align: middle;\n",
       "    }\n",
       "\n",
       "    .dataframe tbody tr th {\n",
       "        vertical-align: top;\n",
       "    }\n",
       "\n",
       "    .dataframe thead th {\n",
       "        text-align: right;\n",
       "    }\n",
       "</style>\n",
       "<table border=\"1\" class=\"dataframe\">\n",
       "  <thead>\n",
       "    <tr style=\"text-align: right;\">\n",
       "      <th></th>\n",
       "      <th>value</th>\n",
       "    </tr>\n",
       "    <tr>\n",
       "      <th>time</th>\n",
       "      <th></th>\n",
       "    </tr>\n",
       "  </thead>\n",
       "  <tbody>\n",
       "    <tr>\n",
       "      <th>2023-05-04 09:04:49.050000+00:00</th>\n",
       "      <td>16.72</td>\n",
       "    </tr>\n",
       "    <tr>\n",
       "      <th>2023-05-04 10:24:51.010000+00:00</th>\n",
       "      <td>16.65</td>\n",
       "    </tr>\n",
       "    <tr>\n",
       "      <th>2023-05-04 10:44:53+00:00</th>\n",
       "      <td>16.55</td>\n",
       "    </tr>\n",
       "    <tr>\n",
       "      <th>2023-05-04 10:44:53+00:00</th>\n",
       "      <td>NaN</td>\n",
       "    </tr>\n",
       "  </tbody>\n",
       "</table>\n",
       "</div>"
      ],
      "text/plain": [
       "                                  value\n",
       "time                                   \n",
       "2023-05-04 09:04:49.050000+00:00  16.72\n",
       "2023-05-04 10:24:51.010000+00:00  16.65\n",
       "2023-05-04 10:44:53+00:00         16.55\n",
       "2023-05-04 10:44:53+00:00           NaN"
      ]
     },
     "execution_count": null,
     "metadata": {},
     "output_type": "execute_result"
    }
   ],
   "source": [
    "df = timeseries_dataframe_from_datadict([\n",
    "      {\n",
    "         \"time\":\"2023-05-04T10:04:49.050+01:00\",\n",
    "         \"value\":16.72\n",
    "      },\n",
    "      {\n",
    "         \"time\":\"2023-05-04T10:24:51.010Z\",\n",
    "         \"value\":16.65\n",
    "      },\n",
    "      {\n",
    "         \"time\":\"2023-05-04T10:44:53.000Z\",\n",
    "         \"value\":16.55\n",
    "      },\n",
    "      {\n",
    "         \"time\":\"2023-05-04T10:44:53.000Z\",\n",
    "         \"value\":np.nan\n",
    "      }\n",
    "   ], timecolumns=['time'])\n",
    "\n",
    "df"
   ]
  },
  {
   "cell_type": "code",
   "execution_count": null,
   "metadata": {},
   "outputs": [
    {
     "data": {
      "text/plain": [
       "{'index': ['2023-05-04T09:04:49Z',\n",
       "  '2023-05-04T10:24:51Z',\n",
       "  '2023-05-04T10:44:53Z',\n",
       "  '2023-05-04T10:44:53Z'],\n",
       " 'columns': ['value'],\n",
       " 'data': [[16.72], [16.65], [16.55], [nan]],\n",
       " 'index_names': ['time'],\n",
       " 'column_names': [None]}"
      ]
     },
     "execution_count": null,
     "metadata": {},
     "output_type": "execute_result"
    }
   ],
   "source": [
    "timeseries_dataframe_to_datadict(df, recordformat='tight')"
   ]
  },
  {
   "cell_type": "markdown",
   "metadata": {},
   "source": []
  },
  {
   "cell_type": "code",
   "execution_count": null,
   "metadata": {},
   "outputs": [],
   "source": [
    "test_data = timeseries_dataframe_to_datadict(df, recordformat='records')"
   ]
  },
  {
   "cell_type": "code",
   "execution_count": null,
   "metadata": {},
   "outputs": [
    {
     "data": {
      "text/plain": [
       "[{'time': '2023-05-04T09:04:49Z', 'value': 16.72},\n",
       " {'time': '2023-05-04T10:24:51Z', 'value': 16.65},\n",
       " {'time': '2023-05-04T10:44:53Z', 'value': 16.55},\n",
       " {'time': '2023-05-04T10:44:53Z', 'value': nan}]"
      ]
     },
     "execution_count": null,
     "metadata": {},
     "output_type": "execute_result"
    }
   ],
   "source": [
    "test_data"
   ]
  },
  {
   "cell_type": "code",
   "execution_count": null,
   "metadata": {},
   "outputs": [],
   "source": [
    "#| export\n",
    "\n",
    "#def interpolate_timeseries(sampler, period, method_args):\n",
    "\n",
    "\n",
    "ResamplerMethods = dict(\n",
    "    count=lambda R: R.count(),\n",
    "    median=lambda R: R.median(),\n",
    "    mean=lambda R: R.mean(),\n",
    "    min=lambda R: R.min(),\n",
    "    max=lambda R: R.max(),\n",
    "    sum=lambda R: R.sum(),\n",
    "    std=lambda R: R.std(),\n",
    "    var=lambda R: R.var(),\n",
    "    nearest=lambda R: R.nearest(),\n",
    ")\n",
    "\n",
    "ReSamplerPeriods = dict(\n",
    "    H='h', T='min', S='sec', L='ms', U='us', N='ns'\n",
    ")\n",
    "\n",
    "def timeseries_dataframe_resample(df:pd.DataFrame, period:str, method:str):\n",
    "    \"\"\"\n",
    "    Resamples a time-series DataFrame on the specified period and method.\n",
    "\n",
    "    Parameters:\n",
    "        df (pd.DataFrame): The input time-series DataFrame.\n",
    "        period (str): The resampling period.\n",
    "        method (str): The resampling method. Can be a string of multiple methods separated by ';'.\n",
    "        method_args (dict, optional): Additional arguments for the resampling method.\n",
    "\n",
    "    Returns:\n",
    "        pd.DataFrame: The resampled DataFrame.\n",
    "    \"\"\"\n",
    "    sampler = df.resample(ReSamplerPeriods.get(period, str(period)))\n",
    "\n",
    "    dataframes = [df]\n",
    "    for M in str(method).split(';'):\n",
    "        sdf = ResamplerMethods.get(M)(sampler)\n",
    "        sdf.columns = [f\"{C}_{M}\" for C in df.columns]\n",
    "        dataframes.append(sdf)\n",
    "\n",
    "    return pd.concat(dataframes, axis=1, join='outer')\n",
    "\n"
   ]
  },
  {
   "cell_type": "code",
   "execution_count": null,
   "metadata": {},
   "outputs": [],
   "source": [
    "df = timeseries_dataframe_from_datadict([\n",
    "      {\n",
    "         \"time\":\"2023-05-04T10:04:49.000Z\",\n",
    "         \"value\":16.72\n",
    "      },\n",
    "      {\n",
    "         \"time\":\"2023-05-04T10:24:51.000Z\",\n",
    "         \"value\":16.65\n",
    "      },\n",
    "      {\n",
    "         \"time\":\"2023-05-04T10:44:53.000Z\",\n",
    "         \"value\":16.55\n",
    "      },\n",
    "      {\n",
    "         \"time\":\"2023-05-04T11:04:49.000Z\",\n",
    "         \"value\":16.47\n",
    "      },\n",
    "      {\n",
    "         \"time\":\"2023-05-04T11:24:51.000Z\",\n",
    "         \"value\":16.44\n",
    "      },\n",
    "      {\n",
    "         \"time\":\"2023-05-04T11:44:53.000Z\",\n",
    "         \"value\":16.38\n",
    "      },\n",
    "   ], timecolumns=['time'])\n",
    "\n"
   ]
  },
  {
   "cell_type": "code",
   "execution_count": null,
   "metadata": {},
   "outputs": [
    {
     "data": {
      "application/vnd.microsoft.datawrangler.viewer.v0+json": {
       "columns": [
        {
         "name": "time",
         "rawType": "datetime64[ns, UTC]",
         "type": "unknown"
        },
        {
         "name": "value",
         "rawType": "float64",
         "type": "float"
        },
        {
         "name": "value_mean",
         "rawType": "float64",
         "type": "float"
        },
        {
         "name": "value_count",
         "rawType": "float64",
         "type": "float"
        }
       ],
       "ref": "e7bd44e4-0384-420b-9422-d8eeca4fe360",
       "rows": [
        [
         "2023-05-04 09:20:00+00:00",
         null,
         "16.685",
         "2.0"
        ],
        [
         "2023-05-04 10:04:49+00:00",
         "16.72",
         null,
         null
        ],
        [
         "2023-05-04 10:24:51+00:00",
         "16.65",
         null,
         null
        ],
        [
         "2023-05-04 10:40:00+00:00",
         null,
         "16.46",
         "4.0"
        ],
        [
         "2023-05-04 10:44:53+00:00",
         "16.55",
         null,
         null
        ],
        [
         "2023-05-04 11:04:49+00:00",
         "16.47",
         null,
         null
        ],
        [
         "2023-05-04 11:24:51+00:00",
         "16.44",
         null,
         null
        ],
        [
         "2023-05-04 11:44:53+00:00",
         "16.38",
         null,
         null
        ]
       ],
       "shape": {
        "columns": 3,
        "rows": 8
       }
      },
      "text/html": [
       "<div>\n",
       "<style scoped>\n",
       "    .dataframe tbody tr th:only-of-type {\n",
       "        vertical-align: middle;\n",
       "    }\n",
       "\n",
       "    .dataframe tbody tr th {\n",
       "        vertical-align: top;\n",
       "    }\n",
       "\n",
       "    .dataframe thead th {\n",
       "        text-align: right;\n",
       "    }\n",
       "</style>\n",
       "<table border=\"1\" class=\"dataframe\">\n",
       "  <thead>\n",
       "    <tr style=\"text-align: right;\">\n",
       "      <th></th>\n",
       "      <th>value</th>\n",
       "      <th>value_mean</th>\n",
       "      <th>value_count</th>\n",
       "    </tr>\n",
       "    <tr>\n",
       "      <th>time</th>\n",
       "      <th></th>\n",
       "      <th></th>\n",
       "      <th></th>\n",
       "    </tr>\n",
       "  </thead>\n",
       "  <tbody>\n",
       "    <tr>\n",
       "      <th>2023-05-04 09:20:00+00:00</th>\n",
       "      <td>NaN</td>\n",
       "      <td>16.685</td>\n",
       "      <td>2.0</td>\n",
       "    </tr>\n",
       "    <tr>\n",
       "      <th>2023-05-04 10:04:49+00:00</th>\n",
       "      <td>16.72</td>\n",
       "      <td>NaN</td>\n",
       "      <td>NaN</td>\n",
       "    </tr>\n",
       "    <tr>\n",
       "      <th>2023-05-04 10:24:51+00:00</th>\n",
       "      <td>16.65</td>\n",
       "      <td>NaN</td>\n",
       "      <td>NaN</td>\n",
       "    </tr>\n",
       "    <tr>\n",
       "      <th>2023-05-04 10:40:00+00:00</th>\n",
       "      <td>NaN</td>\n",
       "      <td>16.460</td>\n",
       "      <td>4.0</td>\n",
       "    </tr>\n",
       "    <tr>\n",
       "      <th>2023-05-04 10:44:53+00:00</th>\n",
       "      <td>16.55</td>\n",
       "      <td>NaN</td>\n",
       "      <td>NaN</td>\n",
       "    </tr>\n",
       "    <tr>\n",
       "      <th>2023-05-04 11:04:49+00:00</th>\n",
       "      <td>16.47</td>\n",
       "      <td>NaN</td>\n",
       "      <td>NaN</td>\n",
       "    </tr>\n",
       "    <tr>\n",
       "      <th>2023-05-04 11:24:51+00:00</th>\n",
       "      <td>16.44</td>\n",
       "      <td>NaN</td>\n",
       "      <td>NaN</td>\n",
       "    </tr>\n",
       "    <tr>\n",
       "      <th>2023-05-04 11:44:53+00:00</th>\n",
       "      <td>16.38</td>\n",
       "      <td>NaN</td>\n",
       "      <td>NaN</td>\n",
       "    </tr>\n",
       "  </tbody>\n",
       "</table>\n",
       "</div>"
      ],
      "text/plain": [
       "                           value  value_mean  value_count\n",
       "time                                                     \n",
       "2023-05-04 09:20:00+00:00    NaN      16.685          2.0\n",
       "2023-05-04 10:04:49+00:00  16.72         NaN          NaN\n",
       "2023-05-04 10:24:51+00:00  16.65         NaN          NaN\n",
       "2023-05-04 10:40:00+00:00    NaN      16.460          4.0\n",
       "2023-05-04 10:44:53+00:00  16.55         NaN          NaN\n",
       "2023-05-04 11:04:49+00:00  16.47         NaN          NaN\n",
       "2023-05-04 11:24:51+00:00  16.44         NaN          NaN\n",
       "2023-05-04 11:44:53+00:00  16.38         NaN          NaN"
      ]
     },
     "execution_count": null,
     "metadata": {},
     "output_type": "execute_result"
    }
   ],
   "source": [
    "timeseries_dataframe_resample(df, \"80min\", 'mean;count')"
   ]
  },
  {
   "cell_type": "code",
   "execution_count": null,
   "metadata": {},
   "outputs": [],
   "source": []
  },
  {
   "cell_type": "code",
   "execution_count": null,
   "metadata": {},
   "outputs": [],
   "source": []
  },
  {
   "cell_type": "code",
   "execution_count": null,
   "metadata": {},
   "outputs": [],
   "source": [
    "#| hide\n",
    "import nbdev\n",
    "nbdev.nbdev_export()"
   ]
  }
 ],
 "metadata": {
  "kernelspec": {
   "display_name": "python3",
   "language": "python",
   "name": "python3"
  }
 },
 "nbformat": 4,
 "nbformat_minor": 4
}
