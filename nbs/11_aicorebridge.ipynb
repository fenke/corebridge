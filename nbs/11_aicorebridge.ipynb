{
 "cells": [
  {
   "attachments": {},
   "cell_type": "markdown",
   "metadata": {},
   "source": [
    "# AICore-Bridge\n",
    "\n",
    "> Bridge between Univia AICore framework and Wodan/Conan processor modules\n",
    "\n",
    "AICorebridge serves as a bridge between the Univia AICore framework and the Whysor API and thus provides functionality to facilitate the integration of AI capabilities into various Whysor applications."
   ]
  },
  {
   "cell_type": "code",
   "execution_count": null,
   "metadata": {},
   "outputs": [],
   "source": [
    "#| default_exp aicorebridge"
   ]
  },
  {
   "cell_type": "code",
   "execution_count": null,
   "metadata": {},
   "outputs": [],
   "source": [
    "#| hide\n",
    "from nbdev.showdoc import *\n"
   ]
  },
  {
   "cell_type": "code",
   "execution_count": null,
   "metadata": {},
   "outputs": [],
   "source": []
  },
  {
   "cell_type": "code",
   "execution_count": null,
   "metadata": {},
   "outputs": [],
   "source": [
    "#| export\n",
    "\n",
    "import typing\n",
    "import logging\n",
    "import traceback\n",
    "import inspect\n",
    "import platform\n",
    "import datetime\n",
    "import time\n",
    "import pandas as pd\n",
    "\n",
    "import numpy as np\n",
    "\n",
    "from dateutil import parser\n",
    "from fastcore.basics import patch\n",
    "from corebridge import __version__\n",
    "\n",
    "from corebridge.core import snake_case_to_camel_case, NumpyEncoder\n",
    "from corebridge.timeseriesdataframe import timeseries_dataframe, timeseries_dataframe_resample, timeseries_dataframe_to_datadict\n",
    "from corebridge.timeseriesdataframe import set_time_index_zone, timeseries_dataframe_from_datadict\n",
    "\n"
   ]
  },
  {
   "cell_type": "code",
   "execution_count": null,
   "metadata": {},
   "outputs": [],
   "source": [
    "#| exporti\n",
    "#| eval: false\n",
    "\n",
    "syslog = logging.getLogger(__name__)\n",
    "\n",
    "try:\n",
    "    syslog.debug(f\"Loading {__name__} {__version__} from {__file__}\")\n",
    "except:  # noqa: E722\n",
    "    pass"
   ]
  },
  {
   "cell_type": "code",
   "execution_count": null,
   "metadata": {},
   "outputs": [],
   "source": [
    "import json\n",
    "import os\n",
    "\n",
    "from corebridge.timeseriesdataframe import test_data_dict_3_samples\n",
    "from corebridge.core import init_console_logging\n"
   ]
  },
  {
   "cell_type": "code",
   "execution_count": null,
   "metadata": {},
   "outputs": [],
   "source": [
    "syslog = init_console_logging(__name__, logging.DEBUG, timestamp=False)"
   ]
  },
  {
   "cell_type": "markdown",
   "metadata": {},
   "source": [
    "## Support functions"
   ]
  },
  {
   "cell_type": "markdown",
   "metadata": {},
   "source": [
    "### Pop NaN values"
   ]
  },
  {
   "cell_type": "code",
   "execution_count": null,
   "metadata": {},
   "outputs": [],
   "source": [
    "#| export\n",
    "\n",
    "def pop_nan_values(data):\n",
    "    \"\"\"\n",
    "    Recursively pop keys with nan values from dict or lists with \n",
    "    dicts. Use just before handing data to AICore for further\n",
    "    processing since it explodes when encountering NaN values.\n",
    "\n",
    "    Args:\n",
    "        data (Union[list, dict]): The data to be processed.\n",
    "\n",
    "    Returns:\n",
    "        Union[list, dict]: The processed data with keys with nan values removed.\n",
    "    \"\"\"\n",
    "    \n",
    "    if isinstance(data, list):\n",
    "        return [pop_nan_values(v) for v in data if pd.notnull([v]).any()]\n",
    "    elif isinstance(data, dict):\n",
    "        return {k:pop_nan_values(v) for k, v in data.items() if pd.notnull([v]).any()}\n",
    "    else:\n",
    "        return data"
   ]
  },
  {
   "cell_type": "code",
   "execution_count": null,
   "metadata": {},
   "outputs": [
    {
     "name": "stdout",
     "output_type": "stream",
     "text": [
      "[\n",
      "   {\n",
      "      \"time\": \"2023-05-04T10:04:49.000Z\",\n",
      "      \"value\": 16.72\n",
      "   },\n",
      "   {\n",
      "      \"time\": \"2023-05-04T10:24:51.000Z\",\n",
      "      \"value\": 16.65\n",
      "   },\n",
      "   {\n",
      "      \"time\": \"2023-05-04T10:44:53.000Z\",\n",
      "      \"value\": 16.55\n",
      "   },\n",
      "   {\n",
      "      \"time\": \"2023-05-04T11:44:53.000Z\",\n",
      "      \"value\": NaN\n",
      "   }\n",
      "]\n"
     ]
    }
   ],
   "source": [
    "test_data_with_nan = test_data_dict_3_samples.copy() + [\n",
    "   {\n",
    "      \"time\":\"2023-05-04T11:44:53.000Z\",\n",
    "      \"value\":np.nan\n",
    "   }\n",
    "\n",
    "]\n",
    "print(json.dumps(test_data_with_nan, indent=3))"
   ]
  },
  {
   "cell_type": "code",
   "execution_count": null,
   "metadata": {},
   "outputs": [
    {
     "name": "stdout",
     "output_type": "stream",
     "text": [
      "[\n",
      "   {\n",
      "      \"time\": \"2023-05-04T10:04:49.000Z\",\n",
      "      \"value\": 16.72\n",
      "   },\n",
      "   {\n",
      "      \"time\": \"2023-05-04T10:24:51.000Z\",\n",
      "      \"value\": 16.65\n",
      "   },\n",
      "   {\n",
      "      \"time\": \"2023-05-04T10:44:53.000Z\",\n",
      "      \"value\": 16.55\n",
      "   },\n",
      "   {\n",
      "      \"time\": \"2023-05-04T11:44:53.000Z\"\n",
      "   }\n",
      "]\n"
     ]
    }
   ],
   "source": [
    "\n",
    "print(json.dumps(pop_nan_values(test_data_with_nan), indent=3))"
   ]
  },
  {
   "cell_type": "markdown",
   "metadata": {},
   "source": [
    "### Build historic args"
   ]
  },
  {
   "cell_type": "code",
   "execution_count": null,
   "metadata": {},
   "outputs": [],
   "source": [
    "#| export\n",
    "def build_historic_args(\n",
    "        data:pd.DataFrame, \n",
    "        history:dict|list\n",
    "    ) -> dict:\n",
    "\n",
    "    \"\"\"Create a timeseries DataFrame from historic data defined in `history`.\n",
    "\n",
    "    Parameters\n",
    "    ----------\n",
    "    data : pd.DataFrame\n",
    "        The input time-series DataFrame.\n",
    "    history : dict or list of dicts\n",
    "        Historic data definition, each item in the list is a dictionary with \n",
    "        a startDate key to set the start of a section of historic data in the \n",
    "        result and a column-value pair for each of the columns.\n",
    "\n",
    "    Returns\n",
    "    -------\n",
    "    historic_data : dict\n",
    "        Historic data in dictionary format where keys are column names and \n",
    "        values are the historic values as numpy array.\n",
    "    \"\"\"\n",
    "\n",
    "    if not history:\n",
    "        return {}\n",
    "    \n",
    "    if isinstance(history, dict):\n",
    "        return pd.DataFrame(history, index=data.index)\n",
    "    \n",
    "    if not isinstance(history, list):\n",
    "        return {}\n",
    "    \n",
    "    if isinstance(data, pd.DataFrame):\n",
    "        dates = data.index.astype(np.int64).astype(np.float64) / 1e9\n",
    "        dates = dates.to_numpy()\n",
    "    elif data.dtype.names is not None:\n",
    "        dates = data.view(dtype=np.float64).reshape(data.shape[0],len(data.dtype))[:,0]\n",
    "    else:\n",
    "        dates = data[:,0]\n",
    "\n",
    "    dates = dates.astype(np.int64)\n",
    "    \n",
    "    columns = list(set([K for item in history for K in item.keys() if K != 'startDate']))\n",
    "    column_data = {K:np.full(len(dates), np.nan, dtype=np.float64) for K in columns}\n",
    "\n",
    "    for item in history:\n",
    "        date = parser.parse(str((item.pop('startDate','2000-01-01T00:00:00+00:00')))).timestamp()\n",
    "        mask = np.greater_equal(dates, date)\n",
    "        for K,V in item.items():\n",
    "            column_data[K][mask] = V\n",
    "    \n",
    "    return pd.DataFrame(column_data, index=data.index)\n"
   ]
  },
  {
   "cell_type": "code",
   "execution_count": null,
   "metadata": {},
   "outputs": [
    {
     "name": "stdout",
     "output_type": "stream",
     "text": [
      "Converting flat data dict to DataFrame with orient=records and timecolumns=['datetimeMeasure', 'time']\n"
     ]
    }
   ],
   "source": [
    "test_data=set_time_index_zone(timeseries_dataframe_from_datadict(\n",
    "   [\n",
    "      {\n",
    "         \"time\":\"2023-05-04T10:04:49\",\n",
    "         \"value\":16.72\n",
    "      },\n",
    "      {\n",
    "         \"time\":\"2023-05-04T10:44:53\",\n",
    "         \"value\":16.55\n",
    "      },\n",
    "      {\n",
    "         \"time\":\"2023-05-04T10:24:51\",\n",
    "         \"value\":16.65\n",
    "      }\n",
    "   ], ['datetimeMeasure', 'time'], 'records'), 'UTC').sort_index()"
   ]
  },
  {
   "cell_type": "code",
   "execution_count": null,
   "metadata": {},
   "outputs": [
    {
     "data": {
      "application/vnd.microsoft.datawrangler.viewer.v0+json": {
       "columns": [
        {
         "name": "time",
         "rawType": "datetime64[ns, UTC]",
         "type": "unknown"
        },
        {
         "name": "value",
         "rawType": "float64",
         "type": "float"
        }
       ],
       "ref": "8f3d3f0d-0377-417d-a00d-d89e8377f38b",
       "rows": [
        [
         "2023-05-04 10:04:49+00:00",
         "16.72"
        ],
        [
         "2023-05-04 10:24:51+00:00",
         "16.65"
        ],
        [
         "2023-05-04 10:44:53+00:00",
         "16.55"
        ]
       ],
       "shape": {
        "columns": 1,
        "rows": 3
       }
      },
      "text/html": [
       "<div>\n",
       "<style scoped>\n",
       "    .dataframe tbody tr th:only-of-type {\n",
       "        vertical-align: middle;\n",
       "    }\n",
       "\n",
       "    .dataframe tbody tr th {\n",
       "        vertical-align: top;\n",
       "    }\n",
       "\n",
       "    .dataframe thead th {\n",
       "        text-align: right;\n",
       "    }\n",
       "</style>\n",
       "<table border=\"1\" class=\"dataframe\">\n",
       "  <thead>\n",
       "    <tr style=\"text-align: right;\">\n",
       "      <th></th>\n",
       "      <th>value</th>\n",
       "    </tr>\n",
       "    <tr>\n",
       "      <th>time</th>\n",
       "      <th></th>\n",
       "    </tr>\n",
       "  </thead>\n",
       "  <tbody>\n",
       "    <tr>\n",
       "      <th>2023-05-04 10:04:49+00:00</th>\n",
       "      <td>16.72</td>\n",
       "    </tr>\n",
       "    <tr>\n",
       "      <th>2023-05-04 10:24:51+00:00</th>\n",
       "      <td>16.65</td>\n",
       "    </tr>\n",
       "    <tr>\n",
       "      <th>2023-05-04 10:44:53+00:00</th>\n",
       "      <td>16.55</td>\n",
       "    </tr>\n",
       "  </tbody>\n",
       "</table>\n",
       "</div>"
      ],
      "text/plain": [
       "                           value\n",
       "time                            \n",
       "2023-05-04 10:04:49+00:00  16.72\n",
       "2023-05-04 10:24:51+00:00  16.65\n",
       "2023-05-04 10:44:53+00:00  16.55"
      ]
     },
     "execution_count": null,
     "metadata": {},
     "output_type": "execute_result"
    }
   ],
   "source": [
    "test_data"
   ]
  },
  {
   "cell_type": "code",
   "execution_count": null,
   "metadata": {},
   "outputs": [
    {
     "data": {
      "application/vnd.microsoft.datawrangler.viewer.v0+json": {
       "columns": [
        {
         "name": "time",
         "rawType": "datetime64[ns, UTC]",
         "type": "unknown"
        },
        {
         "name": "justANumber",
         "rawType": "float64",
         "type": "float"
        }
       ],
       "ref": "e7256db0-a02c-4369-9417-3ebf1d12ec04",
       "rows": [
        [
         "2023-05-04 10:04:49+00:00",
         "1.0"
        ],
        [
         "2023-05-04 10:24:51+00:00",
         "1.0"
        ],
        [
         "2023-05-04 10:44:53+00:00",
         "2.0"
        ]
       ],
       "shape": {
        "columns": 1,
        "rows": 3
       }
      },
      "text/html": [
       "<div>\n",
       "<style scoped>\n",
       "    .dataframe tbody tr th:only-of-type {\n",
       "        vertical-align: middle;\n",
       "    }\n",
       "\n",
       "    .dataframe tbody tr th {\n",
       "        vertical-align: top;\n",
       "    }\n",
       "\n",
       "    .dataframe thead th {\n",
       "        text-align: right;\n",
       "    }\n",
       "</style>\n",
       "<table border=\"1\" class=\"dataframe\">\n",
       "  <thead>\n",
       "    <tr style=\"text-align: right;\">\n",
       "      <th></th>\n",
       "      <th>justANumber</th>\n",
       "    </tr>\n",
       "    <tr>\n",
       "      <th>time</th>\n",
       "      <th></th>\n",
       "    </tr>\n",
       "  </thead>\n",
       "  <tbody>\n",
       "    <tr>\n",
       "      <th>2023-05-04 10:04:49+00:00</th>\n",
       "      <td>1.0</td>\n",
       "    </tr>\n",
       "    <tr>\n",
       "      <th>2023-05-04 10:24:51+00:00</th>\n",
       "      <td>1.0</td>\n",
       "    </tr>\n",
       "    <tr>\n",
       "      <th>2023-05-04 10:44:53+00:00</th>\n",
       "      <td>2.0</td>\n",
       "    </tr>\n",
       "  </tbody>\n",
       "</table>\n",
       "</div>"
      ],
      "text/plain": [
       "                           justANumber\n",
       "time                                  \n",
       "2023-05-04 10:04:49+00:00          1.0\n",
       "2023-05-04 10:24:51+00:00          1.0\n",
       "2023-05-04 10:44:53+00:00          2.0"
      ]
     },
     "execution_count": null,
     "metadata": {},
     "output_type": "execute_result"
    }
   ],
   "source": [
    "history_arg = [\n",
    "                dict(justANumber=1.0),\n",
    "                dict(startDate=\"2023-05-04T10:25:00+00:00\", justANumber=2.0)\n",
    "            ]\n",
    "build_historic_args(test_data,history_arg)\n"
   ]
  },
  {
   "cell_type": "code",
   "execution_count": null,
   "metadata": {},
   "outputs": [],
   "source": [
    "assert len(test_data) == len(build_historic_args(test_data,history_arg)['justANumber']), \"build_historic_args failed to build historic data\""
   ]
  },
  {
   "cell_type": "markdown",
   "metadata": {},
   "source": [
    "## Class AICoreModuleBase"
   ]
  },
  {
   "cell_type": "markdown",
   "metadata": {},
   "source": [
    "In the third iteration of the AICore module the initializer signature changes from\n",
    "\n",
    "```python\n",
    "    def __init__(\n",
    "        self, \n",
    "        save_dir:str, # path where the module can keep files \n",
    "        assets_dir:str, # path to support files (scripts, metadata, etc)\n",
    "        *args, **kwargs\n",
    "    ):\n",
    "\n",
    "```\n",
    "\n",
    "to the almost identical signature\n",
    "\n",
    "```python\n",
    "\n",
    "    def __init__(\n",
    "        self, \n",
    "        files_dir, \n",
    "        save_dir\n",
    "    ):\n",
    "\n",
    "```\n",
    "\n",
    "Note how the order of the folder arguments is reversed. We can adapt by \n",
    "\n",
    " - treating original `assets_dir` as `save_dir` and vice versa OR\n",
    " - rewrite the method to match the new signature and change the signatures of the derived classes in each module\n",
    "\n"
   ]
  },
  {
   "cell_type": "code",
   "execution_count": null,
   "metadata": {},
   "outputs": [],
   "source": [
    "#| exports\n",
    "class AICoreModuleBase:\n",
    "\n",
    "    def __init__(\n",
    "        self, \n",
    "        files_dir, \n",
    "        save_dir\n",
    "    ):\n",
    "        \n",
    "        self.init_time = datetime.datetime.now(datetime.UTC)\n",
    "        self.aicorebridge_version = __version__\n",
    "\n",
    "        self.init_args = []\n",
    "        self.init_kwargs = dict(\n",
    "            files_dir=files_dir,\n",
    "            save_dir=save_dir\n",
    "        )\n",
    "\n",
    "\n",
    "        syslog.info(f\"Init {self.__class__.__name__}, version {self.aicorebridge_version}, files directory {files_dir}, save dir {save_dir} on {platform.node()}\")\n"
   ]
  },
  {
   "cell_type": "code",
   "execution_count": null,
   "metadata": {},
   "outputs": [
    {
     "name": "stderr",
     "output_type": "stream",
     "text": [
      "INFO\t34888\troot\t4004746126.py\t20\tInit AICoreModuleBase, version 0.5.2, files directory c:\\Users\\fenke\\repos\\corebridge\\nbs\\cache, save dir c:\\Users\\fenke\\repos\\corebridge\\nbs\\cache on werkdoos\n"
     ]
    }
   ],
   "source": [
    "save_dir = os.path.join(os.getcwd(), 'cache')\n",
    "files_dir = os.path.join(os.getcwd(), 'cache')\n",
    "test_module = AICoreModuleBase(files_dir, save_dir)\n",
    "\n",
    "assert test_module.init_kwargs['save_dir'] == save_dir, f\"init_kwargs['save_dir'] should be {save_dir}\"\n",
    "assert test_module.init_kwargs['files_dir'] == files_dir, f\"init_kwargs['files_dir'] should be {files_dir}\""
   ]
  },
  {
   "cell_type": "code",
   "execution_count": null,
   "metadata": {},
   "outputs": [
    {
     "data": {
      "text/plain": [
       "{'init_time': datetime.datetime(2025, 10, 3, 11, 1, 25, 65206, tzinfo=datetime.timezone.utc),\n",
       " 'aicorebridge_version': '0.5.2',\n",
       " 'init_args': [],\n",
       " 'init_kwargs': {'files_dir': 'c:\\\\Users\\\\fenke\\\\repos\\\\corebridge\\\\nbs\\\\cache',\n",
       "  'save_dir': 'c:\\\\Users\\\\fenke\\\\repos\\\\corebridge\\\\nbs\\\\cache'}}"
      ]
     },
     "execution_count": null,
     "metadata": {},
     "output_type": "execute_result"
    }
   ],
   "source": [
    "test_module.__dict__"
   ]
  },
  {
   "cell_type": "markdown",
   "metadata": {},
   "source": [
    "## Class AICoreModule"
   ]
  },
  {
   "cell_type": "code",
   "execution_count": null,
   "metadata": {},
   "outputs": [],
   "source": [
    "#| exports\n",
    "class AICoreModule(AICoreModuleBase):\n",
    "    def __init__(self, \n",
    "        processor:typing.Callable, # data processing function\n",
    "        files_dir:str,              # path where the module can keep files \n",
    "        save_dir:str\n",
    "    ):\n",
    "    \n",
    "        super().__init__(files_dir, save_dir)\n",
    "        self._init_processor(processor)\n",
    "\n"
   ]
  },
  {
   "cell_type": "code",
   "execution_count": null,
   "metadata": {},
   "outputs": [],
   "source": [
    "#| exports\n",
    "# TODO: Refactor into Processor classes to handle different funtion types\n",
    "\n",
    "@patch\n",
    "def _init_processor(\n",
    "        self:AICoreModule, \n",
    "        processor:typing.Callable):\n",
    "    \"\"\"Initializes processor related variables on self\"\"\"\n",
    "    \n",
    "    self.processor = processor\n",
    "    self.processor_signature = inspect.signature(self.processor)\n",
    "    self.processor_params = dict(self.processor_signature.parameters)\n",
    "    self.return_param = self.processor_params.pop('return', None)\n",
    "    \n",
    "    self.data_param, *self.call_params = list(self.processor_params.keys())\n",
    "\n",
    "    if not (\n",
    "        self.processor_params[self.data_param].annotation == pd.DataFrame\n",
    "        or self.processor_params[self.data_param].annotation == np.ndarray\n",
    "\n",
    "    ):\n",
    "\n",
    "        self.data_param = None\n",
    "        self.call_params = list(self.processor_params.keys())\n",
    "\n"
   ]
  },
  {
   "cell_type": "code",
   "execution_count": null,
   "metadata": {},
   "outputs": [],
   "source": [
    "#| exports\n",
    "# can be overloaded\n",
    "@patch\n",
    "def call_processor(self:AICoreModule, calldata, **callargs):\n",
    "    if self.data_param:\n",
    "        return self.processor(calldata, **callargs)\n",
    "    else:\n",
    "        return self.processor(**callargs)\n"
   ]
  },
  {
   "cell_type": "markdown",
   "metadata": {},
   "source": [
    "### `call`\n",
    "\n",
    "The new entry point from AICore with the following signature\n",
    "\n",
    "```python\n",
    "def call(self, data, files)\n",
    "```\n",
    "\n",
    "This method, originally called by earlier versions of AICore, is responsible for processing the data and parameters request recieved by AICore. Infer takes a \n",
    "`data` parameter which contains the contents of the data key in the request body. Additionally an optional list of files that were \n",
    "send with the request - these are currently ignored - and finally the contents of the kwargs key in the request body."
   ]
  },
  {
   "cell_type": "code",
   "execution_count": null,
   "metadata": {},
   "outputs": [],
   "source": [
    "#| exports\n",
    "@patch\n",
    "def call(self:AICoreModule, payload_datadata:dict, *_, **__):\n",
    "    \"\"\"Infer the data using the processor function.\"\"\"\n",
    "    \n",
    "    msg=[\n",
    "        f\"Startup: time {self.init_time.isoformat()}, node {platform.node()}\",\n",
    "        f\"Corebridge version: {self.aicorebridge_version}\",\n",
    "    ]\n",
    "\n",
    "    try:\n",
    "        t00 = time.perf_counter_ns()\n",
    "\n",
    "        kwargs = payload_datadata.get('kwargs', {})\n",
    "        data = payload_datadata.get('data', {})\n",
    "\n",
    "        msg+=[\n",
    "            f\"{self.processor.__name__}({self.processor_signature})\",  \n",
    "            f\"Data: {type(data)} length: {len(data)}\",    \n",
    "            f\"kwargs {list(kwargs.keys())}\",       \n",
    "            #f\"init_args: {self.init_args}, init_kwargs: {self.init_kwargs}\",\n",
    "        ]\n",
    "\n",
    "        # Pickup params, pop those that are not intended for the processor\n",
    "        lastSeen = kwargs.pop('lastSeen', False)\n",
    "        recordformat = kwargs.pop('format', \"records\").lower()\n",
    "        timezone = kwargs.get('timezone', 'UTC')\n",
    "        nested = kwargs.pop('nested', False)\n",
    "        msg.append(f\"lastSeen: {lastSeen}, timezone: {timezone}, recordformat: {recordformat}, nested: {nested}\")\n",
    "\n",
    "        samplerPeriod = kwargs.pop('samplerPeriod', self.init_kwargs.get('samplerPeriod','h'))\n",
    "        samplerMethod = kwargs.pop('samplerMethod', self.init_kwargs.get('samplerMethod',None))\n",
    "        reversed = kwargs.pop('reversed', False)\n",
    "\n",
    "        calldata = self.get_call_data(\n",
    "            data, \n",
    "            recordformat=recordformat,\n",
    "            timezone=timezone,\n",
    "            nested=nested,)\n",
    "        \n",
    "        history = build_historic_args(calldata, kwargs.pop('history', {}))\n",
    "        callargs = self.get_callargs(kwargs, history)\n",
    "\n",
    "        # for arg, val in callargs.items():\n",
    "        #     msg.append(f\"{arg}: {val}\")\n",
    "        \n",
    "        t02 = time.perf_counter_ns()\n",
    "        calculated_result = self.call_processor(\n",
    "            calldata, \n",
    "            **callargs\n",
    "        )\n",
    "        t03 = time.perf_counter_ns()\n",
    "        msg.append(f\"Processing time: {(t03-t02)/1e6:.1f} ms\")\n",
    "        msg.append(f\"Preparation time: {(t02-t00)/1e6:.1f} ms\")\n",
    "\n",
    "        if isinstance(calculated_result, dict):\n",
    "            msg.append(f\"return-data ictionary keys: {calculated_result.keys()}\")\n",
    "            return {\n",
    "                'msg':msg,\n",
    "                'data': [calculated_result]\n",
    "            }\n",
    "        elif isinstance(calculated_result, list):\n",
    "            msg.append(f\"return-data list length: {len(calculated_result)}\")\n",
    "            return {\n",
    "                'msg':msg,\n",
    "                'data': calculated_result\n",
    "            }\n",
    "\n",
    "        try:\n",
    "            result = timeseries_dataframe(\n",
    "                calculated_result, \n",
    "                timezone=timezone)\n",
    "            \n",
    "            msg.append(f\"result shape: {result.shape}\")\n",
    "\n",
    "            if samplerMethod:\n",
    "                msg.append(f\"Sampler: {samplerMethod}, period: {samplerPeriod}\")\n",
    "                result = timeseries_dataframe_resample(result, samplerPeriod, samplerMethod)\n",
    "\n",
    "            msg.append(f\"return-data shape: {result.shape}\")\n",
    "\n",
    "            if reversed:\n",
    "                result = result[::-1]\n",
    "\n",
    "            return {\n",
    "                'msg':msg,\n",
    "                'data': pop_nan_values( timeseries_dataframe_to_datadict(\n",
    "                    result if not lastSeen else result[-1:],\n",
    "                    recordformat=recordformat,\n",
    "                    timezone=timezone))\n",
    "            }\n",
    "        \n",
    "        # tries dataframe return\n",
    "        except Exception as err:\n",
    "            msg.append(f\"No timeseries data, error={err}\")\n",
    "        \n",
    "        df = pd.DataFrame(calculated_result)\n",
    "        df\n",
    "        df.columns = [f\"value_{str(c)}\" if isinstance(c, int) else str(c) for c in list(df.columns)]\n",
    "        df.reset_index().to_dict(orient='records')\n",
    "        return {\n",
    "            'msg':msg,\n",
    "            'data': pop_nan_values( df.reset_index().to_dict(orient='records') )\n",
    "        }\n",
    "\n",
    "    \n",
    "    # function try-catch\n",
    "    except Exception as err:\n",
    "        msg.append(''.join(traceback.format_exception(None, err, err.__traceback__)))\n",
    "        return {\n",
    "            'msg': msg,\n",
    "            'data': []\n",
    "        }\n"
   ]
  },
  {
   "cell_type": "markdown",
   "metadata": {},
   "source": [
    "### `get_callargs`\n"
   ]
  },
  {
   "cell_type": "code",
   "execution_count": null,
   "metadata": {},
   "outputs": [],
   "source": [
    "#| exports\n",
    "# Specialized types for initializing annotated parameters\n",
    "# Add types by adding a tuple with the type name and a builder function\n",
    "annotated_arg_builders = {\n",
    "    str(B[0]):B[1] for B in [\n",
    "        (np.ndarray, lambda X: np.array(X, dtype=X.dtype))\n",
    "    ]\n",
    "}\n"
   ]
  },
  {
   "cell_type": "code",
   "execution_count": null,
   "metadata": {},
   "outputs": [
    {
     "data": {
      "text/plain": [
       "{\"<class 'numpy.ndarray'>\": <function __main__.<lambda>(X)>}"
      ]
     },
     "execution_count": null,
     "metadata": {},
     "output_type": "execute_result"
    }
   ],
   "source": [
    "annotated_arg_builders"
   ]
  },
  {
   "cell_type": "code",
   "execution_count": null,
   "metadata": {},
   "outputs": [],
   "source": [
    "\n",
    "#| exports\n",
    "\n",
    "@patch\n",
    "def init_annotated_param(self:AICoreModule, param_name, value):\n",
    "    \"\"\"\n",
    "    Initialize argument for the processor call\n",
    "    \n",
    "    param_name: name of the parameter to be initialized\n",
    "    value: value of the parameter read from infer data to be used for initialization\n",
    "    \n",
    "    \"\"\"\n",
    "\n",
    "    annotation = self.processor_signature.parameters[param_name].annotation\n",
    "    #print(f\"param_name: {param_name}, value: {value}, annotation: {annotation}\")\n",
    "\n",
    "    # try to convert value to one of the types in the builders of annotated_arg_builders\n",
    "    for T in typing.get_args(annotation):\n",
    "        try:\n",
    "            builder = annotated_arg_builders.get(str(T), lambda X:T(X))\n",
    "            return builder(value)\n",
    "        \n",
    "        except TypeError as err:\n",
    "            continue\n",
    "\n",
    "    try:\n",
    "        return annotation(value)\n",
    "    \n",
    "    except TypeError as err:\n",
    "        syslog.exception(f\"Exception {str(err)} in fallback conversion to {annotation} of {type(value)}\")\n",
    "\n",
    " "
   ]
  },
  {
   "cell_type": "code",
   "execution_count": null,
   "metadata": {},
   "outputs": [],
   "source": [
    "#| exports\n",
    "@patch\n",
    "def get_callargs(self:AICoreModule, kwargs, history):\n",
    "    \"Get arguments for the processor call\"\n",
    "\n",
    "    # Remove null / None values\n",
    "    kwargs = {k:v for k,v in kwargs.items() if v is not None}\n",
    "    \n",
    "    call_args = {\n",
    "        K:self.init_annotated_param(\n",
    "            K,\n",
    "            history.get(\n",
    "                K,\n",
    "                kwargs.get(\n",
    "                    K,\n",
    "                    self.init_kwargs.get(\n",
    "                        K, \n",
    "                        history.get(\n",
    "                            snake_case_to_camel_case(K),\n",
    "                            kwargs.get(\n",
    "                                snake_case_to_camel_case(K),\n",
    "                                self.init_kwargs.get(\n",
    "                                    snake_case_to_camel_case(K), \n",
    "                                    self.processor_signature.parameters[K].default\n",
    "                                )\n",
    "                            )\n",
    "                        )\n",
    "                    )\n",
    "                )\n",
    "            )\n",
    "        )\n",
    "        for K in self.call_params\n",
    "    }\n",
    "\n",
    "    return call_args\n"
   ]
  },
  {
   "cell_type": "code",
   "execution_count": null,
   "metadata": {},
   "outputs": [
    {
     "name": "stderr",
     "output_type": "stream",
     "text": [
      "INFO\t34888\troot\t4004746126.py\t20\tInit AICoreModule, version 0.5.2, files directory c:\\Users\\fenke\\repos\\corebridge\\nbs\\cache, save dir c:\\Users\\fenke\\repos\\corebridge\\nbs\\cache on werkdoos\n"
     ]
    }
   ],
   "source": [
    "def processor_function(data:pd.DataFrame, just_a_number:float|np.ndarray):\n",
    "    return just_a_number * data\n",
    "\n",
    "test_module = AICoreModule(processor_function, os.path.join(os.getcwd(), 'cache'), os.path.join(os.getcwd(), 'cache'))\n",
    "assert 'just_a_number' in test_module.get_callargs(\n",
    "    {\n",
    "        'justANumber': 2\n",
    "    },\n",
    "    {}\n",
    "   \n",
    "), \"get_callargs failed to translate camel-case processor argument to snake-case kwargs argument\" \n"
   ]
  },
  {
   "cell_type": "markdown",
   "metadata": {},
   "source": [
    "### `get_call_data`"
   ]
  },
  {
   "cell_type": "code",
   "execution_count": null,
   "metadata": {},
   "outputs": [],
   "source": [
    "#| exports\n",
    "@patch\n",
    "def get_call_data(\n",
    "        self:AICoreModule, \n",
    "        data:dict|list, \n",
    "        recordformat='records', \n",
    "        timezone='UTC',\n",
    "        nested=False):\n",
    "    \n",
    "    \"Convert data to the processor signature\"\n",
    "    \n",
    "    if not self.data_param:\n",
    "        return None\n",
    "    \n",
    "    print(f\"recordformat: {recordformat}, timezone: {timezone}, nested: {nested}\" )\n",
    "\n",
    "    df = set_time_index_zone(timeseries_dataframe_from_datadict(\n",
    "        data, ['datetimeMeasure', 'time'], recordformat=recordformat, nested=nested), timezone)\n",
    "\n",
    "    df.sort_index(inplace=True)\n",
    "\n",
    "    if self.processor_params[self.data_param].annotation == pd.DataFrame:\n",
    "        return df\n",
    "    elif len(df.columns) > 1:\n",
    "        df.index = (df.index - datetime.datetime(1970,1,1, tzinfo=datetime.timezone.utc)) / datetime.timedelta(seconds=1)\n",
    "        return df.to_records(index=True)\n",
    "    else:\n",
    "        df.index = (df.index - datetime.datetime(1970,1,1, tzinfo=datetime.timezone.utc)) / datetime.timedelta(seconds=1)\n",
    "        return df.reset_index().to_numpy()\n",
    "        "
   ]
  },
  {
   "cell_type": "code",
   "execution_count": null,
   "metadata": {},
   "outputs": [
    {
     "data": {
      "application/vnd.microsoft.datawrangler.viewer.v0+json": {
       "columns": [
        {
         "name": "time",
         "rawType": "datetime64[ns, UTC]",
         "type": "unknown"
        },
        {
         "name": "value",
         "rawType": "float64",
         "type": "float"
        }
       ],
       "ref": "d3be801a-12ca-4110-949c-f6058202f183",
       "rows": [
        [
         "2023-05-04 10:04:49+00:00",
         "16.72"
        ],
        [
         "2023-05-04 10:24:51+00:00",
         "16.65"
        ],
        [
         "2023-05-04 10:44:53+00:00",
         "16.55"
        ]
       ],
       "shape": {
        "columns": 1,
        "rows": 3
       }
      },
      "text/html": [
       "<div>\n",
       "<style scoped>\n",
       "    .dataframe tbody tr th:only-of-type {\n",
       "        vertical-align: middle;\n",
       "    }\n",
       "\n",
       "    .dataframe tbody tr th {\n",
       "        vertical-align: top;\n",
       "    }\n",
       "\n",
       "    .dataframe thead th {\n",
       "        text-align: right;\n",
       "    }\n",
       "</style>\n",
       "<table border=\"1\" class=\"dataframe\">\n",
       "  <thead>\n",
       "    <tr style=\"text-align: right;\">\n",
       "      <th></th>\n",
       "      <th>value</th>\n",
       "    </tr>\n",
       "    <tr>\n",
       "      <th>time</th>\n",
       "      <th></th>\n",
       "    </tr>\n",
       "  </thead>\n",
       "  <tbody>\n",
       "    <tr>\n",
       "      <th>2023-05-04 10:04:49+00:00</th>\n",
       "      <td>16.72</td>\n",
       "    </tr>\n",
       "    <tr>\n",
       "      <th>2023-05-04 10:24:51+00:00</th>\n",
       "      <td>16.65</td>\n",
       "    </tr>\n",
       "    <tr>\n",
       "      <th>2023-05-04 10:44:53+00:00</th>\n",
       "      <td>16.55</td>\n",
       "    </tr>\n",
       "  </tbody>\n",
       "</table>\n",
       "</div>"
      ],
      "text/plain": [
       "                           value\n",
       "time                            \n",
       "2023-05-04 10:04:49+00:00  16.72\n",
       "2023-05-04 10:24:51+00:00  16.65\n",
       "2023-05-04 10:44:53+00:00  16.55"
      ]
     },
     "execution_count": null,
     "metadata": {},
     "output_type": "execute_result"
    }
   ],
   "source": [
    "test_data"
   ]
  },
  {
   "cell_type": "code",
   "execution_count": null,
   "metadata": {},
   "outputs": [
    {
     "data": {
      "text/plain": [
       "[{'time': '2023-05-04T10:04:49Z', 'value': 16.72},\n",
       " {'time': '2023-05-04T10:24:51Z', 'value': 16.65},\n",
       " {'time': '2023-05-04T10:44:53Z', 'value': 16.55}]"
      ]
     },
     "execution_count": null,
     "metadata": {},
     "output_type": "execute_result"
    }
   ],
   "source": [
    "timeseries_dataframe_to_datadict(test_data)"
   ]
  },
  {
   "cell_type": "code",
   "execution_count": null,
   "metadata": {},
   "outputs": [
    {
     "name": "stdout",
     "output_type": "stream",
     "text": [
      "recordformat: records, timezone: UTC, nested: False\n",
      "Converting flat data dict to DataFrame with orient=records and timecolumns=['datetimeMeasure', 'time']\n"
     ]
    },
    {
     "data": {
      "application/vnd.microsoft.datawrangler.viewer.v0+json": {
       "columns": [
        {
         "name": "time",
         "rawType": "datetime64[ns, UTC]",
         "type": "unknown"
        },
        {
         "name": "value",
         "rawType": "float64",
         "type": "float"
        }
       ],
       "ref": "898f7ad5-8b8b-4bb5-9451-6563b8465a0a",
       "rows": [
        [
         "2023-05-04 10:04:49+00:00",
         "16.72"
        ],
        [
         "2023-05-04 10:24:51+00:00",
         "16.65"
        ],
        [
         "2023-05-04 10:44:53+00:00",
         "16.55"
        ]
       ],
       "shape": {
        "columns": 1,
        "rows": 3
       }
      },
      "text/html": [
       "<div>\n",
       "<style scoped>\n",
       "    .dataframe tbody tr th:only-of-type {\n",
       "        vertical-align: middle;\n",
       "    }\n",
       "\n",
       "    .dataframe tbody tr th {\n",
       "        vertical-align: top;\n",
       "    }\n",
       "\n",
       "    .dataframe thead th {\n",
       "        text-align: right;\n",
       "    }\n",
       "</style>\n",
       "<table border=\"1\" class=\"dataframe\">\n",
       "  <thead>\n",
       "    <tr style=\"text-align: right;\">\n",
       "      <th></th>\n",
       "      <th>value</th>\n",
       "    </tr>\n",
       "    <tr>\n",
       "      <th>time</th>\n",
       "      <th></th>\n",
       "    </tr>\n",
       "  </thead>\n",
       "  <tbody>\n",
       "    <tr>\n",
       "      <th>2023-05-04 10:04:49+00:00</th>\n",
       "      <td>16.72</td>\n",
       "    </tr>\n",
       "    <tr>\n",
       "      <th>2023-05-04 10:24:51+00:00</th>\n",
       "      <td>16.65</td>\n",
       "    </tr>\n",
       "    <tr>\n",
       "      <th>2023-05-04 10:44:53+00:00</th>\n",
       "      <td>16.55</td>\n",
       "    </tr>\n",
       "  </tbody>\n",
       "</table>\n",
       "</div>"
      ],
      "text/plain": [
       "                           value\n",
       "time                            \n",
       "2023-05-04 10:04:49+00:00  16.72\n",
       "2023-05-04 10:24:51+00:00  16.65\n",
       "2023-05-04 10:44:53+00:00  16.55"
      ]
     },
     "execution_count": null,
     "metadata": {},
     "output_type": "execute_result"
    }
   ],
   "source": [
    "calldata = test_module.get_call_data(timeseries_dataframe_to_datadict(test_data))\n",
    "calldata"
   ]
  },
  {
   "cell_type": "code",
   "execution_count": null,
   "metadata": {},
   "outputs": [
    {
     "data": {
      "application/vnd.microsoft.datawrangler.viewer.v0+json": {
       "columns": [
        {
         "name": "time",
         "rawType": "datetime64[ns, UTC]",
         "type": "unknown"
        },
        {
         "name": "justANumber",
         "rawType": "float64",
         "type": "float"
        }
       ],
       "ref": "7066b24a-0e58-4420-b92a-5d1002322912",
       "rows": [
        [
         "2023-05-04 10:04:49+00:00",
         "2.0"
        ],
        [
         "2023-05-04 10:24:51+00:00",
         "2.0"
        ],
        [
         "2023-05-04 10:44:53+00:00",
         "2.0"
        ]
       ],
       "shape": {
        "columns": 1,
        "rows": 3
       }
      },
      "text/html": [
       "<div>\n",
       "<style scoped>\n",
       "    .dataframe tbody tr th:only-of-type {\n",
       "        vertical-align: middle;\n",
       "    }\n",
       "\n",
       "    .dataframe tbody tr th {\n",
       "        vertical-align: top;\n",
       "    }\n",
       "\n",
       "    .dataframe thead th {\n",
       "        text-align: right;\n",
       "    }\n",
       "</style>\n",
       "<table border=\"1\" class=\"dataframe\">\n",
       "  <thead>\n",
       "    <tr style=\"text-align: right;\">\n",
       "      <th></th>\n",
       "      <th>justANumber</th>\n",
       "    </tr>\n",
       "    <tr>\n",
       "      <th>time</th>\n",
       "      <th></th>\n",
       "    </tr>\n",
       "  </thead>\n",
       "  <tbody>\n",
       "    <tr>\n",
       "      <th>2023-05-04 10:04:49+00:00</th>\n",
       "      <td>2.0</td>\n",
       "    </tr>\n",
       "    <tr>\n",
       "      <th>2023-05-04 10:24:51+00:00</th>\n",
       "      <td>2.0</td>\n",
       "    </tr>\n",
       "    <tr>\n",
       "      <th>2023-05-04 10:44:53+00:00</th>\n",
       "      <td>2.0</td>\n",
       "    </tr>\n",
       "  </tbody>\n",
       "</table>\n",
       "</div>"
      ],
      "text/plain": [
       "                           justANumber\n",
       "time                                  \n",
       "2023-05-04 10:04:49+00:00          2.0\n",
       "2023-05-04 10:24:51+00:00          2.0\n",
       "2023-05-04 10:44:53+00:00          2.0"
      ]
     },
     "execution_count": null,
     "metadata": {},
     "output_type": "execute_result"
    }
   ],
   "source": [
    "history = build_historic_args(calldata,history_arg)\n",
    "history"
   ]
  },
  {
   "cell_type": "code",
   "execution_count": null,
   "metadata": {},
   "outputs": [
    {
     "data": {
      "application/vnd.microsoft.datawrangler.viewer.v0+json": {
       "columns": [
        {
         "name": "time",
         "rawType": "datetime64[ns, UTC]",
         "type": "unknown"
        },
        {
         "name": "value",
         "rawType": "float64",
         "type": "float"
        }
       ],
       "ref": "e26f26f9-d1f7-455c-a649-1cfc305ce635",
       "rows": [
        [
         "2023-05-04 10:04:49+00:00",
         "16.72"
        ],
        [
         "2023-05-04 10:24:51+00:00",
         "16.65"
        ],
        [
         "2023-05-04 10:44:53+00:00",
         "16.55"
        ]
       ],
       "shape": {
        "columns": 1,
        "rows": 3
       }
      },
      "text/html": [
       "<div>\n",
       "<style scoped>\n",
       "    .dataframe tbody tr th:only-of-type {\n",
       "        vertical-align: middle;\n",
       "    }\n",
       "\n",
       "    .dataframe tbody tr th {\n",
       "        vertical-align: top;\n",
       "    }\n",
       "\n",
       "    .dataframe thead th {\n",
       "        text-align: right;\n",
       "    }\n",
       "</style>\n",
       "<table border=\"1\" class=\"dataframe\">\n",
       "  <thead>\n",
       "    <tr style=\"text-align: right;\">\n",
       "      <th></th>\n",
       "      <th>value</th>\n",
       "    </tr>\n",
       "    <tr>\n",
       "      <th>time</th>\n",
       "      <th></th>\n",
       "    </tr>\n",
       "  </thead>\n",
       "  <tbody>\n",
       "    <tr>\n",
       "      <th>2023-05-04 10:04:49+00:00</th>\n",
       "      <td>16.72</td>\n",
       "    </tr>\n",
       "    <tr>\n",
       "      <th>2023-05-04 10:24:51+00:00</th>\n",
       "      <td>16.65</td>\n",
       "    </tr>\n",
       "    <tr>\n",
       "      <th>2023-05-04 10:44:53+00:00</th>\n",
       "      <td>16.55</td>\n",
       "    </tr>\n",
       "  </tbody>\n",
       "</table>\n",
       "</div>"
      ],
      "text/plain": [
       "                           value\n",
       "time                            \n",
       "2023-05-04 10:04:49+00:00  16.72\n",
       "2023-05-04 10:24:51+00:00  16.65\n",
       "2023-05-04 10:44:53+00:00  16.55"
      ]
     },
     "execution_count": null,
     "metadata": {},
     "output_type": "execute_result"
    }
   ],
   "source": [
    "calldata"
   ]
  },
  {
   "cell_type": "code",
   "execution_count": null,
   "metadata": {},
   "outputs": [
    {
     "name": "stdout",
     "output_type": "stream",
     "text": [
      "{'just_a_number': array([2., 2., 2.])}\n"
     ]
    }
   ],
   "source": [
    "print(test_module.get_callargs(calldata, history))"
   ]
  },
  {
   "cell_type": "code",
   "execution_count": null,
   "metadata": {},
   "outputs": [
    {
     "data": {
      "text/plain": [
       "array([2., 2., 2.])"
      ]
     },
     "execution_count": null,
     "metadata": {},
     "output_type": "execute_result"
    }
   ],
   "source": [
    "np.array(history['justANumber'])"
   ]
  },
  {
   "cell_type": "code",
   "execution_count": null,
   "metadata": {},
   "outputs": [
    {
     "data": {
      "application/vnd.microsoft.datawrangler.viewer.v0+json": {
       "columns": [
        {
         "name": "time",
         "rawType": "datetime64[ns, UTC]",
         "type": "unknown"
        },
        {
         "name": "justANumber",
         "rawType": "float64",
         "type": "float"
        }
       ],
       "ref": "b43340ac-05fe-4a3f-8c74-67e68f846d4a",
       "rows": [
        [
         "2023-05-04 10:04:49+00:00",
         "2.0"
        ],
        [
         "2023-05-04 10:24:51+00:00",
         "2.0"
        ],
        [
         "2023-05-04 10:44:53+00:00",
         "2.0"
        ]
       ],
       "shape": {
        "columns": 1,
        "rows": 3
       }
      },
      "text/html": [
       "<div>\n",
       "<style scoped>\n",
       "    .dataframe tbody tr th:only-of-type {\n",
       "        vertical-align: middle;\n",
       "    }\n",
       "\n",
       "    .dataframe tbody tr th {\n",
       "        vertical-align: top;\n",
       "    }\n",
       "\n",
       "    .dataframe thead th {\n",
       "        text-align: right;\n",
       "    }\n",
       "</style>\n",
       "<table border=\"1\" class=\"dataframe\">\n",
       "  <thead>\n",
       "    <tr style=\"text-align: right;\">\n",
       "      <th></th>\n",
       "      <th>justANumber</th>\n",
       "    </tr>\n",
       "    <tr>\n",
       "      <th>time</th>\n",
       "      <th></th>\n",
       "    </tr>\n",
       "  </thead>\n",
       "  <tbody>\n",
       "    <tr>\n",
       "      <th>2023-05-04 10:04:49+00:00</th>\n",
       "      <td>2.0</td>\n",
       "    </tr>\n",
       "    <tr>\n",
       "      <th>2023-05-04 10:24:51+00:00</th>\n",
       "      <td>2.0</td>\n",
       "    </tr>\n",
       "    <tr>\n",
       "      <th>2023-05-04 10:44:53+00:00</th>\n",
       "      <td>2.0</td>\n",
       "    </tr>\n",
       "  </tbody>\n",
       "</table>\n",
       "</div>"
      ],
      "text/plain": [
       "                           justANumber\n",
       "time                                  \n",
       "2023-05-04 10:04:49+00:00          2.0\n",
       "2023-05-04 10:24:51+00:00          2.0\n",
       "2023-05-04 10:44:53+00:00          2.0"
      ]
     },
     "execution_count": null,
     "metadata": {},
     "output_type": "execute_result"
    }
   ],
   "source": [
    "history"
   ]
  },
  {
   "cell_type": "code",
   "execution_count": null,
   "metadata": {},
   "outputs": [
    {
     "data": {
      "text/plain": [
       "12.34"
      ]
     },
     "execution_count": null,
     "metadata": {},
     "output_type": "execute_result"
    }
   ],
   "source": [
    "test_module.init_annotated_param(\n",
    "    'just_a_number',\n",
    "    12.34\n",
    ")"
   ]
  },
  {
   "cell_type": "code",
   "execution_count": null,
   "metadata": {},
   "outputs": [
    {
     "data": {
      "text/plain": [
       "float | numpy.ndarray"
      ]
     },
     "execution_count": null,
     "metadata": {},
     "output_type": "execute_result"
    }
   ],
   "source": [
    "test_module.processor_signature.parameters['just_a_number'].annotation"
   ]
  },
  {
   "cell_type": "code",
   "execution_count": null,
   "metadata": {},
   "outputs": [
    {
     "data": {
      "text/plain": [
       "array([2., 2., 2.])"
      ]
     },
     "execution_count": null,
     "metadata": {},
     "output_type": "execute_result"
    }
   ],
   "source": [
    "np.array(history['justANumber'])"
   ]
  },
  {
   "cell_type": "code",
   "execution_count": null,
   "metadata": {},
   "outputs": [
    {
     "data": {
      "text/plain": [
       "array([2., 2., 2.])"
      ]
     },
     "execution_count": null,
     "metadata": {},
     "output_type": "execute_result"
    }
   ],
   "source": [
    "annotated_arg_builders[str(np.ndarray)](history['justANumber'])"
   ]
  },
  {
   "cell_type": "code",
   "execution_count": null,
   "metadata": {},
   "outputs": [],
   "source": [
    "assert True, 'stop'"
   ]
  },
  {
   "attachments": {},
   "cell_type": "markdown",
   "metadata": {},
   "source": [
    "### Tests"
   ]
  },
  {
   "cell_type": "code",
   "execution_count": null,
   "metadata": {},
   "outputs": [],
   "source": [
    "import os, pandas as pd, numpy as np\n"
   ]
  },
  {
   "cell_type": "code",
   "execution_count": null,
   "metadata": {},
   "outputs": [],
   "source": [
    "\n",
    "def test_function(data:pd.DataFrame, anumber:float|np.ndarray=0):\n",
    "    return data * anumber\n"
   ]
  },
  {
   "cell_type": "code",
   "execution_count": null,
   "metadata": {},
   "outputs": [],
   "source": [
    "def test_simple_function(anumber:float, another:float):\n",
    "    return [another * anumber]\n"
   ]
  },
  {
   "cell_type": "code",
   "execution_count": null,
   "metadata": {},
   "outputs": [],
   "source": [
    "\n",
    "\n",
    "class TestAICoreModule(AICoreModule):\n",
    "    def __init__(self, files_dir, save_dir):\n",
    "        super().__init__(test_function, files_dir, save_dir)\n"
   ]
  },
  {
   "cell_type": "code",
   "execution_count": null,
   "metadata": {},
   "outputs": [],
   "source": [
    "\n",
    "class SimpleAICoreModule(AICoreModule):\n",
    "    def __init__(self, files_dir, save_dir):\n",
    "        super().__init__(test_simple_function, files_dir, save_dir)\n"
   ]
  },
  {
   "cell_type": "code",
   "execution_count": null,
   "metadata": {},
   "outputs": [
    {
     "name": "stderr",
     "output_type": "stream",
     "text": [
      "INFO\t34888\troot\t4004746126.py\t20\tInit TestAICoreModule, version 0.5.2, files directory c:\\Users\\fenke\\repos\\corebridge\\nbs\\cache, save dir c:\\Users\\fenke\\repos\\corebridge\\nbs\\cache on werkdoos\n"
     ]
    }
   ],
   "source": [
    "\n",
    "\n",
    "\n",
    "save_dir = os.path.join(os.getcwd(), 'cache')\n",
    "files_dir = os.path.join(os.getcwd(), 'cache')\n",
    "\n",
    "test_module = TestAICoreModule(files_dir, save_dir)\n",
    "\n",
    "assert test_module.init_kwargs['save_dir'] == save_dir, f\"init_kwargs['save_dir'] should be {save_dir}\"\n",
    "assert test_module.init_kwargs['files_dir'] == files_dir, f\"init_kwargs['files_dir'] should be {files_dir}\"\n"
   ]
  },
  {
   "cell_type": "code",
   "execution_count": null,
   "metadata": {},
   "outputs": [
    {
     "name": "stdout",
     "output_type": "stream",
     "text": [
      "recordformat: records, timezone: Europe/Amsterdam, nested: False\n",
      "Converting flat data dict to DataFrame with orient=records and timecolumns=['datetimeMeasure', 'time']\n",
      "Test Data\n",
      " [\n",
      "  {\n",
      "    \"datetimeMeasure\": \"2020-04-01T00:01:11.123Z\",\n",
      "    \"value\": 1.1\n",
      "  },\n",
      "  {\n",
      "    \"datetimeMeasure\": \"2020-04-02T00:20:00Z\",\n",
      "    \"value\": 2.3\n",
      "  }\n",
      "]\n",
      "Result Message\n",
      " [\n",
      "  \"Startup: time 2025-10-03T11:01:25.410615+00:00, node werkdoos\",\n",
      "  \"Corebridge version: 0.5.2\",\n",
      "  \"test_function((data: pandas.core.frame.DataFrame, anumber: float | numpy.ndarray = 0))\",\n",
      "  \"Data: <class 'list'> length: 2\",\n",
      "  \"kwargs ['timezone', 'anumber']\",\n",
      "  \"lastSeen: False, timezone: Europe/Amsterdam, recordformat: records, nested: False\",\n",
      "  \"Processing time: 0.2 ms\",\n",
      "  \"Preparation time: 98.6 ms\",\n",
      "  \"result shape: (2, 1)\",\n",
      "  \"return-data shape: (2, 1)\"\n",
      "]\n",
      "Result Data\n",
      " [\n",
      "  {\n",
      "    \"time\": \"2020-04-01T02:01:11.123+02:00\",\n",
      "    \"value\": 2.2\n",
      "  },\n",
      "  {\n",
      "    \"time\": \"2020-04-02T02:20:00.000+02:00\",\n",
      "    \"value\": 4.6\n",
      "  }\n",
      "]\n"
     ]
    }
   ],
   "source": [
    "\n",
    "test_data = [\n",
    "    dict(datetimeMeasure='2020-04-01T00:01:11.123Z', value=1.1),\n",
    "    dict(datetimeMeasure='2020-04-02T00:20:00Z', value=2.3),\n",
    "]\n",
    "result = test_module.call(dict(data=test_data, kwargs=dict(timezone='Europe/Amsterdam', anumber=2)))\n",
    "\n",
    "print(\"Test Data\\n\", json.dumps(test_data, indent=2))\n",
    "print(\"Result Message\\n\", json.dumps(result['msg'], indent=2, cls=NumpyEncoder))\n",
    "print(\"Result Data\\n\", json.dumps(result['data'], indent=2, cls=NumpyEncoder))"
   ]
  },
  {
   "cell_type": "code",
   "execution_count": null,
   "metadata": {},
   "outputs": [
    {
     "data": {
      "text/plain": [
       "pandas.core.frame.DataFrame"
      ]
     },
     "execution_count": null,
     "metadata": {},
     "output_type": "execute_result"
    }
   ],
   "source": [
    "test_module.processor_signature.parameters['data'].annotation"
   ]
  },
  {
   "cell_type": "code",
   "execution_count": null,
   "metadata": {},
   "outputs": [
    {
     "name": "stdout",
     "output_type": "stream",
     "text": [
      "(<class 'float'>, <class 'numpy.ndarray'>)\n"
     ]
    }
   ],
   "source": [
    "annotation = test_module.processor_signature.parameters['anumber'].annotation\n",
    "print(typing.get_args(annotation))\n"
   ]
  },
  {
   "cell_type": "code",
   "execution_count": null,
   "metadata": {},
   "outputs": [
    {
     "name": "stdout",
     "output_type": "stream",
     "text": [
      "0.0\n",
      "[]\n"
     ]
    }
   ],
   "source": [
    "for T in typing.get_args(annotation):\n",
    "    print(T(0))"
   ]
  },
  {
   "cell_type": "markdown",
   "metadata": {},
   "source": [
    "#### Simple module"
   ]
  },
  {
   "cell_type": "code",
   "execution_count": null,
   "metadata": {},
   "outputs": [
    {
     "name": "stderr",
     "output_type": "stream",
     "text": [
      "INFO\t34888\troot\t4004746126.py\t20\tInit SimpleAICoreModule, version 0.5.2, files directory c:\\Users\\fenke\\repos\\corebridge\\nbs\\cache, save dir c:\\Users\\fenke\\repos\\corebridge\\nbs\\cache on werkdoos\n"
     ]
    }
   ],
   "source": [
    "simple_module = SimpleAICoreModule(files_dir,save_dir)\n",
    "\n",
    "assert simple_module.init_kwargs['save_dir'] == save_dir"
   ]
  },
  {
   "cell_type": "code",
   "execution_count": null,
   "metadata": {},
   "outputs": [
    {
     "data": {
      "text/plain": [
       "True"
      ]
     },
     "execution_count": null,
     "metadata": {},
     "output_type": "execute_result"
    }
   ],
   "source": [
    "not simple_module.data_param"
   ]
  },
  {
   "cell_type": "code",
   "execution_count": null,
   "metadata": {},
   "outputs": [
    {
     "data": {
      "text/plain": [
       "['anumber', 'another']"
      ]
     },
     "execution_count": null,
     "metadata": {},
     "output_type": "execute_result"
    }
   ],
   "source": [
    "simple_module.call_params"
   ]
  },
  {
   "cell_type": "code",
   "execution_count": null,
   "metadata": {},
   "outputs": [],
   "source": [
    "result = simple_module.call(dict(data=[], kwargs=dict(timezone='Europe/Amsterdam', anumber=2, another=11))) #dict(data=[], kwargs=dict(timezone='Europe/Amsterdam', anumber=2, another=11)\n"
   ]
  },
  {
   "cell_type": "code",
   "execution_count": null,
   "metadata": {},
   "outputs": [
    {
     "name": "stdout",
     "output_type": "stream",
     "text": [
      "Result Message\n",
      " [\n",
      "  \"Startup: time 2025-10-03T11:01:25.567723+00:00, node werkdoos\",\n",
      "  \"Corebridge version: 0.5.2\",\n",
      "  \"test_simple_function((anumber: float, another: float))\",\n",
      "  \"Data: <class 'list'> length: 0\",\n",
      "  \"kwargs ['timezone', 'anumber', 'another']\",\n",
      "  \"lastSeen: False, timezone: Europe/Amsterdam, recordformat: records, nested: False\",\n",
      "  \"Processing time: 0.0 ms\",\n",
      "  \"Preparation time: 0.1 ms\",\n",
      "  \"return-data list length: 1\"\n",
      "]\n",
      "Result Data\n",
      " [\n",
      "  22.0\n",
      "]\n"
     ]
    }
   ],
   "source": [
    "print(\"Result Message\\n\", json.dumps(result['msg'], indent=2))\n",
    "print(\"Result Data\\n\", json.dumps(result['data'], indent=2))"
   ]
  },
  {
   "cell_type": "markdown",
   "metadata": {},
   "source": [
    "### Tests with library module"
   ]
  },
  {
   "cell_type": "code",
   "execution_count": null,
   "metadata": {},
   "outputs": [],
   "source": [
    "import corebridge.core"
   ]
  },
  {
   "cell_type": "code",
   "execution_count": null,
   "metadata": {},
   "outputs": [
    {
     "name": "stderr",
     "output_type": "stream",
     "text": [
      "DEBUG\t34888\tcorebridge.aicorebridge\taicorebridge.py\t34\tLoading corebridge.aicorebridge 0.5.2 from C:\\Users\\fenke\\repos\\corebridge\\corebridge\\aicorebridge.py\n"
     ]
    }
   ],
   "source": [
    "\n",
    "from corebridge.aicorebridge import AICoreModule\n"
   ]
  },
  {
   "cell_type": "code",
   "execution_count": null,
   "metadata": {},
   "outputs": [
    {
     "name": "stderr",
     "output_type": "stream",
     "text": [
      "INFO\t34888\tcorebridge.aicorebridge\taicorebridge.py\t133\tInit TestAICoreModule, version 0.5.2, files directory c:\\Users\\fenke\\repos\\corebridge\\nbs\\cache, save dir c:\\Users\\fenke\\repos\\corebridge\\nbs\\cache\n"
     ]
    }
   ],
   "source": [
    "\n",
    "class TestAICoreModule(AICoreModule):\n",
    "    def __init__(self, files_dir, save_dir):\n",
    "        super().__init__(test_function, files_dir, save_dir)\n",
    "        \n",
    "test_module = TestAICoreModule(files_dir, save_dir)\n",
    "\n",
    "assert test_module.init_kwargs['save_dir'] == save_dir\n",
    "assert test_module.init_kwargs['files_dir'] == files_dir"
   ]
  },
  {
   "cell_type": "code",
   "execution_count": null,
   "metadata": {},
   "outputs": [
    {
     "name": "stdout",
     "output_type": "stream",
     "text": [
      "recordformat: records, timezone: Europe/Amsterdam, nested: False\n",
      "Converting flat data dict to DataFrame with orient=records and timecolumns=['datetimeMeasure', 'time']\n",
      "Test Data\n",
      " [\n",
      "  {\n",
      "    \"datetimeMeasure\": \"2020-04-01T00:01:11.123Z\",\n",
      "    \"value\": 1.1\n",
      "  },\n",
      "  {\n",
      "    \"datetimeMeasure\": \"2020-04-02T00:20:00Z\",\n",
      "    \"value\": 2.3\n",
      "  }\n",
      "]\n",
      "Result Message\n",
      " [\n",
      "  \"Startup time: 2025-10-03T11:01:25.629415+00:00\",\n",
      "  \"Corebridge version: 0.5.2\",\n",
      "  \"test_function((data: pandas.core.frame.DataFrame, anumber: float | numpy.ndarray = 0))\",\n",
      "  \"Data: <class 'list'> length: 2\",\n",
      "  \"kwargs ['timezone', 'anumber']\",\n",
      "  \"lastSeen: False, timezone: Europe/Amsterdam, recordformat: records, nested: False\",\n",
      "  \"Processing time: 0.1 ms\",\n",
      "  \"Preparation time: 2.1 ms\",\n",
      "  \"result shape: (2, 1)\",\n",
      "  \"return-data shape: (2, 1)\"\n",
      "]\n",
      "Result Data\n",
      " [\n",
      "  {\n",
      "    \"time\": \"2020-04-01T02:01:11.123+02:00\",\n",
      "    \"value\": 2.2\n",
      "  },\n",
      "  {\n",
      "    \"time\": \"2020-04-02T02:20:00.000+02:00\",\n",
      "    \"value\": 4.6\n",
      "  }\n",
      "]\n"
     ]
    }
   ],
   "source": [
    "test_data = [\n",
    "    dict(datetimeMeasure='2020-04-01T00:01:11.123Z', value=1.1),\n",
    "    dict(datetimeMeasure='2020-04-02T00:20:00Z', value=2.3),\n",
    "]\n",
    "result = test_module.call(dict(data=test_data, kwargs=dict(timezone='Europe/Amsterdam', anumber=2)))\n",
    "\n",
    "print(\"Test Data\\n\", json.dumps(test_data, indent=2))\n",
    "print(\"Result Message\\n\", json.dumps(result['msg'], indent=2, cls=NumpyEncoder))\n",
    "print(\"Result Data\\n\", json.dumps(result['data'], indent=2, cls=NumpyEncoder))"
   ]
  },
  {
   "cell_type": "code",
   "execution_count": null,
   "metadata": {},
   "outputs": [
    {
     "name": "stdout",
     "output_type": "stream",
     "text": [
      "Test Data\n",
      " [\n",
      "  {\n",
      "    \"datetimeMeasure\": \"2020-04-01T00:01:11.123Z\",\n",
      "    \"value\": 1.1\n",
      "  },\n",
      "  {\n",
      "    \"datetimeMeasure\": \"2020-04-02T00:20:00Z\",\n",
      "    \"value\": 2.3\n",
      "  }\n",
      "]\n",
      "Result Message\n",
      " [\n",
      "  \"Startup time: 2025-10-03T11:01:25.629415+00:00\",\n",
      "  \"Corebridge version: 0.5.2\",\n",
      "  \"test_function((data: pandas.core.frame.DataFrame, anumber: float | numpy.ndarray = 0))\",\n",
      "  \"Data: <class 'list'> length: 2\",\n",
      "  \"kwargs ['timezone', 'anumber']\",\n",
      "  \"lastSeen: False, timezone: Europe/Amsterdam, recordformat: records, nested: False\",\n",
      "  \"Processing time: 0.1 ms\",\n",
      "  \"Preparation time: 2.1 ms\",\n",
      "  \"result shape: (2, 1)\",\n",
      "  \"return-data shape: (2, 1)\"\n",
      "]\n",
      "Result Data\n",
      " [\n",
      "  {\n",
      "    \"time\": \"2020-04-01T02:01:11.123+02:00\",\n",
      "    \"value\": 2.2\n",
      "  },\n",
      "  {\n",
      "    \"time\": \"2020-04-02T02:20:00.000+02:00\",\n",
      "    \"value\": 4.6\n",
      "  }\n",
      "]\n"
     ]
    }
   ],
   "source": [
    "print(\"Test Data\\n\", json.dumps(test_data, indent=2))\n",
    "print(\"Result Message\\n\", json.dumps(result['msg'], indent=2, cls=NumpyEncoder))\n",
    "print(\"Result Data\\n\", json.dumps(result['data'], indent=2, cls=NumpyEncoder))"
   ]
  },
  {
   "cell_type": "markdown",
   "metadata": {},
   "source": [
    "## Various experiments"
   ]
  },
  {
   "cell_type": "code",
   "execution_count": null,
   "metadata": {},
   "outputs": [],
   "source": [
    "import json"
   ]
  },
  {
   "cell_type": "code",
   "execution_count": null,
   "metadata": {},
   "outputs": [],
   "source": [
    "test_nested_data = json.loads(\"\"\"\n",
    "[\n",
    "    {\n",
    "        \"deviceId\": \"00209835-4443-4fee-ae1f-281082fcfbbc\",\n",
    "        \"datetimeMeasure\": \"2025-07-21T09:46:33.313Z\",\n",
    "        \"datetimeSource\": \"2025-07-21T09:46:33.313Z\",\n",
    "        \"datetimeAcquisition\": \"2025-07-21T09:46:33.691Z\",\n",
    "        \"connector\": \"lora.kpn\",\n",
    "        \"value\": \"0d01b4613d2ab820ec21e42a912a\",\n",
    "        \"metadata\": {\n",
    "            \"connection\": {\n",
    "                \"rssi\": -106,\n",
    "                \"snr\": 0,\n",
    "                \"spreadingFactor\": 11,\n",
    "                \"frequency\": 868.1,\n",
    "                \"gateways\": [\n",
    "                    {\n",
    "                        \"id\": \"FF01055A\",\n",
    "                        \"rssi\": -106,\n",
    "                        \"snr\": 0,\n",
    "                        \"location\": {\n",
    "                            \"latitude\": 51.556896,\n",
    "                            \"longitude\": 5.865362\n",
    "                        }\n",
    "                    }\n",
    "                ]\n",
    "            },\n",
    "            \"frame\": {\n",
    "                \"port\": 2,\n",
    "                \"counterUp\": 1319,\n",
    "                \"counterDown\": 26,\n",
    "                \"errorRate\": 4\n",
    "            }\n",
    "        }\n",
    "    },\n",
    "    {\n",
    "        \"deviceId\": \"00209835-4443-4fee-ae1f-281082fcfbbc\",\n",
    "        \"datetimeMeasure\": \"2025-07-21T09:36:33.332Z\",\n",
    "        \"datetimeSource\": \"2025-07-21T09:36:33.332Z\",\n",
    "        \"datetimeAcquisition\": \"2025-07-21T09:36:33.697Z\",\n",
    "        \"connector\": \"lora.kpn\",\n",
    "        \"value\": \"0d0174603d2a9e20bf21dc2a802a\",\n",
    "        \"metadata\": {\n",
    "            \"connection\": {\n",
    "                \"rssi\": -104,\n",
    "                \"snr\": 5,\n",
    "                \"spreadingFactor\": 11,\n",
    "                \"frequency\": 867.3,\n",
    "                \"gateways\": [\n",
    "                    {\n",
    "                        \"id\": \"FF01055A\",\n",
    "                        \"rssi\": -104,\n",
    "                        \"snr\": 5,\n",
    "                        \"location\": {\n",
    "                            \"latitude\": 51.5569,\n",
    "                            \"longitude\": 5.865385\n",
    "                        }\n",
    "                    }\n",
    "                ]\n",
    "            },\n",
    "            \"frame\": {\n",
    "                \"port\": 2,\n",
    "                \"counterUp\": 1318,\n",
    "                \"counterDown\": 26,\n",
    "                \"errorRate\": 4\n",
    "            }\n",
    "        }\n",
    "    },\n",
    "    {\n",
    "        \"deviceId\": \"00209835-4443-4fee-ae1f-281082fcfbbc\",\n",
    "        \"datetimeMeasure\": \"2025-07-21T09:26:33.350Z\",\n",
    "        \"datetimeSource\": \"2025-07-21T09:26:33.350Z\",\n",
    "        \"datetimeAcquisition\": \"2025-07-21T09:26:33.705Z\",\n",
    "        \"connector\": \"lora.kpn\",\n",
    "        \"value\": \"0d01b45e3d2aa120ad21d42a5d2a\",\n",
    "        \"metadata\": {\n",
    "            \"connection\": {\n",
    "                \"rssi\": -105,\n",
    "                \"snr\": 9,\n",
    "                \"spreadingFactor\": 11,\n",
    "                \"frequency\": 868.5,\n",
    "                \"gateways\": [\n",
    "                    {\n",
    "                        \"id\": \"FF01055A\",\n",
    "                        \"rssi\": -105,\n",
    "                        \"snr\": 9,\n",
    "                        \"location\": {\n",
    "                            \"latitude\": 51.556892,\n",
    "                            \"longitude\": 5.865356\n",
    "                        }\n",
    "                    }\n",
    "                ]\n",
    "            },\n",
    "            \"frame\": {\n",
    "                \"port\": 2,\n",
    "                \"counterUp\": 1317,\n",
    "                \"counterDown\": 26,\n",
    "                \"errorRate\": 4\n",
    "            }\n",
    "        }\n",
    "    },\n",
    "    {\n",
    "        \"deviceId\": \"00209835-4443-4fee-ae1f-281082fcfbbc\",\n",
    "        \"datetimeMeasure\": \"2025-07-21T09:16:33.368Z\",\n",
    "        \"datetimeSource\": \"2025-07-21T09:16:33.368Z\",\n",
    "        \"datetimeAcquisition\": \"2025-07-21T09:16:33.734Z\",\n",
    "        \"connector\": \"lora.kpn\",\n",
    "        \"value\": \"0d01745d3d2ac320a621d12a5b2a\",\n",
    "        \"metadata\": {\n",
    "            \"connection\": {\n",
    "                \"rssi\": -109,\n",
    "                \"snr\": 2,\n",
    "                \"spreadingFactor\": 11,\n",
    "                \"frequency\": 866.6,\n",
    "                \"gateways\": [\n",
    "                    {\n",
    "                        \"id\": \"FF01055A\",\n",
    "                        \"rssi\": -109,\n",
    "                        \"snr\": 2,\n",
    "                        \"location\": {\n",
    "                            \"latitude\": 51.556892,\n",
    "                            \"longitude\": 5.865359\n",
    "                        }\n",
    "                    }\n",
    "                ]\n",
    "            },\n",
    "            \"frame\": {\n",
    "                \"port\": 2,\n",
    "                \"counterUp\": 1316,\n",
    "                \"counterDown\": 26,\n",
    "                \"errorRate\": 4\n",
    "            }\n",
    "        }\n",
    "    },\n",
    "    {\n",
    "        \"deviceId\": \"00209835-4443-4fee-ae1f-281082fcfbbc\",\n",
    "        \"datetimeMeasure\": \"2025-07-21T09:06:33.386Z\",\n",
    "        \"datetimeSource\": \"2025-07-21T09:06:33.386Z\",\n",
    "        \"datetimeAcquisition\": \"2025-07-21T09:06:33.748Z\",\n",
    "        \"connector\": \"lora.kpn\",\n",
    "        \"value\": \"0d01345c3d2aa920b821d02a612a\",\n",
    "        \"metadata\": {\n",
    "            \"connection\": {\n",
    "                \"rssi\": -106,\n",
    "                \"snr\": -2,\n",
    "                \"spreadingFactor\": 11,\n",
    "                \"frequency\": 868.5,\n",
    "                \"gateways\": [\n",
    "                    {\n",
    "                        \"id\": \"FF01055A\",\n",
    "                        \"rssi\": -106,\n",
    "                        \"snr\": -2,\n",
    "                        \"location\": {\n",
    "                            \"latitude\": 51.556858,\n",
    "                            \"longitude\": 5.865352\n",
    "                        }\n",
    "                    }\n",
    "                ]\n",
    "            },\n",
    "            \"frame\": {\n",
    "                \"port\": 2,\n",
    "                \"counterUp\": 1315,\n",
    "                \"counterDown\": 26,\n",
    "                \"errorRate\": 4\n",
    "            }\n",
    "        }\n",
    "    },\n",
    "    {\n",
    "        \"deviceId\": \"00209835-4443-4fee-ae1f-281082fcfbbc\",\n",
    "        \"datetimeMeasure\": \"2025-07-21T08:56:33.405Z\",\n",
    "        \"datetimeSource\": \"2025-07-21T08:56:33.405Z\",\n",
    "        \"datetimeAcquisition\": \"2025-07-21T08:56:33.754Z\",\n",
    "        \"connector\": \"lora.kpn\",\n",
    "        \"value\": \"0d01f45a3d2aa020c821d22a7d2a\",\n",
    "        \"metadata\": {\n",
    "            \"connection\": {\n",
    "                \"rssi\": -115,\n",
    "                \"snr\": -6.25,\n",
    "                \"spreadingFactor\": 11,\n",
    "                \"frequency\": 866.1,\n",
    "                \"gateways\": [\n",
    "                    {\n",
    "                        \"id\": \"FF010323\",\n",
    "                        \"rssi\": -115,\n",
    "                        \"snr\": -6.25,\n",
    "                        \"location\": {\n",
    "                            \"latitude\": 51.516491,\n",
    "                            \"longitude\": 5.884403\n",
    "                        }\n",
    "                    }\n",
    "                ]\n",
    "            },\n",
    "            \"frame\": {\n",
    "                \"port\": 2,\n",
    "                \"counterUp\": 1314,\n",
    "                \"counterDown\": 26,\n",
    "                \"errorRate\": 4\n",
    "            }\n",
    "        }\n",
    "    },\n",
    "    {\n",
    "        \"deviceId\": \"00209835-4443-4fee-ae1f-281082fcfbbc\",\n",
    "        \"datetimeMeasure\": \"2025-07-21T08:46:33.423Z\",\n",
    "        \"datetimeSource\": \"2025-07-21T08:46:33.423Z\",\n",
    "        \"datetimeAcquisition\": \"2025-07-21T08:46:33.778Z\",\n",
    "        \"connector\": \"lora.kpn\",\n",
    "        \"value\": \"0d01b4593d2ab920d121cf2a922a\",\n",
    "        \"metadata\": {\n",
    "            \"connection\": {\n",
    "                \"rssi\": -106,\n",
    "                \"snr\": 8,\n",
    "                \"spreadingFactor\": 11,\n",
    "                \"frequency\": 868.5,\n",
    "                \"gateways\": [\n",
    "                    {\n",
    "                        \"id\": \"FF01055A\",\n",
    "                        \"rssi\": -106,\n",
    "                        \"snr\": 8,\n",
    "                        \"location\": {\n",
    "                            \"latitude\": 51.556862,\n",
    "                            \"longitude\": 5.865373\n",
    "                        }\n",
    "                    }\n",
    "                ]\n",
    "            },\n",
    "            \"frame\": {\n",
    "                \"port\": 2,\n",
    "                \"counterUp\": 1313,\n",
    "                \"counterDown\": 26,\n",
    "                \"errorRate\": 4\n",
    "            }\n",
    "        }\n",
    "    },\n",
    "    {\n",
    "        \"deviceId\": \"00209835-4443-4fee-ae1f-281082fcfbbc\",\n",
    "        \"datetimeMeasure\": \"2025-07-21T08:36:33.441Z\",\n",
    "        \"datetimeSource\": \"2025-07-21T08:36:33.441Z\",\n",
    "        \"datetimeAcquisition\": \"2025-07-21T08:36:33.821Z\",\n",
    "        \"connector\": \"lora.kpn\",\n",
    "        \"value\": \"0d0174583d2ac020e221cb2ada2a\",\n",
    "        \"metadata\": {\n",
    "            \"connection\": {\n",
    "                \"rssi\": -106,\n",
    "                \"snr\": 2,\n",
    "                \"spreadingFactor\": 11,\n",
    "                \"frequency\": 866.4,\n",
    "                \"gateways\": [\n",
    "                    {\n",
    "                        \"id\": \"FF01055A\",\n",
    "                        \"rssi\": -106,\n",
    "                        \"snr\": 2,\n",
    "                        \"location\": {\n",
    "                            \"latitude\": 51.55687,\n",
    "                            \"longitude\": 5.86535\n",
    "                        }\n",
    "                    }\n",
    "                ]\n",
    "            },\n",
    "            \"frame\": {\n",
    "                \"port\": 2,\n",
    "                \"counterUp\": 1312,\n",
    "                \"counterDown\": 26,\n",
    "                \"errorRate\": 6\n",
    "            }\n",
    "        }\n",
    "    },\n",
    "    {\n",
    "        \"deviceId\": \"00209835-4443-4fee-ae1f-281082fcfbbc\",\n",
    "        \"datetimeMeasure\": \"2025-07-21T08:26:33.460Z\",\n",
    "        \"datetimeSource\": \"2025-07-21T08:26:33.460Z\",\n",
    "        \"datetimeAcquisition\": \"2025-07-21T08:26:33.810Z\",\n",
    "        \"connector\": \"lora.kpn\",\n",
    "        \"value\": \"0d01b4563d2aa220db21c72aba2a\",\n",
    "        \"metadata\": {\n",
    "            \"connection\": {\n",
    "                \"rssi\": -103,\n",
    "                \"snr\": -2,\n",
    "                \"spreadingFactor\": 11,\n",
    "                \"frequency\": 868.1,\n",
    "                \"gateways\": [\n",
    "                    {\n",
    "                        \"id\": \"FF01055A\",\n",
    "                        \"rssi\": -103,\n",
    "                        \"snr\": -2,\n",
    "                        \"location\": {\n",
    "                            \"latitude\": 51.556854,\n",
    "                            \"longitude\": 5.865371\n",
    "                        }\n",
    "                    }\n",
    "                ]\n",
    "            },\n",
    "            \"frame\": {\n",
    "                \"port\": 2,\n",
    "                \"counterUp\": 1311,\n",
    "                \"counterDown\": 26,\n",
    "                \"errorRate\": 6\n",
    "            }\n",
    "        }\n",
    "    },\n",
    "    {\n",
    "        \"deviceId\": \"00209835-4443-4fee-ae1f-281082fcfbbc\",\n",
    "        \"datetimeMeasure\": \"2025-07-21T08:16:33.560Z\",\n",
    "        \"datetimeSource\": \"2025-07-21T08:16:33.560Z\",\n",
    "        \"datetimeAcquisition\": \"2025-07-21T08:16:33.962Z\",\n",
    "        \"connector\": \"lora.kpn\",\n",
    "        \"value\": \"0d0174553d2ac220d821c52ad92a\",\n",
    "        \"metadata\": {\n",
    "            \"connection\": {\n",
    "                \"rssi\": -104,\n",
    "                \"snr\": -7,\n",
    "                \"spreadingFactor\": 11,\n",
    "                \"frequency\": 865.1,\n",
    "                \"gateways\": [\n",
    "                    {\n",
    "                        \"id\": \"FF01055A\",\n",
    "                        \"rssi\": -104,\n",
    "                        \"snr\": -7,\n",
    "                        \"location\": {\n",
    "                            \"latitude\": 51.556866,\n",
    "                            \"longitude\": 5.865384\n",
    "                        }\n",
    "                    }\n",
    "                ]\n",
    "            },\n",
    "            \"frame\": {\n",
    "                \"port\": 2,\n",
    "                \"counterUp\": 1310,\n",
    "                \"counterDown\": 26,\n",
    "                \"errorRate\": 6\n",
    "            }\n",
    "        }\n",
    "    }\n",
    "]\n",
    "\n",
    "\n",
    "  \"\"\")"
   ]
  },
  {
   "cell_type": "code",
   "execution_count": null,
   "metadata": {},
   "outputs": [],
   "source": [
    "import pandas as pd\n",
    "from corebridge.timeseriesdataframe import timeseries_dataframe_from_datadict"
   ]
  },
  {
   "cell_type": "code",
   "execution_count": null,
   "metadata": {},
   "outputs": [],
   "source": [
    "df_normalized = pd.json_normalize(\n",
    "    test_nested_data, \n",
    "    sep='.',\n",
    "    #record_prefix='metadata.'\n",
    ")"
   ]
  },
  {
   "cell_type": "code",
   "execution_count": null,
   "metadata": {},
   "outputs": [
    {
     "name": "stdout",
     "output_type": "stream",
     "text": [
      "<class 'pandas.core.frame.DataFrame'>\n",
      "RangeIndex: 10 entries, 0 to 9\n",
      "Data columns (total 15 columns):\n",
      " #   Column                               Non-Null Count  Dtype  \n",
      "---  ------                               --------------  -----  \n",
      " 0   deviceId                             10 non-null     object \n",
      " 1   datetimeMeasure                      10 non-null     object \n",
      " 2   datetimeSource                       10 non-null     object \n",
      " 3   datetimeAcquisition                  10 non-null     object \n",
      " 4   connector                            10 non-null     object \n",
      " 5   value                                10 non-null     object \n",
      " 6   metadata.connection.rssi             10 non-null     int64  \n",
      " 7   metadata.connection.snr              10 non-null     float64\n",
      " 8   metadata.connection.spreadingFactor  10 non-null     int64  \n",
      " 9   metadata.connection.frequency        10 non-null     float64\n",
      " 10  metadata.connection.gateways         10 non-null     object \n",
      " 11  metadata.frame.port                  10 non-null     int64  \n",
      " 12  metadata.frame.counterUp             10 non-null     int64  \n",
      " 13  metadata.frame.counterDown           10 non-null     int64  \n",
      " 14  metadata.frame.errorRate             10 non-null     int64  \n",
      "dtypes: float64(2), int64(6), object(7)\n",
      "memory usage: 1.3+ KB\n"
     ]
    }
   ],
   "source": [
    "df_normalized.info()"
   ]
  },
  {
   "cell_type": "code",
   "execution_count": null,
   "metadata": {},
   "outputs": [
    {
     "name": "stdout",
     "output_type": "stream",
     "text": [
      "Converting nested data dict to DataFrame with orient=records and timecolumns=['datetimeMeasure', 'time']\n",
      "<class 'pandas.core.frame.DataFrame'>\n",
      "DatetimeIndex: 10 entries, 2025-07-21 09:46:33.313000+00:00 to 2025-07-21 08:16:33.560000+00:00\n",
      "Data columns (total 14 columns):\n",
      " #   Column                               Non-Null Count  Dtype  \n",
      "---  ------                               --------------  -----  \n",
      " 0   deviceId                             10 non-null     object \n",
      " 1   datetimeSource                       10 non-null     object \n",
      " 2   datetimeAcquisition                  10 non-null     object \n",
      " 3   connector                            10 non-null     object \n",
      " 4   value                                10 non-null     object \n",
      " 5   metadata.connection.rssi             10 non-null     int64  \n",
      " 6   metadata.connection.snr              10 non-null     float64\n",
      " 7   metadata.connection.spreadingFactor  10 non-null     int64  \n",
      " 8   metadata.connection.frequency        10 non-null     float64\n",
      " 9   metadata.connection.gateways         10 non-null     object \n",
      " 10  metadata.frame.port                  10 non-null     int64  \n",
      " 11  metadata.frame.counterUp             10 non-null     int64  \n",
      " 12  metadata.frame.counterDown           10 non-null     int64  \n",
      " 13  metadata.frame.errorRate             10 non-null     int64  \n",
      "dtypes: float64(2), int64(6), object(6)\n",
      "memory usage: 1.2+ KB\n"
     ]
    }
   ],
   "source": [
    "dfn = timeseries_dataframe_from_datadict(test_nested_data, ['datetimeMeasure', 'time'], recordformat='records', nested=True).dropna()\n",
    "dfn.info()"
   ]
  },
  {
   "cell_type": "code",
   "execution_count": null,
   "metadata": {},
   "outputs": [
    {
     "data": {
      "application/vnd.microsoft.datawrangler.viewer.v0+json": {
       "columns": [
        {
         "name": "time",
         "rawType": "datetime64[ns, UTC]",
         "type": "unknown"
        },
        {
         "name": "deviceId",
         "rawType": "object",
         "type": "string"
        },
        {
         "name": "datetimeSource",
         "rawType": "object",
         "type": "string"
        },
        {
         "name": "datetimeAcquisition",
         "rawType": "object",
         "type": "string"
        },
        {
         "name": "connector",
         "rawType": "object",
         "type": "string"
        },
        {
         "name": "value",
         "rawType": "object",
         "type": "string"
        },
        {
         "name": "metadata.connection.rssi",
         "rawType": "int64",
         "type": "integer"
        },
        {
         "name": "metadata.connection.snr",
         "rawType": "float64",
         "type": "float"
        },
        {
         "name": "metadata.connection.spreadingFactor",
         "rawType": "int64",
         "type": "integer"
        },
        {
         "name": "metadata.connection.frequency",
         "rawType": "float64",
         "type": "float"
        },
        {
         "name": "metadata.connection.gateways",
         "rawType": "object",
         "type": "unknown"
        },
        {
         "name": "metadata.frame.port",
         "rawType": "int64",
         "type": "integer"
        },
        {
         "name": "metadata.frame.counterUp",
         "rawType": "int64",
         "type": "integer"
        },
        {
         "name": "metadata.frame.counterDown",
         "rawType": "int64",
         "type": "integer"
        },
        {
         "name": "metadata.frame.errorRate",
         "rawType": "int64",
         "type": "integer"
        }
       ],
       "ref": "44534be1-d97a-4c44-acd8-82f0f0dfff7e",
       "rows": [
        [
         "2025-07-21 09:46:33.313000+00:00",
         "00209835-4443-4fee-ae1f-281082fcfbbc",
         "2025-07-21T09:46:33.313Z",
         "2025-07-21T09:46:33.691Z",
         "lora.kpn",
         "0d01b4613d2ab820ec21e42a912a",
         "-106",
         "0.0",
         "11",
         "868.1",
         "[{'id': 'FF01055A', 'rssi': -106, 'snr': 0, 'location': {'latitude': 51.556896, 'longitude': 5.865362}}]",
         "2",
         "1319",
         "26",
         "4"
        ],
        [
         "2025-07-21 09:36:33.332000+00:00",
         "00209835-4443-4fee-ae1f-281082fcfbbc",
         "2025-07-21T09:36:33.332Z",
         "2025-07-21T09:36:33.697Z",
         "lora.kpn",
         "0d0174603d2a9e20bf21dc2a802a",
         "-104",
         "5.0",
         "11",
         "867.3",
         "[{'id': 'FF01055A', 'rssi': -104, 'snr': 5, 'location': {'latitude': 51.5569, 'longitude': 5.865385}}]",
         "2",
         "1318",
         "26",
         "4"
        ],
        [
         "2025-07-21 09:26:33.350000+00:00",
         "00209835-4443-4fee-ae1f-281082fcfbbc",
         "2025-07-21T09:26:33.350Z",
         "2025-07-21T09:26:33.705Z",
         "lora.kpn",
         "0d01b45e3d2aa120ad21d42a5d2a",
         "-105",
         "9.0",
         "11",
         "868.5",
         "[{'id': 'FF01055A', 'rssi': -105, 'snr': 9, 'location': {'latitude': 51.556892, 'longitude': 5.865356}}]",
         "2",
         "1317",
         "26",
         "4"
        ],
        [
         "2025-07-21 09:16:33.368000+00:00",
         "00209835-4443-4fee-ae1f-281082fcfbbc",
         "2025-07-21T09:16:33.368Z",
         "2025-07-21T09:16:33.734Z",
         "lora.kpn",
         "0d01745d3d2ac320a621d12a5b2a",
         "-109",
         "2.0",
         "11",
         "866.6",
         "[{'id': 'FF01055A', 'rssi': -109, 'snr': 2, 'location': {'latitude': 51.556892, 'longitude': 5.865359}}]",
         "2",
         "1316",
         "26",
         "4"
        ],
        [
         "2025-07-21 09:06:33.386000+00:00",
         "00209835-4443-4fee-ae1f-281082fcfbbc",
         "2025-07-21T09:06:33.386Z",
         "2025-07-21T09:06:33.748Z",
         "lora.kpn",
         "0d01345c3d2aa920b821d02a612a",
         "-106",
         "-2.0",
         "11",
         "868.5",
         "[{'id': 'FF01055A', 'rssi': -106, 'snr': -2, 'location': {'latitude': 51.556858, 'longitude': 5.865352}}]",
         "2",
         "1315",
         "26",
         "4"
        ],
        [
         "2025-07-21 08:56:33.405000+00:00",
         "00209835-4443-4fee-ae1f-281082fcfbbc",
         "2025-07-21T08:56:33.405Z",
         "2025-07-21T08:56:33.754Z",
         "lora.kpn",
         "0d01f45a3d2aa020c821d22a7d2a",
         "-115",
         "-6.25",
         "11",
         "866.1",
         "[{'id': 'FF010323', 'rssi': -115, 'snr': -6.25, 'location': {'latitude': 51.516491, 'longitude': 5.884403}}]",
         "2",
         "1314",
         "26",
         "4"
        ],
        [
         "2025-07-21 08:46:33.423000+00:00",
         "00209835-4443-4fee-ae1f-281082fcfbbc",
         "2025-07-21T08:46:33.423Z",
         "2025-07-21T08:46:33.778Z",
         "lora.kpn",
         "0d01b4593d2ab920d121cf2a922a",
         "-106",
         "8.0",
         "11",
         "868.5",
         "[{'id': 'FF01055A', 'rssi': -106, 'snr': 8, 'location': {'latitude': 51.556862, 'longitude': 5.865373}}]",
         "2",
         "1313",
         "26",
         "4"
        ],
        [
         "2025-07-21 08:36:33.441000+00:00",
         "00209835-4443-4fee-ae1f-281082fcfbbc",
         "2025-07-21T08:36:33.441Z",
         "2025-07-21T08:36:33.821Z",
         "lora.kpn",
         "0d0174583d2ac020e221cb2ada2a",
         "-106",
         "2.0",
         "11",
         "866.4",
         "[{'id': 'FF01055A', 'rssi': -106, 'snr': 2, 'location': {'latitude': 51.55687, 'longitude': 5.86535}}]",
         "2",
         "1312",
         "26",
         "6"
        ],
        [
         "2025-07-21 08:26:33.460000+00:00",
         "00209835-4443-4fee-ae1f-281082fcfbbc",
         "2025-07-21T08:26:33.460Z",
         "2025-07-21T08:26:33.810Z",
         "lora.kpn",
         "0d01b4563d2aa220db21c72aba2a",
         "-103",
         "-2.0",
         "11",
         "868.1",
         "[{'id': 'FF01055A', 'rssi': -103, 'snr': -2, 'location': {'latitude': 51.556854, 'longitude': 5.865371}}]",
         "2",
         "1311",
         "26",
         "6"
        ],
        [
         "2025-07-21 08:16:33.560000+00:00",
         "00209835-4443-4fee-ae1f-281082fcfbbc",
         "2025-07-21T08:16:33.560Z",
         "2025-07-21T08:16:33.962Z",
         "lora.kpn",
         "0d0174553d2ac220d821c52ad92a",
         "-104",
         "-7.0",
         "11",
         "865.1",
         "[{'id': 'FF01055A', 'rssi': -104, 'snr': -7, 'location': {'latitude': 51.556866, 'longitude': 5.865384}}]",
         "2",
         "1310",
         "26",
         "6"
        ]
       ],
       "shape": {
        "columns": 14,
        "rows": 10
       }
      },
      "text/html": [
       "<div>\n",
       "<style scoped>\n",
       "    .dataframe tbody tr th:only-of-type {\n",
       "        vertical-align: middle;\n",
       "    }\n",
       "\n",
       "    .dataframe tbody tr th {\n",
       "        vertical-align: top;\n",
       "    }\n",
       "\n",
       "    .dataframe thead th {\n",
       "        text-align: right;\n",
       "    }\n",
       "</style>\n",
       "<table border=\"1\" class=\"dataframe\">\n",
       "  <thead>\n",
       "    <tr style=\"text-align: right;\">\n",
       "      <th></th>\n",
       "      <th>deviceId</th>\n",
       "      <th>datetimeSource</th>\n",
       "      <th>datetimeAcquisition</th>\n",
       "      <th>connector</th>\n",
       "      <th>value</th>\n",
       "      <th>metadata.connection.rssi</th>\n",
       "      <th>metadata.connection.snr</th>\n",
       "      <th>metadata.connection.spreadingFactor</th>\n",
       "      <th>metadata.connection.frequency</th>\n",
       "      <th>metadata.connection.gateways</th>\n",
       "      <th>metadata.frame.port</th>\n",
       "      <th>metadata.frame.counterUp</th>\n",
       "      <th>metadata.frame.counterDown</th>\n",
       "      <th>metadata.frame.errorRate</th>\n",
       "    </tr>\n",
       "    <tr>\n",
       "      <th>time</th>\n",
       "      <th></th>\n",
       "      <th></th>\n",
       "      <th></th>\n",
       "      <th></th>\n",
       "      <th></th>\n",
       "      <th></th>\n",
       "      <th></th>\n",
       "      <th></th>\n",
       "      <th></th>\n",
       "      <th></th>\n",
       "      <th></th>\n",
       "      <th></th>\n",
       "      <th></th>\n",
       "      <th></th>\n",
       "    </tr>\n",
       "  </thead>\n",
       "  <tbody>\n",
       "    <tr>\n",
       "      <th>2025-07-21 09:46:33.313000+00:00</th>\n",
       "      <td>00209835-4443-4fee-ae1f-281082fcfbbc</td>\n",
       "      <td>2025-07-21T09:46:33.313Z</td>\n",
       "      <td>2025-07-21T09:46:33.691Z</td>\n",
       "      <td>lora.kpn</td>\n",
       "      <td>0d01b4613d2ab820ec21e42a912a</td>\n",
       "      <td>-106</td>\n",
       "      <td>0.00</td>\n",
       "      <td>11</td>\n",
       "      <td>868.1</td>\n",
       "      <td>[{'id': 'FF01055A', 'rssi': -106, 'snr': 0, 'l...</td>\n",
       "      <td>2</td>\n",
       "      <td>1319</td>\n",
       "      <td>26</td>\n",
       "      <td>4</td>\n",
       "    </tr>\n",
       "    <tr>\n",
       "      <th>2025-07-21 09:36:33.332000+00:00</th>\n",
       "      <td>00209835-4443-4fee-ae1f-281082fcfbbc</td>\n",
       "      <td>2025-07-21T09:36:33.332Z</td>\n",
       "      <td>2025-07-21T09:36:33.697Z</td>\n",
       "      <td>lora.kpn</td>\n",
       "      <td>0d0174603d2a9e20bf21dc2a802a</td>\n",
       "      <td>-104</td>\n",
       "      <td>5.00</td>\n",
       "      <td>11</td>\n",
       "      <td>867.3</td>\n",
       "      <td>[{'id': 'FF01055A', 'rssi': -104, 'snr': 5, 'l...</td>\n",
       "      <td>2</td>\n",
       "      <td>1318</td>\n",
       "      <td>26</td>\n",
       "      <td>4</td>\n",
       "    </tr>\n",
       "    <tr>\n",
       "      <th>2025-07-21 09:26:33.350000+00:00</th>\n",
       "      <td>00209835-4443-4fee-ae1f-281082fcfbbc</td>\n",
       "      <td>2025-07-21T09:26:33.350Z</td>\n",
       "      <td>2025-07-21T09:26:33.705Z</td>\n",
       "      <td>lora.kpn</td>\n",
       "      <td>0d01b45e3d2aa120ad21d42a5d2a</td>\n",
       "      <td>-105</td>\n",
       "      <td>9.00</td>\n",
       "      <td>11</td>\n",
       "      <td>868.5</td>\n",
       "      <td>[{'id': 'FF01055A', 'rssi': -105, 'snr': 9, 'l...</td>\n",
       "      <td>2</td>\n",
       "      <td>1317</td>\n",
       "      <td>26</td>\n",
       "      <td>4</td>\n",
       "    </tr>\n",
       "    <tr>\n",
       "      <th>2025-07-21 09:16:33.368000+00:00</th>\n",
       "      <td>00209835-4443-4fee-ae1f-281082fcfbbc</td>\n",
       "      <td>2025-07-21T09:16:33.368Z</td>\n",
       "      <td>2025-07-21T09:16:33.734Z</td>\n",
       "      <td>lora.kpn</td>\n",
       "      <td>0d01745d3d2ac320a621d12a5b2a</td>\n",
       "      <td>-109</td>\n",
       "      <td>2.00</td>\n",
       "      <td>11</td>\n",
       "      <td>866.6</td>\n",
       "      <td>[{'id': 'FF01055A', 'rssi': -109, 'snr': 2, 'l...</td>\n",
       "      <td>2</td>\n",
       "      <td>1316</td>\n",
       "      <td>26</td>\n",
       "      <td>4</td>\n",
       "    </tr>\n",
       "    <tr>\n",
       "      <th>2025-07-21 09:06:33.386000+00:00</th>\n",
       "      <td>00209835-4443-4fee-ae1f-281082fcfbbc</td>\n",
       "      <td>2025-07-21T09:06:33.386Z</td>\n",
       "      <td>2025-07-21T09:06:33.748Z</td>\n",
       "      <td>lora.kpn</td>\n",
       "      <td>0d01345c3d2aa920b821d02a612a</td>\n",
       "      <td>-106</td>\n",
       "      <td>-2.00</td>\n",
       "      <td>11</td>\n",
       "      <td>868.5</td>\n",
       "      <td>[{'id': 'FF01055A', 'rssi': -106, 'snr': -2, '...</td>\n",
       "      <td>2</td>\n",
       "      <td>1315</td>\n",
       "      <td>26</td>\n",
       "      <td>4</td>\n",
       "    </tr>\n",
       "    <tr>\n",
       "      <th>2025-07-21 08:56:33.405000+00:00</th>\n",
       "      <td>00209835-4443-4fee-ae1f-281082fcfbbc</td>\n",
       "      <td>2025-07-21T08:56:33.405Z</td>\n",
       "      <td>2025-07-21T08:56:33.754Z</td>\n",
       "      <td>lora.kpn</td>\n",
       "      <td>0d01f45a3d2aa020c821d22a7d2a</td>\n",
       "      <td>-115</td>\n",
       "      <td>-6.25</td>\n",
       "      <td>11</td>\n",
       "      <td>866.1</td>\n",
       "      <td>[{'id': 'FF010323', 'rssi': -115, 'snr': -6.25...</td>\n",
       "      <td>2</td>\n",
       "      <td>1314</td>\n",
       "      <td>26</td>\n",
       "      <td>4</td>\n",
       "    </tr>\n",
       "    <tr>\n",
       "      <th>2025-07-21 08:46:33.423000+00:00</th>\n",
       "      <td>00209835-4443-4fee-ae1f-281082fcfbbc</td>\n",
       "      <td>2025-07-21T08:46:33.423Z</td>\n",
       "      <td>2025-07-21T08:46:33.778Z</td>\n",
       "      <td>lora.kpn</td>\n",
       "      <td>0d01b4593d2ab920d121cf2a922a</td>\n",
       "      <td>-106</td>\n",
       "      <td>8.00</td>\n",
       "      <td>11</td>\n",
       "      <td>868.5</td>\n",
       "      <td>[{'id': 'FF01055A', 'rssi': -106, 'snr': 8, 'l...</td>\n",
       "      <td>2</td>\n",
       "      <td>1313</td>\n",
       "      <td>26</td>\n",
       "      <td>4</td>\n",
       "    </tr>\n",
       "    <tr>\n",
       "      <th>2025-07-21 08:36:33.441000+00:00</th>\n",
       "      <td>00209835-4443-4fee-ae1f-281082fcfbbc</td>\n",
       "      <td>2025-07-21T08:36:33.441Z</td>\n",
       "      <td>2025-07-21T08:36:33.821Z</td>\n",
       "      <td>lora.kpn</td>\n",
       "      <td>0d0174583d2ac020e221cb2ada2a</td>\n",
       "      <td>-106</td>\n",
       "      <td>2.00</td>\n",
       "      <td>11</td>\n",
       "      <td>866.4</td>\n",
       "      <td>[{'id': 'FF01055A', 'rssi': -106, 'snr': 2, 'l...</td>\n",
       "      <td>2</td>\n",
       "      <td>1312</td>\n",
       "      <td>26</td>\n",
       "      <td>6</td>\n",
       "    </tr>\n",
       "    <tr>\n",
       "      <th>2025-07-21 08:26:33.460000+00:00</th>\n",
       "      <td>00209835-4443-4fee-ae1f-281082fcfbbc</td>\n",
       "      <td>2025-07-21T08:26:33.460Z</td>\n",
       "      <td>2025-07-21T08:26:33.810Z</td>\n",
       "      <td>lora.kpn</td>\n",
       "      <td>0d01b4563d2aa220db21c72aba2a</td>\n",
       "      <td>-103</td>\n",
       "      <td>-2.00</td>\n",
       "      <td>11</td>\n",
       "      <td>868.1</td>\n",
       "      <td>[{'id': 'FF01055A', 'rssi': -103, 'snr': -2, '...</td>\n",
       "      <td>2</td>\n",
       "      <td>1311</td>\n",
       "      <td>26</td>\n",
       "      <td>6</td>\n",
       "    </tr>\n",
       "    <tr>\n",
       "      <th>2025-07-21 08:16:33.560000+00:00</th>\n",
       "      <td>00209835-4443-4fee-ae1f-281082fcfbbc</td>\n",
       "      <td>2025-07-21T08:16:33.560Z</td>\n",
       "      <td>2025-07-21T08:16:33.962Z</td>\n",
       "      <td>lora.kpn</td>\n",
       "      <td>0d0174553d2ac220d821c52ad92a</td>\n",
       "      <td>-104</td>\n",
       "      <td>-7.00</td>\n",
       "      <td>11</td>\n",
       "      <td>865.1</td>\n",
       "      <td>[{'id': 'FF01055A', 'rssi': -104, 'snr': -7, '...</td>\n",
       "      <td>2</td>\n",
       "      <td>1310</td>\n",
       "      <td>26</td>\n",
       "      <td>6</td>\n",
       "    </tr>\n",
       "  </tbody>\n",
       "</table>\n",
       "</div>"
      ],
      "text/plain": [
       "                                                              deviceId  \\\n",
       "time                                                                     \n",
       "2025-07-21 09:46:33.313000+00:00  00209835-4443-4fee-ae1f-281082fcfbbc   \n",
       "2025-07-21 09:36:33.332000+00:00  00209835-4443-4fee-ae1f-281082fcfbbc   \n",
       "2025-07-21 09:26:33.350000+00:00  00209835-4443-4fee-ae1f-281082fcfbbc   \n",
       "2025-07-21 09:16:33.368000+00:00  00209835-4443-4fee-ae1f-281082fcfbbc   \n",
       "2025-07-21 09:06:33.386000+00:00  00209835-4443-4fee-ae1f-281082fcfbbc   \n",
       "2025-07-21 08:56:33.405000+00:00  00209835-4443-4fee-ae1f-281082fcfbbc   \n",
       "2025-07-21 08:46:33.423000+00:00  00209835-4443-4fee-ae1f-281082fcfbbc   \n",
       "2025-07-21 08:36:33.441000+00:00  00209835-4443-4fee-ae1f-281082fcfbbc   \n",
       "2025-07-21 08:26:33.460000+00:00  00209835-4443-4fee-ae1f-281082fcfbbc   \n",
       "2025-07-21 08:16:33.560000+00:00  00209835-4443-4fee-ae1f-281082fcfbbc   \n",
       "\n",
       "                                            datetimeSource  \\\n",
       "time                                                         \n",
       "2025-07-21 09:46:33.313000+00:00  2025-07-21T09:46:33.313Z   \n",
       "2025-07-21 09:36:33.332000+00:00  2025-07-21T09:36:33.332Z   \n",
       "2025-07-21 09:26:33.350000+00:00  2025-07-21T09:26:33.350Z   \n",
       "2025-07-21 09:16:33.368000+00:00  2025-07-21T09:16:33.368Z   \n",
       "2025-07-21 09:06:33.386000+00:00  2025-07-21T09:06:33.386Z   \n",
       "2025-07-21 08:56:33.405000+00:00  2025-07-21T08:56:33.405Z   \n",
       "2025-07-21 08:46:33.423000+00:00  2025-07-21T08:46:33.423Z   \n",
       "2025-07-21 08:36:33.441000+00:00  2025-07-21T08:36:33.441Z   \n",
       "2025-07-21 08:26:33.460000+00:00  2025-07-21T08:26:33.460Z   \n",
       "2025-07-21 08:16:33.560000+00:00  2025-07-21T08:16:33.560Z   \n",
       "\n",
       "                                       datetimeAcquisition connector  \\\n",
       "time                                                                   \n",
       "2025-07-21 09:46:33.313000+00:00  2025-07-21T09:46:33.691Z  lora.kpn   \n",
       "2025-07-21 09:36:33.332000+00:00  2025-07-21T09:36:33.697Z  lora.kpn   \n",
       "2025-07-21 09:26:33.350000+00:00  2025-07-21T09:26:33.705Z  lora.kpn   \n",
       "2025-07-21 09:16:33.368000+00:00  2025-07-21T09:16:33.734Z  lora.kpn   \n",
       "2025-07-21 09:06:33.386000+00:00  2025-07-21T09:06:33.748Z  lora.kpn   \n",
       "2025-07-21 08:56:33.405000+00:00  2025-07-21T08:56:33.754Z  lora.kpn   \n",
       "2025-07-21 08:46:33.423000+00:00  2025-07-21T08:46:33.778Z  lora.kpn   \n",
       "2025-07-21 08:36:33.441000+00:00  2025-07-21T08:36:33.821Z  lora.kpn   \n",
       "2025-07-21 08:26:33.460000+00:00  2025-07-21T08:26:33.810Z  lora.kpn   \n",
       "2025-07-21 08:16:33.560000+00:00  2025-07-21T08:16:33.962Z  lora.kpn   \n",
       "\n",
       "                                                         value  \\\n",
       "time                                                             \n",
       "2025-07-21 09:46:33.313000+00:00  0d01b4613d2ab820ec21e42a912a   \n",
       "2025-07-21 09:36:33.332000+00:00  0d0174603d2a9e20bf21dc2a802a   \n",
       "2025-07-21 09:26:33.350000+00:00  0d01b45e3d2aa120ad21d42a5d2a   \n",
       "2025-07-21 09:16:33.368000+00:00  0d01745d3d2ac320a621d12a5b2a   \n",
       "2025-07-21 09:06:33.386000+00:00  0d01345c3d2aa920b821d02a612a   \n",
       "2025-07-21 08:56:33.405000+00:00  0d01f45a3d2aa020c821d22a7d2a   \n",
       "2025-07-21 08:46:33.423000+00:00  0d01b4593d2ab920d121cf2a922a   \n",
       "2025-07-21 08:36:33.441000+00:00  0d0174583d2ac020e221cb2ada2a   \n",
       "2025-07-21 08:26:33.460000+00:00  0d01b4563d2aa220db21c72aba2a   \n",
       "2025-07-21 08:16:33.560000+00:00  0d0174553d2ac220d821c52ad92a   \n",
       "\n",
       "                                  metadata.connection.rssi  \\\n",
       "time                                                         \n",
       "2025-07-21 09:46:33.313000+00:00                      -106   \n",
       "2025-07-21 09:36:33.332000+00:00                      -104   \n",
       "2025-07-21 09:26:33.350000+00:00                      -105   \n",
       "2025-07-21 09:16:33.368000+00:00                      -109   \n",
       "2025-07-21 09:06:33.386000+00:00                      -106   \n",
       "2025-07-21 08:56:33.405000+00:00                      -115   \n",
       "2025-07-21 08:46:33.423000+00:00                      -106   \n",
       "2025-07-21 08:36:33.441000+00:00                      -106   \n",
       "2025-07-21 08:26:33.460000+00:00                      -103   \n",
       "2025-07-21 08:16:33.560000+00:00                      -104   \n",
       "\n",
       "                                  metadata.connection.snr  \\\n",
       "time                                                        \n",
       "2025-07-21 09:46:33.313000+00:00                     0.00   \n",
       "2025-07-21 09:36:33.332000+00:00                     5.00   \n",
       "2025-07-21 09:26:33.350000+00:00                     9.00   \n",
       "2025-07-21 09:16:33.368000+00:00                     2.00   \n",
       "2025-07-21 09:06:33.386000+00:00                    -2.00   \n",
       "2025-07-21 08:56:33.405000+00:00                    -6.25   \n",
       "2025-07-21 08:46:33.423000+00:00                     8.00   \n",
       "2025-07-21 08:36:33.441000+00:00                     2.00   \n",
       "2025-07-21 08:26:33.460000+00:00                    -2.00   \n",
       "2025-07-21 08:16:33.560000+00:00                    -7.00   \n",
       "\n",
       "                                  metadata.connection.spreadingFactor  \\\n",
       "time                                                                    \n",
       "2025-07-21 09:46:33.313000+00:00                                   11   \n",
       "2025-07-21 09:36:33.332000+00:00                                   11   \n",
       "2025-07-21 09:26:33.350000+00:00                                   11   \n",
       "2025-07-21 09:16:33.368000+00:00                                   11   \n",
       "2025-07-21 09:06:33.386000+00:00                                   11   \n",
       "2025-07-21 08:56:33.405000+00:00                                   11   \n",
       "2025-07-21 08:46:33.423000+00:00                                   11   \n",
       "2025-07-21 08:36:33.441000+00:00                                   11   \n",
       "2025-07-21 08:26:33.460000+00:00                                   11   \n",
       "2025-07-21 08:16:33.560000+00:00                                   11   \n",
       "\n",
       "                                  metadata.connection.frequency  \\\n",
       "time                                                              \n",
       "2025-07-21 09:46:33.313000+00:00                          868.1   \n",
       "2025-07-21 09:36:33.332000+00:00                          867.3   \n",
       "2025-07-21 09:26:33.350000+00:00                          868.5   \n",
       "2025-07-21 09:16:33.368000+00:00                          866.6   \n",
       "2025-07-21 09:06:33.386000+00:00                          868.5   \n",
       "2025-07-21 08:56:33.405000+00:00                          866.1   \n",
       "2025-07-21 08:46:33.423000+00:00                          868.5   \n",
       "2025-07-21 08:36:33.441000+00:00                          866.4   \n",
       "2025-07-21 08:26:33.460000+00:00                          868.1   \n",
       "2025-07-21 08:16:33.560000+00:00                          865.1   \n",
       "\n",
       "                                                       metadata.connection.gateways  \\\n",
       "time                                                                                  \n",
       "2025-07-21 09:46:33.313000+00:00  [{'id': 'FF01055A', 'rssi': -106, 'snr': 0, 'l...   \n",
       "2025-07-21 09:36:33.332000+00:00  [{'id': 'FF01055A', 'rssi': -104, 'snr': 5, 'l...   \n",
       "2025-07-21 09:26:33.350000+00:00  [{'id': 'FF01055A', 'rssi': -105, 'snr': 9, 'l...   \n",
       "2025-07-21 09:16:33.368000+00:00  [{'id': 'FF01055A', 'rssi': -109, 'snr': 2, 'l...   \n",
       "2025-07-21 09:06:33.386000+00:00  [{'id': 'FF01055A', 'rssi': -106, 'snr': -2, '...   \n",
       "2025-07-21 08:56:33.405000+00:00  [{'id': 'FF010323', 'rssi': -115, 'snr': -6.25...   \n",
       "2025-07-21 08:46:33.423000+00:00  [{'id': 'FF01055A', 'rssi': -106, 'snr': 8, 'l...   \n",
       "2025-07-21 08:36:33.441000+00:00  [{'id': 'FF01055A', 'rssi': -106, 'snr': 2, 'l...   \n",
       "2025-07-21 08:26:33.460000+00:00  [{'id': 'FF01055A', 'rssi': -103, 'snr': -2, '...   \n",
       "2025-07-21 08:16:33.560000+00:00  [{'id': 'FF01055A', 'rssi': -104, 'snr': -7, '...   \n",
       "\n",
       "                                  metadata.frame.port  \\\n",
       "time                                                    \n",
       "2025-07-21 09:46:33.313000+00:00                    2   \n",
       "2025-07-21 09:36:33.332000+00:00                    2   \n",
       "2025-07-21 09:26:33.350000+00:00                    2   \n",
       "2025-07-21 09:16:33.368000+00:00                    2   \n",
       "2025-07-21 09:06:33.386000+00:00                    2   \n",
       "2025-07-21 08:56:33.405000+00:00                    2   \n",
       "2025-07-21 08:46:33.423000+00:00                    2   \n",
       "2025-07-21 08:36:33.441000+00:00                    2   \n",
       "2025-07-21 08:26:33.460000+00:00                    2   \n",
       "2025-07-21 08:16:33.560000+00:00                    2   \n",
       "\n",
       "                                  metadata.frame.counterUp  \\\n",
       "time                                                         \n",
       "2025-07-21 09:46:33.313000+00:00                      1319   \n",
       "2025-07-21 09:36:33.332000+00:00                      1318   \n",
       "2025-07-21 09:26:33.350000+00:00                      1317   \n",
       "2025-07-21 09:16:33.368000+00:00                      1316   \n",
       "2025-07-21 09:06:33.386000+00:00                      1315   \n",
       "2025-07-21 08:56:33.405000+00:00                      1314   \n",
       "2025-07-21 08:46:33.423000+00:00                      1313   \n",
       "2025-07-21 08:36:33.441000+00:00                      1312   \n",
       "2025-07-21 08:26:33.460000+00:00                      1311   \n",
       "2025-07-21 08:16:33.560000+00:00                      1310   \n",
       "\n",
       "                                  metadata.frame.counterDown  \\\n",
       "time                                                           \n",
       "2025-07-21 09:46:33.313000+00:00                          26   \n",
       "2025-07-21 09:36:33.332000+00:00                          26   \n",
       "2025-07-21 09:26:33.350000+00:00                          26   \n",
       "2025-07-21 09:16:33.368000+00:00                          26   \n",
       "2025-07-21 09:06:33.386000+00:00                          26   \n",
       "2025-07-21 08:56:33.405000+00:00                          26   \n",
       "2025-07-21 08:46:33.423000+00:00                          26   \n",
       "2025-07-21 08:36:33.441000+00:00                          26   \n",
       "2025-07-21 08:26:33.460000+00:00                          26   \n",
       "2025-07-21 08:16:33.560000+00:00                          26   \n",
       "\n",
       "                                  metadata.frame.errorRate  \n",
       "time                                                        \n",
       "2025-07-21 09:46:33.313000+00:00                         4  \n",
       "2025-07-21 09:36:33.332000+00:00                         4  \n",
       "2025-07-21 09:26:33.350000+00:00                         4  \n",
       "2025-07-21 09:16:33.368000+00:00                         4  \n",
       "2025-07-21 09:06:33.386000+00:00                         4  \n",
       "2025-07-21 08:56:33.405000+00:00                         4  \n",
       "2025-07-21 08:46:33.423000+00:00                         4  \n",
       "2025-07-21 08:36:33.441000+00:00                         6  \n",
       "2025-07-21 08:26:33.460000+00:00                         6  \n",
       "2025-07-21 08:16:33.560000+00:00                         6  "
      ]
     },
     "execution_count": null,
     "metadata": {},
     "output_type": "execute_result"
    }
   ],
   "source": [
    "dfn"
   ]
  },
  {
   "cell_type": "code",
   "execution_count": null,
   "metadata": {},
   "outputs": [
    {
     "name": "stdout",
     "output_type": "stream",
     "text": [
      "Converting flat data dict to DataFrame with orient=records and timecolumns=['datetimeMeasure', 'time']\n",
      "<class 'pandas.core.frame.DataFrame'>\n",
      "DatetimeIndex: 10 entries, 2025-07-21 09:46:33.313000+00:00 to 2025-07-21 08:16:33.560000+00:00\n",
      "Data columns (total 6 columns):\n",
      " #   Column               Non-Null Count  Dtype \n",
      "---  ------               --------------  ----- \n",
      " 0   deviceId             10 non-null     object\n",
      " 1   datetimeSource       10 non-null     object\n",
      " 2   datetimeAcquisition  10 non-null     object\n",
      " 3   connector            10 non-null     object\n",
      " 4   value                10 non-null     object\n",
      " 5   metadata             10 non-null     object\n",
      "dtypes: object(6)\n",
      "memory usage: 560.0+ bytes\n"
     ]
    }
   ],
   "source": [
    "dfm = timeseries_dataframe_from_datadict(test_nested_data, ['datetimeMeasure', 'time'], recordformat='records', nested=False).dropna()\n",
    "dfm.info()"
   ]
  },
  {
   "cell_type": "code",
   "execution_count": null,
   "metadata": {},
   "outputs": [],
   "source": []
  },
  {
   "cell_type": "code",
   "execution_count": null,
   "metadata": {},
   "outputs": [],
   "source": [
    "def test_nested_data_processing(data:pd.DataFrame, anumber:float|np.ndarray=0):\n",
    "    print (f\"Processing {len(data)} rows of data\")\n",
    "    print(data.columns)\n",
    "    return data"
   ]
  },
  {
   "cell_type": "code",
   "execution_count": null,
   "metadata": {},
   "outputs": [
    {
     "name": "stderr",
     "output_type": "stream",
     "text": [
      "INFO\t34888\tcorebridge.aicorebridge\taicorebridge.py\t133\tInit TestNestedAICoreModule, version 0.5.2, files directory c:\\Users\\fenke\\repos\\corebridge\\nbs\\cache, save dir c:\\Users\\fenke\\repos\\corebridge\\nbs\\cache\n"
     ]
    }
   ],
   "source": [
    "class TestNestedAICoreModule(AICoreModule):\n",
    "    def __init__(self, files_dir, save_dir):\n",
    "        super().__init__(test_nested_data_processing, files_dir, save_dir)\n",
    "\n",
    "test_nested_module = TestNestedAICoreModule(os.path.join(os.getcwd(), 'cache'),os.path.join(os.getcwd(), 'cache'))"
   ]
  },
  {
   "cell_type": "code",
   "execution_count": null,
   "metadata": {},
   "outputs": [
    {
     "name": "stdout",
     "output_type": "stream",
     "text": [
      "recordformat: records, timezone: UTC, nested: True\n",
      "Converting nested data dict to DataFrame with orient=records and timecolumns=['datetimeMeasure', 'time']\n",
      "Processing 10 rows of data\n",
      "Index(['deviceId', 'datetimeSource', 'datetimeAcquisition', 'connector',\n",
      "       'value', 'metadata.connection.rssi', 'metadata.connection.snr',\n",
      "       'metadata.connection.spreadingFactor', 'metadata.connection.frequency',\n",
      "       'metadata.connection.gateways', 'metadata.frame.port',\n",
      "       'metadata.frame.counterUp', 'metadata.frame.counterDown',\n",
      "       'metadata.frame.errorRate'],\n",
      "      dtype='object')\n"
     ]
    }
   ],
   "source": [
    "test_result = test_nested_module.call(dict(\n",
    "    data=test_nested_data,\n",
    "    kwargs=dict(\n",
    "        timezone='UTC',\n",
    "        recordformat='records',\n",
    "        nested=True\n",
    "    )\n",
    "))"
   ]
  },
  {
   "cell_type": "code",
   "execution_count": null,
   "metadata": {},
   "outputs": [
    {
     "name": "stdout",
     "output_type": "stream",
     "text": [
      "Result Message\n",
      " [\n",
      "  \"Startup time: 2025-10-03T11:01:25.781964+00:00\",\n",
      "  \"Corebridge version: 0.5.2\",\n",
      "  \"test_nested_data_processing((data: pandas.core.frame.DataFrame, anumber: float | numpy.ndarray = 0))\",\n",
      "  \"Data: <class 'list'> length: 10\",\n",
      "  \"kwargs ['timezone', 'recordformat', 'nested']\",\n",
      "  \"lastSeen: False, timezone: UTC, recordformat: records, nested: True\",\n",
      "  \"Processing time: 0.2 ms\",\n",
      "  \"Preparation time: 3.5 ms\",\n",
      "  \"result shape: (10, 14)\",\n",
      "  \"return-data shape: (10, 14)\"\n",
      "]\n",
      "Result Data\n",
      " [\n",
      "  {\n",
      "    \"time\": \"2025-07-21T08:16:33Z\",\n",
      "    \"deviceId\": \"00209835-4443-4fee-ae1f-281082fcfbbc\",\n",
      "    \"datetimeSource\": \"2025-07-21T08:16:33.560Z\",\n",
      "    \"datetimeAcquisition\": \"2025-07-21T08:16:33.962Z\",\n",
      "    \"connector\": \"lora.kpn\",\n",
      "    \"value\": \"0d0174553d2ac220d821c52ad92a\",\n",
      "    \"metadata.connection.rssi\": -104,\n",
      "    \"metadata.connection.snr\": -7.0,\n",
      "    \"metadata.connection.spreadingFactor\": 11,\n",
      "    \"metadata.connection.frequency\": 865.1,\n",
      "    \"metadata.connection.gateways\": [\n",
      "      {\n",
      "        \"id\": \"FF01055A\",\n",
      "        \"rssi\": -104,\n",
      "        \"snr\": -7,\n",
      "        \"location\": {\n",
      "          \"latitude\": 51.556866,\n",
      "          \"longitude\": 5.865384\n",
      "        }\n",
      "      }\n",
      "    ],\n",
      "    \"metadata.frame.port\": 2,\n",
      "    \"metadata.frame.counterUp\": 1310,\n",
      "    \"metadata.frame.counterDown\": 26,\n",
      "    \"metadata.frame.errorRate\": 6\n",
      "  },\n",
      "  {\n",
      "    \"time\": \"2025-07-21T08:26:33Z\",\n",
      "    \"deviceId\": \"00209835-4443-4fee-ae1f-281082fcfbbc\",\n",
      "    \"datetimeSource\": \"2025-07-21T08:26:33.460Z\",\n",
      "    \"datetimeAcquisition\": \"2025-07-21T08:26:33.810Z\",\n",
      "    \"connector\": \"lora.kpn\",\n",
      "    \"value\": \"0d01b4563d2aa220db21c72aba2a\",\n",
      "    \"metadata.connection.rssi\": -103,\n",
      "    \"metadata.connection.snr\": -2.0,\n",
      "    \"metadata.connection.spreadingFactor\": 11,\n",
      "    \"metadata.connection.frequency\": 868.1,\n",
      "    \"metadata.connection.gateways\": [\n",
      "      {\n",
      "        \"id\": \"FF01055A\",\n",
      "        \"rssi\": -103,\n",
      "        \"snr\": -2,\n",
      "        \"location\": {\n",
      "          \"latitude\": 51.556854,\n",
      "          \"longitude\": 5.865371\n",
      "        }\n",
      "      }\n",
      "    ],\n",
      "    \"metadata.frame.port\": 2,\n",
      "    \"metadata.frame.counterUp\": 1311,\n",
      "    \"metadata.frame.counterDown\": 26,\n",
      "    \"metadata.frame.errorRate\": 6\n",
      "  },\n",
      "  {\n",
      "    \"time\": \"2025-07-21T08:36:33Z\",\n",
      "    \"deviceId\": \"00209835-4443-4fee-ae1f-281082fcfbbc\",\n",
      "    \"datetimeSource\": \"2025-07-21T08:36:33.441Z\",\n",
      "    \"datetimeAcquisition\": \"2025-07-21T08:36:33.821Z\",\n",
      "    \"connector\": \"lora.kpn\",\n",
      "    \"value\": \"0d0174583d2ac020e221cb2ada2a\",\n",
      "    \"metadata.connection.rssi\": -106,\n",
      "    \"metadata.connection.snr\": 2.0,\n",
      "    \"metadata.connection.spreadingFactor\": 11,\n",
      "    \"metadata.connection.frequency\": 866.4,\n",
      "    \"metadata.connection.gateways\": [\n",
      "      {\n",
      "        \"id\": \"FF01055A\",\n",
      "        \"rssi\": -106,\n",
      "        \"snr\": 2,\n",
      "        \"location\": {\n",
      "          \"latitude\": 51.55687,\n",
      "          \"longitude\": 5.86535\n",
      "        }\n",
      "      }\n",
      "    ],\n",
      "    \"metadata.frame.port\": 2,\n",
      "    \"metadata.frame.counterUp\": 1312,\n",
      "    \"metadata.frame.counterDown\": 26,\n",
      "    \"metadata.frame.errorRate\": 6\n",
      "  },\n",
      "  {\n",
      "    \"time\": \"2025-07-21T08:46:33Z\",\n",
      "    \"deviceId\": \"00209835-4443-4fee-ae1f-281082fcfbbc\",\n",
      "    \"datetimeSource\": \"2025-07-21T08:46:33.423Z\",\n",
      "    \"datetimeAcquisition\": \"2025-07-21T08:46:33.778Z\",\n",
      "    \"connector\": \"lora.kpn\",\n",
      "    \"value\": \"0d01b4593d2ab920d121cf2a922a\",\n",
      "    \"metadata.connection.rssi\": -106,\n",
      "    \"metadata.connection.snr\": 8.0,\n",
      "    \"metadata.connection.spreadingFactor\": 11,\n",
      "    \"metadata.connection.frequency\": 868.5,\n",
      "    \"metadata.connection.gateways\": [\n",
      "      {\n",
      "        \"id\": \"FF01055A\",\n",
      "        \"rssi\": -106,\n",
      "        \"snr\": 8,\n",
      "        \"location\": {\n",
      "          \"latitude\": 51.556862,\n",
      "          \"longitude\": 5.865373\n",
      "        }\n",
      "      }\n",
      "    ],\n",
      "    \"metadata.frame.port\": 2,\n",
      "    \"metadata.frame.counterUp\": 1313,\n",
      "    \"metadata.frame.counterDown\": 26,\n",
      "    \"metadata.frame.errorRate\": 4\n",
      "  },\n",
      "  {\n",
      "    \"time\": \"2025-07-21T08:56:33Z\",\n",
      "    \"deviceId\": \"00209835-4443-4fee-ae1f-281082fcfbbc\",\n",
      "    \"datetimeSource\": \"2025-07-21T08:56:33.405Z\",\n",
      "    \"datetimeAcquisition\": \"2025-07-21T08:56:33.754Z\",\n",
      "    \"connector\": \"lora.kpn\",\n",
      "    \"value\": \"0d01f45a3d2aa020c821d22a7d2a\",\n",
      "    \"metadata.connection.rssi\": -115,\n",
      "    \"metadata.connection.snr\": -6.25,\n",
      "    \"metadata.connection.spreadingFactor\": 11,\n",
      "    \"metadata.connection.frequency\": 866.1,\n",
      "    \"metadata.connection.gateways\": [\n",
      "      {\n",
      "        \"id\": \"FF010323\",\n",
      "        \"rssi\": -115,\n",
      "        \"snr\": -6.25,\n",
      "        \"location\": {\n",
      "          \"latitude\": 51.516491,\n",
      "          \"longitude\": 5.884403\n",
      "        }\n",
      "      }\n",
      "    ],\n",
      "    \"metadata.frame.port\": 2,\n",
      "    \"metadata.frame.counterUp\": 1314,\n",
      "    \"metadata.frame.counterDown\": 26,\n",
      "    \"metadata.frame.errorRate\": 4\n",
      "  },\n",
      "  {\n",
      "    \"time\": \"2025-07-21T09:06:33Z\",\n",
      "    \"deviceId\": \"00209835-4443-4fee-ae1f-281082fcfbbc\",\n",
      "    \"datetimeSource\": \"2025-07-21T09:06:33.386Z\",\n",
      "    \"datetimeAcquisition\": \"2025-07-21T09:06:33.748Z\",\n",
      "    \"connector\": \"lora.kpn\",\n",
      "    \"value\": \"0d01345c3d2aa920b821d02a612a\",\n",
      "    \"metadata.connection.rssi\": -106,\n",
      "    \"metadata.connection.snr\": -2.0,\n",
      "    \"metadata.connection.spreadingFactor\": 11,\n",
      "    \"metadata.connection.frequency\": 868.5,\n",
      "    \"metadata.connection.gateways\": [\n",
      "      {\n",
      "        \"id\": \"FF01055A\",\n",
      "        \"rssi\": -106,\n",
      "        \"snr\": -2,\n",
      "        \"location\": {\n",
      "          \"latitude\": 51.556858,\n",
      "          \"longitude\": 5.865352\n",
      "        }\n",
      "      }\n",
      "    ],\n",
      "    \"metadata.frame.port\": 2,\n",
      "    \"metadata.frame.counterUp\": 1315,\n",
      "    \"metadata.frame.counterDown\": 26,\n",
      "    \"metadata.frame.errorRate\": 4\n",
      "  },\n",
      "  {\n",
      "    \"time\": \"2025-07-21T09:16:33Z\",\n",
      "    \"deviceId\": \"00209835-4443-4fee-ae1f-281082fcfbbc\",\n",
      "    \"datetimeSource\": \"2025-07-21T09:16:33.368Z\",\n",
      "    \"datetimeAcquisition\": \"2025-07-21T09:16:33.734Z\",\n",
      "    \"connector\": \"lora.kpn\",\n",
      "    \"value\": \"0d01745d3d2ac320a621d12a5b2a\",\n",
      "    \"metadata.connection.rssi\": -109,\n",
      "    \"metadata.connection.snr\": 2.0,\n",
      "    \"metadata.connection.spreadingFactor\": 11,\n",
      "    \"metadata.connection.frequency\": 866.6,\n",
      "    \"metadata.connection.gateways\": [\n",
      "      {\n",
      "        \"id\": \"FF01055A\",\n",
      "        \"rssi\": -109,\n",
      "        \"snr\": 2,\n",
      "        \"location\": {\n",
      "          \"latitude\": 51.556892,\n",
      "          \"longitude\": 5.865359\n",
      "        }\n",
      "      }\n",
      "    ],\n",
      "    \"metadata.frame.port\": 2,\n",
      "    \"metadata.frame.counterUp\": 1316,\n",
      "    \"metadata.frame.counterDown\": 26,\n",
      "    \"metadata.frame.errorRate\": 4\n",
      "  },\n",
      "  {\n",
      "    \"time\": \"2025-07-21T09:26:33Z\",\n",
      "    \"deviceId\": \"00209835-4443-4fee-ae1f-281082fcfbbc\",\n",
      "    \"datetimeSource\": \"2025-07-21T09:26:33.350Z\",\n",
      "    \"datetimeAcquisition\": \"2025-07-21T09:26:33.705Z\",\n",
      "    \"connector\": \"lora.kpn\",\n",
      "    \"value\": \"0d01b45e3d2aa120ad21d42a5d2a\",\n",
      "    \"metadata.connection.rssi\": -105,\n",
      "    \"metadata.connection.snr\": 9.0,\n",
      "    \"metadata.connection.spreadingFactor\": 11,\n",
      "    \"metadata.connection.frequency\": 868.5,\n",
      "    \"metadata.connection.gateways\": [\n",
      "      {\n",
      "        \"id\": \"FF01055A\",\n",
      "        \"rssi\": -105,\n",
      "        \"snr\": 9,\n",
      "        \"location\": {\n",
      "          \"latitude\": 51.556892,\n",
      "          \"longitude\": 5.865356\n",
      "        }\n",
      "      }\n",
      "    ],\n",
      "    \"metadata.frame.port\": 2,\n",
      "    \"metadata.frame.counterUp\": 1317,\n",
      "    \"metadata.frame.counterDown\": 26,\n",
      "    \"metadata.frame.errorRate\": 4\n",
      "  },\n",
      "  {\n",
      "    \"time\": \"2025-07-21T09:36:33Z\",\n",
      "    \"deviceId\": \"00209835-4443-4fee-ae1f-281082fcfbbc\",\n",
      "    \"datetimeSource\": \"2025-07-21T09:36:33.332Z\",\n",
      "    \"datetimeAcquisition\": \"2025-07-21T09:36:33.697Z\",\n",
      "    \"connector\": \"lora.kpn\",\n",
      "    \"value\": \"0d0174603d2a9e20bf21dc2a802a\",\n",
      "    \"metadata.connection.rssi\": -104,\n",
      "    \"metadata.connection.snr\": 5.0,\n",
      "    \"metadata.connection.spreadingFactor\": 11,\n",
      "    \"metadata.connection.frequency\": 867.3,\n",
      "    \"metadata.connection.gateways\": [\n",
      "      {\n",
      "        \"id\": \"FF01055A\",\n",
      "        \"rssi\": -104,\n",
      "        \"snr\": 5,\n",
      "        \"location\": {\n",
      "          \"latitude\": 51.5569,\n",
      "          \"longitude\": 5.865385\n",
      "        }\n",
      "      }\n",
      "    ],\n",
      "    \"metadata.frame.port\": 2,\n",
      "    \"metadata.frame.counterUp\": 1318,\n",
      "    \"metadata.frame.counterDown\": 26,\n",
      "    \"metadata.frame.errorRate\": 4\n",
      "  },\n",
      "  {\n",
      "    \"time\": \"2025-07-21T09:46:33Z\",\n",
      "    \"deviceId\": \"00209835-4443-4fee-ae1f-281082fcfbbc\",\n",
      "    \"datetimeSource\": \"2025-07-21T09:46:33.313Z\",\n",
      "    \"datetimeAcquisition\": \"2025-07-21T09:46:33.691Z\",\n",
      "    \"connector\": \"lora.kpn\",\n",
      "    \"value\": \"0d01b4613d2ab820ec21e42a912a\",\n",
      "    \"metadata.connection.rssi\": -106,\n",
      "    \"metadata.connection.snr\": 0.0,\n",
      "    \"metadata.connection.spreadingFactor\": 11,\n",
      "    \"metadata.connection.frequency\": 868.1,\n",
      "    \"metadata.connection.gateways\": [\n",
      "      {\n",
      "        \"id\": \"FF01055A\",\n",
      "        \"rssi\": -106,\n",
      "        \"snr\": 0,\n",
      "        \"location\": {\n",
      "          \"latitude\": 51.556896,\n",
      "          \"longitude\": 5.865362\n",
      "        }\n",
      "      }\n",
      "    ],\n",
      "    \"metadata.frame.port\": 2,\n",
      "    \"metadata.frame.counterUp\": 1319,\n",
      "    \"metadata.frame.counterDown\": 26,\n",
      "    \"metadata.frame.errorRate\": 4\n",
      "  }\n",
      "]\n"
     ]
    }
   ],
   "source": [
    "\n",
    "print(\"Result Message\\n\", json.dumps(test_result['msg'], indent=2, cls=NumpyEncoder))\n",
    "print(\"Result Data\\n\", json.dumps(test_result['data'], indent=2, cls=NumpyEncoder))"
   ]
  },
  {
   "cell_type": "code",
   "execution_count": null,
   "metadata": {},
   "outputs": [
    {
     "name": "stdout",
     "output_type": "stream",
     "text": [
      "return-data shape: (10, 14)\n"
     ]
    }
   ],
   "source": [
    "print(test_result['msg'][-1])"
   ]
  },
  {
   "attachments": {},
   "cell_type": "markdown",
   "metadata": {},
   "source": [
    "## References"
   ]
  },
  {
   "attachments": {},
   "cell_type": "markdown",
   "metadata": {},
   "source": []
  },
  {
   "cell_type": "code",
   "execution_count": null,
   "metadata": {},
   "outputs": [],
   "source": [
    "#| hide\n",
    "import nbdev; nbdev.nbdev_export()"
   ]
  }
 ],
 "metadata": {
  "kernelspec": {
   "display_name": "python3",
   "language": "python",
   "name": "python3"
  }
 },
 "nbformat": 4,
 "nbformat_minor": 4
}
