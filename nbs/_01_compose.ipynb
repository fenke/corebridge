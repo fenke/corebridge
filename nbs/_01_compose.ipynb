{
 "cells": [
  {
   "cell_type": "markdown",
   "id": "d77ff109",
   "metadata": {},
   "source": [
    "# Composing modules\n",
    "\n",
    "> Python type creation to build custom \n",
    "\n",
    "Corebridge provides all functionality enabling users to run custom data processing functions in the Wodan, AICore or other environments. \n",
    "\n",
    "\n",
    "Functions to be adapted with Corebridge have to be functions that are called with, one data arguments plus zero or more auxiliary keywordarguments.\n",
    "\n",
    "Based on the function signature Corebridge collects the data and arguments from, for instance, a payload and request arguments that are send to a HTTP API."
   ]
  },
  {
   "cell_type": "code",
   "execution_count": null,
   "id": "17bef918",
   "metadata": {},
   "outputs": [],
   "source": [
    "#| default_exp compose"
   ]
  },
  {
   "cell_type": "code",
   "execution_count": null,
   "id": "35a69077",
   "metadata": {},
   "outputs": [],
   "source": [
    "#| exporti\n",
    "import pandas as pd\n",
    "import numpy as np\n",
    "import inspect"
   ]
  },
  {
   "cell_type": "code",
   "execution_count": null,
   "id": "d9a07999",
   "metadata": {},
   "outputs": [],
   "source": [
    "#| hide\n",
    "\n",
    "from nbdev.showdoc import *\n",
    "import os, typing\n"
   ]
  },
  {
   "cell_type": "markdown",
   "id": "e0dbf058",
   "metadata": {},
   "source": []
  },
  {
   "cell_type": "code",
   "execution_count": null,
   "id": "183eb351",
   "metadata": {},
   "outputs": [],
   "source": [
    "class B:\n",
    "    def __init__(self, b):\n",
    "        b = b\n",
    "\n",
    "C = type(\"C\", (B,), dict(\n",
    "    __init__ = lambda self, c: setattr(self, \"c\", c),\n",
    "))\n"
   ]
  },
  {
   "cell_type": "code",
   "execution_count": null,
   "id": "69a29941",
   "metadata": {},
   "outputs": [
    {
     "data": {
      "text/plain": [
       "3"
      ]
     },
     "execution_count": null,
     "metadata": {},
     "output_type": "execute_result"
    }
   ],
   "source": [
    "c = C(3)\n",
    "c.c"
   ]
  },
  {
   "cell_type": "code",
   "execution_count": null,
   "id": "3801424b",
   "metadata": {},
   "outputs": [],
   "source": [
    "class BaseClass(object):\n",
    "    def __init__(self, classtype):\n",
    "        self._type = classtype\n",
    "\n",
    "def ClassFactory(name, argnames, BaseClass=BaseClass):\n",
    "    def __init__(self, **kwargs):\n",
    "        for key, value in kwargs.items():\n",
    "            # here, the argnames variable is the one passed to the\n",
    "            # ClassFactory call\n",
    "            if key not in argnames:\n",
    "                raise TypeError(\"Argument %s not valid for %s\" \n",
    "                    % (key, self.__class__.__name__))\n",
    "            setattr(self, key, value)\n",
    "        BaseClass.__init__(self, name[:-len(\"Class\")])\n",
    "    newclass = type(name, (BaseClass,),{\"__init__\": __init__})\n",
    "    return newclass"
   ]
  },
  {
   "cell_type": "code",
   "execution_count": null,
   "id": "7e656325",
   "metadata": {},
   "outputs": [],
   "source": []
  },
  {
   "cell_type": "markdown",
   "id": "cd8db83f",
   "metadata": {},
   "source": [
    "## Argument initializers"
   ]
  },
  {
   "cell_type": "markdown",
   "id": "a10eb75a",
   "metadata": {},
   "source": [
    "## Components"
   ]
  },
  {
   "cell_type": "markdown",
   "id": "957128b9",
   "metadata": {},
   "source": [
    "### Argument sources\n",
    "\n",
    "An argument source provides the caller component with a means \n",
    "to fetch a function argument from a source by name\n",
    "\n",
    "```\n",
    "def arg_source(arg_name:str):\n",
    "    return params.get(arg_name):\n",
    "```\n",
    "\n",
    "It is passed to the function caller"
   ]
  },
  {
   "cell_type": "code",
   "execution_count": null,
   "id": "fb500442",
   "metadata": {},
   "outputs": [],
   "source": [
    "class ArgumentSource(object): \n",
    "    pass\n"
   ]
  },
  {
   "cell_type": "markdown",
   "id": "1216e250",
   "metadata": {},
   "source": [
    "## The function processor component"
   ]
  },
  {
   "cell_type": "code",
   "execution_count": null,
   "id": "1181c8b5",
   "metadata": {},
   "outputs": [],
   "source": [
    "def test_function_dataframe(data:pd.DataFrame, arg1:float, /, arg2:int=3):\n",
    "    pass"
   ]
  },
  {
   "cell_type": "code",
   "execution_count": null,
   "id": "59a11923",
   "metadata": {},
   "outputs": [],
   "source": [
    "signature = inspect.signature(test_function_dataframe)"
   ]
  },
  {
   "cell_type": "code",
   "execution_count": null,
   "id": "9d1e9b4a",
   "metadata": {},
   "outputs": [
    {
     "data": {
      "text/plain": [
       "{'data': <Parameter \"data: pandas.core.frame.DataFrame\">,\n",
       " 'arg1': <Parameter \"arg1: float\">,\n",
       " 'arg2': <Parameter \"arg2: int = 3\">}"
      ]
     },
     "execution_count": null,
     "metadata": {},
     "output_type": "execute_result"
    }
   ],
   "source": [
    "dict(signature.parameters)"
   ]
  },
  {
   "cell_type": "code",
   "execution_count": null,
   "id": "6fc6034f",
   "metadata": {},
   "outputs": [
    {
     "data": {
      "text/plain": [
       "['data', 'arg1', 'arg2']"
      ]
     },
     "execution_count": null,
     "metadata": {},
     "output_type": "execute_result"
    }
   ],
   "source": [
    "list(signature.parameters.keys())"
   ]
  },
  {
   "cell_type": "code",
   "execution_count": null,
   "id": "33537f76",
   "metadata": {},
   "outputs": [
    {
     "data": {
      "text/plain": [
       "[<Parameter \"data: pandas.core.frame.DataFrame\">,\n",
       " <Parameter \"arg1: float\">,\n",
       " <Parameter \"arg2: int = 3\">]"
      ]
     },
     "execution_count": null,
     "metadata": {},
     "output_type": "execute_result"
    }
   ],
   "source": [
    "list(signature.parameters.values())"
   ]
  },
  {
   "cell_type": "code",
   "execution_count": null,
   "id": "c130368b",
   "metadata": {},
   "outputs": [],
   "source": [
    "dp, *cp = list(signature.parameters.values())"
   ]
  },
  {
   "cell_type": "code",
   "execution_count": null,
   "id": "8f470cbd",
   "metadata": {},
   "outputs": [],
   "source": []
  },
  {
   "cell_type": "markdown",
   "id": "8810f131",
   "metadata": {},
   "source": [
    "### Function arguments"
   ]
  },
  {
   "cell_type": "code",
   "execution_count": null,
   "id": "9fc511d0",
   "metadata": {},
   "outputs": [],
   "source": [
    "#| exports\n",
    "# Specialized types for initializing annotated parameters\n",
    "# Add types by adding a tuple with the type name and a builder function\n",
    "annotated_arg_builders = {\n",
    "    str(B[0]):B[1] for B in [\n",
    "        (np.ndarray, lambda X: np.array(X, dtype=X.dtype))\n",
    "    ]\n",
    "}\n"
   ]
  },
  {
   "cell_type": "code",
   "execution_count": null,
   "id": "5c4a14a7",
   "metadata": {},
   "outputs": [
    {
     "data": {
      "text/plain": [
       "{\"<class 'numpy.ndarray'>\": <function __main__.<lambda>(X)>}"
      ]
     },
     "execution_count": null,
     "metadata": {},
     "output_type": "execute_result"
    }
   ],
   "source": [
    "annotated_arg_builders"
   ]
  },
  {
   "cell_type": "code",
   "execution_count": null,
   "id": "f5a03e0a",
   "metadata": {},
   "outputs": [
    {
     "data": {
      "text/plain": [
       "[<Parameter \"arg1: float\">, <Parameter \"arg2: int = 3\">]"
      ]
     },
     "execution_count": null,
     "metadata": {},
     "output_type": "execute_result"
    }
   ],
   "source": [
    "cp"
   ]
  },
  {
   "cell_type": "code",
   "execution_count": null,
   "id": "3d132082",
   "metadata": {},
   "outputs": [],
   "source": []
  },
  {
   "cell_type": "markdown",
   "id": "6b9aade8",
   "metadata": {},
   "source": [
    "### The data argument"
   ]
  },
  {
   "cell_type": "code",
   "execution_count": null,
   "id": "68c40842",
   "metadata": {},
   "outputs": [
    {
     "data": {
      "text/plain": [
       "True"
      ]
     },
     "execution_count": null,
     "metadata": {},
     "output_type": "execute_result"
    }
   ],
   "source": [
    "dp.annotation == pd.DataFrame"
   ]
  },
  {
   "cell_type": "code",
   "execution_count": null,
   "id": "5eeea10a",
   "metadata": {},
   "outputs": [],
   "source": [
    "def create_function_component_nodata(processing_function, all_params):\n",
    "    pass\n"
   ]
  },
  {
   "cell_type": "code",
   "execution_count": null,
   "id": "abba875c",
   "metadata": {},
   "outputs": [],
   "source": [
    "function_caller_component_builders = {}\n",
    "\n",
    "def create_function_component(processing_function:callable):\n",
    "\n",
    "    signature = inspect.signature(processing_function)\n",
    "    data_param, call_params = list(signature.parameters.values())\n",
    "\n",
    "    component_builder = function_caller_component_builders.get(\n",
    "        data_param.annotation, \n",
    "        create_function_component_nodata\n",
    "    )\n",
    "\n",
    "    return component_builder(\n",
    "        processing_function\n",
    "    )"
   ]
  },
  {
   "cell_type": "code",
   "execution_count": null,
   "id": "c760b13f",
   "metadata": {},
   "outputs": [],
   "source": []
  },
  {
   "cell_type": "code",
   "execution_count": null,
   "id": "ae85c8c0",
   "metadata": {},
   "outputs": [],
   "source": [
    "\n",
    "def create_function_component_ndarray(processing_function, data_param, call_params):\n",
    "    pass\n",
    "\n",
    "def create_function_component_dataframe(processing_function, data_param, call_params):\n",
    "    pass\n"
   ]
  },
  {
   "cell_type": "code",
   "execution_count": null,
   "id": "1ac55392",
   "metadata": {},
   "outputs": [],
   "source": [
    "\n",
    "def create_function_component(processing_function:callable):\n",
    "\n",
    "    processor - processing_function\n",
    "    signature = inspect.signature(processing_function)\n",
    "\n",
    "    params = dict(inspect.signature(processing_function))\n",
    "    data_param, *call_params = list(params.keys())\n",
    "\n",
    "\n",
    "    if not (\n",
    "        params[data_param].annotation == pd.DataFrame\n",
    "        or params[data_param].annotation == np.ndarray\n",
    "\n",
    "    ):\n",
    "        return  create_function_component_nodata(processing_function, list(params.keys()))\n",
    "\n",
    "    else:\n",
    "        return create_function_component_array(processing_function, data_param, call_params)\n",
    "\n",
    "\n",
    "\n",
    "    def call_processor(self,  calldata, **callargs):\n",
    "        if self.data_param:\n",
    "            return self.processor(calldata, **callargs)\n",
    "        else:\n",
    "            return self.processor(**callargs)\n"
   ]
  },
  {
   "cell_type": "code",
   "execution_count": null,
   "id": "674c0411",
   "metadata": {},
   "outputs": [],
   "source": []
  },
  {
   "cell_type": "code",
   "execution_count": null,
   "id": "7665237e",
   "metadata": {},
   "outputs": [],
   "source": []
  },
  {
   "cell_type": "markdown",
   "id": "131b77ee",
   "metadata": {},
   "source": [
    "## Retrieving function arguments"
   ]
  },
  {
   "cell_type": "markdown",
   "id": "e9d76ce5",
   "metadata": {},
   "source": [
    "## Retrieving data"
   ]
  },
  {
   "cell_type": "markdown",
   "id": "4b4b2f45",
   "metadata": {},
   "source": [
    "## Pre-processing"
   ]
  },
  {
   "cell_type": "markdown",
   "id": "9be197e0",
   "metadata": {},
   "source": [
    "## Post-processing"
   ]
  },
  {
   "cell_type": "code",
   "execution_count": null,
   "id": "7ea78543",
   "metadata": {},
   "outputs": [],
   "source": []
  },
  {
   "cell_type": "code",
   "execution_count": null,
   "id": "eab3570b",
   "metadata": {},
   "outputs": [],
   "source": []
  },
  {
   "cell_type": "code",
   "execution_count": null,
   "id": "ed1de415",
   "metadata": {},
   "outputs": [],
   "source": []
  },
  {
   "cell_type": "code",
   "execution_count": null,
   "id": "9b1eb891",
   "metadata": {},
   "outputs": [],
   "source": []
  },
  {
   "cell_type": "code",
   "execution_count": null,
   "id": "69874b80",
   "metadata": {},
   "outputs": [],
   "source": [
    "#| hide\n",
    "import nbdev\n",
    "nbdev.nbdev_export()"
   ]
  }
 ],
 "metadata": {
  "kernelspec": {
   "display_name": "python3",
   "language": "python",
   "name": "python3"
  }
 },
 "nbformat": 4,
 "nbformat_minor": 5
}
