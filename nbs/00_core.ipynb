{
 "cells": [
  {
   "attachments": {},
   "cell_type": "markdown",
   "metadata": {},
   "source": [
    "# AICore-Bridge\n",
    "\n",
    "> Fill in a module description here"
   ]
  },
  {
   "cell_type": "code",
   "execution_count": null,
   "metadata": {},
   "outputs": [],
   "source": [
    "#| default_exp core"
   ]
  },
  {
   "cell_type": "code",
   "execution_count": null,
   "metadata": {},
   "outputs": [],
   "source": [
    "#| hide\n",
    "from nbdev.showdoc import *"
   ]
  },
  {
   "cell_type": "code",
   "execution_count": null,
   "metadata": {},
   "outputs": [],
   "source": [
    "#| export\n",
    "import typing\n",
    "import os\n",
    "import numpy as np\n",
    "import pandas as pd"
   ]
  },
  {
   "cell_type": "code",
   "execution_count": null,
   "metadata": {},
   "outputs": [],
   "source": [
    "#| export\n",
    "try:\n",
    "    print(f\"Loading {__name__} from {__file__}\")\n",
    "except:\n",
    "    pass"
   ]
  },
  {
   "attachments": {},
   "cell_type": "markdown",
   "metadata": {},
   "source": [
    "## `timeseries_dataframe` - standardized timeseries dataframe\n",
    "\n",
    "Converts Pandas dataframes and series, Numpy array's and recarrays or a dictionary of \n",
    "individual timeseries into a Pandas dataframe with one datetime index. With all arrays \n",
    "dataframes and series it is assumed that the first column contains the timestamps."
   ]
  },
  {
   "cell_type": "code",
   "execution_count": null,
   "metadata": {},
   "outputs": [],
   "source": [
    "#| export\n",
    "\n",
    "def timeseries_dataframe(\n",
    "        data:typing.Union[pd.DataFrame, pd.Series, dict, np.ndarray, np.recarray], \n",
    "        timezone='UTC', \n",
    "        columnnames=None):\n",
    "    \n",
    "    \"\"\"Convert various data formats to timeseries DataFrame\"\"\"\n",
    "\n",
    "    if isinstance(data, pd.DataFrame):\n",
    "        df = data\n",
    "\n",
    "    elif isinstance(data, pd.Series):\n",
    "        df = pd.DataFrame(data)\n",
    "\n",
    "    elif isinstance(data, dict):\n",
    "        # dict/mapping of individual timeseries\n",
    "        df = pd.DataFrame({\n",
    "            C:pd.Series(data=A[:,1], index=pd.DatetimeIndex(A[:,0]*1e9)) if isinstance(A, np.ndarray) else A\n",
    "            for C,A in data.items()\n",
    "        })\n",
    "\n",
    "    elif data.dtype.names is not None:\n",
    "        # structured or recarray, we use column names from the recarray\n",
    "        df = pd.DataFrame(\n",
    "            data=data.view(dtype=np.float64).reshape(data.shape[0],len(data.dtype))[:,range(1,len(data.dtype))],\n",
    "            index=pd.DatetimeIndex(data.view(dtype=np.float64).reshape(data.shape[0],len(data.dtype))[:,0] * 1e9),\n",
    "            columns=data.dtype.names[1:]\n",
    "        )\n",
    "\n",
    "    else:\n",
    "        if data.shape[0] > 0:\n",
    "            # column names, either 'value' if there is only one column, or\n",
    "            # value_0, value_1 .... value_nn when more the one column is present\n",
    "            if data.shape[1]>2:\n",
    "                columns=[f\"value_{str(i+1)}\" for i in range(data.shape[1]-1)] if not columnnames else [f\"{str(i)}\" for i in columnnames[1:]]\n",
    "            else:\n",
    "                columns=['value']\n",
    "\n",
    "            df = pd.DataFrame(\n",
    "                data=data[:, 1:],\n",
    "                index=pd.DatetimeIndex(data[:,0]*1e9),\n",
    "                columns=columns\n",
    "            )\n",
    "        else:\n",
    "            return pd.DataFrame()\n",
    "\n",
    "    df.index.name = 'time'\n",
    "    if not df.index.tz:\n",
    "        df.index = df.index.tz_localize('UTC').tz_convert(timezone)\n",
    "    elif str(df.index.tz) != timezone:\n",
    "        df.index = df.index.tz_convert(timezone)\n",
    "\n",
    "    return set_time_index_zone(df, timezone)"
   ]
  },
  {
   "cell_type": "code",
   "execution_count": null,
   "metadata": {},
   "outputs": [],
   "source": [
    "#| export\n",
    "\n",
    "def set_time_index_zone(df:pd.DataFrame, timezone):\n",
    "\n",
    "    df.index.name = 'time'\n",
    "    if not df.index.tz:\n",
    "        df.index = df.index.tz_localize('UTC').tz_convert(timezone)\n",
    "    elif str(df.index.tz) != timezone:\n",
    "        df.index = df.index.tz_convert(timezone)\n",
    "\n",
    "    return df\n"
   ]
  },
  {
   "cell_type": "code",
   "execution_count": null,
   "metadata": {},
   "outputs": [],
   "source": [
    "#| export\n",
    "def timeseries_dataframe_from_datadict(\n",
    "        data:dict, \n",
    "        timecolumns,\n",
    "        recordformat='records'):\n",
    "        \n",
    "    \"Convert data dict to dataframe\"\n",
    "\n",
    "    orient = recordformat.lower()\n",
    "    assert orient in ['records', 'table']\n",
    "    \n",
    "    if orient == 'records':\n",
    "        df = pd.DataFrame.from_records(data)\n",
    "        time_column = [C for C in df.columns if C in timecolumns][0]\n",
    "\n",
    "    elif orient == 'table':\n",
    "        time_column = data['schema']['primaryKey'][0]\n",
    "        df = pd.DataFrame.from_dict(data['data']).set_index(data['schema']['primaryKey'])\n",
    "        df.index.name = 'time'\n",
    "    else:\n",
    "        time_column = [C for C in df.columns if C in timecolumns][0]\n",
    "\n",
    "\n",
    "    df.columns = list(df.columns)\n",
    "    df[time_column] = pd.to_datetime(df[time_column],utc=True,format='ISO8601')\n",
    "    df.set_index(time_column, inplace=True)\n",
    "    #df.index = pd.DatetimeIndex(df.index).round('ms')\n",
    "    \n",
    "    df.index.name = 'time'\n",
    "\n",
    "    return df\n"
   ]
  },
  {
   "cell_type": "code",
   "execution_count": null,
   "metadata": {},
   "outputs": [],
   "source": [
    "#| export\n",
    "def timeseries_dataframe_to_datadict(\n",
    "        data:typing.Union[pd.DataFrame, pd.Series, dict], \n",
    "        recordformat:str='split', \n",
    "        timezone:str='UTC', \n",
    "        reversed:bool=False):\n",
    "    \n",
    "    orient = recordformat.lower()\n",
    "\n",
    "    normalized_data = timeseries_dataframe(data, timezone=timezone)\n",
    "    normalized_data.index = normalized_data.index.map(lambda x: x.isoformat())\n",
    "    \n",
    "    if reversed:\n",
    "        normalized_data = normalized_data[::-1]\n",
    "\n",
    "    if orient == 'records':\n",
    "        records = normalized_data.reset_index().to_dict(orient='records')\n",
    "    else:\n",
    "        records =  normalized_data.to_dict(orient=orient)\n",
    "    \n",
    "\n",
    "    if normalized_data.isna().any(axis=None):\n",
    "        return [ {k:v for k,v in m.items() if pd.notnull(v)} for m in records]\n",
    "    else:\n",
    "        return records\n",
    "\n",
    "\n"
   ]
  },
  {
   "cell_type": "code",
   "execution_count": null,
   "metadata": {},
   "outputs": [],
   "source": [
    "#| hide\n",
    "import nbdev; nbdev.nbdev_export()"
   ]
  }
 ],
 "metadata": {
  "kernelspec": {
   "display_name": "corebridge.venv",
   "language": "python",
   "name": "corebridge.venv"
  }
 },
 "nbformat": 4,
 "nbformat_minor": 4
}
