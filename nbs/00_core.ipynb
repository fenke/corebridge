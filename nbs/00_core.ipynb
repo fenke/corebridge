{
 "cells": [
  {
   "cell_type": "markdown",
   "metadata": {},
   "source": [
    "# AICore-Bridge\n",
    "\n",
    "> Fill in a module description here"
   ]
  },
  {
   "cell_type": "code",
   "execution_count": null,
   "metadata": {},
   "outputs": [],
   "source": [
    "#| default_exp core"
   ]
  },
  {
   "cell_type": "code",
   "execution_count": null,
   "metadata": {},
   "outputs": [],
   "source": [
    "#| hide\n",
    "from nbdev.showdoc import *"
   ]
  },
  {
   "cell_type": "code",
   "execution_count": null,
   "metadata": {},
   "outputs": [],
   "source": [
    "#| export\n",
    "import typing\n",
    "import numpy as np\n",
    "import pandas as pd"
   ]
  },
  {
   "cell_type": "code",
   "execution_count": null,
   "metadata": {},
   "outputs": [],
   "source": [
    "#| export\n",
    "\n",
    "def timeseries_dataframe(\n",
    "        adata:typing.Union[pd.DataFrame, pd.Series, dict, np.ndarray, np.recarray], \n",
    "        timezone='UTC', \n",
    "        columnnames=None):\n",
    "    \n",
    "    \"\"\"Convert various data formats to standardized timeseries DataFrame\"\"\"\n",
    "\n",
    "    if isinstance(adata, pd.DataFrame):\n",
    "        df = adata\n",
    "\n",
    "    elif isinstance(adata, pd.Series):\n",
    "        df = pd.DataFrame(adata)\n",
    "\n",
    "    elif isinstance(adata, dict):\n",
    "        # dict/mapping of individual timeseries\n",
    "        df = pd.DataFrame({\n",
    "            C:pd.Series(data=A[:,1], index=pd.DatetimeIndex(A[:,0]*1e9)) if isinstance(A, np.ndarray) else A\n",
    "            for C,A in adata.items()\n",
    "        })\n",
    "\n",
    "    elif adata.dtype.names is not None:\n",
    "        # structured or recarray\n",
    "        df = pd.DataFrame(\n",
    "            data=adata.view(dtype=np.float64).reshape(adata.shape[0],len(adata.dtype))[:,range(1,len(adata.dtype))],\n",
    "            index=pd.DatetimeIndex(adata.view(dtype=np.float64).reshape(adata.shape[0],len(adata.dtype))[:,0] * 1e9),\n",
    "            columns=adata.dtype.names[1:]\n",
    "        )\n",
    "\n",
    "    else:\n",
    "        if adata.shape[0] > 0:\n",
    "            if adata.shape[1]>2:\n",
    "                columns=[f\"value_{str(i+1)}\" for i in range(adata.shape[1]-1)] if not columnnames else [f\"{str(i)}\" for i in columnnames[1:]]\n",
    "            else:\n",
    "                columns=['value']\n",
    "\n",
    "            df = pd.DataFrame(\n",
    "                data=adata[:, 1:],\n",
    "                index=pd.DatetimeIndex(adata[:,0]*1e9),\n",
    "                columns=columns\n",
    "            )\n",
    "        else:\n",
    "            return pd.DataFrame()\n",
    "\n",
    "    df.index.name = 'time'\n",
    "    if not df.index.tz:\n",
    "        df.index = df.index.tz_localize('UTC').tz_convert(timezone)\n",
    "    elif str(df.index.tz) != timezone:\n",
    "        df.index = df.index.tz_convert(timezone)\n",
    "\n",
    "    return df\n"
   ]
  },
  {
   "cell_type": "code",
   "execution_count": null,
   "metadata": {},
   "outputs": [],
   "source": [
    "#| export\n",
    "def timeseries_dataframe_from_datadict(\n",
    "        data:dict, \n",
    "        recordformat='records',\n",
    "        timecolumns=[]):\n",
    "        \n",
    "    \"Convert data dict to dataframe\"\n",
    "\n",
    "    orient = recordformat.lower()\n",
    "    \n",
    "    if orient == 'records':\n",
    "        df = pd.DataFrame.from_records(data)\n",
    "        time_column = [C for C in df.columns if C.lower() in ['datetimemeasure', 'time']][0]\n",
    "\n",
    "    elif orient == 'table':\n",
    "        time_column = data['schema']['primaryKey'][0]\n",
    "        df = pd.DataFrame.from_dict(data['data']).set_index(data['schema']['primaryKey'])\n",
    "        df.index.name = 'time'\n",
    "\n",
    "    df.columns = [C.lower() for C in df.columns]\n",
    "    time_column = [C for C in df.columns if C in ['datetimemeasure', 'time']][0]\n",
    "    df[time_column] = pd.to_datetime(df[time_column],utc=True,format='ISO8601')\n",
    "    df.set_index(time_column, inplace=True)\n",
    "    \n",
    "    df.index.name = 'time'\n",
    "    return df\n"
   ]
  },
  {
   "cell_type": "code",
   "execution_count": null,
   "metadata": {},
   "outputs": [],
   "source": [
    "#| export\n",
    "def timeseries_dataframe_to_datadict(\n",
    "        data:typing.Union[pd.DataFrame, pd.Series, dict], \n",
    "        recordformat:str='split', \n",
    "        timezone:str='UTC', \n",
    "        reversed:bool=False):\n",
    "    \n",
    "    orient = recordformat.lower()\n",
    "\n",
    "    normalized_data = self.convert_to_dataframe(data, timezone=timezone)\n",
    "    normalized_data.index = normalized_data.index.map(lambda x: x.isoformat())\n",
    "    \n",
    "    if reversed:\n",
    "        normalized_data = normalized_data[::-1]\n",
    "\n",
    "    if orient == 'records':\n",
    "        records = normalized_data.reset_index().to_dict(orient='records')\n",
    "    else:\n",
    "        records =  normalized_data.to_dict(orient=orient)\n",
    "    \n",
    "\n",
    "    if normalized_data.isna().any(axis=None):\n",
    "        return [ {k:v for k,v in m.items() if pd.notnull(v)} for m in records]\n",
    "    else:\n",
    "        return records\n",
    "\n",
    "\n"
   ]
  },
  {
   "cell_type": "code",
   "execution_count": null,
   "metadata": {},
   "outputs": [],
   "source": [
    "#| hide\n",
    "import nbdev; nbdev.nbdev_export()"
   ]
  }
 ],
 "metadata": {
  "kernelspec": {
   "display_name": "python3",
   "language": "python",
   "name": "python3"
  }
 },
 "nbformat": 4,
 "nbformat_minor": 4
}
