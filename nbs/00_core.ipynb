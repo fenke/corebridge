{
 "cells": [
  {
   "attachments": {},
   "cell_type": "markdown",
   "metadata": {},
   "source": [
    "# Core functionality\n",
    "\n",
    "> Fill in a module description here"
   ]
  },
  {
   "cell_type": "code",
   "execution_count": null,
   "metadata": {},
   "outputs": [],
   "source": [
    "#| default_exp core"
   ]
  },
  {
   "cell_type": "code",
   "execution_count": null,
   "metadata": {},
   "outputs": [],
   "source": [
    "#| hide\n",
    "from nbdev.showdoc import *"
   ]
  },
  {
   "cell_type": "code",
   "execution_count": null,
   "metadata": {},
   "outputs": [],
   "source": [
    "#| export\n",
    "import typing, logging\n",
    "import os\n",
    "import numpy as np\n",
    "import pandas as pd"
   ]
  },
  {
   "cell_type": "code",
   "execution_count": null,
   "metadata": {},
   "outputs": [],
   "source": [
    "#| exports\n",
    "\n",
    "def init_console_logging(name=None, level=logging.INFO):\n",
    "    '''Setup none-blocking stream handler for sending loggin to the console.'''\n",
    "\n",
    "    # Only if no handlers defined.\n",
    "    if not logging.getLogger(name).handlers:\n",
    "\n",
    "        logger = logging.getLogger()\n",
    "        logger.setLevel(level)\n",
    "\n",
    "        console = logging.StreamHandler()\n",
    "        console.setLevel(level)\n",
    "\n",
    "        # set a format which is simpler for console use\n",
    "        formatter = logging.Formatter(\"%(asctime)s %(levelname)s\\t%(process)d\\t%(name)s\\t%(filename)s\\t%(lineno)d\\t%(message)s\", datefmt='%Y-%m-%dT%H:%M:%S%z')\n",
    "\n",
    "        # tell the handler to use this format\n",
    "        console.setFormatter(formatter)\n",
    "\n",
    "        # add the handler to the root logger\n",
    "        logger.addHandler(console)\n",
    "        return logger\n",
    "    else:\n",
    "        logging.getLogger(name).info(f'There already is a logger installed for {name}.')\n"
   ]
  },
  {
   "cell_type": "code",
   "execution_count": null,
   "metadata": {},
   "outputs": [],
   "source": [
    "#| export\n",
    "try:\n",
    "    logging.getLogger(__name__).info(f\"Loading {__name__} from {__file__}\")\n",
    "except:\n",
    "    pass"
   ]
  },
  {
   "attachments": {},
   "cell_type": "markdown",
   "metadata": {},
   "source": [
    "## Timeseries dataframes\n",
    "\n",
    "Timeseries data is a cornerstone of our data manipulation and most processing is on them"
   ]
  },
  {
   "cell_type": "markdown",
   "metadata": {},
   "source": [
    "### `set_time_index_zone`\n",
    "\n",
    "Processing may depend on proper timezone awareness, this utility to set the timezone on a datetime index"
   ]
  },
  {
   "cell_type": "code",
   "execution_count": null,
   "metadata": {},
   "outputs": [],
   "source": [
    "#| export\n",
    "\n",
    "def set_time_index_zone(df:pd.DataFrame, timezone):\n",
    "    \"\"\"\n",
    "    Sets the time zone of the index of a pandas DataFrame.\n",
    "\n",
    "    Args:\n",
    "        df (pd.DataFrame): The DataFrame whose index time zone is to be set.\n",
    "        timezone (str): The desired time zone.\n",
    "\n",
    "    Returns:\n",
    "        pd.DataFrame: The DataFrame with its index time zone set to the specified time zone.\n",
    "\n",
    "    Raises:\n",
    "        None\n",
    "\n",
    "    Examples:\n",
    "        >>> df = pd.DataFrame({'A': [1, 2, 3]}, index=pd.DatetimeIndex(['2022-01-01', '2022-01-02', '2022-01-03']))\n",
    "        >>> set_time_index_zone(df, 'Europe/Berlin')\n",
    "                     A\n",
    "        2022-01-01  1\n",
    "        2022-01-02  2\n",
    "        2022-01-03  3\n",
    "        DatetimeIndex: 3 entries, 2022-01-01 01:00:00+01:00 to 2022-01-03 01:00:00+01:00\n",
    "    \"\"\"\n",
    "    \n",
    "    if isinstance(df.index, pd.DatetimeIndex):\n",
    "        df.index.name = 'time'\n",
    "        if not hasattr(df.index, 'tz')  or not df.index.tz or not df.index.tz:\n",
    "            df.index = df.index.tz_localize('UTC').tz_convert(timezone)\n",
    "        elif str(df.index.tz) != timezone:\n",
    "            df.index = df.index.tz_convert(timezone)\n",
    "\n",
    "    return df\n"
   ]
  },
  {
   "cell_type": "markdown",
   "metadata": {},
   "source": [
    "#### Example"
   ]
  },
  {
   "cell_type": "code",
   "execution_count": null,
   "metadata": {},
   "outputs": [
    {
     "data": {
      "text/html": [
       "<div>\n",
       "<style scoped>\n",
       "    .dataframe tbody tr th:only-of-type {\n",
       "        vertical-align: middle;\n",
       "    }\n",
       "\n",
       "    .dataframe tbody tr th {\n",
       "        vertical-align: top;\n",
       "    }\n",
       "\n",
       "    .dataframe thead th {\n",
       "        text-align: right;\n",
       "    }\n",
       "</style>\n",
       "<table border=\"1\" class=\"dataframe\">\n",
       "  <thead>\n",
       "    <tr style=\"text-align: right;\">\n",
       "      <th></th>\n",
       "      <th>A</th>\n",
       "    </tr>\n",
       "    <tr>\n",
       "      <th>time</th>\n",
       "      <th></th>\n",
       "    </tr>\n",
       "  </thead>\n",
       "  <tbody>\n",
       "    <tr>\n",
       "      <th>2022-01-01 01:00:00+01:00</th>\n",
       "      <td>1</td>\n",
       "    </tr>\n",
       "    <tr>\n",
       "      <th>2022-01-02 01:00:00+01:00</th>\n",
       "      <td>2</td>\n",
       "    </tr>\n",
       "    <tr>\n",
       "      <th>2022-01-03 01:00:00+01:00</th>\n",
       "      <td>3</td>\n",
       "    </tr>\n",
       "  </tbody>\n",
       "</table>\n",
       "</div>"
      ],
      "text/plain": [
       "                           A\n",
       "time                        \n",
       "2022-01-01 01:00:00+01:00  1\n",
       "2022-01-02 01:00:00+01:00  2\n",
       "2022-01-03 01:00:00+01:00  3"
      ]
     },
     "execution_count": null,
     "metadata": {},
     "output_type": "execute_result"
    }
   ],
   "source": [
    "df = pd.DataFrame({'A': [1, 2, 3]}, index=pd.DatetimeIndex(['2022-01-01', '2022-01-02', '2022-01-03']))\n",
    "set_time_index_zone(df, 'Europe/Berlin')"
   ]
  },
  {
   "cell_type": "markdown",
   "metadata": {},
   "source": [
    "### timeseries_dataframe\n",
    "\n",
    "Converts Pandas dataframes and series, Numpy array's and recarrays or a dictionary of \n",
    "individual timeseries into a Pandas dataframe with one datetime index. With all arrays \n",
    "dataframes and series it is assumed that the first column contains the timestamps."
   ]
  },
  {
   "cell_type": "code",
   "execution_count": null,
   "metadata": {},
   "outputs": [],
   "source": [
    "#| export\n",
    "\n",
    "def timeseries_dataframe(\n",
    "        data:typing.Union[pd.DataFrame, pd.Series, dict, np.ndarray, np.recarray], \n",
    "        timezone='UTC', \n",
    "        columnnames=None):\n",
    "    \n",
    "    \"\"\"Convert various tabular data formats to timeseries DataFrame\n",
    "\n",
    "    Args:\n",
    "        data (Union[pd.DataFrame, pd.Series, dict, np.ndarray, np.recarray]): The input data to be converted.\n",
    "        timezone (str, optional): The timezone to set for the index of the DataFrame. Defaults to 'UTC'.\n",
    "        columnnames (Optional[List[str]]): The column names to use for the DataFrame. Defaults to None.\n",
    "\n",
    "    Returns:\n",
    "        pd.DataFrame: The converted timeseries DataFrame with the index set to the specified timezone.\n",
    "    \"\"\"\n",
    "\n",
    "    if isinstance(data, pd.DataFrame):\n",
    "        df = data\n",
    "\n",
    "    elif isinstance(data, pd.Series):\n",
    "        df = pd.DataFrame(data)\n",
    "\n",
    "    elif isinstance(data, dict):\n",
    "        # assume a dict/mapping of individual arrays representing timeseries \n",
    "        df = pd.DataFrame({\n",
    "            C:pd.Series(data=A[:,1], index=pd.DatetimeIndex(A[:,0]*1e9)) if isinstance(A, np.ndarray) else A\n",
    "            for C,A in data.items()\n",
    "        })\n",
    "\n",
    "    elif data.dtype.names is not None:\n",
    "        # structured or recarray, we use column names from the recarray\n",
    "        df = pd.DataFrame(\n",
    "            data=data.view(dtype=np.float64).reshape(data.shape[0],len(data.dtype))[:,range(1,len(data.dtype))],\n",
    "            index=pd.DatetimeIndex(data.view(dtype=np.float64).reshape(data.shape[0],len(data.dtype))[:,0] * 1e9),\n",
    "            columns=data.dtype.names[1:]\n",
    "        )\n",
    "\n",
    "    else:\n",
    "        if data.shape[0] > 0:\n",
    "            # column names, either 'value' if there is only one column, or\n",
    "            # value_0, value_1 .... value_nn when more the one column is present\n",
    "            if data.shape[1]>2:\n",
    "                columns=[f\"value_{str(i+1)}\" for i in range(data.shape[1]-1)] if not columnnames else [f\"{str(i)}\" for i in columnnames[1:]]\n",
    "            else:\n",
    "                columns=['value']\n",
    "\n",
    "            df = pd.DataFrame(\n",
    "                data=data[:, 1:],\n",
    "                index=pd.DatetimeIndex(data[:,0]*1e9),\n",
    "                columns=columns\n",
    "            )\n",
    "        else:\n",
    "            return pd.DataFrame()\n",
    "\n",
    "    return set_time_index_zone(df, timezone)"
   ]
  },
  {
   "cell_type": "code",
   "execution_count": null,
   "metadata": {},
   "outputs": [],
   "source": []
  },
  {
   "cell_type": "markdown",
   "metadata": {},
   "source": [
    "### `timeseries_dataframe_from_datadict`"
   ]
  },
  {
   "cell_type": "code",
   "execution_count": null,
   "metadata": {},
   "outputs": [],
   "source": [
    "#| exports\n",
    "def timeseries_dataframe_from_datadict(\n",
    "        data:dict, \n",
    "        timecolumns=None,\n",
    "        recordformat='records'):\n",
    "        \n",
    "    \"\"\"\n",
    "    Converts a data dict into a pandas DataFrame based on the specified record format. \n",
    "    Parameters:\n",
    "        - data: A dictionary containing the data to convert.\n",
    "        - timecolumns: A list of column names to be treated as time columns.\n",
    "        - recordformat: A string specifying the format of the data records ('records', 'table', 'split', 'index', 'tight').\n",
    "    Returns:\n",
    "        - df: A pandas DataFrame with a DatetimeIndex representing the converted data.\n",
    "    \"\"\"\n",
    "\n",
    "    orient = recordformat.lower()\n",
    "    assert orient in ['records', 'table', 'split', 'index', 'tight']\n",
    "    assert timecolumns, 'No time columns specified'\n",
    "\n",
    "    if orient == 'records':\n",
    "        # data is a structured ndarray, sequence of tuples or dicts, or DataFrame\n",
    "        df = pd.DataFrame.from_records(data)\n",
    "        time_columns_in_df = [C for C in df.columns if C in timecolumns]\n",
    "        if not  time_columns_in_df:\n",
    "            syslog.error(f\"No  column in records {df.columns} matches specification in time columns {timecolumns}, assuming first column is time\")\n",
    "            time_column = df.columns[0]\n",
    "        else:\n",
    "            time_column = time_columns_in_df[0]\n",
    "\n",
    "    elif orient == 'table':\n",
    "        # data is in pandas table format\n",
    "        time_column = data['schema']['primaryKey'][0]\n",
    "        df = pd.DataFrame.from_dict(data['data']).set_index(data['schema']['primaryKey'])\n",
    "        df.index.name = 'time'\n",
    "    else:\n",
    "        # data  is formatted according to 'orient' parameter (pandas)\n",
    "        df = pd.DataFrame.from_dict(data, orient=orient)\n",
    "        time_column = df.index.name\n",
    "\n",
    "\n",
    "    df.columns = list(df.columns)\n",
    "    df[time_column] = pd.to_datetime(df[time_column],utc=True,format='ISO8601')\n",
    "    df.set_index(time_column, inplace=True)\n",
    "    df.index = pd.DatetimeIndex(df.index).round('ms')\n",
    "    \n",
    "    df.index.name = 'time'\n",
    "\n",
    "    return df\n"
   ]
  },
  {
   "cell_type": "code",
   "execution_count": null,
   "metadata": {},
   "outputs": [
    {
     "data": {
      "text/html": [
       "<div>\n",
       "<style scoped>\n",
       "    .dataframe tbody tr th:only-of-type {\n",
       "        vertical-align: middle;\n",
       "    }\n",
       "\n",
       "    .dataframe tbody tr th {\n",
       "        vertical-align: top;\n",
       "    }\n",
       "\n",
       "    .dataframe thead th {\n",
       "        text-align: right;\n",
       "    }\n",
       "</style>\n",
       "<table border=\"1\" class=\"dataframe\">\n",
       "  <thead>\n",
       "    <tr style=\"text-align: right;\">\n",
       "      <th></th>\n",
       "      <th>value</th>\n",
       "    </tr>\n",
       "    <tr>\n",
       "      <th>time</th>\n",
       "      <th></th>\n",
       "    </tr>\n",
       "  </thead>\n",
       "  <tbody>\n",
       "    <tr>\n",
       "      <th>2023-05-04 10:04:49+00:00</th>\n",
       "      <td>16.72</td>\n",
       "    </tr>\n",
       "    <tr>\n",
       "      <th>2023-05-04 10:24:51+00:00</th>\n",
       "      <td>16.65</td>\n",
       "    </tr>\n",
       "    <tr>\n",
       "      <th>2023-05-04 10:44:53+00:00</th>\n",
       "      <td>16.55</td>\n",
       "    </tr>\n",
       "  </tbody>\n",
       "</table>\n",
       "</div>"
      ],
      "text/plain": [
       "                           value\n",
       "time                            \n",
       "2023-05-04 10:04:49+00:00  16.72\n",
       "2023-05-04 10:24:51+00:00  16.65\n",
       "2023-05-04 10:44:53+00:00  16.55"
      ]
     },
     "execution_count": null,
     "metadata": {},
     "output_type": "execute_result"
    }
   ],
   "source": [
    "timeseries_dataframe_from_datadict([\n",
    "      {\n",
    "         \"time\":\"2023-05-04T10:04:49.000Z\",\n",
    "         \"value\":16.72\n",
    "      },\n",
    "      {\n",
    "         \"time\":\"2023-05-04T10:24:51.000Z\",\n",
    "         \"value\":16.65\n",
    "      },\n",
    "      {\n",
    "         \"time\":\"2023-05-04T10:44:53.000Z\",\n",
    "         \"value\":16.55\n",
    "      }\n",
    "   ], timecolumns=['time'])"
   ]
  },
  {
   "cell_type": "code",
   "execution_count": null,
   "metadata": {},
   "outputs": [
    {
     "data": {
      "text/html": [
       "<div>\n",
       "<style scoped>\n",
       "    .dataframe tbody tr th:only-of-type {\n",
       "        vertical-align: middle;\n",
       "    }\n",
       "\n",
       "    .dataframe tbody tr th {\n",
       "        vertical-align: top;\n",
       "    }\n",
       "\n",
       "    .dataframe thead th {\n",
       "        text-align: right;\n",
       "    }\n",
       "</style>\n",
       "<table border=\"1\" class=\"dataframe\">\n",
       "  <thead>\n",
       "    <tr style=\"text-align: right;\">\n",
       "      <th></th>\n",
       "      <th>value</th>\n",
       "    </tr>\n",
       "    <tr>\n",
       "      <th>time</th>\n",
       "      <th></th>\n",
       "    </tr>\n",
       "  </thead>\n",
       "  <tbody>\n",
       "    <tr>\n",
       "      <th>2023-05-04 12:04:49+02:00</th>\n",
       "      <td>16.72</td>\n",
       "    </tr>\n",
       "    <tr>\n",
       "      <th>2023-05-04 12:24:51+02:00</th>\n",
       "      <td>16.65</td>\n",
       "    </tr>\n",
       "    <tr>\n",
       "      <th>2023-05-04 12:44:53+02:00</th>\n",
       "      <td>16.55</td>\n",
       "    </tr>\n",
       "  </tbody>\n",
       "</table>\n",
       "</div>"
      ],
      "text/plain": [
       "                           value\n",
       "time                            \n",
       "2023-05-04 12:04:49+02:00  16.72\n",
       "2023-05-04 12:24:51+02:00  16.65\n",
       "2023-05-04 12:44:53+02:00  16.55"
      ]
     },
     "execution_count": null,
     "metadata": {},
     "output_type": "execute_result"
    }
   ],
   "source": [
    "set_time_index_zone( timeseries_dataframe_from_datadict([\n",
    "      {\n",
    "         \"time\":\"2023-05-04T10:04:49\",\n",
    "         \"value\":16.72\n",
    "      },\n",
    "      {\n",
    "         \"time\":\"2023-05-04T10:24:51\",\n",
    "         \"value\":16.65\n",
    "      },\n",
    "      {\n",
    "         \"time\":\"2023-05-04T10:44:53\",\n",
    "         \"value\":16.55\n",
    "      }\n",
    "   ], timecolumns=['time']), timezone='Europe/Amsterdam')"
   ]
  },
  {
   "cell_type": "code",
   "execution_count": null,
   "metadata": {},
   "outputs": [],
   "source": [
    "#| export\n",
    "\n",
    "def pop_nan_values(data):\n",
    "    \"\"\"\n",
    "    Recursively pop keys with nan values from dict or lists with dicts.\n",
    "\n",
    "    Args:\n",
    "        data (Union[list, dict]): The data to be processed.\n",
    "\n",
    "    Returns:\n",
    "        Union[list, dict]: The processed data with keys with nan values removed.\n",
    "    \"\"\"\n",
    "    \n",
    "    if isinstance(data, list):\n",
    "        return [pop_nan_values(v) for v in data if pd.notnull([v]).any()]\n",
    "    elif isinstance(data, dict):\n",
    "        return {k:pop_nan_values(v) for k, v in data.items() if pd.notnull([v]).any()}\n",
    "    else:\n",
    "        return data"
   ]
  },
  {
   "cell_type": "code",
   "execution_count": null,
   "metadata": {},
   "outputs": [],
   "source": [
    "#| export\n",
    "def timeseries_dataframe_to_datadict(\n",
    "        data:typing.Union[pd.DataFrame, pd.Series, dict], \n",
    "        recordformat:str='records', \n",
    "        timezone:str='UTC',\n",
    "        popNaN:bool=False):\n",
    "\n",
    "    \"\"\"\n",
    "    Convert a timeseries DataFrame or Series into a dictionary representation.\n",
    "\n",
    "    Args:\n",
    "        data (Union[pd.DataFrame, pd.Series, dict]): The input data to be converted. It can be a pandas DataFrame, Series, or a dictionary.\n",
    "        recordformat (str, optional): The format of the output records. Defaults to 'records'.\n",
    "        timezone (str, optional): The timezone to use for the DataFrame index. Defaults to 'UTC'.\n",
    "        popNaN (bool, optional): Whether to remove NaN values from the output dictionary. Defaults to False.\n",
    "\n",
    "    Returns:\n",
    "        Union[dict, list]: The converted dictionary representation of the input data. If `popNaN` is True, it returns a dictionary with NaN values removed. Otherwise, it returns a dictionary or a list of dictionaries depending on the `recordformat` parameter.\n",
    "    \"\"\"\n",
    "        \n",
    "    orient = recordformat.lower()\n",
    "\n",
    "    normalized_data = timeseries_dataframe(data, timezone=timezone)\n",
    "    if isinstance(normalized_data.index, pd.DatetimeIndex):\n",
    "        normalized_data.index = normalized_data.index.map(lambda x: x.isoformat())\n",
    "    \n",
    "    if orient == 'records':\n",
    "        records = normalized_data.reset_index().to_dict(orient='records')\n",
    "    else:\n",
    "        records =  normalized_data.to_dict(orient=orient)\n",
    "\n",
    "    if popNaN and normalized_data.isna().any(axis=None):\n",
    "            return pop_nan_values(records)\n",
    "    \n",
    "    return records    \n"
   ]
  },
  {
   "cell_type": "code",
   "execution_count": null,
   "metadata": {},
   "outputs": [],
   "source": [
    "df = timeseries_dataframe_from_datadict([\n",
    "      {\n",
    "         \"time\":\"2023-05-04T10:04:49.000Z\",\n",
    "         \"value\":16.72\n",
    "      },\n",
    "      {\n",
    "         \"time\":\"2023-05-04T10:24:51.000Z\",\n",
    "         \"value\":16.65\n",
    "      },\n",
    "      {\n",
    "         \"time\":\"2023-05-04T10:44:53.000Z\",\n",
    "         \"value\":16.55\n",
    "      },\n",
    "      {\n",
    "         \"time\":\"2023-05-04T10:44:53.000Z\",\n",
    "         \"value\":np.nan\n",
    "      }\n",
    "   ], timecolumns=['time'])\n",
    "\n"
   ]
  },
  {
   "cell_type": "code",
   "execution_count": null,
   "metadata": {},
   "outputs": [
    {
     "data": {
      "text/plain": [
       "[{'time': '2023-05-04T10:04:49+00:00', 'value': 16.72},\n",
       " {'time': '2023-05-04T10:24:51+00:00', 'value': 16.65},\n",
       " {'time': '2023-05-04T10:44:53+00:00', 'value': 16.55},\n",
       " {'time': '2023-05-04T10:44:53+00:00'}]"
      ]
     },
     "execution_count": null,
     "metadata": {},
     "output_type": "execute_result"
    }
   ],
   "source": [
    "timeseries_dataframe_to_datadict(df, recordformat='records', popNaN=True)"
   ]
  },
  {
   "cell_type": "code",
   "execution_count": null,
   "metadata": {},
   "outputs": [
    {
     "data": {
      "text/plain": [
       "{'index': ['2023-05-04T10:04:49+00:00',\n",
       "  '2023-05-04T10:24:51+00:00',\n",
       "  '2023-05-04T10:44:53+00:00',\n",
       "  '2023-05-04T10:44:53+00:00'],\n",
       " 'columns': ['value'],\n",
       " 'data': [[16.72], [16.65], [16.55]],\n",
       " 'index_names': ['time']}"
      ]
     },
     "execution_count": null,
     "metadata": {},
     "output_type": "execute_result"
    }
   ],
   "source": [
    "timeseries_dataframe_to_datadict(df, recordformat='tight', popNaN=True)"
   ]
  },
  {
   "cell_type": "code",
   "execution_count": null,
   "metadata": {},
   "outputs": [],
   "source": [
    "test_data = {'index': ['2023-05-04T10:04:49+00:00',\n",
    "  '2023-05-04T10:24:51+00:00',\n",
    "  '2023-05-04T10:44:53+00:00',\n",
    "  '2023-05-04T10:44:53+00:00'],\n",
    " 'columns': ['value'],\n",
    " 'data': [[16.72], [16.65], [16.55], [np.nan]],\n",
    " 'index_names': ['time'],\n",
    " 'column_names': [None]}"
   ]
  },
  {
   "cell_type": "code",
   "execution_count": null,
   "metadata": {},
   "outputs": [
    {
     "data": {
      "text/plain": [
       "{'index': ['2023-05-04T10:04:49+00:00',\n",
       "  '2023-05-04T10:24:51+00:00',\n",
       "  '2023-05-04T10:44:53+00:00',\n",
       "  '2023-05-04T10:44:53+00:00'],\n",
       " 'columns': ['value'],\n",
       " 'data': [[16.72], [16.65], [16.55]],\n",
       " 'index_names': ['time']}"
      ]
     },
     "execution_count": null,
     "metadata": {},
     "output_type": "execute_result"
    }
   ],
   "source": [
    "pop_nan_values(test_data)"
   ]
  },
  {
   "cell_type": "markdown",
   "metadata": {},
   "source": []
  },
  {
   "cell_type": "code",
   "execution_count": null,
   "metadata": {},
   "outputs": [],
   "source": [
    "#| export\n",
    "\n",
    "#def interpolate_timeseries(sampler, period, method_args):\n",
    "\n",
    "\n",
    "ResamplerMethods = dict(\n",
    "    count=lambda R: R.count(),\n",
    "    median=lambda R: R.median(),\n",
    "    mean=lambda R: R.mean(),\n",
    "    min=lambda R: R.min(),\n",
    "    max=lambda R: R.max(),\n",
    "    sum=lambda R: R.sum(),\n",
    "    std=lambda R: R.std(),\n",
    "    var=lambda R: R.var(),\n",
    "    nearest=lambda R: R.nearest(),\n",
    ")\n",
    "\n",
    "ReSamplerPeriods = dict(\n",
    "    H='h', T='min', S='sec', L='ms', U='us', N='ns'\n",
    ")\n",
    "\n",
    "def timeseries_dataframe_resample(df:pd.DataFrame, period:str, method:str):\n",
    "    \"\"\"\n",
    "    Resamples a time-series DataFrame on the specified period and method.\n",
    "\n",
    "    Parameters:\n",
    "        df (pd.DataFrame): The input time-series DataFrame.\n",
    "        period (str): The resampling period.\n",
    "        method (str): The resampling method. Can be a string of multiple methods separated by ';'.\n",
    "        method_args (dict, optional): Additional arguments for the resampling method.\n",
    "\n",
    "    Returns:\n",
    "        pd.DataFrame: The resampled DataFrame.\n",
    "    \"\"\"\n",
    "    sampler = df.resample(ReSamplerPeriods.get(period, str(period)))\n",
    "\n",
    "    dataframes = [df]\n",
    "    for M in str(method).split(';'):\n",
    "        sdf = ResamplerMethods.get(M)(sampler)\n",
    "        sdf.columns = [f\"{C}_{M}\" for C in df.columns]\n",
    "        dataframes.append(sdf)\n",
    "\n",
    "    return pd.concat(dataframes, axis=1, join='outer')\n",
    "\n"
   ]
  },
  {
   "cell_type": "code",
   "execution_count": null,
   "metadata": {},
   "outputs": [],
   "source": [
    "df = timeseries_dataframe_from_datadict([\n",
    "      {\n",
    "         \"time\":\"2023-05-04T10:04:49.000Z\",\n",
    "         \"value\":16.72\n",
    "      },\n",
    "      {\n",
    "         \"time\":\"2023-05-04T10:24:51.000Z\",\n",
    "         \"value\":16.65\n",
    "      },\n",
    "      {\n",
    "         \"time\":\"2023-05-04T10:44:53.000Z\",\n",
    "         \"value\":16.55\n",
    "      },\n",
    "      {\n",
    "         \"time\":\"2023-05-04T11:04:49.000Z\",\n",
    "         \"value\":16.47\n",
    "      },\n",
    "      {\n",
    "         \"time\":\"2023-05-04T11:24:51.000Z\",\n",
    "         \"value\":16.44\n",
    "      },\n",
    "      {\n",
    "         \"time\":\"2023-05-04T11:44:53.000Z\",\n",
    "         \"value\":16.38\n",
    "      },\n",
    "   ], timecolumns=['time'])\n",
    "\n"
   ]
  },
  {
   "cell_type": "code",
   "execution_count": null,
   "metadata": {},
   "outputs": [
    {
     "data": {
      "text/html": [
       "<div>\n",
       "<style scoped>\n",
       "    .dataframe tbody tr th:only-of-type {\n",
       "        vertical-align: middle;\n",
       "    }\n",
       "\n",
       "    .dataframe tbody tr th {\n",
       "        vertical-align: top;\n",
       "    }\n",
       "\n",
       "    .dataframe thead th {\n",
       "        text-align: right;\n",
       "    }\n",
       "</style>\n",
       "<table border=\"1\" class=\"dataframe\">\n",
       "  <thead>\n",
       "    <tr style=\"text-align: right;\">\n",
       "      <th></th>\n",
       "      <th>value</th>\n",
       "      <th>value_mean</th>\n",
       "      <th>value_count</th>\n",
       "    </tr>\n",
       "    <tr>\n",
       "      <th>time</th>\n",
       "      <th></th>\n",
       "      <th></th>\n",
       "      <th></th>\n",
       "    </tr>\n",
       "  </thead>\n",
       "  <tbody>\n",
       "    <tr>\n",
       "      <th>2023-05-04 09:20:00+00:00</th>\n",
       "      <td>NaN</td>\n",
       "      <td>16.685</td>\n",
       "      <td>2.0</td>\n",
       "    </tr>\n",
       "    <tr>\n",
       "      <th>2023-05-04 10:04:49+00:00</th>\n",
       "      <td>16.72</td>\n",
       "      <td>NaN</td>\n",
       "      <td>NaN</td>\n",
       "    </tr>\n",
       "    <tr>\n",
       "      <th>2023-05-04 10:24:51+00:00</th>\n",
       "      <td>16.65</td>\n",
       "      <td>NaN</td>\n",
       "      <td>NaN</td>\n",
       "    </tr>\n",
       "    <tr>\n",
       "      <th>2023-05-04 10:40:00+00:00</th>\n",
       "      <td>NaN</td>\n",
       "      <td>16.460</td>\n",
       "      <td>4.0</td>\n",
       "    </tr>\n",
       "    <tr>\n",
       "      <th>2023-05-04 10:44:53+00:00</th>\n",
       "      <td>16.55</td>\n",
       "      <td>NaN</td>\n",
       "      <td>NaN</td>\n",
       "    </tr>\n",
       "    <tr>\n",
       "      <th>2023-05-04 11:04:49+00:00</th>\n",
       "      <td>16.47</td>\n",
       "      <td>NaN</td>\n",
       "      <td>NaN</td>\n",
       "    </tr>\n",
       "    <tr>\n",
       "      <th>2023-05-04 11:24:51+00:00</th>\n",
       "      <td>16.44</td>\n",
       "      <td>NaN</td>\n",
       "      <td>NaN</td>\n",
       "    </tr>\n",
       "    <tr>\n",
       "      <th>2023-05-04 11:44:53+00:00</th>\n",
       "      <td>16.38</td>\n",
       "      <td>NaN</td>\n",
       "      <td>NaN</td>\n",
       "    </tr>\n",
       "  </tbody>\n",
       "</table>\n",
       "</div>"
      ],
      "text/plain": [
       "                           value  value_mean  value_count\n",
       "time                                                     \n",
       "2023-05-04 09:20:00+00:00    NaN      16.685          2.0\n",
       "2023-05-04 10:04:49+00:00  16.72         NaN          NaN\n",
       "2023-05-04 10:24:51+00:00  16.65         NaN          NaN\n",
       "2023-05-04 10:40:00+00:00    NaN      16.460          4.0\n",
       "2023-05-04 10:44:53+00:00  16.55         NaN          NaN\n",
       "2023-05-04 11:04:49+00:00  16.47         NaN          NaN\n",
       "2023-05-04 11:24:51+00:00  16.44         NaN          NaN\n",
       "2023-05-04 11:44:53+00:00  16.38         NaN          NaN"
      ]
     },
     "execution_count": null,
     "metadata": {},
     "output_type": "execute_result"
    }
   ],
   "source": [
    "timeseries_dataframe_resample(df, \"80min\", 'mean;count')"
   ]
  },
  {
   "cell_type": "code",
   "execution_count": null,
   "metadata": {},
   "outputs": [],
   "source": [
    "#| hide\n",
    "import nbdev; nbdev.nbdev_export()"
   ]
  }
 ],
 "metadata": {
  "kernelspec": {
   "display_name": "corebridge.venv",
   "language": "python",
   "name": "corebridge.venv"
  }
 },
 "nbformat": 4,
 "nbformat_minor": 4
}
