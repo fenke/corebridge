{
 "cells": [
  {
   "attachments": {},
   "cell_type": "markdown",
   "metadata": {},
   "source": [
    "# Core functionality\n",
    "\n",
    "> Fill in a module description here"
   ]
  },
  {
   "cell_type": "code",
   "execution_count": null,
   "metadata": {},
   "outputs": [],
   "source": [
    "#| default_exp core"
   ]
  },
  {
   "cell_type": "code",
   "execution_count": null,
   "metadata": {},
   "outputs": [],
   "source": [
    "#| hide\n",
    "from nbdev.showdoc import *  # noqa: F403\n",
    "import os\n"
   ]
  },
  {
   "cell_type": "code",
   "execution_count": null,
   "metadata": {},
   "outputs": [],
   "source": [
    "#| export\n",
    "import typing\n",
    "import json\n",
    "import logging\n",
    "import datetime\n",
    "import numpy as np\n",
    "import pandas as pd\n",
    "\n",
    "from functools import lru_cache\n",
    "from fastcore.basics import patch\n",
    "from corebridge import __version__\n"
   ]
  },
  {
   "cell_type": "markdown",
   "metadata": {},
   "source": [
    "## Logging"
   ]
  },
  {
   "cell_type": "code",
   "execution_count": null,
   "metadata": {},
   "outputs": [],
   "source": [
    "#| exports\n",
    "\n",
    "def init_console_logging(name=None, level=logging.INFO, timestamp=True):\n",
    "    '''Setup none-blocking stream handler for sending loggin to the console.'''\n",
    "\n",
    "    # Only if no handlers defined.\n",
    "    if not logging.getLogger(name).handlers:\n",
    "\n",
    "        logger = logging.getLogger()\n",
    "        logger.setLevel(level)\n",
    "\n",
    "        console = logging.StreamHandler()\n",
    "        console.setLevel(level)\n",
    "\n",
    "        # set a format which is simpler for console use\n",
    "        if timestamp:\n",
    "            formatter = logging.Formatter(\"%(asctime)s %(levelname)s\\t%(process)d\\t%(name)s\\t%(filename)s\\t%(lineno)d\\t%(message)s\", datefmt='%Y-%m-%dT%H:%M:%S%z')\n",
    "        else:\n",
    "            formatter = logging.Formatter(\"%(levelname)s\\t%(process)d\\t%(name)s\\t%(filename)s\\t%(lineno)d\\t%(message)s\")\n",
    "            \n",
    "        #formatter = logging.Formatter(\"%(asctime)s %(levelname)s\\t%(process)d\\t%(name)s\\t%(filename)s\\t%(lineno)d\\t%(message)s\", datefmt='%Y-%m-%dT%H:%M:%S%z')\n",
    "\n",
    "        # tell the handler to use this format\n",
    "        console.setFormatter(formatter)\n",
    "\n",
    "        # add the handler to the root logger\n",
    "        logger.addHandler(console)\n",
    "        return logger\n",
    "    else:\n",
    "        logging.getLogger(name).info(f'There already is a logger installed for {name}.')\n"
   ]
  },
  {
   "cell_type": "code",
   "execution_count": null,
   "metadata": {},
   "outputs": [],
   "source": [
    "#| export\n",
    "try:\n",
    "    logging.getLogger(__name__).info(f\"Loading {__name__} from {__file__}\")\n",
    "except:  # noqa: E722\n",
    "    pass\n",
    "\n",
    "syslog = logging.getLogger(__name__)"
   ]
  },
  {
   "cell_type": "markdown",
   "metadata": {},
   "source": [
    "## Strings"
   ]
  },
  {
   "cell_type": "code",
   "execution_count": null,
   "metadata": {},
   "outputs": [],
   "source": [
    "#| exports\n",
    "@lru_cache(128)\n",
    "def snake_case_to_camel_case(snake_case:str) -> str:\n",
    "    splittext = snake_case.split('_')\n",
    "    return ''.join([x.capitalize() if n > 0 else x for x,n in zip(splittext, range(len(splittext)))])\n"
   ]
  },
  {
   "cell_type": "markdown",
   "metadata": {},
   "source": [
    "## Numpy data in JSON"
   ]
  },
  {
   "cell_type": "code",
   "execution_count": null,
   "metadata": {},
   "outputs": [],
   "source": [
    "#| export\n",
    "#| echo: false\n",
    "class NumpyEncoder(json.JSONEncoder):\n",
    "    \"\"\" Custom encoder for numpy data types \"\"\"\n",
    "    def default(self, obj):\n",
    "        if isinstance(obj, (np.int_, np.intc, np.intp, np.int8,\n",
    "                            np.int16, np.int32, np.int64, np.uint8,\n",
    "                            np.uint16, np.uint32, np.uint64, np.int64)): # type: ignore\n",
    "\n",
    "            return int(obj)\n",
    "\n",
    "        elif isinstance(obj, (np.float16, np.float32, np.float64)): # type: ignore\n",
    "            return float(obj)\n",
    "        \n",
    "        elif isinstance(obj, (np.complex64, np.complex128)): # type: ignore\n",
    "            return {'real': obj.real, 'imag': obj.imag}\n",
    "        \n",
    "        elif isinstance(obj, (np.ndarray,)):\n",
    "            return obj.tolist()\n",
    "    \n",
    "        elif isinstance(obj, (np.bool_)):\n",
    "            return bool(obj)\n",
    "\n",
    "        elif isinstance(obj, (np.void)): \n",
    "            return None\n",
    "        \n",
    "        elif isinstance(obj, np.datetime64):\n",
    "            return str(obj)\n",
    "\n",
    "        elif isinstance(obj, datetime.datetime):\n",
    "            return obj.isoformat()\n",
    "\n",
    "        return json.JSONEncoder.default(self, obj)\n"
   ]
  },
  {
   "attachments": {},
   "cell_type": "markdown",
   "metadata": {},
   "source": [
    "## Timeseries dataframes\n",
    "\n",
    "Timeseries data is a cornerstone of our data manipulation and most processing is on them"
   ]
  },
  {
   "cell_type": "markdown",
   "metadata": {},
   "source": [
    "### `set_time_index_zone`\n",
    "\n",
    "Processing may depend on proper timezone awareness, this utility to set the timezone on a datetime index"
   ]
  },
  {
   "cell_type": "code",
   "execution_count": null,
   "metadata": {},
   "outputs": [],
   "source": [
    "#| export\n",
    "\n",
    "def set_time_index_zone(\n",
    "        df:pd.DataFrame,    # Dataframe to set or convert the timeindex on\n",
    "        timezone            # Timezone to set\n",
    "    ) :\n",
    "    \"\"\"\n",
    "    Sets the time zone of the index of a pandas DataFrame.\n",
    "\n",
    "    Args:\n",
    "        df (pd.DataFrame): The DataFrame whose index time zone is to be set.\n",
    "        timezone (str): The desired time zone.\n",
    "\n",
    "    Returns:\n",
    "        pd.DataFrame: The modified DataFrame with its index time zone set \n",
    "        to the specified time zone.\n",
    "\n",
    "    Raises:\n",
    "        None\n",
    "\n",
    "    Examples:\n",
    "        >>> df = pd.DataFrame({'A': [1, 2, 3]}, index=pd.DatetimeIndex(['2022-01-01', '2022-01-02', '2022-01-03']))\n",
    "        >>> set_time_index_zone(df, 'Europe/Berlin')\n",
    "                     A\n",
    "        2022-01-01  1\n",
    "        2022-01-02  2\n",
    "        2022-01-03  3\n",
    "        DatetimeIndex: 3 entries, 2022-01-01 01:00:00+01:00 to 2022-01-03 01:00:00+01:00\n",
    "    \"\"\"\n",
    "    \n",
    "    if isinstance(df.index, pd.DatetimeIndex):\n",
    "        df.index.name = 'time'\n",
    "        if not hasattr(df.index, 'tz')  or not df.index.tz or not df.index.tz:\n",
    "            df.index = df.index.tz_localize('UTC').tz_convert(timezone)\n",
    "        elif str(df.index.tz) != timezone:\n",
    "            df.index = df.index.tz_convert(timezone)\n",
    "\n",
    "    return df\n"
   ]
  },
  {
   "cell_type": "markdown",
   "metadata": {},
   "source": [
    "#### Example"
   ]
  },
  {
   "cell_type": "code",
   "execution_count": null,
   "metadata": {},
   "outputs": [
    {
     "data": {
      "text/plain": [
       "DatetimeIndex(['2022-01-01 01:00:00+01:00', '2022-01-02 01:00:00+01:00',\n",
       "               '2022-01-03 01:00:00+01:00'],\n",
       "              dtype='datetime64[ns, Europe/Berlin]', name='time', freq=None)"
      ]
     },
     "execution_count": null,
     "metadata": {},
     "output_type": "execute_result"
    }
   ],
   "source": [
    "df = pd.DataFrame({'A': [1, 2, 3]}, index=pd.DatetimeIndex(['2022-01-01', '2022-01-02', '2022-01-03']))\n",
    "set_time_index_zone(df, 'Europe/Berlin')\n",
    "df.index"
   ]
  },
  {
   "cell_type": "markdown",
   "metadata": {},
   "source": [
    "### timeseries_dataframe\n",
    "\n",
    "Converts Pandas dataframes and series, Numpy array's and recarrays or a dictionary of \n",
    "individual timeseries into a Pandas dataframe with one datetime index. With all arrays \n",
    "dataframes and series it is assumed that the first column contains the timestamps."
   ]
  },
  {
   "cell_type": "code",
   "execution_count": null,
   "metadata": {},
   "outputs": [],
   "source": [
    "#| export\n",
    "\n",
    "def timeseries_dataframe(\n",
    "        data:typing.Union[pd.DataFrame, pd.Series, dict, np.ndarray, np.recarray], \n",
    "        timezone='UTC', \n",
    "        columnnames=None):\n",
    "    \n",
    "    \"\"\"Convert various tabular data formats to timeseries DataFrame\n",
    "\n",
    "    Args:\n",
    "        data (Union[pd.DataFrame, pd.Series, dict, np.ndarray, np.recarray]): The input data to be converted.\n",
    "        timezone (str, optional): The timezone to set for the index of the DataFrame. Defaults to 'UTC'.\n",
    "        columnnames (Optional[List[str]]): The column names to use for the DataFrame. Defaults to None.\n",
    "\n",
    "    Returns:\n",
    "        pd.DataFrame: The converted timeseries DataFrame with the index set to the specified timezone.\n",
    "    \"\"\"\n",
    "\n",
    "    if isinstance(data, pd.DataFrame):\n",
    "        df = data.copy()\n",
    "        df.index = pd.DatetimeIndex(df.index).round('ms')\n",
    "\n",
    "    elif isinstance(data, pd.Series):\n",
    "        df = pd.DataFrame(data)\n",
    "        df.index = pd.DatetimeIndex(df.index).round('ms')\n",
    "\n",
    "    elif isinstance(data, dict):\n",
    "        # assume a dict/mapping of individual arrays representing timeseries \n",
    "        df = pd.DataFrame({\n",
    "            C:pd.Series(data=A[:,1], index=pd.DatetimeIndex(A[:,0]*1e9)) if isinstance(A, np.ndarray) else A\n",
    "            for C,A in data.items()\n",
    "        })\n",
    "\n",
    "    elif data.dtype.names is not None:\n",
    "        # structured or recarray, we use column names from the recarray\n",
    "        df = pd.DataFrame(\n",
    "            data=data.view(dtype=np.float64).reshape(data.shape[0],len(data.dtype))[:,range(1,len(data.dtype))],\n",
    "            index=pd.DatetimeIndex(data.view(dtype=np.float64).reshape(data.shape[0],len(data.dtype))[:,0] * 1e9),\n",
    "            columns=data.dtype.names[1:]\n",
    "        )\n",
    "\n",
    "    else:\n",
    "        if data.shape[0] > 0:\n",
    "            # column names, either 'value' if there is only one column, or\n",
    "            # value_0, value_1 .... value_nn when more the one column is present\n",
    "            if data.shape[1]>2:\n",
    "                columns=[f\"value_{str(i+1)}\" for i in range(data.shape[1]-1)] if not columnnames else [f\"{str(i)}\" for i in columnnames[1:]]\n",
    "            else:\n",
    "                columns=['value']\n",
    "\n",
    "            df = pd.DataFrame(\n",
    "                data=data[:, 1:],\n",
    "                index=pd.DatetimeIndex(data[:,0]*1e9),\n",
    "                columns=columns\n",
    "            )\n",
    "        else:\n",
    "            return pd.DataFrame()\n",
    "\n",
    "    return set_time_index_zone(df, timezone)"
   ]
  },
  {
   "cell_type": "code",
   "execution_count": null,
   "metadata": {},
   "outputs": [],
   "source": []
  },
  {
   "cell_type": "markdown",
   "metadata": {},
   "source": [
    "### `timeseries_dataframe_from_datadict`"
   ]
  },
  {
   "cell_type": "code",
   "execution_count": null,
   "metadata": {},
   "outputs": [],
   "source": [
    "#| exports\n",
    "def timeseries_dataframe_from_datadict(\n",
    "        data:dict, \n",
    "        timecolumns=None,\n",
    "        recordformat='records'):\n",
    "        \n",
    "    \"\"\"\n",
    "    Converts a data dict into a pandas DataFrame based on the specified record format. \n",
    "    Parameters:\n",
    "        - data: A dictionary containing the data to convert.\n",
    "        - timecolumns: A list of column names to be treated as time columns.\n",
    "        - recordformat: A string specifying the format of the data records ('records', 'table', 'split', 'index', 'tight').\n",
    "    Returns:\n",
    "        - df: A pandas DataFrame with a DatetimeIndex representing the converted data.\n",
    "    \"\"\"\n",
    "\n",
    "    orient = recordformat.lower()\n",
    "    assert orient in ['records', 'table', 'split', 'index', 'tight']\n",
    "    assert timecolumns, 'No time columns specified'\n",
    "\n",
    "    if orient == 'records':\n",
    "        # data is a structured ndarray, sequence of tuples or dicts, or DataFrame\n",
    "        df = pd.DataFrame.from_records(data)\n",
    "        time_columns_in_df = [C for C in df.columns if C in timecolumns]\n",
    "        if not  time_columns_in_df:\n",
    "            #syslog.error(f\"No  column in records {df.columns} matches specification in time columns {timecolumns}, assuming first column is time\")\n",
    "            time_column = df.columns[0]\n",
    "        else:\n",
    "            time_column = time_columns_in_df[0]\n",
    "\n",
    "    elif orient == 'table':\n",
    "        # data is in pandas table format\n",
    "        time_column = data['schema']['primaryKey'][0]\n",
    "        df = pd.DataFrame.from_dict(data['data']).set_index(data['schema']['primaryKey'])\n",
    "        df.index.name = 'time'\n",
    "    else:\n",
    "        # data  is formatted according to 'orient' parameter (pandas)\n",
    "        df = pd.DataFrame.from_dict(data, orient=orient) # type: ignore\n",
    "        time_column = df.index.name\n",
    "\n",
    "\n",
    "    df.columns = list(df.columns)\n",
    "    df[time_column] = pd.to_datetime(df[time_column],utc=True,format='ISO8601')\n",
    "    df.set_index(time_column, inplace=True)\n",
    "    df.index = pd.DatetimeIndex(df.index).round('ms')\n",
    "    \n",
    "    df.index.name = 'time'\n",
    "\n",
    "    return df\n"
   ]
  },
  {
   "cell_type": "code",
   "execution_count": null,
   "metadata": {},
   "outputs": [
    {
     "data": {
      "application/vnd.microsoft.datawrangler.viewer.v0+json": {
       "columns": [
        {
         "name": "time",
         "rawType": "datetime64[ns, UTC]",
         "type": "unknown"
        },
        {
         "name": "value",
         "rawType": "float64",
         "type": "float"
        }
       ],
       "ref": "d3c2f05e-c705-4b0b-a101-84ebf227474e",
       "rows": [
        [
         "2023-05-04 10:04:49+00:00",
         "16.72"
        ],
        [
         "2023-05-04 10:24:51+00:00",
         "16.65"
        ],
        [
         "2023-05-04 10:44:53+00:00",
         "16.55"
        ]
       ],
       "shape": {
        "columns": 1,
        "rows": 3
       }
      },
      "text/html": [
       "<div>\n",
       "<style scoped>\n",
       "    .dataframe tbody tr th:only-of-type {\n",
       "        vertical-align: middle;\n",
       "    }\n",
       "\n",
       "    .dataframe tbody tr th {\n",
       "        vertical-align: top;\n",
       "    }\n",
       "\n",
       "    .dataframe thead th {\n",
       "        text-align: right;\n",
       "    }\n",
       "</style>\n",
       "<table border=\"1\" class=\"dataframe\">\n",
       "  <thead>\n",
       "    <tr style=\"text-align: right;\">\n",
       "      <th></th>\n",
       "      <th>value</th>\n",
       "    </tr>\n",
       "    <tr>\n",
       "      <th>time</th>\n",
       "      <th></th>\n",
       "    </tr>\n",
       "  </thead>\n",
       "  <tbody>\n",
       "    <tr>\n",
       "      <th>2023-05-04 10:04:49+00:00</th>\n",
       "      <td>16.72</td>\n",
       "    </tr>\n",
       "    <tr>\n",
       "      <th>2023-05-04 10:24:51+00:00</th>\n",
       "      <td>16.65</td>\n",
       "    </tr>\n",
       "    <tr>\n",
       "      <th>2023-05-04 10:44:53+00:00</th>\n",
       "      <td>16.55</td>\n",
       "    </tr>\n",
       "  </tbody>\n",
       "</table>\n",
       "</div>"
      ],
      "text/plain": [
       "                           value\n",
       "time                            \n",
       "2023-05-04 10:04:49+00:00  16.72\n",
       "2023-05-04 10:24:51+00:00  16.65\n",
       "2023-05-04 10:44:53+00:00  16.55"
      ]
     },
     "execution_count": null,
     "metadata": {},
     "output_type": "execute_result"
    }
   ],
   "source": [
    "df = timeseries_dataframe_from_datadict([\n",
    "      {\n",
    "         \"time\":\"2023-05-04T10:04:49.000Z\",\n",
    "         \"value\":16.72\n",
    "      },\n",
    "      {\n",
    "         \"time\":\"2023-05-04T10:24:51.000Z\",\n",
    "         \"value\":16.65\n",
    "      },\n",
    "      {\n",
    "         \"time\":\"2023-05-04T10:44:53.000Z\",\n",
    "         \"value\":16.55\n",
    "      }\n",
    "   ], timecolumns=['time'])\n",
    "df"
   ]
  },
  {
   "cell_type": "code",
   "execution_count": null,
   "metadata": {},
   "outputs": [
    {
     "data": {
      "text/plain": [
       "DatetimeIndex(['2023-05-04 10:04:49+00:00', '2023-05-04 10:24:51+00:00',\n",
       "               '2023-05-04 10:44:53+00:00'],\n",
       "              dtype='datetime64[ns, UTC]', name='time', freq=None)"
      ]
     },
     "execution_count": null,
     "metadata": {},
     "output_type": "execute_result"
    }
   ],
   "source": [
    "df.index"
   ]
  },
  {
   "cell_type": "code",
   "execution_count": null,
   "metadata": {},
   "outputs": [
    {
     "data": {
      "application/vnd.microsoft.datawrangler.viewer.v0+json": {
       "columns": [
        {
         "name": "time",
         "rawType": "datetime64[ns, Europe/Amsterdam]",
         "type": "unknown"
        },
        {
         "name": "value",
         "rawType": "float64",
         "type": "float"
        }
       ],
       "ref": "9722240c-8ef6-4c40-b1ab-cc09aee22f9a",
       "rows": [
        [
         "2023-05-04 12:04:49+02:00",
         "16.72"
        ],
        [
         "2023-05-04 12:24:51+02:00",
         "16.65"
        ],
        [
         "2023-05-04 12:44:53+02:00",
         "16.55"
        ]
       ],
       "shape": {
        "columns": 1,
        "rows": 3
       }
      },
      "text/html": [
       "<div>\n",
       "<style scoped>\n",
       "    .dataframe tbody tr th:only-of-type {\n",
       "        vertical-align: middle;\n",
       "    }\n",
       "\n",
       "    .dataframe tbody tr th {\n",
       "        vertical-align: top;\n",
       "    }\n",
       "\n",
       "    .dataframe thead th {\n",
       "        text-align: right;\n",
       "    }\n",
       "</style>\n",
       "<table border=\"1\" class=\"dataframe\">\n",
       "  <thead>\n",
       "    <tr style=\"text-align: right;\">\n",
       "      <th></th>\n",
       "      <th>value</th>\n",
       "    </tr>\n",
       "    <tr>\n",
       "      <th>time</th>\n",
       "      <th></th>\n",
       "    </tr>\n",
       "  </thead>\n",
       "  <tbody>\n",
       "    <tr>\n",
       "      <th>2023-05-04 12:04:49+02:00</th>\n",
       "      <td>16.72</td>\n",
       "    </tr>\n",
       "    <tr>\n",
       "      <th>2023-05-04 12:24:51+02:00</th>\n",
       "      <td>16.65</td>\n",
       "    </tr>\n",
       "    <tr>\n",
       "      <th>2023-05-04 12:44:53+02:00</th>\n",
       "      <td>16.55</td>\n",
       "    </tr>\n",
       "  </tbody>\n",
       "</table>\n",
       "</div>"
      ],
      "text/plain": [
       "                           value\n",
       "time                            \n",
       "2023-05-04 12:04:49+02:00  16.72\n",
       "2023-05-04 12:24:51+02:00  16.65\n",
       "2023-05-04 12:44:53+02:00  16.55"
      ]
     },
     "execution_count": null,
     "metadata": {},
     "output_type": "execute_result"
    }
   ],
   "source": [
    "df = set_time_index_zone( timeseries_dataframe_from_datadict([\n",
    "      {\n",
    "         \"time\":\"2023-05-04T10:04:49\",\n",
    "         \"value\":16.72\n",
    "      },\n",
    "      {\n",
    "         \"time\":\"2023-05-04T10:24:51\",\n",
    "         \"value\":16.65\n",
    "      },\n",
    "      {\n",
    "         \"time\":\"2023-05-04T10:44:53\",\n",
    "         \"value\":16.55\n",
    "      }\n",
    "   ], timecolumns=['time']), timezone='Europe/Amsterdam')\n",
    "df"
   ]
  },
  {
   "cell_type": "code",
   "execution_count": null,
   "metadata": {},
   "outputs": [
    {
     "data": {
      "text/plain": [
       "DatetimeIndex(['2023-05-04 12:04:49+02:00', '2023-05-04 12:24:51+02:00',\n",
       "               '2023-05-04 12:44:53+02:00'],\n",
       "              dtype='datetime64[ns, Europe/Amsterdam]', name='time', freq=None)"
      ]
     },
     "execution_count": null,
     "metadata": {},
     "output_type": "execute_result"
    }
   ],
   "source": [
    "df.index"
   ]
  },
  {
   "cell_type": "code",
   "execution_count": null,
   "metadata": {},
   "outputs": [],
   "source": [
    "#| hide\n",
    "import nbdev\n",
    "nbdev.nbdev_export()"
   ]
  }
 ],
 "metadata": {
  "kernelspec": {
   "display_name": "python3",
   "language": "python",
   "name": "python3"
  }
 },
 "nbformat": 4,
 "nbformat_minor": 4
}
