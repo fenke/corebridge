{
 "cells": [
  {
   "cell_type": "markdown",
   "metadata": {},
   "source": [
    "# AICore-Bridge\n",
    "\n",
    "> Bridge between Stactics AICore framework and Wodan/Conan processor modules"
   ]
  },
  {
   "cell_type": "code",
   "execution_count": null,
   "metadata": {},
   "outputs": [],
   "source": [
    "#| default_exp aicorebridge"
   ]
  },
  {
   "cell_type": "code",
   "execution_count": null,
   "metadata": {},
   "outputs": [],
   "source": [
    "#| export\n",
    "\n",
    "import typing\n",
    "import logging\n",
    "import inspect\n",
    "import traceback\n",
    "import datetime\n",
    "import json\n",
    "import pandas as pd\n",
    "import numpy as np\n",
    "\n",
    "from fastcore.basics import patch_to, patch"
   ]
  },
  {
   "cell_type": "code",
   "execution_count": null,
   "metadata": {},
   "outputs": [],
   "source": [
    "#| hide\n",
    "from nbdev.showdoc import *\n"
   ]
  },
  {
   "cell_type": "code",
   "execution_count": null,
   "metadata": {},
   "outputs": [],
   "source": [
    "#| export\n",
    "syslog = logging.getLogger(__name__)"
   ]
  },
  {
   "cell_type": "code",
   "execution_count": null,
   "metadata": {},
   "outputs": [],
   "source": [
    "#| export\n",
    "print(f\"loading {__name__}\")"
   ]
  },
  {
   "cell_type": "code",
   "execution_count": null,
   "metadata": {},
   "outputs": [],
   "source": [
    "#| export\n",
    "class AICoreModule(): pass"
   ]
  },
  {
   "cell_type": "markdown",
   "metadata": {},
   "source": [
    "The custom AICoreModule `__init__` takes the processor as our custom parameter as well as the parameters required by AICore; `assets_dir` and `save_dir`. Any additional parameters are accepted as generic `*args` and `**kwargs`."
   ]
  },
  {
   "cell_type": "code",
   "execution_count": null,
   "metadata": {},
   "outputs": [],
   "source": [
    "#| export\n",
    "@patch\n",
    "def __init__(self:AICoreModule, \n",
    "             processor:typing.Callable, # data processing function\n",
    "             save_dir:str, # path where the module can keep files \n",
    "             assets_dir:str,\n",
    "             *args, **kwargs):\n",
    "    \n",
    "    self.directory_args = dict(\n",
    "        save_dir=save_dir,\n",
    "        assets_dir=assets_dir\n",
    "    )\n",
    "    \n",
    "    self._init_processor(processor)\n",
    "\n",
    "    self.init_args = args\n",
    "    self.init_kwargs = {k:v for k,v in kwargs.items() if v is not None}\n",
    "\n",
    "    self.init_time = datetime.datetime.now(datetime.UTC)\n"
   ]
  },
  {
   "cell_type": "markdown",
   "metadata": {},
   "source": [
    "The private `_init_processor` gets information about the call signature for later reuse in `infer`"
   ]
  },
  {
   "cell_type": "code",
   "execution_count": null,
   "metadata": {},
   "outputs": [],
   "source": [
    "#| export\n",
    "@patch\n",
    "def _init_processor(\n",
    "        self:AICoreModule, \n",
    "        processor:typing.Callable):\n",
    "    \"\"\"Initializes processor related variables on self\"\"\"\n",
    "    \n",
    "    self.processor = processor\n",
    "    self.processor_signature = inspect.signature(self.processor)\n",
    "    self.processor_params = dict(self.processor_signature.parameters)\n",
    "    self.return_param = self.processor_params.pop('return', None)\n",
    "    self.data_param, *self.call_params = list(self.processor_params.keys())\n"
   ]
  },
  {
   "cell_type": "code",
   "execution_count": null,
   "metadata": {},
   "outputs": [],
   "source": [
    "#| export\n",
    "@patch\n",
    "def call_processor(self:AICoreModule, calldata, **callargs):\n",
    "    return self.processor(calldata, **callargs)\n"
   ]
  },
  {
   "cell_type": "code",
   "execution_count": null,
   "metadata": {},
   "outputs": [],
   "source": [
    "#| export\n",
    "@patch\n",
    "def infer(self:AICoreModule, data:dict, *_, **kwargs):\n",
    "    msg=[]\n",
    "    try:\n",
    "\n",
    "        msg=[\n",
    "            f\"{self.processor.__name__}({self.processor_signature})\",\n",
    "            f\"init_args: {self.init_args}\",\n",
    "            f\"init_kwargs: {self.init_kwargs}\",\n",
    "            f\"init time: {self.init_time.isoformat()}\"\n",
    "        ]\n",
    "\n",
    "        lastSeen = kwargs.pop('lastSeen', False)\n",
    "        recordformat = kwargs.pop('format', \"records\").lower()\n",
    "        reversed = kwargs.pop('reversed', False)\n",
    "        timezone = kwargs.get('timezone', 'UTC')\n",
    "        msg.append(f\"lastSeen: {lastSeen}, recordformat: {recordformat}, timezone: {timezone}\")\n",
    "\n",
    "        calldata = self.get_call_data(\n",
    "            data, \n",
    "            recordformat=recordformat,\n",
    "            timezone=timezone,\n",
    "            reversed=reversed)\n",
    "        \n",
    "        msg.append(f\"calldata shape: {calldata.shape}\")\n",
    "\n",
    "        callargs = self.get_callargs(**kwargs, **self.directory_args)\n",
    "\n",
    "        for arg, val in callargs.items():\n",
    "            msg.append(f\"{arg}: {val}\")\n",
    "            \n",
    "        result = self.call_processor(calldata, **callargs)\n",
    "        msg.append(f\"result shape: {result.shape}\")\n",
    "\n",
    "        return {\n",
    "            'msg':msg,\n",
    "            'data': self.rewrite_data(\n",
    "                result if not lastSeen else result[-1:],\n",
    "                recordformat=recordformat,\n",
    "                timezone=timezone,\n",
    "                reversed=reversed)\n",
    "        }\n",
    "\n",
    "    except Exception as err:\n",
    "        msg.append(''.join(traceback.format_exception(None, err, err.__traceback__)))\n",
    "        syslog.exception(f\"Exception {str(err)} in infer()\")\n",
    "        return {\n",
    "            'msg': msg,\n",
    "            'data': []\n",
    "        }\n"
   ]
  },
  {
   "cell_type": "code",
   "execution_count": null,
   "metadata": {},
   "outputs": [],
   "source": [
    "#| export\n",
    "@patch\n",
    "def get_callargs(self:AICoreModule, **kwargs):\n",
    "    \"Get arguments for the processor call\"\n",
    "\n",
    "    # Remove null / None values\n",
    "    kwargs = {k:v for k,v in kwargs.items() if v is not None}\n",
    "    \n",
    "    metadata = kwargs.pop('metadata', {}) # TODO: historic metadata\n",
    "\n",
    "    return {\n",
    "        K:self.processor_signature.parameters[K].annotation(kwargs.get(K,metadata.get(K, self.init_kwargs.get(K, self.processor_signature.parameters[K].default))))\n",
    "        for K in self.call_params\n",
    "    }\n"
   ]
  },
  {
   "cell_type": "code",
   "execution_count": null,
   "metadata": {},
   "outputs": [],
   "source": [
    "#| export\n",
    "@patch\n",
    "def get_call_data(\n",
    "        self:AICoreModule, \n",
    "        data:dict, \n",
    "        recordformat='records', \n",
    "        timezone='UTC', \n",
    "        reversed=False):\n",
    "    \n",
    "    \"Convert data to the processor signature\"\n",
    "\n",
    "    orient = recordformat.lower()\n",
    "    assert orient in ['records', 'table']\n",
    "    #assert False, \"started work on format\"\n",
    "    \n",
    "    if orient == 'records':\n",
    "        df = pd.DataFrame.from_records(data)\n",
    "        time_column = [C for C in df.columns if C.lower() in ['datetimemeasure', 'time']][0]\n",
    "\n",
    "    elif orient == 'table':\n",
    "        time_column = data['schema']['primaryKey'][0]\n",
    "        df = pd.DataFrame.from_dict(data['data']).set_index(data['schema']['primaryKey'])\n",
    "        df.index.name = 'time'\n",
    "\n",
    "    df.columns = [C.lower() for C in df.columns]\n",
    "    time_column = [C for C in df.columns if C in ['datetimemeasure', 'time']][0]\n",
    "    df[time_column] = pd.to_datetime(df[time_column],utc=True,format='ISO8601')\n",
    "    df.set_index(time_column, inplace=True)\n",
    "    #df.index = pd.DatetimeIndex(df.index).round('ms')\n",
    "    \n",
    "    df.index.name = 'time'\n",
    "\n",
    "    if reversed:\n",
    "        df = df[::-1]\n",
    "\n",
    "    if not df.index.tz:\n",
    "        df.index = df.index.tz_localize('UTC').tz_convert(timezone)\n",
    "    elif str(df.index.tz) != timezone:\n",
    "        df.index = df.index.tz_convert(timezone)\n",
    "\n",
    "    if self.processor_params[self.data_param].annotation == pd.DataFrame:\n",
    "        return df\n",
    "    elif len(df.columns) > 1:\n",
    "        df.index = (df.index - datetime.datetime(1970,1,1, tzinfo=datetime.timezone.utc)) / datetime.timedelta(seconds=1)\n",
    "        return df.to_records(index=True)\n",
    "    else:\n",
    "        df.index = (df.index - datetime.datetime(1970,1,1, tzinfo=datetime.timezone.utc)) / datetime.timedelta(seconds=1)\n",
    "        return df.reset_index().to_numpy()\n",
    "        "
   ]
  },
  {
   "cell_type": "code",
   "execution_count": null,
   "metadata": {},
   "outputs": [],
   "source": [
    "#| export\n",
    "@patch\n",
    "def rewrite_data(\n",
    "        self:AICoreModule, \n",
    "        data:typing.Union[pd.DataFrame, pd.Series, dict], \n",
    "        recordformat:str='split', \n",
    "        timezone:str='UTC', \n",
    "        reversed:bool=False):\n",
    "    \n",
    "    \"Rewrite data to dictionary matching the requested recordformat\"\n",
    "\n",
    "    orient = recordformat.lower()\n",
    "\n",
    "    if orient == 'split-index':\n",
    "        orient = 'split'\n",
    "\n",
    "    normalized_data = self.convert_to_dataframe(data, timezone=timezone)\n",
    "\n",
    "    if isinstance(normalized_data.index, pd.DatetimeIndex):\n",
    "        normalized_data.index = normalized_data.index.map(lambda x: x.isoformat())\n",
    "    \n",
    "    normalized_data.sort_index(ascending=not bool(reversed), inplace=True)\n",
    "\n",
    "    if orient == 'records':\n",
    "        records = normalized_data.reset_index().to_dict(orient='records')\n",
    "    else:\n",
    "        records =  normalized_data.to_dict(orient=orient)\n",
    "    \n",
    "\n",
    "    if normalized_data.isna().any(axis=None):\n",
    "        return [ {k:v for k,v in m.items() if pd.notnull(v)} for m in records]\n",
    "    else:\n",
    "        return records\n",
    "\n",
    "    "
   ]
  },
  {
   "cell_type": "code",
   "execution_count": null,
   "metadata": {},
   "outputs": [],
   "source": [
    "#| export\n",
    "@patch\n",
    "def convert_to_dataframe(\n",
    "        self:AICoreModule, \n",
    "        adata:typing.Union[pd.DataFrame, pd.Series, dict, np.ndarray, np.recarray], \n",
    "        timezone='UTC', \n",
    "        columnnames=None):\n",
    "    \"\"\"Convert various data formats to standardized timeseries DataFrame\"\"\"\n",
    "\n",
    "    if isinstance(adata, pd.DataFrame):\n",
    "        df = adata\n",
    "    elif isinstance(adata, pd.Series):\n",
    "        df = pd.DataFrame(adata)\n",
    "\n",
    "    elif isinstance(adata, dict):\n",
    "        # dict/mapping of individual timeseries\n",
    "        df = pd.DataFrame({\n",
    "            C:pd.Series(data=A[:,1], index=pd.DatetimeIndex(A[:,0]*1e9)) if isinstance(A, np.ndarray) else A\n",
    "            for C,A in adata.items()\n",
    "        })\n",
    "\n",
    "    elif adata.dtype.names is not None:\n",
    "        # structured or recarray\n",
    "        df = pd.DataFrame(\n",
    "            data=adata.view(dtype=np.float64).reshape(adata.shape[0],len(adata.dtype))[:,range(1,len(adata.dtype))],\n",
    "            index=pd.DatetimeIndex(adata.view(dtype=np.float64).reshape(adata.shape[0],len(adata.dtype))[:,0] * 1e9),\n",
    "            columns=adata.dtype.names[1:]\n",
    "        )\n",
    "\n",
    "    else:\n",
    "        if adata.shape[0] > 0:\n",
    "            if adata.shape[1]>2:\n",
    "                columns=[f\"value_{str(i+1)}\" for i in range(adata.shape[1]-1)] if not columnnames else [f\"{str(i)}\" for i in columnnames[1:]]\n",
    "            else:\n",
    "                columns=['value']\n",
    "\n",
    "            df = pd.DataFrame(\n",
    "                data=adata[:, 1:],\n",
    "                index=pd.DatetimeIndex(adata[:,0]*1e9),\n",
    "                columns=columns\n",
    "            )\n",
    "        else:\n",
    "            return pd.DataFrame()\n",
    "\n",
    "    if isinstance(df.index, pd.DatetimeIndex):\n",
    "        df.index.name = 'time'\n",
    "        if not df.index.tz:\n",
    "            df.index = df.index.tz_localize('UTC').tz_convert(timezone)\n",
    "        elif str(df.index.tz) != timezone:\n",
    "            df.index = df.index.tz_convert(timezone)\n",
    "\n",
    "    return df"
   ]
  },
  {
   "cell_type": "markdown",
   "metadata": {},
   "source": [
    "### References"
   ]
  },
  {
   "cell_type": "markdown",
   "metadata": {},
   "source": []
  },
  {
   "cell_type": "code",
   "execution_count": null,
   "metadata": {},
   "outputs": [],
   "source": [
    "#| hide\n",
    "import nbdev; nbdev.nbdev_export()"
   ]
  }
 ],
 "metadata": {
  "kernelspec": {
   "display_name": "python3",
   "language": "python",
   "name": "python3"
  }
 },
 "nbformat": 4,
 "nbformat_minor": 4
}
