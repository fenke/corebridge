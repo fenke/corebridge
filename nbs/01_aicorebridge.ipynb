{
 "cells": [
  {
   "attachments": {},
   "cell_type": "markdown",
   "metadata": {},
   "source": [
    "# AICore-Bridge\n",
    "\n",
    "> Bridge between Stactics AICore framework and Wodan/Conan processor modules"
   ]
  },
  {
   "cell_type": "code",
   "execution_count": null,
   "metadata": {},
   "outputs": [],
   "source": [
    "#| default_exp aicorebridge"
   ]
  },
  {
   "cell_type": "code",
   "execution_count": null,
   "metadata": {},
   "outputs": [],
   "source": [
    "#| hide\n",
    "from nbdev.showdoc import *\n",
    "import addroot"
   ]
  },
  {
   "cell_type": "code",
   "execution_count": null,
   "metadata": {},
   "outputs": [],
   "source": [
    "#| hide\n",
    "#addroot.sys.path.append(addroot.os.path.join(addroot.project_root, 'corebridge'))"
   ]
  },
  {
   "cell_type": "code",
   "execution_count": null,
   "metadata": {},
   "outputs": [],
   "source": [
    "#| export\n",
    "\n",
    "import typing\n",
    "import logging\n",
    "import traceback\n",
    "import inspect\n",
    "import datetime\n",
    "import json\n",
    "import os\n",
    "import pandas, pandas as pd\n",
    "import numpy, numpy as np\n",
    "\n",
    "from dateutil import parser\n",
    "from fastcore.basics import patch_to, patch\n",
    "from corebridge.core import *\n",
    "from corebridge import __version__\n"
   ]
  },
  {
   "cell_type": "code",
   "execution_count": null,
   "metadata": {},
   "outputs": [],
   "source": [
    "#| export\n",
    "syslog = logging.getLogger(__name__)"
   ]
  },
  {
   "cell_type": "code",
   "execution_count": null,
   "metadata": {},
   "outputs": [],
   "source": [
    "#| export\n",
    "try:\n",
    "    print(f\"Loading {__name__} {__version__} from {__file__}\")\n",
    "except:\n",
    "    pass"
   ]
  },
  {
   "cell_type": "markdown",
   "metadata": {},
   "source": [
    "## Support functions"
   ]
  },
  {
   "cell_type": "code",
   "execution_count": null,
   "metadata": {},
   "outputs": [],
   "source": [
    "#| export\n",
    "def build_historic_args(data:pd.DataFrame, history:dict|list) -> dict:\n",
    "    \"\"\"Create a timeseries DataFrame from historic data defined in `history`.\n",
    "\n",
    "    Parameters\n",
    "    ----------\n",
    "    data : pd.DataFrame\n",
    "        The input time-series DataFrame.\n",
    "    history : dict or list of dicts\n",
    "        Historic data definition, each item in the list is a dictionary with a startDate key to set the start of a section of historic data in the result and a column-value pair for each of the columns in the \n",
    "\n",
    "    Returns\n",
    "    -------\n",
    "    historic_data : dict\n",
    "        Historic data in dictionary format where keys are column names and values are the historic values as numpy array.\n",
    "    \"\"\"\n",
    "\n",
    "    if not history:\n",
    "        return {}\n",
    "    \n",
    "    if isinstance(history, dict):\n",
    "        return history\n",
    "    \n",
    "    if not isinstance(history, list):\n",
    "        return {}\n",
    "    \n",
    "    if isinstance(data, pd.DataFrame):\n",
    "        dates = data.index.astype(np.int64).astype(np.float64) / 1e9\n",
    "        dates = dates.to_numpy()\n",
    "    elif data.dtype.names is not None:\n",
    "        dates = data.view(dtype=np.float64).reshape(data.shape[0],len(data.dtype))[:,0]\n",
    "    else:\n",
    "        dates = data[:,0]\n",
    "    dates = dates.astype(np.int64)\n",
    "    \n",
    "    columns = list(set([K for I in history for K in I.keys() if K != 'startDate']))\n",
    "    column_data = {K:np.full(len(dates), np.nan, dtype=np.float64) for K in columns}\n",
    "\n",
    "    for I in history:\n",
    "        date = parser.parse(str((I.pop('startDate','2000-01-01T00:00:00+00:00')))).timestamp()\n",
    "        mask = np.greater_equal(dates, date)\n",
    "        for K,V in I.items():\n",
    "            column_data[K][mask] = V\n",
    "    \n",
    "    return column_data\n",
    "    #return pd.DataFrame(column_data, index=data.index)\n"
   ]
  },
  {
   "cell_type": "code",
   "execution_count": null,
   "metadata": {},
   "outputs": [],
   "source": [
    "test_data=set_time_index_zone(timeseries_dataframe_from_datadict(\n",
    "   [\n",
    "      {\n",
    "         \"time\":\"2023-05-04T10:04:49\",\n",
    "         \"value\":16.72\n",
    "      },\n",
    "      {\n",
    "         \"time\":\"2023-05-04T10:44:53\",\n",
    "         \"value\":16.55\n",
    "      },\n",
    "      {\n",
    "         \"time\":\"2023-05-04T10:24:51\",\n",
    "         \"value\":16.65\n",
    "      }\n",
    "   ], ['datetimeMeasure', 'time'], 'records'), 'UTC').sort_index()"
   ]
  },
  {
   "cell_type": "code",
   "execution_count": null,
   "metadata": {},
   "outputs": [
    {
     "data": {
      "text/plain": [
       "{'anumber': array([1., 1., 2.])}"
      ]
     },
     "execution_count": null,
     "metadata": {},
     "output_type": "execute_result"
    }
   ],
   "source": [
    "history_arg = [\n",
    "                dict(anumber=1.0),\n",
    "                dict(startDate=\"2023-05-04T10:25:00+00:00\", anumber=2.0)\n",
    "            ]\n",
    "build_historic_args(test_data,history_arg)"
   ]
  },
  {
   "cell_type": "markdown",
   "metadata": {},
   "source": [
    "## Class AICoreModule"
   ]
  },
  {
   "cell_type": "markdown",
   "metadata": {},
   "source": [
    "`<<<<<<< HEAD`"
   ]
  },
  {
   "cell_type": "code",
   "execution_count": null,
   "metadata": {},
   "outputs": [],
   "source": [
    "#| exports\n",
    "class AICoreModule(AICoreModuleBase): pass"
   ]
  },
  {
   "cell_type": "code",
   "execution_count": null,
   "metadata": {},
   "outputs": [],
   "source": [
    "#| exports\n",
    "@patch\n",
    "def __init__(self:AICoreModule, \n",
    "class AICoreModule(AICoreModuleBase):\n",
    "    def __init__(self, \n",
    "             processor:typing.Callable, # data processing function\n",
    "             save_dir:str, # path where the module can keep files \n",
    "             assets_dir:str,\n",
    "             *args, **kwargs):\n",
    "    \n",
    "        super().__init__(save_dir, assets_dir, *args, **kwargs)\n",
    "        self._init_processor(processor)\n",
    "\n"
   ]
  },
  {
   "cell_type": "markdown",
   "metadata": {},
   "source": [
    "`=======`"
   ]
  },
  {
   "cell_type": "code",
   "execution_count": 11,
   "metadata": {},
   "outputs": [],
   "source": [
    "#| exports\n",
    "@patch\n",
    "def _init_processor(\n",
    "        self:AICoreModule, \n",
    "        processor:typing.Callable):\n",
    "    \"\"\"Initializes processor related variables on self\"\"\"\n",
    "    \n",
    "    self.processor = processor\n",
    "    self.processor_signature = inspect.signature(self.processor)\n",
    "    self.processor_params = dict(self.processor_signature.parameters)\n",
    "    self.return_param = self.processor_params.pop('return', None)\n",
    "    \n",
    "    self.data_param, *self.call_params = list(self.processor_params.keys())\n",
    "\n",
    "    if not (\n",
    "        self.processor_params[self.data_param].annotation == pd.DataFrame\n",
    "        or self.processor_params[self.data_param].annotation == np.ndarray\n",
    "\n",
    "    ):\n",
    "\n",
    "        self.data_param = None\n",
    "        self.call_params = list(self.processor_params.keys())\n",
    "\n"
   ]
  },
  {
   "cell_type": "code",
   "execution_count": null,
   "execution_count": 12,
   "metadata": {},
   "outputs": [],
   "source": [
    "#| exports\n",
    "# can be overloaded\n",
    "@patch\n",
    "def call_processor(self:AICoreModule, calldata, **callargs):\n",
    "    if self.data_param:\n",
    "        return self.processor(calldata, **callargs)\n",
    "    else:\n",
    "        return self.processor(**callargs)\n"
   ]
  },
  {
   "cell_type": "markdown",
   "metadata": {},
   "source": [
    "### `infer()`\n",
    "\n",
    "This method, called by the AICore, is responsible for processing the data and parameters request recieved by AICore. Infer takes a \n",
    "`data` parameter which contains the contents of the data key in the request body. Additionally an optional list of files that were \n",
    "send with the request - these are currently ignored - and finally the contents of the kwargs key in the request body."
   ]
  },
  {
   "cell_type": "code",
   "execution_count": null,
   "execution_count": 13,
   "metadata": {},
   "outputs": [],
   "source": [
    "#| exports\n",
    "@patch\n",
    "def infer(self:AICoreModule, data:dict, *_, **kwargs):\n",
    "    try:\n",
    "\n",
    "        msg=[\n",
    "            f\"Startup time: {self.init_time.isoformat()}\",\n",
    "            f\"Corebridge version: {self.aicorebridge_version}\",\n",
    "            f\"{self.processor.__name__}({self.processor_signature})\",             \n",
    "            f\"init_args: {self.init_args}, init_kwargs: {self.init_kwargs}\",\n",
    "        ]\n",
    "\n",
    "        # Pickup params, pop those that are not intended for the processor\n",
    "        lastSeen = kwargs.pop('lastSeen', False)\n",
    "        recordformat = kwargs.pop('format', \"records\").lower()\n",
    "        timezone = kwargs.get('timezone', 'UTC')\n",
    "        msg.append(f\"lastSeen: {lastSeen}, recordformat: {recordformat}, timezone: {timezone}\")\n",
    "\n",
    "        samplerPeriod = kwargs.pop('samplerPeriod', self.init_kwargs.get('samplerPeriod','h'))\n",
    "        samplerMethod = kwargs.pop('samplerMethod', self.init_kwargs.get('samplerMethod',None))\n",
    "        reversed = kwargs.pop('reversed', False)\n",
    "\n",
    "        calldata = self.get_call_data(\n",
    "            data, \n",
    "            recordformat=recordformat,\n",
    "            timezone=timezone)\n",
    "        \n",
    "        #msg.append(f\"calldata shape: {calldata.shape}\")\n",
    "\n",
    "        history = build_historic_args(calldata, kwargs.pop('history', {}))\n",
    "\n",
    "        callargs = self.get_callargs(kwargs, history)\n",
    "\n",
    "        for arg, val in callargs.items():\n",
    "            msg.append(f\"{arg}: {val}\")\n",
    "        \n",
    "        calculated_result = self.call_processor(\n",
    "            calldata, \n",
    "            **callargs\n",
    "        )\n",
    "\n",
    "        try:\n",
    "            result = timeseries_dataframe(\n",
    "                calculated_result, \n",
    "                timezone=timezone)\n",
    "            \n",
    "            msg.append(f\"result shape: {result.shape}\")\n",
    "\n",
    "            if samplerMethod:\n",
    "                msg.append(f\"Sampler: {samplerMethod}, period: {samplerPeriod}\")\n",
    "                result = timeseries_dataframe_resample(result, samplerPeriod, samplerMethod)\n",
    "\n",
    "            msg.append(f\"return-data shape: {result.shape}\")\n",
    "\n",
    "            if reversed:\n",
    "                result = result[::-1]\n",
    "\n",
    "            return {\n",
    "                'msg':msg,\n",
    "                'data': timeseries_dataframe_to_datadict(\n",
    "                    result if not lastSeen else result[-1:],\n",
    "                    recordformat=recordformat,\n",
    "                    timezone=timezone,\n",
    "                    popNaN=True)\n",
    "            }\n",
    "        \n",
    "        # tries dataframe return\n",
    "        except Exception as err:\n",
    "            msg.append(f\"No timeseries data, error={err}\")\n",
    "        \n",
    "        df = pd.DataFrame(calculated_result)\n",
    "        df\n",
    "        df.columns = [f\"value_{str(c)}\" if isinstance(c, int) else str(c) for c in list(df.columns)]\n",
    "        df.reset_index().to_dict(orient='records')\n",
    "        return {\n",
    "            'msg':msg,\n",
    "            'data': df.reset_index().to_dict(orient='records')\n",
    "        }\n",
    "\n",
    "    \n",
    "    # function try-catch\n",
    "    except Exception as err:\n",
    "        msg.append(''.join(traceback.format_exception(None, err, err.__traceback__)))\n",
    "        syslog.exception(f\"Exception {str(err)} in infer()\")\n",
    "        return {\n",
    "            'msg': f\"Unexpected {err=}, {type(err)=}\",\n",
    "            'data': []\n",
    "        }\n"
   ]
  },
  {
   "cell_type": "markdown",
   "metadata": {},
   "source": [
    "### `get_callargs`\n"
   ]
  },
  {
   "cell_type": "code",
   "execution_count": null,
   "execution_count": 14,
   "metadata": {},
   "outputs": [],
   "source": [
    "#| exports\n",
    "# Specialized types for initializing annotated parameters\n",
    "# Add types by adding a tuple with the type name and a builder function\n",
    "annotated_arg_builders = {\n",
    "    str(B[0]):B[1] for B in [\n",
    "        (numpy.ndarray, lambda X: numpy.array(X, dtype=X.dtype))\n",
    "    ]\n",
    "}\n"
   ]
  },
  {
   "cell_type": "code",
   "execution_count": null,
   "execution_count": 15,
   "metadata": {},
   "outputs": [],
   "source": [
    "\n",
    "#| exports\n",
    "\n",
    "@patch\n",
    "def init_annotated_param(self:AICoreModule, param_name, value):\n",
    "    \"\"\"\n",
    "    Initialize argument for the processor call\n",
    "    \n",
    "    param_name: name of the parameter to be initialized\n",
    "    value: value of the parameter read from infer data to be used for initialization\n",
    "    \n",
    "    \"\"\"\n",
    "\n",
    "    annotation = self.processor_signature.parameters[param_name].annotation\n",
    "\n",
    "    # try to convert value to one of the types in the annotation\n",
    "    for T in typing.get_args(annotation):\n",
    "        try:\n",
    "            builder = annotated_arg_builders.get(str(T), T)\n",
    "            return builder(value)\n",
    "        except TypeError as err:\n",
    "            continue\n",
    "    try:\n",
    "        return annotation(value)\n",
    "    except TypeError as err:\n",
    "        syslog.exception(f\"Exception {str(err)} in fallback conversion to {annotation} of {type(value)}\")\n",
    "\n",
    " "
   ]
  },
  {
   "cell_type": "code",
   "execution_count": null,
   "execution_count": 16,
   "metadata": {},
   "outputs": [],
   "source": [
    "#| exports\n",
    "@patch\n",
    "def get_callargs(self:AICoreModule, kwargs, history):\n",
    "    \"Get arguments for the processor call\"\n",
    "\n",
    "    # Remove null / None values\n",
    "    kwargs = {k:v for k,v in kwargs.items() if v is not None}\n",
    "    \n",
    "    return {\n",
    "        K:self.init_annotated_param(\n",
    "            K,\n",
    "            history.get(\n",
    "                K,\n",
    "                self.init_kwargs.get(\n",
    "                    K,\n",
    "                    kwargs.get(\n",
    "                        K, \n",
    "                        self.processor_signature.parameters[K].default\n",
    "                    )\n",
    "                )\n",
    "            )\n",
    "        )\n",
    "        for K in self.call_params\n",
    "    }\n"
   ]
  },
  {
   "cell_type": "code",
   "execution_count": null,
   "execution_count": 17,
   "metadata": {},
   "outputs": [],
   "source": [
    "def processor_function(data:pd.DataFrame, anumber:float|np.ndarray):\n",
    "    return anumber * data\n",
    "\n",
    "test_module = AICoreModule(processor_function, os.path.join(os.getcwd(), 'cache'), os.path.join(os.getcwd(), 'cache'))\n"
   ]
  },
  {
   "cell_type": "markdown",
   "metadata": {},
   "source": [
    "### `get_call_data`"
   ]
  },
  {
   "cell_type": "code",
   "execution_count": null,
   "execution_count": 18,
   "metadata": {},
   "outputs": [],
   "source": [
    "#| exports\n",
    "@patch\n",
    "def get_call_data(\n",
    "        self:AICoreModule, \n",
    "        data:dict, \n",
    "        recordformat='records', \n",
    "        timezone='UTC'):\n",
    "    \n",
    "    \"Convert data to the processor signature\"\n",
    "    \n",
    "    if not self.data_param:\n",
    "        return None\n",
    "\n",
    "    df = set_time_index_zone(timeseries_dataframe_from_datadict(\n",
    "        data, ['datetimeMeasure', 'time'], recordformat), timezone)\n",
    "\n",
    "    df.sort_index(inplace=True)\n",
    "\n",
    "    if self.processor_params[self.data_param].annotation == pd.DataFrame:\n",
    "        return df\n",
    "    elif len(df.columns) > 1:\n",
    "        df.index = (df.index - datetime.datetime(1970,1,1, tzinfo=datetime.timezone.utc)) / datetime.timedelta(seconds=1)\n",
    "        return df.to_records(index=True)\n",
    "    else:\n",
    "        df.index = (df.index - datetime.datetime(1970,1,1, tzinfo=datetime.timezone.utc)) / datetime.timedelta(seconds=1)\n",
    "        return df.reset_index().to_numpy()\n",
    "        "
   ]
  },
  {
   "cell_type": "code",
   "execution_count": null,
   "execution_count": 19,
   "metadata": {},
   "outputs": [
    {
     "data": {
      "text/html": [
       "<div>\n",
       "<style scoped>\n",
       "    .dataframe tbody tr th:only-of-type {\n",
       "        vertical-align: middle;\n",
       "    }\n",
       "\n",
       "    .dataframe tbody tr th {\n",
       "        vertical-align: top;\n",
       "    }\n",
       "\n",
       "    .dataframe thead th {\n",
       "        text-align: right;\n",
       "    }\n",
       "</style>\n",
       "<table border=\"1\" class=\"dataframe\">\n",
       "  <thead>\n",
       "    <tr style=\"text-align: right;\">\n",
       "      <th></th>\n",
       "      <th>index</th>\n",
       "      <th>value</th>\n",
       "    </tr>\n",
       "    <tr>\n",
       "      <th>time</th>\n",
       "      <th></th>\n",
       "      <th></th>\n",
       "    </tr>\n",
       "  </thead>\n",
       "  <tbody>\n",
       "    <tr>\n",
       "      <th>2023-05-04 10:04:49+00:00</th>\n",
       "      <td>0</td>\n",
       "      <td>16.72</td>\n",
       "    </tr>\n",
       "    <tr>\n",
       "      <th>2023-05-04 10:24:51+00:00</th>\n",
       "      <td>1</td>\n",
       "      <td>16.65</td>\n",
       "    </tr>\n",
       "    <tr>\n",
       "      <th>2023-05-04 10:44:53+00:00</th>\n",
       "      <td>2</td>\n",
       "      <td>16.55</td>\n",
       "    </tr>\n",
       "  </tbody>\n",
       "</table>\n",
       "</div>"
      ],
      "text/plain": [
       "                           index  value\n",
       "time                                   \n",
       "2023-05-04 10:04:49+00:00      0  16.72\n",
       "2023-05-04 10:24:51+00:00      1  16.65\n",
       "2023-05-04 10:44:53+00:00      2  16.55"
      ]
     },
     "execution_count": null,
     "execution_count": 19,
     "metadata": {},
     "output_type": "execute_result"
    }
   ],
   "source": [
    "calldata = test_module.get_call_data(test_data.reset_index().to_records())\n",
    "calldata"
   ]
  },
  {
   "cell_type": "code",
   "execution_count": null,
   "execution_count": 20,
   "metadata": {},
   "outputs": [
    {
     "data": {
      "text/plain": [
       "{'anumber': array([2., 2., 2.])}"
      ]
     },
     "execution_count": null,
     "execution_count": 20,
     "metadata": {},
     "output_type": "execute_result"
    }
   ],
   "source": [
    "history = build_historic_args(calldata,history_arg)\n",
    "history"
   ]
  },
  {
   "cell_type": "code",
   "execution_count": null,
   "execution_count": 21,
   "metadata": {},
   "outputs": [
    {
     "name": "stdout",
     "output_type": "stream",
     "text": [
      "{'anumber': array([2., 2., 2.])}\n"
     ]
    }
   ],
   "source": [
    "print(test_module.get_callargs(calldata, history))"
   ]
  },
  {
   "cell_type": "code",
   "execution_count": null,
   "execution_count": 22,
   "metadata": {},
   "outputs": [
    {
     "data": {
      "text/plain": [
       "array([2., 2., 2.])"
      ]
     },
     "execution_count": null,
     "execution_count": 22,
     "metadata": {},
     "output_type": "execute_result"
    }
   ],
   "source": [
    "np.array(history['anumber'])"
   ]
  },
  {
   "cell_type": "code",
   "execution_count": null,
   "execution_count": 23,
   "metadata": {},
   "outputs": [
    {
     "data": {
      "text/plain": [
       "array([2., 2., 2.])"
      ]
     },
     "execution_count": null,
     "execution_count": 23,
     "metadata": {},
     "output_type": "execute_result"
    }
   ],
   "source": [
    "test_module.init_annotated_param(\n",
    "    'anumber',\n",
    "    history['anumber']\n",
    ")"
   ]
  },
  {
   "cell_type": "code",
   "execution_count": null,
   "execution_count": 24,
   "metadata": {},
   "outputs": [
    {
     "data": {
      "text/plain": [
       "1.5"
      ]
     },
     "execution_count": null,
     "execution_count": 24,
     "metadata": {},
     "output_type": "execute_result"
    }
   ],
   "source": [
    "test_module.init_annotated_param(\n",
    "    'anumber',\n",
    "    1.5\n",
    ")"
   ]
  },
  {
   "cell_type": "code",
   "execution_count": null,
   "execution_count": 25,
   "metadata": {},
   "outputs": [
    {
     "data": {
      "text/plain": [
       "float | numpy.ndarray"
      ]
     },
     "execution_count": null,
     "execution_count": 25,
     "metadata": {},
     "output_type": "execute_result"
    }
   ],
   "source": [
    "test_module.processor_signature.parameters['anumber'].annotation"
   ]
  },
  {
   "cell_type": "code",
   "execution_count": null,
   "execution_count": 26,
   "metadata": {},
   "outputs": [
    {
     "data": {
      "text/plain": [
       "array([2., 2., 2.])"
      ]
     },
     "execution_count": null,
     "execution_count": 26,
     "metadata": {},
     "output_type": "execute_result"
    }
   ],
   "source": [
    "np.array(history['anumber'])"
   ]
  },
  {
   "cell_type": "code",
   "execution_count": null,
   "execution_count": 27,
   "metadata": {},
   "outputs": [
    {
     "data": {
      "text/plain": [
       "array([2., 2., 2.])"
      ]
     },
     "execution_count": null,
     "execution_count": 27,
     "metadata": {},
     "output_type": "execute_result"
    }
   ],
   "source": [
    "annotated_arg_builders[str(numpy.ndarray)](history['anumber'])"
   ]
  },
  {
   "cell_type": "code",
   "execution_count": null,
   "metadata": {},
   "outputs": [],
   "source": []
  },
  {
   "cell_type": "code",
   "execution_count": null,
   "execution_count": 28,
   "metadata": {},
   "outputs": [],
   "source": [
    "assert True, 'stop'"
   ]
  },
  {
   "attachments": {},
   "cell_type": "markdown",
   "metadata": {},
   "source": [
    "### Tests"
   ]
  },
  {
   "cell_type": "code",
   "execution_count": null,
   "execution_count": 29,
   "metadata": {},
   "outputs": [],
   "source": [
    "import os, addroot, pandas as pd, numpy as np\n"
   ]
  },
  {
   "cell_type": "code",
   "execution_count": null,
   "execution_count": 30,
   "metadata": {},
   "outputs": [],
   "source": [
    "\n",
    "def test_function(data:pd.DataFrame, anumber:float|np.ndarray=0):\n",
    "    return data * anumber\n"
   ]
  },
  {
   "cell_type": "code",
   "execution_count": 31,
   "metadata": {},
   "outputs": [],
   "source": [
    "def test_simple_function(anumber:float, another:float):\n",
    "    return [another * anumber]\n"
   ]
  },
  {
   "cell_type": "code",
   "execution_count": null,
   "metadata": {},
   "outputs": [],
   "source": [
    "\n",
    "\n",
    "class TestAICoreModule(AICoreModule):\n",
    "    def __init__(self, save_dir, *args, **kwargs):\n",
    "        super().__init__(test_function, save_dir, None, *args, **kwargs)\n"
   ]
  },
  {
   "cell_type": "markdown",
   "metadata": {},
   "source": [
    "`<<<<<<< HEAD`"
   ]
  },
  {
   "cell_type": "code",
   "execution_count": null,
   "execution_count": 33,
   "metadata": {},
   "outputs": [],
   "source": [
    "\n",
    "class SimpleAICoreModule(AICoreModule):\n",
    "    def __init__(self, save_dir, *args, **kwargs):\n",
    "        super().__init__(test_simple_function, save_dir, None, *args, **kwargs)\n"
   ]
  },
  {
   "cell_type": "code",
   "execution_count": 34,
   "metadata": {},
   "outputs": [],
   "source": [
    "\n",
    "save_dir = os.path.join(os.getcwd(), 'cache')\n",
    "test_module = TestAICoreModule(os.path.join(os.getcwd(), 'cache'), 1, 2, num_1=3, num_2=4)\n",
    "\n",
    "assert test_module.init_args == (1, 2)\n",
    "assert test_module.init_kwargs['num_1'] == 3\n",
    "assert test_module.init_kwargs['num_2'] == 4\n",
    "assert test_module.init_kwargs['save_dir'] == save_dir"
   ]
  },
  {
   "cell_type": "code",
   "execution_count": 35,
   "metadata": {},
   "outputs": [
    {
     "name": "stdout",
     "output_type": "stream",
     "text": [
      "Normalized, Europe/Amsterdam\n",
      "Test Data\n",
      " [\n",
      "  {\n",
      "    \"datetimeMeasure\": \"2020-04-01T00:01:11.123Z\",\n",
      "    \"value\": 1.1\n",
      "  },\n",
      "  {\n",
      "    \"datetimeMeasure\": \"2020-04-02T00:20:00Z\",\n",
      "    \"value\": 2.3\n",
      "  }\n",
      "]\n",
      "Result Message\n",
      " [\n",
      "  \"Startup time: 2025-01-23T10:13:17.095714+00:00\",\n",
      "  \"Corebridge version: 0.3.5\",\n",
      "  \"Startup time: 2025-01-25T13:25:32.840039+00:00\",\n",
      "  \"Corebridge version: 0.3.4\",\n",
      "  \"test_function((data: pandas.core.frame.DataFrame, anumber: float | numpy.ndarray = 0))\",\n",
      "  \"init_args: (1, 2), init_kwargs: {'num_1': 3, 'num_2': 4, 'assets_dir': None, 'save_dir': '/home/fenke/repos/corebridge/nbs/cache'}\",\n",
      "  \"lastSeen: False, recordformat: records, timezone: Europe/Amsterdam\",\n",
      "  \"anumber: 2.0\",\n",
      "  \"result shape: (2, 1)\",\n",
      "  \"return-data shape: (2, 1)\"\n",
      "]\n",
      "Result Data\n",
      " [\n",
      "  {\n",
      "    \"time\": \"2020-04-01T02:01:11.123+02:00\",\n",
      "    \"value\": 2.2\n",
      "  },\n",
      "  {\n",
      "    \"time\": \"2020-04-02T02:20:00.000+02:00\",\n",
      "    \"value\": 4.6\n",
      "  }\n",
      "]\n"
     ]
    }
   ],
   "source": [
    "\n",
    "test_data = [\n",
    "    dict(datetimeMeasure='2020-04-01T00:01:11.123Z', value=1.1),\n",
    "    dict(datetimeMeasure='2020-04-02T00:20:00Z', value=2.3),\n",
    "]\n",
    "result = test_module.infer(test_data, timezone='Europe/Amsterdam', anumber=2)\n",
    "print(\"Test Data\\n\", json.dumps(test_data, indent=2))\n",
    "print(\"Result Message\\n\", json.dumps(result['msg'], indent=2))\n",
    "print(\"Result Data\\n\", json.dumps(result['data'], indent=2))"
   ]
  },
  {
   "cell_type": "code",
   "execution_count": null,
   "execution_count": 36,
   "metadata": {},
   "outputs": [
    {
     "data": {
      "text/plain": [
       "pandas.core.frame.DataFrame"
      ]
     },
     "execution_count": null,
     "execution_count": 36,
     "metadata": {},
     "output_type": "execute_result"
    }
   ],
   "source": [
    "test_module.processor_signature.parameters['data'].annotation"
   ]
  },
  {
   "cell_type": "code",
   "execution_count": null,
   "execution_count": 37,
   "metadata": {},
   "outputs": [
    {
     "name": "stdout",
     "output_type": "stream",
     "text": [
      "(<class 'float'>, <class 'numpy.ndarray'>)\n"
     ]
    }
   ],
   "source": [
    "annotation = test_module.processor_signature.parameters['anumber'].annotation\n",
    "print(typing.get_args(annotation))\n"
   ]
  },
  {
   "cell_type": "code",
   "execution_count": null,
   "execution_count": 38,
   "metadata": {},
   "outputs": [
    {
     "name": "stdout",
     "output_type": "stream",
     "text": [
      "0.0\n",
      "[]\n"
     ]
    }
   ],
   "source": [
    "for T in typing.get_args(annotation):\n",
    "    print(T(0))"
   ]
  },
  {
   "cell_type": "markdown",
   "metadata": {},
   "source": [
    "#### Simple module"
   ]
  },
  {
   "cell_type": "code",
   "execution_count": 39,
   "metadata": {},
   "outputs": [],
   "source": [
    "simple_module = SimpleAICoreModule(save_dir, 1, 2, num_1=3, num_2=4)\n",
    "\n",
    "assert simple_module.init_args == (1, 2)\n",
    "assert simple_module.init_kwargs['num_1'] == 3\n",
    "assert simple_module.init_kwargs['num_2'] == 4\n",
    "assert simple_module.init_kwargs['save_dir'] == save_dir"
   ]
  },
  {
   "cell_type": "code",
   "execution_count": 40,
   "metadata": {},
   "outputs": [
    {
     "data": {
      "text/plain": [
       "True"
      ]
     },
     "execution_count": 40,
     "metadata": {},
     "output_type": "execute_result"
    }
   ],
   "source": [
    "not simple_module.data_param"
   ]
  },
  {
   "cell_type": "code",
   "execution_count": 41,
   "metadata": {},
   "outputs": [
    {
     "data": {
      "text/plain": [
       "['anumber', 'another']"
      ]
     },
     "execution_count": 41,
     "metadata": {},
     "output_type": "execute_result"
    }
   ],
   "source": [
    "simple_module.call_params"
   ]
  },
  {
   "cell_type": "code",
   "execution_count": 42,
   "metadata": {},
   "outputs": [],
   "source": [
    "result = simple_module.infer([], timezone='Europe/Amsterdam', anumber=2, another=11)\n"
   ]
  },
  {
   "cell_type": "code",
   "execution_count": 43,
   "metadata": {},
   "outputs": [
    {
     "name": "stdout",
     "output_type": "stream",
     "text": [
      "Result Message\n",
      " [\n",
      "  \"Startup time: 2025-01-25T13:25:32.880264+00:00\",\n",
      "  \"Corebridge version: 0.3.4\",\n",
      "  \"test_simple_function((anumber: float, another: float))\",\n",
      "  \"init_args: (1, 2), init_kwargs: {'num_1': 3, 'num_2': 4, 'assets_dir': None, 'save_dir': '/home/fenke/repos/corebridge/nbs/cache'}\",\n",
      "  \"lastSeen: False, recordformat: records, timezone: Europe/Amsterdam\",\n",
      "  \"anumber: 2.0\",\n",
      "  \"another: 11.0\",\n",
      "  \"No timeseries data, error='list' object has no attribute 'dtype'\"\n",
      "]\n",
      "Result Data\n",
      " [\n",
      "  {\n",
      "    \"index\": 0,\n",
      "    \"value_0\": 22.0\n",
      "  }\n",
      "]\n"
     ]
    }
   ],
   "source": [
    "print(\"Result Message\\n\", json.dumps(result['msg'], indent=2))\n",
    "print(\"Result Data\\n\", json.dumps(result['data'], indent=2))"
   ]
  },
  {
   "cell_type": "markdown",
   "metadata": {},
   "source": [
    "### Tests with library module"
   ]
  },
  {
   "cell_type": "code",
   "execution_count": 44,
   "metadata": {},
   "outputs": [],
   "source": [
    "import corebridge.core"
   ]
  },
  {
   "cell_type": "code",
   "execution_count": null,
   "execution_count": 45,
   "metadata": {},
   "outputs": [
    {
     "name": "stdout",
     "output_type": "stream",
     "text": [
      "Loading corebridge.aicorebridge 0.3.5 from /home/fenke/repos/corebridge/corebridge/aicorebridge.py\n"
     ]
    }
   ],
   "source": [
    "\n",
    "from corebridge.aicorebridge import AICoreModule\n"
   ]
  },
  {
   "cell_type": "code",
   "execution_count": null,
   "execution_count": 46,
   "metadata": {},
   "outputs": [],
   "source": [
    "\n",
    "class TestAICoreModule(AICoreModule):\n",
    "    def __init__(self, save_dir, *args, **kwargs):\n",
    "        super().__init__(test_function, save_dir, None, *args, **kwargs)\n",
    "        \n",
    "test_module = TestAICoreModule(os.path.join(os.getcwd(), 'cache'), 1, 2, num_1=3, num_2=4)\n",
    "\n",
    "assert test_module.init_args == (1, 2)\n",
    "assert test_module.init_kwargs['num_1'] == 3\n",
    "assert test_module.init_kwargs['num_2'] == 4\n",
    "assert test_module.init_kwargs['save_dir'] == save_dir"
   ]
  },
  {
   "cell_type": "code",
   "execution_count": null,
   "execution_count": 47,
   "metadata": {},
   "outputs": [
    {
     "name": "stdout",
     "output_type": "stream",
     "text": [
      "Normalized, Europe/Amsterdam\n",
      "Test Data\n",
      " [\n",
      "  {\n",
      "    \"datetimeMeasure\": \"2020-04-01T00:01:11.123Z\",\n",
      "    \"value\": 1.1\n",
      "  },\n",
      "  {\n",
      "    \"datetimeMeasure\": \"2020-04-02T00:20:00Z\",\n",
      "    \"value\": 2.3\n",
      "  }\n",
      "]\n",
      "Result Message\n",
      " [\n",
      "  \"Startup time: 2025-01-23T10:13:17.160497+00:00\",\n",
      "  \"Corebridge version: 0.3.5\",\n",
      "  \"Startup time: 2025-01-25T13:25:32.929729+00:00\",\n",
      "  \"Corebridge version: 0.3.4\",\n",
      "  \"test_function((data: pandas.core.frame.DataFrame, anumber: float | numpy.ndarray = 0))\",\n",
      "  \"init_args: (1, 2), init_kwargs: {'num_1': 3, 'num_2': 4, 'assets_dir': None, 'save_dir': '/home/fenke/repos/corebridge/nbs/cache'}\",\n",
      "  \"lastSeen: False, recordformat: records, timezone: Europe/Amsterdam\",\n",
      "  \"anumber: 2.0\",\n",
      "  \"result shape: (2, 1)\",\n",
      "  \"return-data shape: (2, 1)\"\n",
      "]\n",
      "Result Data\n",
      " [\n",
      "  {\n",
      "    \"time\": \"2020-04-01T02:01:11.123+02:00\",\n",
      "    \"value\": 2.2\n",
      "  },\n",
      "  {\n",
      "    \"time\": \"2020-04-02T02:20:00.000+02:00\",\n",
      "    \"value\": 4.6\n",
      "  }\n",
      "]\n"
     ]
    }
   ],
   "source": [
    "test_data = [\n",
    "    dict(datetimeMeasure='2020-04-01T00:01:11.123Z', value=1.1),\n",
    "    dict(datetimeMeasure='2020-04-02T00:20:00Z', value=2.3),\n",
    "]\n",
    "result = test_module.infer(test_data, timezone='Europe/Amsterdam', anumber=2)\n",
    "print(\"Test Data\\n\", json.dumps(test_data, indent=2))\n",
    "print(\"Result Message\\n\", json.dumps(result['msg'], indent=2))\n",
    "print(\"Result Data\\n\", json.dumps(result['data'], indent=2))"
   ]
  },
  {
   "cell_type": "code",
   "execution_count": null,
   "execution_count": 48,
   "metadata": {},
   "outputs": [
    {
     "data": {
      "text/plain": [
       "{'init_time': datetime.datetime(2025, 1, 23, 10, 13, 17, 160497, tzinfo=datetime.timezone.utc),\n",
       " 'aicorebridge_version': '0.3.5',\n",
       "{'init_time': datetime.datetime(2025, 1, 25, 13, 25, 32, 929729, tzinfo=datetime.timezone.utc),\n",
       " 'aicorebridge_version': '0.3.4',\n",
       " 'init_args': (1, 2),\n",
       " 'init_kwargs': {'num_1': 3,\n",
       "  'num_2': 4,\n",
       "  'assets_dir': None,\n",
       "  'save_dir': '/home/fenke/repos/corebridge/nbs/cache'},\n",
       " 'processor': <function __main__.test_function(data: pandas.core.frame.DataFrame, anumber: float | numpy.ndarray = 0)>,\n",
       " 'processor_signature': <Signature (data: pandas.core.frame.DataFrame, anumber: float | numpy.ndarray = 0)>,\n",
       " 'processor_params': {'data': <Parameter \"data: pandas.core.frame.DataFrame\">,\n",
       "  'anumber': <Parameter \"anumber: float | numpy.ndarray = 0\">},\n",
       " 'return_param': None,\n",
       " 'data_param': 'data',\n",
       " 'call_params': ['anumber']}"
      ]
     },
     "execution_count": null,
     "execution_count": 48,
     "metadata": {},
     "output_type": "execute_result"
    }
   ],
   "source": [
    "test_module.__dict__"
   ]
  },
  {
   "cell_type": "code",
   "execution_count": null,
   "metadata": {},
   "outputs": [
    {
     "name": "stdout",
     "output_type": "stream",
     "text": [
      "Normalized, UTC\n",
      "Test Data\n",
      " [\n",
      "  {\n",
      "    \"datetimeMeasure\": \"2020-04-01T00:01:11.123Z\",\n",
      "    \"value\": 1.1\n",
      "  },\n",
      "  {\n",
      "    \"datetimeMeasure\": \"2020-04-02T00:20:00Z\",\n",
      "    \"value\": 2.3\n",
      "  }\n",
      "]\n",
      "Result Message\n",
      " [\n",
      "  \"Startup time: 2025-01-23T10:13:41.421420+00:00\",\n",
      "  \"Corebridge version: 0.3.5\",\n",
      "  \"test_function((data: pandas.core.frame.DataFrame, anumber: float | numpy.ndarray = 0))\",\n",
      "  \"init_args: (1, 2), init_kwargs: {'num_1': 3, 'num_2': 4, 'assets_dir': None, 'save_dir': '/home/fenke/repos/corebridge/nbs/cache'}\",\n",
      "  \"lastSeen: False, recordformat: records, timezone: UTC\",\n",
      "  \"calldata shape: (2, 1)\",\n",
      "  \"anumber: 2.0\",\n",
      "  \"result shape: (2, 1)\",\n",
      "  \"return-data shape: (2, 1)\"\n",
      "]\n",
      "Result Data\n",
      " [\n",
      "  {\n",
      "    \"time\": \"2020-04-01T00:01:11Z\",\n",
      "    \"value\": 2.2\n",
      "  },\n",
      "  {\n",
      "    \"time\": \"2020-04-02T00:20:00Z\",\n",
      "    \"value\": 4.6\n",
      "  }\n",
      "]\n"
     ]
    }
   ],
   "source": [
    "\n",
    "\n",
    "class TestAICoreModule(AICoreModule):\n",
    "    def __init__(self, save_dir, *args, **kwargs):\n",
    "        super().__init__(test_function, save_dir, None, *args, **kwargs)\n",
    "\n",
    "save_dir = os.path.join(os.getcwd(), 'cache')\n",
    "test_module = TestAICoreModule(os.path.join(os.getcwd(), 'cache'), 1, 2, num_1=3, num_2=4)\n",
    "\n",
    "assert test_module.init_args == (1, 2)\n",
    "assert test_module.init_kwargs['num_1'] == 3\n",
    "assert test_module.init_kwargs['num_2'] == 4\n",
    "assert test_module.init_kwargs['save_dir'] == save_dir\n",
    "\n",
    "test_data = [\n",
    "    dict(datetimeMeasure='2020-04-01T00:01:11.123Z', value=1.1),\n",
    "    dict(datetimeMeasure='2020-04-02T00:20:00Z', value=2.3),\n",
    "]\n",
    "result = test_module.infer(test_data, timezone='UTC', anumber=2)\n",
    "print(\"Test Data\\n\", json.dumps(test_data, indent=2))\n",
    "print(\"Result Message\\n\", json.dumps(result['msg'], indent=2))\n",
    "print(\"Result Data\\n\", json.dumps(result['data'], indent=2))"
   ]
  },
  {
   "attachments": {},
   "cell_type": "markdown",
   "metadata": {},
   "source": [
    "### References"
   ]
  },
  {
   "attachments": {},
   "cell_type": "markdown",
   "metadata": {},
   "source": []
  },
  {
   "cell_type": "code",
   "execution_count": null,
   "execution_count": 49,
   "metadata": {},
   "outputs": [],
   "source": [
    "#| hide\n",
    "import nbdev; nbdev.nbdev_export()"
   ]
  }
 ],
 "metadata": {
  "kernelspec": {
   "display_name": "corebridge.venv",
   "language": "python",
   "name": "corebridge.venv"
  },
  "language_info": {
   "name": "python",
   "version": "3.11.10"
  }
 },
 "nbformat": 4,
 "nbformat_minor": 4
}
