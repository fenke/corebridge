{
 "cells": [
  {
   "attachments": {},
   "cell_type": "markdown",
   "metadata": {},
   "source": [
    "# AICore-Bridge\n",
    "\n",
    "> Bridge between Stactics AICore framework and Wodan/Conan processor modules"
   ]
  },
  {
   "cell_type": "code",
   "execution_count": null,
   "metadata": {},
   "outputs": [],
   "source": [
    "#| default_exp aicorebridge"
   ]
  },
  {
   "cell_type": "code",
   "execution_count": null,
   "metadata": {},
   "outputs": [],
   "source": [
    "#| hide\n",
    "from nbdev.showdoc import *\n",
    "import addroot"
   ]
  },
  {
   "cell_type": "code",
   "execution_count": null,
   "metadata": {},
   "outputs": [],
   "source": [
    "#| hide\n",
    "addroot.sys.path.append(addroot.os.path.join(addroot.project_root, 'corebridge'))"
   ]
  },
  {
   "cell_type": "code",
   "execution_count": null,
   "metadata": {},
   "outputs": [
    {
     "name": "stdout",
     "output_type": "stream",
     "text": [
      "Loading corebridge.core from /home/fenke/repos/corebridge/corebridge/core.py\n"
     ]
    }
   ],
   "source": [
    "#| export\n",
    "\n",
    "import typing\n",
    "import logging\n",
    "import inspect\n",
    "import datetime\n",
    "import json\n",
    "import pandas as pd\n",
    "import numpy as np\n",
    "\n",
    "from fastcore.basics import patch_to, patch\n",
    "from corebridge.core import *\n"
   ]
  },
  {
   "cell_type": "code",
   "execution_count": null,
   "metadata": {},
   "outputs": [],
   "source": [
    "#| export\n",
    "syslog = logging.getLogger(__name__)"
   ]
  },
  {
   "cell_type": "code",
   "execution_count": null,
   "metadata": {},
   "outputs": [],
   "source": [
    "#| export\n",
    "try:\n",
    "    print(f\"Loading {__name__} from {__file__}\")\n",
    "except:\n",
    "    pass"
   ]
  },
  {
   "cell_type": "code",
   "execution_count": null,
   "metadata": {},
   "outputs": [],
   "source": [
    "#| export\n",
    "class AICoreModule(): pass"
   ]
  },
  {
   "cell_type": "code",
   "execution_count": null,
   "metadata": {},
   "outputs": [],
   "source": [
    "#| export\n",
    "@patch\n",
    "def __init__(self:AICoreModule, \n",
    "             processor:typing.Callable, # data processing function\n",
    "             save_dir:str, # path where the module can keep files \n",
    "             assets_dir:str,\n",
    "             *args, **kwargs):\n",
    "    \n",
    "    self.init_time = datetime.datetime.utcnow()\n",
    "    self.save_dir   = save_dir\n",
    "    self.assets_dir = assets_dir\n",
    "    self._init_processor(processor)\n",
    "\n",
    "    self.init_args = args\n",
    "    self.init_kwargs = kwargs\n",
    "\n"
   ]
  },
  {
   "cell_type": "code",
   "execution_count": null,
   "metadata": {},
   "outputs": [],
   "source": [
    "#| export\n",
    "@patch\n",
    "def _init_processor(\n",
    "        self:AICoreModule, \n",
    "        processor:typing.Callable):\n",
    "    \"\"\"Initializes processor related variables on self\"\"\"\n",
    "    \n",
    "    self.processor = processor\n",
    "    self.processor_signature = inspect.signature(self.processor)\n",
    "    self.processor_params = dict(self.processor_signature.parameters)\n",
    "    self.return_param = self.processor_params.pop('return', None)\n",
    "    self.data_param, *self.call_params = list(self.processor_params.keys())\n"
   ]
  },
  {
   "cell_type": "code",
   "execution_count": null,
   "metadata": {},
   "outputs": [],
   "source": [
    "#| export\n",
    "@patch\n",
    "def call_processor(self:AICoreModule, calldata, **callargs):\n",
    "    return self.processor(calldata, **callargs)\n"
   ]
  },
  {
   "cell_type": "code",
   "execution_count": null,
   "metadata": {},
   "outputs": [],
   "source": [
    "#| export\n",
    "@patch\n",
    "def infer(self:AICoreModule, data:dict, *_, **kwargs):\n",
    "    try:\n",
    "\n",
    "        msg=[\n",
    "            f\"{self.processor.__name__}({self.processor_signature})\",\n",
    "            f\"init_args: {self.init_args}, init_kwargs: {self.init_kwargs}\",\n",
    "        ]\n",
    "\n",
    "        lastSeen = kwargs.pop('lastSeen', False)\n",
    "        recordformat = kwargs.pop('format', \"records\").lower()\n",
    "        reversed = kwargs.pop('reversed', False)\n",
    "        timezone = kwargs.get('timezone', 'UTC')\n",
    "        msg.append(f\"lastSeen: {lastSeen}, recordformat: {recordformat}, timezone: {timezone}\")\n",
    "\n",
    "        calldata = self.get_call_data(\n",
    "            data, \n",
    "            recordformat=recordformat,\n",
    "            timezone=timezone,\n",
    "            reversed=reversed)\n",
    "        \n",
    "        msg.append(f\"calldata shape: {calldata.shape}\")\n",
    "\n",
    "        callargs = self.get_callargs(**kwargs)\n",
    "\n",
    "        for arg, val in callargs.items():\n",
    "            msg.append(f\"{arg}: {val}\")\n",
    "            \n",
    "        result = self.call_processor(calldata, **callargs)\n",
    "        msg.append(f\"result shape: {result.shape}\")\n",
    "\n",
    "        return {\n",
    "            'msg':msg,\n",
    "            'data': timeseries_dataframe_to_datadict(\n",
    "                result if not lastSeen else result[-1:],\n",
    "                recordformat=recordformat,\n",
    "                timezone=timezone,\n",
    "                reversed=reversed)\n",
    "        }\n",
    "    except Exception as err:\n",
    "        return {\n",
    "            'msg': f\"Unexpected {err=}, {type(err)=}\",\n",
    "            'data': []\n",
    "        }\n"
   ]
  },
  {
   "cell_type": "code",
   "execution_count": null,
   "metadata": {},
   "outputs": [],
   "source": [
    "#| export\n",
    "@patch\n",
    "def get_callargs(self:AICoreModule, **kwargs):\n",
    "    \"Get arguments for the processor call\"\n",
    "\n",
    "    # Remove null / None values\n",
    "    kwargs = {k:v for k,v in kwargs.items() if v is not None}\n",
    "    \n",
    "    metadata = kwargs.pop('metadata', {}) # TODO: historic metadata\n",
    "\n",
    "    return {\n",
    "        K:self.processor_signature.parameters[K].annotation(kwargs.get(K,metadata.get(K, self.init_kwargs.get(K, self.processor_signature.parameters[K].default))))\n",
    "        for K in self.call_params\n",
    "    }\n"
   ]
  },
  {
   "cell_type": "code",
   "execution_count": null,
   "metadata": {},
   "outputs": [],
   "source": [
    "#| export\n",
    "@patch\n",
    "def get_call_data(\n",
    "        self:AICoreModule, \n",
    "        data:dict, \n",
    "        recordformat='records', \n",
    "        timezone='UTC', \n",
    "        reversed=False):\n",
    "    \n",
    "    \"Convert data to the processor signature\"\n",
    "\n",
    "    df = set_time_index_zone(timeseries_dataframe_from_datadict(\n",
    "        data, ['datetimemeasure', 'time'], recordformat), timezone)\n",
    "\n",
    "    if reversed:\n",
    "        df = df[::-1]\n",
    "\n",
    "    if self.processor_params[self.data_param].annotation == pd.DataFrame:\n",
    "        return df\n",
    "    elif len(df.columns) > 1:\n",
    "        df.index = (df.index - datetime.datetime(1970,1,1, tzinfo=datetime.timezone.utc)) / datetime.timedelta(seconds=1)\n",
    "        return df.to_records(index=True)\n",
    "    else:\n",
    "        df.index = (df.index - datetime.datetime(1970,1,1, tzinfo=datetime.timezone.utc)) / datetime.timedelta(seconds=1)\n",
    "        return df.reset_index().to_numpy()\n",
    "        "
   ]
  },
  {
   "cell_type": "code",
   "execution_count": null,
   "metadata": {},
   "outputs": [],
   "source": []
  },
  {
   "attachments": {},
   "cell_type": "markdown",
   "metadata": {},
   "source": []
  },
  {
   "cell_type": "code",
   "execution_count": null,
   "metadata": {},
   "outputs": [],
   "source": [
    "import os, addroot\n",
    "import corebridge"
   ]
  },
  {
   "cell_type": "code",
   "execution_count": null,
   "metadata": {},
   "outputs": [],
   "source": [
    "def test_function(data:pd.DataFrame, anumber:float=0):\n",
    "    v = 2*anumber\n",
    "    return data\n",
    "\n",
    "class TestAICoreModule(AICoreModule):\n",
    "    def __init__(self, save_dir, *args, **kwargs):\n",
    "        super().__init__(test_function, save_dir, None, *args, **kwargs)\n"
   ]
  },
  {
   "cell_type": "code",
   "execution_count": null,
   "metadata": {},
   "outputs": [],
   "source": [
    "save_dir = os.path.join(os.getcwd(), 'cache')\n",
    "test_module = TestAICoreModule(os.path.join(os.getcwd(), 'cache'), 1, 2, num_1=3, num_2=4)\n",
    "\n",
    "assert test_module.init_args == (1, 2)\n",
    "assert test_module.init_kwargs['num_1'] == 3\n",
    "assert test_module.init_kwargs['num_2'] == 4\n",
    "assert test_module.save_dir == save_dir"
   ]
  },
  {
   "cell_type": "code",
   "execution_count": null,
   "metadata": {},
   "outputs": [
    {
     "name": "stdout",
     "output_type": "stream",
     "text": [
      "Test Data\n",
      " [\n",
      "  {\n",
      "    \"datetimeMeasure\": \"2020-04-01T00:01:11.123Z\",\n",
      "    \"value\": 1.1\n",
      "  },\n",
      "  {\n",
      "    \"datetimeMeasure\": \"2020-04-02T00:20:00Z\",\n",
      "    \"value\": 2.3\n",
      "  }\n",
      "]\n",
      "Result Message\n",
      " [\n",
      "  \"test_function((data: pandas.core.frame.DataFrame, anumber: float = 0))\",\n",
      "  \"init_args: (1, 2), init_kwargs: {'num_1': 3, 'num_2': 4}\",\n",
      "  \"lastSeen: False, recordformat: records, timezone: Europe/Amsterdam\",\n",
      "  \"calldata shape: (2, 1)\",\n",
      "  \"anumber: 0.0\",\n",
      "  \"result shape: (2, 1)\"\n",
      "]\n",
      "Result Data\n",
      " [\n",
      "  {\n",
      "    \"time\": \"2020-04-01T02:01:11.123000+02:00\",\n",
      "    \"value\": 1.1\n",
      "  },\n",
      "  {\n",
      "    \"time\": \"2020-04-02T02:20:00+02:00\",\n",
      "    \"value\": 2.3\n",
      "  }\n",
      "]\n"
     ]
    }
   ],
   "source": [
    "test_data = [\n",
    "    dict(datetimeMeasure='2020-04-01T00:01:11.123Z', value=1.1),\n",
    "    dict(datetimeMeasure='2020-04-02T00:20:00Z', value=2.3),\n",
    "]\n",
    "result = test_module.infer(test_data, timezone='Europe/Amsterdam', anumber=None)\n",
    "print(\"Test Data\\n\", json.dumps(test_data, indent=2))\n",
    "print(\"Result Message\\n\", json.dumps(result['msg'], indent=2))\n",
    "print(\"Result Data\\n\", json.dumps(result['data'], indent=2))"
   ]
  },
  {
   "cell_type": "code",
   "execution_count": null,
   "metadata": {},
   "outputs": [],
   "source": [
    "#import corebridge.core"
   ]
  },
  {
   "cell_type": "code",
   "execution_count": null,
   "metadata": {},
   "outputs": [
    {
     "name": "stdout",
     "output_type": "stream",
     "text": [
      "Loading core from /home/fenke/repos/corebridge/corebridge/core.py\n",
      "Loading corebridge.aicorebridge from /home/fenke/repos/corebridge/corebridge/aicorebridge.py\n"
     ]
    }
   ],
   "source": [
    "from corebridge.aicorebridge import AICoreModule\n",
    "\n",
    "class TestAICoreModule(AICoreModule):\n",
    "    def __init__(self, save_dir, *args, **kwargs):\n",
    "        super().__init__(test_function, save_dir, None, *args, **kwargs)\n",
    "        \n",
    "test_module = TestAICoreModule(os.path.join(os.getcwd(), 'cache'), 1, 2, num_1=3, num_2=4)\n",
    "\n",
    "assert test_module.init_args == (1, 2)\n",
    "assert test_module.init_kwargs['num_1'] == 3\n",
    "assert test_module.init_kwargs['num_2'] == 4\n",
    "assert test_module.save_dir == save_dir"
   ]
  },
  {
   "cell_type": "code",
   "execution_count": null,
   "metadata": {},
   "outputs": [
    {
     "name": "stdout",
     "output_type": "stream",
     "text": [
      "Test Data\n",
      " [\n",
      "  {\n",
      "    \"datetimeMeasure\": \"2020-04-01T00:01:11.123Z\",\n",
      "    \"value\": 1.1\n",
      "  },\n",
      "  {\n",
      "    \"datetimeMeasure\": \"2020-04-02T00:20:00Z\",\n",
      "    \"value\": 2.3\n",
      "  }\n",
      "]\n",
      "Result Message\n",
      " [\n",
      "  \"test_function((data: pandas.core.frame.DataFrame, anumber: float = 0))\",\n",
      "  \"init_args: (1, 2), init_kwargs: {'num_1': 3, 'num_2': 4}\",\n",
      "  \"lastSeen: False, recordformat: records, timezone: Europe/Amsterdam\",\n",
      "  \"calldata shape: (2, 1)\",\n",
      "  \"anumber: 0.0\",\n",
      "  \"result shape: (2, 1)\"\n",
      "]\n",
      "Result Data\n",
      " [\n",
      "  {\n",
      "    \"time\": \"2020-04-01T02:01:11.123000+02:00\",\n",
      "    \"value\": 1.1\n",
      "  },\n",
      "  {\n",
      "    \"time\": \"2020-04-02T02:20:00+02:00\",\n",
      "    \"value\": 2.3\n",
      "  }\n",
      "]\n"
     ]
    }
   ],
   "source": [
    "test_data = [\n",
    "    dict(datetimeMeasure='2020-04-01T00:01:11.123Z', value=1.1),\n",
    "    dict(datetimeMeasure='2020-04-02T00:20:00Z', value=2.3),\n",
    "]\n",
    "result = test_module.infer(test_data, timezone='Europe/Amsterdam', anumber=None)\n",
    "print(\"Test Data\\n\", json.dumps(test_data, indent=2))\n",
    "print(\"Result Message\\n\", json.dumps(result['msg'], indent=2))\n",
    "print(\"Result Data\\n\", json.dumps(result['data'], indent=2))"
   ]
  },
  {
   "cell_type": "code",
   "execution_count": null,
   "metadata": {},
   "outputs": [],
   "source": []
  },
  {
   "cell_type": "code",
   "execution_count": null,
   "metadata": {},
   "outputs": [],
   "source": []
  },
  {
   "attachments": {},
   "cell_type": "markdown",
   "metadata": {},
   "source": [
    "### References"
   ]
  },
  {
   "attachments": {},
   "cell_type": "markdown",
   "metadata": {},
   "source": []
  },
  {
   "cell_type": "code",
   "execution_count": null,
   "metadata": {},
   "outputs": [],
   "source": [
    "#| hide\n",
    "import nbdev; nbdev.nbdev_export()"
   ]
  }
 ],
 "metadata": {
  "kernelspec": {
   "display_name": "python3",
   "language": "python",
   "name": "python3"
  }
 },
 "nbformat": 4,
 "nbformat_minor": 4
}
