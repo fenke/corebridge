{
 "cells": [
  {
   "cell_type": "raw",
   "metadata": {},
   "source": [
    "---\n",
    "title: AICore Bridge Quick Guide & Test\n",
    "date: last-modified\n",
    "categories: [wodan, guide, code]\n",
    "author:\n",
    "  name: Fenke Meijer\n",
    "  email: fenke@whysor.com\n",
    "  affiliation:\n",
    "    name: Whysor B.V.\n",
    "    url: whysor.com\n",
    "format:\n",
    "  html:\n",
    "    toc: true\n",
    "    toc-depth: 4\n",
    "  pdf:\n",
    "    output-file: \"AICore bridge - quick test & guide\"\n",
    "    toc: true\n",
    "---"
   ]
  },
  {
   "cell_type": "markdown",
   "metadata": {},
   "source": [
    "# AICore bridge - quick test & guide"
   ]
  },
  {
   "cell_type": "markdown",
   "metadata": {},
   "source": [
    "The AICore Bridge for Stactic's AICore system is a 'boilerplate' module \n",
    "that provides an interface to Wodan processor modules. This allows us to\n",
    "use the same modules through AICore as in Wodan."
   ]
  },
  {
   "cell_type": "markdown",
   "metadata": {},
   "source": [
    "## Feature comparision"
   ]
  },
  {
   "cell_type": "markdown",
   "metadata": {},
   "source": [
    "Wodan provides a rich environment for processor modules that handles data \n",
    "retrieval and preprocessing as well as postprocessing of the processor result. \n",
    "Not all of this can be ported to AICore - most notably the data retrieval - and \n",
    "some still has\n",
    "\n",
    "We can split Wodan's pre- and post-processing roughly in four stages;\n",
    "data retrieval, pre-processing, post-processing and formatting.  "
   ]
  },
  {
   "cell_type": "markdown",
   "metadata": {},
   "source": [
    "### Data retrieval\n",
    "\n",
    "Data retrieval is done by Wodan and never by AICore, which recieves sample\n",
    "data together with the request. Still some Wodan functionality can be ported."
   ]
  },
  {
   "cell_type": "code",
   "execution_count": null,
   "metadata": {},
   "outputs": [],
   "source": [
    "#| echo: false\n",
    "import warnings\n",
    "warnings.simplefilter(action='ignore', category=FutureWarning)\n",
    "warnings.simplefilter(action='ignore', category=DeprecationWarning)\n",
    "\n",
    "from IPython.display import display\n",
    "from IPython.display import Markdown\n",
    "from tabulate import tabulate\n",
    "\n",
    "def feature_table(feature_dict):\n",
    "    display(Markdown(tabulate(\n",
    "      [[v for v in row.values()] for row in feature_dict],\n",
    "      headers=[k for k in feature_dict[0].keys()],\n",
    "        tablefmt='github'\n",
    "    )))\n",
    "                  "
   ]
  },
  {
   "cell_type": "code",
   "execution_count": null,
   "metadata": {},
   "outputs": [
    {
     "data": {
      "text/markdown": [
       "| feat         | description                                  | Wodan   | AICore   | remarks                                  |\n",
       "|--------------|----------------------------------------------|---------|----------|------------------------------------------|\n",
       "| truncate     | bucketize timeseries data on time            | True    | False    | can be implemented                       |\n",
       "| calibrations | calibrates or corrects sample data           | True    | False    | can be implemented                       |\n",
       "| corrections  | exactly same as calibrations                 | True    | False    | can be implemented                       |\n",
       "| time format  | specifies the format for timestamps          | True    | False    | --                                       |\n",
       "| timezone     | specifies the timezone for processing        | True    | False    | only applies to timeFormat=\"iso\"         |\n",
       "| last seen    | retrieves a period before the given date     | True    | False    | never, AICore receives data with request |\n",
       "| data caching | cache data with similar retrieval parameters | True    | False    | probably never, pointless                |"
      ],
      "text/plain": [
       "<IPython.core.display.Markdown object>"
      ]
     },
     "metadata": {},
     "output_type": "display_data"
    }
   ],
   "source": [
    "#| echo: false\n",
    "feat_matrix_retrieval = [\n",
    "    dict(feat='truncate', description='bucketize timeseries data on time',\n",
    "         Wodan=True, AICore=False, remarks='can be implemented'),\n",
    "    dict(feat='calibrations', description='calibrates or corrects sample data',\n",
    "         Wodan=True, AICore=False, \n",
    "         remarks='can be implemented'),\n",
    "    dict(feat='corrections', description='exactly same as calibrations',\n",
    "         Wodan=True, AICore=False, \n",
    "         remarks='can be implemented'),\n",
    "    dict(feat='time format', description='specifies the format for timestamps',\n",
    "         Wodan=True, AICore=False, \n",
    "         remarks='--'),\n",
    "    dict(feat='timezone', description='specifies the timezone for processing',\n",
    "         Wodan=True, AICore=False, \n",
    "         remarks='only applies to timeFormat=\"iso\"'),\n",
    "    dict(feat='last seen', description='retrieves a period before the given date',\n",
    "         Wodan=True, AICore=False, \n",
    "         remarks='never, AICore receives data with request'),\n",
    "    dict(feat='data caching', description='cache data with similar retrieval parameters',\n",
    "         Wodan=True, AICore=False, \n",
    "         remarks='probably never, pointless'),\n",
    "]\n",
    "\n",
    "#pd.DataFrame.from_dict(feat_matrix_retrieval).set_index('feat')\n",
    "feature_table(feat_matrix_retrieval)"
   ]
  },
  {
   "cell_type": "markdown",
   "metadata": {},
   "source": [
    "### Pre-processing\n",
    "\n",
    "After retrieval Wodan prepares retrieved data for consumptions by the processor \n",
    "module. The feature matrix for pre-processing currently is"
   ]
  },
  {
   "cell_type": "code",
   "execution_count": null,
   "metadata": {},
   "outputs": [
    {
     "data": {
      "text/markdown": [
       "| feat              | description                                              | Wodan   | AICore   | remarks                                              |\n",
       "|-------------------|----------------------------------------------------------|---------|----------|------------------------------------------------------|\n",
       "| metadata          | combine processor params in one object                   | True    | False    | not possible AICore uses this attribute              |\n",
       "| historic metadata | metadata that changes over time                          | True    | False    | not possible AICore reserves \"metadata\", use history |\n",
       "| history           | provision for processor parameters that change over time | True    | False    | can be implemented                                   |"
      ],
      "text/plain": [
       "<IPython.core.display.Markdown object>"
      ]
     },
     "metadata": {},
     "output_type": "display_data"
    }
   ],
   "source": [
    "#| echo: false\n",
    "feat_matrix_pre = [\n",
    "    dict(feat='metadata', description='combine processor params in one object ',\n",
    "         Wodan=True, AICore=False, \n",
    "         remarks='not possible AICore uses this attribute'),\n",
    "    dict(feat='historic metadata', description='metadata that changes over time ',\n",
    "         Wodan=True, AICore=False, \n",
    "         remarks='not possible AICore reserves \"metadata\", use history'),\n",
    "    dict(feat='history', description='provision for processor parameters that change over time',\n",
    "         Wodan=True, AICore=False, \n",
    "         remarks='can be implemented')\n",
    "]\n",
    "feature_table(feat_matrix_pre)"
   ]
  },
  {
   "cell_type": "markdown",
   "metadata": {},
   "source": [
    "### Post-processing"
   ]
  },
  {
   "cell_type": "code",
   "execution_count": null,
   "metadata": {},
   "outputs": [
    {
     "data": {
      "text/markdown": [
       "| feat     | description                       | Wodan   | AICore   | remarks            |\n",
       "|----------|-----------------------------------|---------|----------|--------------------|\n",
       "| samplers | applies aggregation to results    | True    | False    | can be implemented |\n",
       "| lastSeen | returns last record of the result | True    | True     |                    |"
      ],
      "text/plain": [
       "<IPython.core.display.Markdown object>"
      ]
     },
     "metadata": {},
     "output_type": "display_data"
    }
   ],
   "source": [
    "#| echo: false\n",
    "feat_matrix_post = [\n",
    "    dict(feat='samplers', description='applies aggregation to results',\n",
    "         Wodan=True, AICore=False, \n",
    "         remarks='can be implemented'),\n",
    "    dict(feat='lastSeen', description='returns last record of the result',\n",
    "         Wodan=True, AICore=True, \n",
    "         remarks=''),\n",
    "\n",
    "]\n",
    "feature_table(feat_matrix_post)"
   ]
  },
  {
   "cell_type": "markdown",
   "metadata": {},
   "source": [
    "### Formatting\n",
    "\n",
    "Due to AICore's not handling NaN (Not-A-Number) values not all formats are implemented."
   ]
  },
  {
   "cell_type": "code",
   "execution_count": null,
   "metadata": {},
   "outputs": [
    {
     "data": {
      "text/markdown": [
       "| feat     | description                                           | Wodan   | AICore   | remarks          |\n",
       "|----------|-------------------------------------------------------|---------|----------|------------------|\n",
       "| records  | list-like; format data as rows of record dictionaries | True    | True     |                  |\n",
       "| table    | dict-like; includes schema, compact data              | True    | False    | trouble with NaN |\n",
       "| split    | dict-like, separates index from values                | True    | False    | trouble with NaN |\n",
       "| timezone | converts result to timezone, only with table format   | True    | False    |                  |"
      ],
      "text/plain": [
       "<IPython.core.display.Markdown object>"
      ]
     },
     "metadata": {},
     "output_type": "display_data"
    }
   ],
   "source": [
    "#| echo: false\n",
    "feat_matrix_format = [\n",
    "    dict(feat='records', description='list-like; format data as rows of record dictionaries',\n",
    "         Wodan=True, AICore=True, \n",
    "         remarks=''),\n",
    "\n",
    "    dict(feat='table', description='dict-like; includes schema, compact data',\n",
    "         Wodan=True, AICore=False, \n",
    "         remarks='trouble with NaN'),\n",
    "\n",
    "    dict(feat='split', description='dict-like, separates index from values',\n",
    "         Wodan=True, AICore=False, \n",
    "         remarks='trouble with NaN'),\n",
    "\n",
    "    dict(feat='timezone', description='converts result to timezone, only with table format ',\n",
    "         Wodan=True, AICore=False, \n",
    "         remarks=''),\n",
    "\n",
    "]\n",
    "feature_table(feat_matrix_format)"
   ]
  },
  {
   "cell_type": "markdown",
   "metadata": {},
   "source": [
    "### Processors\n",
    "\n",
    "The following processors have been ported to AICore. Note that any Wodan processor \n",
    "can be ported."
   ]
  },
  {
   "cell_type": "code",
   "execution_count": null,
   "metadata": {},
   "outputs": [],
   "source": [
    "#| echo: false\n",
    "aicore_modules = dict(\n",
    "    read = 'e88bf4da-20bc-436a-a867-09c898fc81fe',\n",
    "    sapflow='d948aa27-601d-41bc-98fd-5241180544c6',\n",
    "    watergifte = '28f15e05-7542-43e5-baa3-2072f4c7d951',\n",
    "    dendrometrics = '469e2b8e-2922-410b-863d-98b58204cdd3',\n",
    "    meeldauw = '5d96342c-7d28-4fc0-ae8d-6cc0c9fafb09',\n",
    "    element_availability = 'b956fbc8-2f70-4a7c-bddf-93e397748f92',\n",
    "    sapflux_prediction = '0a817742-8061-430c-b656-0d603ae222a9'\n",
    ")"
   ]
  },
  {
   "cell_type": "code",
   "execution_count": null,
   "metadata": {},
   "outputs": [
    {
     "data": {
      "text/markdown": [
       "| processor            | Wodan   | AICore   | moduleId                             |\n",
       "|----------------------|---------|----------|--------------------------------------|\n",
       "| read                 | True    | True     | e88bf4da-20bc-436a-a867-09c898fc81fe |\n",
       "| sapflow              | True    | True     | d948aa27-601d-41bc-98fd-5241180544c6 |\n",
       "| watergifte           | True    | True     | 28f15e05-7542-43e5-baa3-2072f4c7d951 |\n",
       "| dendrometrics        | True    | True     | 469e2b8e-2922-410b-863d-98b58204cdd3 |\n",
       "| meeldauw             | True    | True     | 5d96342c-7d28-4fc0-ae8d-6cc0c9fafb09 |\n",
       "| element_availability | True    | True     | b956fbc8-2f70-4a7c-bddf-93e397748f92 |\n",
       "| sapflux_prediction   | True    | True     | 0a817742-8061-430c-b656-0d603ae222a9 |"
      ],
      "text/plain": [
       "<IPython.core.display.Markdown object>"
      ]
     },
     "metadata": {},
     "output_type": "display_data"
    }
   ],
   "source": [
    "#| echo: false\n",
    "feature_table([ \n",
    "    dict(processor=k, Wodan=True, AICore=(not not i), moduleId=i)\n",
    "    for k,i in aicore_modules.items()\n",
    "])"
   ]
  },
  {
   "cell_type": "markdown",
   "metadata": {},
   "source": [
    "## Imports and setup"
   ]
  },
  {
   "cell_type": "code",
   "execution_count": null,
   "metadata": {},
   "outputs": [
    {
     "name": "stdout",
     "output_type": "stream",
     "text": [
      "Added /home/fenke/repos/wodan to PATH\n",
      "Loading corebridge.aicorebridge 0.3.4 from /home/fenke/repos/corebridge/corebridge/aicorebridge.py\n"
     ]
    }
   ],
   "source": [
    "#| code-fold: true\n",
    "#| code-summary: \"Imports and logging\"\n",
    "\n",
    "# First turn off warnings messing up output\n",
    "import warnings\n",
    "warnings.simplefilter(action='ignore', category=FutureWarning)\n",
    "\n",
    "import importlib\n",
    "import logging\n",
    "\n",
    "#from wodan import init_console_logging\n",
    "from corebridge.core import init_console_logging\n"
   ]
  },
  {
   "cell_type": "code",
   "execution_count": null,
   "metadata": {},
   "outputs": [],
   "source": [
    "\n",
    "syslog = init_console_logging(__name__, logging.DEBUG, timestamp=False)\n",
    "\n",
    "# logging basic configuration\n",
    "logging.basicConfig(\n",
    "    format=\"%(asctime)s \\t%(levelname)s\\t%(name)s\\t%(message)s\",\n",
    "    datefmt=\"%Y-%m-%dT%H:%M:%S%z\",\n",
    "    level=logging.DEBUG\n",
    ")\n",
    "\n",
    "syslog = logging.getLogger()"
   ]
  },
  {
   "cell_type": "code",
   "execution_count": null,
   "metadata": {},
   "outputs": [],
   "source": [
    "import corebridge\n",
    "from corebridge.aicorebridge import AICoreModule\n"
   ]
  },
  {
   "cell_type": "markdown",
   "metadata": {},
   "source": [
    "### Request parameters\n"
   ]
  },
  {
   "cell_type": "code",
   "execution_count": null,
   "metadata": {},
   "outputs": [
    {
     "name": "stderr",
     "output_type": "stream",
     "text": [
      "DEBUG\t16444\twodan.pgsqldata\tpgsqldata.py\t9\tLoading Module wodan.pgsqldata\n",
      "DEBUG\t16444\twodan.whysor\twhysor.py\t29\tLoading Module wodan.whysor\n"
     ]
    }
   ],
   "source": [
    "#| code-fold: true\n",
    "#| code-summary: \"Setup environment\"\n",
    "\n",
    "# setup a getenv wrapper that has some neccesary vars\n",
    "import localenv\n",
    "from localenv import localtest as getenv\n",
    "from wodan.whysor import PGSQLDataSourceWhysor\n",
    "\n",
    "whysorparams = dict(\n",
    "    base_url=str(getenv(\"API_URL\")).rstrip(\"/\"),\n",
    "    headers=dict(authorization=getenv(\"API_TOKEN\"))\n",
    ")\n",
    "\n",
    "wodanparams = dict(\n",
    "    base_url=getenv('WODAN_API'),\n",
    "    headers=dict(\n",
    "        authorization=getenv(\"WODAN_TOKEN\"),\n",
    "        **{'Content-Type': \"application/json\"}\n",
    "    )\n",
    ")\n",
    "ds = PGSQLDataSourceWhysor(os.getenv('PGSQL_URL'))\n",
    "\n",
    "aicoreparams = dict(\n",
    "    base_url=getenv('AICORE_API'),\n",
    "    headers=dict(\n",
    "        authorization=f\"Bearer {getenv('AICORE_TOKEN')}\",\n",
    "        **{'Content-Type': \"application/json\"}\n",
    "    )\n",
    ")"
   ]
  },
  {
   "cell_type": "markdown",
   "metadata": {},
   "source": [
    "### Utility functions"
   ]
  },
  {
   "cell_type": "code",
   "execution_count": null,
   "metadata": {},
   "outputs": [],
   "source": [
    "#| code-fold: true\n",
    "#| code-summary: \"Utility functions\"\n",
    "\n",
    "from functools import reduce\n",
    "\n",
    "def merge_dicts(x, y):\n",
    "    i = y.pop('datetimeMeasure')\n",
    "    s = x.get(i, {})\n",
    "    s.update(y)\n",
    "    x[i] = s\n",
    "    return x\n",
    "\n",
    "async def get_data_from_wodan(since, until, realm, sensorId, truncate='second', format='json/records', timeFormat='iso'):\n",
    "    async with aiohttp.ClientSession(**wodanparams) as session:\n",
    "        req = await session.get(\n",
    "            \"/whysor/read\", \n",
    "            params=dict(\n",
    "                since=since,\n",
    "                until=until,\n",
    "                realm=realm,\n",
    "                sensorId=sensorId if isinstance(sensorId, str) else json.dumps(sensorId),\n",
    "                format=format,\n",
    "                timeFormat=timeFormat,\n",
    "                truncate=truncate\n",
    "            ))\n",
    "\n",
    "        return await req.json()\n",
    "\n",
    "async def get_data_from_whysor(sensorId, since, until, realm='whysor', truncate='second'):\n",
    "    async with aiohttp.ClientSession(**whysorparams) as session:\n",
    "        since = make_naive_utc(make_datetime(since))\n",
    "        until = min(make_naive_utc(make_datetime(until)), make_datetime(datetime.datetime.now(pytz.utc)))\n",
    "\n",
    "        filter = {\n",
    "            \"order\": 'datetimeMeasure ASC',\n",
    "            \"limit\": 5000,\n",
    "            \"where\": {\"and\":[\n",
    "                {\"datetimeMeasure\": {\"gte\": since.isoformat()} },\n",
    "                {\"datetimeMeasure\": {\"lt\": until.isoformat()} }\n",
    "            ]}\n",
    "        }\n",
    "\n",
    "        if isinstance(sensorId, str):\n",
    "            async with session.get(\n",
    "                f\"/sensors/{sensorId}/read\", \n",
    "                params={\"filter\":json.dumps(filter)}) as request:\n",
    "\n",
    "                assert request.status == 200, f\"Error for sensor: {sensorId}, from: {since.isoformat()} until {until.isoformat()}\\n{request.url()}\"\n",
    "                return [dict(datetimeMeasure=S[\"datetimeMeasure\"], value=S[\"value\"]) for S in await request.json()]\n",
    "\n",
    "        elif isinstance(sensorId, dict):\n",
    "            combined = {}\n",
    "            for label, sensor in sensorId.items():\n",
    "\n",
    "                async with session.get(\n",
    "                    f\"/sensors/{sensor}/read\", \n",
    "                    params={\"filter\":json.dumps(filter)}) as request:\n",
    "\n",
    "                    assert request.status == 200, f\"Error {request.status} for sensor: {sensor}, from: {since.isoformat()} until {until.isoformat()}\\n{request.url}\"\n",
    "                    reduce(\n",
    "                        merge_dicts, \n",
    "                        [{'datetimeMeasure':S[\"datetimeMeasure\"], label:S[\"value\"]} for S in await request.json()], \n",
    "                        combined)\n",
    "\n",
    "            return [{'datetimeMeasure':T, **S} for T, S in combined.items()]\n",
    "\n",
    "def write_data(data:pd.DataFrame, name:str):\n",
    "    data.to_json(os.path.join(os.getcwd(), 'data', name+'.json'), orient='table', indent=3)"
   ]
  },
  {
   "cell_type": "markdown",
   "metadata": {},
   "source": [
    "## AICore Bridge\n",
    "\n",
    "### Class definition"
   ]
  },
  {
   "cell_type": "code",
   "execution_count": null,
   "metadata": {},
   "outputs": [],
   "source": [
    "#| code-fold: true\n",
    "#| code-summary: \"AICore Core Module\"\n",
    "\n",
    "from corebridge.aicorebridge import AICoreModule\n",
    "\n",
    "def test_function(data:pd.DataFrame, anumber:float=0):\n",
    "    v = 2*anumber\n",
    "    return data\n",
    "\n",
    "class TestAICoreModule(AICoreModule):\n",
    "    def __init__(self, save_dir, *args, **kwargs):\n",
    "        super().__init__(test_function, save_dir, None, *args, **kwargs)\n"
   ]
  },
  {
   "cell_type": "markdown",
   "metadata": {},
   "source": [
    "### Test initialization"
   ]
  },
  {
   "cell_type": "code",
   "execution_count": null,
   "metadata": {},
   "outputs": [],
   "source": [
    "#| code-fold: true\n",
    "#| code-summary: \"Test initialization\"\n",
    "\n",
    "test_module = TestAICoreModule(os.path.join(os.getcwd(), 'cache'), 1, 2, num_1=3, num_2=4)\n",
    "\n",
    "assert test_module.init_args == (1, 2)\n",
    "assert test_module.init_kwargs['num_1'] == 3\n",
    "assert test_module.init_kwargs['num_2'] == 4"
   ]
  },
  {
   "cell_type": "markdown",
   "metadata": {},
   "source": [
    "### Test inference"
   ]
  },
  {
   "cell_type": "code",
   "execution_count": null,
   "metadata": {},
   "outputs": [
    {
     "name": "stdout",
     "output_type": "stream",
     "text": [
      "Test Data\n",
      " [\n",
      "  {\n",
      "    \"datetimeMeasure\": \"2020-04-01T00:01:11.123Z\",\n",
      "    \"value\": 1.1\n",
      "  },\n",
      "  {\n",
      "    \"datetimeMeasure\": \"2020-04-02T00:20:00Z\",\n",
      "    \"value\": 2.3\n",
      "  }\n",
      "]\n",
      "Result Message\n",
      " [\n",
      "  \"Startup time: 2025-01-20T10:26:41.199526+00:00\",\n",
      "  \"Corebridge version: 0.3.4\",\n",
      "  \"test_function((data: pandas.core.frame.DataFrame, anumber: float = 0))\",\n",
      "  \"init_args: (1, 2), init_kwargs: {'num_1': 3, 'num_2': 4, 'assets_dir': None, 'save_dir': '/home/fenke/repos/wodan/blog/posts/aicore-bridge/cache'}\",\n",
      "  \"lastSeen: False, recordformat: records, timezone: Europe/Amsterdam\",\n",
      "  \"calldata shape: (2, 1)\",\n",
      "  \"anumber: 0.0\",\n",
      "  \"result shape: (2, 1)\",\n",
      "  \"return-data shape: (2, 1)\"\n",
      "]\n",
      "Result Data\n",
      " [\n",
      "  {\n",
      "    \"time\": \"2020-04-01T02:01:11.123000+02:00\",\n",
      "    \"value\": 1.1\n",
      "  },\n",
      "  {\n",
      "    \"time\": \"2020-04-02T02:20:00+02:00\",\n",
      "    \"value\": 2.3\n",
      "  }\n",
      "]\n"
     ]
    }
   ],
   "source": [
    "#| code-fold: true\n",
    "#| code-summary: \"Test inference\"\n",
    "\n",
    "test_data = [\n",
    "    dict(datetimeMeasure='2020-04-01T00:01:11.123Z', value=1.1),\n",
    "    dict(datetimeMeasure='2020-04-02T00:20:00Z', value=2.3),\n",
    "]\n",
    "result = test_module.infer(test_data, timezone='Europe/Amsterdam', anumber=None)\n",
    "print(\"Test Data\\n\", json.dumps(test_data, indent=2))\n",
    "print(\"Result Message\\n\", json.dumps(result['msg'], indent=2))\n",
    "print(\"Result Data\\n\", json.dumps(result['data'], indent=2))"
   ]
  },
  {
   "cell_type": "markdown",
   "metadata": {},
   "source": [
    "## Processors\n",
    "\n",
    "### Read (echo)\n",
    "\n",
    "#### Wodan read"
   ]
  },
  {
   "cell_type": "code",
   "execution_count": null,
   "metadata": {},
   "outputs": [
    {
     "name": "stdout",
     "output_type": "stream",
     "text": [
      "Query took 14.47 ms for 3 records\n",
      "                           value\n",
      "time                            \n",
      "2023-05-04 10:04:49+00:00  16.72\n",
      "2023-05-04 10:24:51+00:00  16.65\n",
      "2023-05-04 10:44:53+00:00  16.55\n"
     ]
    }
   ],
   "source": [
    "#| code-fold: true\n",
    "#| code-summary: \"Getting the moisture data for show\"\n",
    "\n",
    "data_params = dict(\n",
    "    sensorId='d7a965e8-60c0-4688-a18a-efae93b4a03f',\n",
    "    since=make_datetime(\"2023-05-04T10:00:00\").isoformat(),\n",
    "    until=make_datetime(\"2023-05-04T11:00:00\").isoformat(),\n",
    ")\n",
    "\n",
    "data_params.update({\n",
    "    \"realm\": \"whysor\", \n",
    "    #\"truncate\":\"second\"\n",
    "})\n",
    "\n",
    "format_params=dict(\n",
    "    format=\"json/table\",\n",
    "    timeFormat='iso'\n",
    ")\n",
    "\n",
    "call_params=dict(\n",
    ")\n",
    "\n",
    "t0=0\n",
    "async with aiohttp.ClientSession(**wodanparams) as session:\n",
    "    t0 = time.perf_counter_ns()\n",
    "    req = await session.get(\n",
    "        \"/whysor/read\", \n",
    "        params={\n",
    "            **data_params,\n",
    "            **format_params\n",
    "        })\n",
    "    t1 = time.perf_counter_ns()\n",
    "\n",
    "    moisturedata = await req.read()\n",
    "    df_moisture = pd.read_json(\n",
    "        moisturedata.decode(\"utf-8\"), \n",
    "        orient='table')\n",
    "    jsondata = await req.json()\n",
    "    print(f\"Query took {round((t1-t0) / 1e6,2)} ms for {len(df_moisture)} records\")\n",
    "    print(df_moisture)\n",
    "    #df_moisture.plot()\n",
    "    write_data(df_moisture, \"read_simple_moisture_data\")"
   ]
  },
  {
   "cell_type": "markdown",
   "metadata": {},
   "source": [
    "#### AICore - direct call\n",
    "\n",
    "We call the AICore module directly to demonstrate the inner workings"
   ]
  },
  {
   "cell_type": "code",
   "execution_count": null,
   "metadata": {},
   "outputs": [],
   "source": [
    "from wodan.processors.read import Module as Echo\n",
    "\n",
    "echo_module = Echo(os.path.join(os.getcwd(), 'cache'), None)"
   ]
  },
  {
   "cell_type": "markdown",
   "metadata": {},
   "source": [
    "AICore call parameters consist of the data and the call parameters in the form a a kwargs property. SensorId can be a dictionary to provide named columns for the analytics functions (it's up to the function to specify what it needs)."
   ]
  },
  {
   "cell_type": "code",
   "execution_count": null,
   "metadata": {},
   "outputs": [
    {
     "data": {
      "text/plain": [
       "{}"
      ]
     },
     "execution_count": null,
     "metadata": {},
     "output_type": "execute_result"
    }
   ],
   "source": [
    "call_params"
   ]
  },
  {
   "cell_type": "code",
   "execution_count": null,
   "metadata": {},
   "outputs": [
    {
     "ename": "AssertionError",
     "evalue": "Error 401 for sensor: d7a965e8-60c0-4688-a18a-efae93b4a03f, from: 2023-05-04T10:00:00+00:00 until 2023-05-04T11:00:00+00:00\nhttps://api.whysor.com/sensors/d7a965e8-60c0-4688-a18a-efae93b4a03f/read?filter=%7B%22order%22:+%22datetimeMeasure+ASC%22,+%22limit%22:+5000,+%22where%22:+%7B%22and%22:+%5B%7B%22datetimeMeasure%22:+%7B%22gte%22:+%222023-05-04T10:00:00%2B00:00%22%7D%7D,+%7B%22datetimeMeasure%22:+%7B%22lt%22:+%222023-05-04T11:00:00%2B00:00%22%7D%7D%5D%7D%7D",
     "output_type": "error",
     "traceback": [
      "\u001b[0;31m---------------------------------------------------------------------------\u001b[0m",
      "\u001b[0;31mAssertionError\u001b[0m                            Traceback (most recent call last)",
      "Cell \u001b[0;32mIn[18], line 6\u001b[0m\n\u001b[1;32m      1\u001b[0m \u001b[38;5;66;03m#| code-fold: true\u001b[39;00m\n\u001b[1;32m      2\u001b[0m \u001b[38;5;66;03m#| code-summary: \"Watergifte Processor in AICore\"\u001b[39;00m\n\u001b[1;32m      3\u001b[0m data_params[\u001b[38;5;124m'\u001b[39m\u001b[38;5;124msensorId\u001b[39m\u001b[38;5;124m'\u001b[39m] \u001b[38;5;241m=\u001b[39m \u001b[38;5;28mdict\u001b[39m(soilMoisture\u001b[38;5;241m=\u001b[39mdata_params\u001b[38;5;241m.\u001b[39mget(\u001b[38;5;124m'\u001b[39m\u001b[38;5;124msensorId\u001b[39m\u001b[38;5;124m'\u001b[39m))\n\u001b[1;32m      5\u001b[0m aicore_call_params \u001b[38;5;241m=\u001b[39m \u001b[38;5;28mdict\u001b[39m(\n\u001b[0;32m----> 6\u001b[0m     data\u001b[38;5;241m=\u001b[39m\u001b[38;5;28;01mawait\u001b[39;00m get_data_from_whysor(\u001b[38;5;241m*\u001b[39m\u001b[38;5;241m*\u001b[39mdata_params),\n\u001b[1;32m      7\u001b[0m     \u001b[38;5;66;03m#data=watergifte_module.rewrite_data(df_moisture.copy(), \u001b[39;00m\n\u001b[1;32m      8\u001b[0m     kwargs\u001b[38;5;241m=\u001b[39mcall_params,\n\u001b[1;32m      9\u001b[0m )\n",
      "Cell \u001b[0;32mIn[12], line 59\u001b[0m, in \u001b[0;36mget_data_from_whysor\u001b[0;34m(sensorId, since, until, realm, truncate)\u001b[0m\n\u001b[1;32m     53\u001b[0m \u001b[38;5;28;01mfor\u001b[39;00m label, sensor \u001b[38;5;129;01min\u001b[39;00m sensorId\u001b[38;5;241m.\u001b[39mitems():\n\u001b[1;32m     55\u001b[0m     \u001b[38;5;28;01masync\u001b[39;00m \u001b[38;5;28;01mwith\u001b[39;00m session\u001b[38;5;241m.\u001b[39mget(\n\u001b[1;32m     56\u001b[0m         \u001b[38;5;124mf\u001b[39m\u001b[38;5;124m\"\u001b[39m\u001b[38;5;124m/sensors/\u001b[39m\u001b[38;5;132;01m{\u001b[39;00msensor\u001b[38;5;132;01m}\u001b[39;00m\u001b[38;5;124m/read\u001b[39m\u001b[38;5;124m\"\u001b[39m, \n\u001b[1;32m     57\u001b[0m         params\u001b[38;5;241m=\u001b[39m{\u001b[38;5;124m\"\u001b[39m\u001b[38;5;124mfilter\u001b[39m\u001b[38;5;124m\"\u001b[39m:json\u001b[38;5;241m.\u001b[39mdumps(\u001b[38;5;28mfilter\u001b[39m)}) \u001b[38;5;28;01mas\u001b[39;00m request:\n\u001b[0;32m---> 59\u001b[0m         \u001b[38;5;28;01massert\u001b[39;00m request\u001b[38;5;241m.\u001b[39mstatus \u001b[38;5;241m==\u001b[39m \u001b[38;5;241m200\u001b[39m, \u001b[38;5;124mf\u001b[39m\u001b[38;5;124m\"\u001b[39m\u001b[38;5;124mError \u001b[39m\u001b[38;5;132;01m{\u001b[39;00mrequest\u001b[38;5;241m.\u001b[39mstatus\u001b[38;5;132;01m}\u001b[39;00m\u001b[38;5;124m for sensor: \u001b[39m\u001b[38;5;132;01m{\u001b[39;00msensor\u001b[38;5;132;01m}\u001b[39;00m\u001b[38;5;124m, from: \u001b[39m\u001b[38;5;132;01m{\u001b[39;00msince\u001b[38;5;241m.\u001b[39misoformat()\u001b[38;5;132;01m}\u001b[39;00m\u001b[38;5;124m until \u001b[39m\u001b[38;5;132;01m{\u001b[39;00muntil\u001b[38;5;241m.\u001b[39misoformat()\u001b[38;5;132;01m}\u001b[39;00m\u001b[38;5;130;01m\\n\u001b[39;00m\u001b[38;5;132;01m{\u001b[39;00mrequest\u001b[38;5;241m.\u001b[39murl\u001b[38;5;132;01m}\u001b[39;00m\u001b[38;5;124m\"\u001b[39m\n\u001b[1;32m     60\u001b[0m         reduce(\n\u001b[1;32m     61\u001b[0m             merge_dicts, \n\u001b[1;32m     62\u001b[0m             [{\u001b[38;5;124m'\u001b[39m\u001b[38;5;124mdatetimeMeasure\u001b[39m\u001b[38;5;124m'\u001b[39m:S[\u001b[38;5;124m\"\u001b[39m\u001b[38;5;124mdatetimeMeasure\u001b[39m\u001b[38;5;124m\"\u001b[39m], label:S[\u001b[38;5;124m\"\u001b[39m\u001b[38;5;124mvalue\u001b[39m\u001b[38;5;124m\"\u001b[39m]} \u001b[38;5;28;01mfor\u001b[39;00m S \u001b[38;5;129;01min\u001b[39;00m \u001b[38;5;28;01mawait\u001b[39;00m request\u001b[38;5;241m.\u001b[39mjson()], \n\u001b[1;32m     63\u001b[0m             combined)\n\u001b[1;32m     65\u001b[0m \u001b[38;5;28;01mreturn\u001b[39;00m [{\u001b[38;5;124m'\u001b[39m\u001b[38;5;124mdatetimeMeasure\u001b[39m\u001b[38;5;124m'\u001b[39m:T, \u001b[38;5;241m*\u001b[39m\u001b[38;5;241m*\u001b[39mS} \u001b[38;5;28;01mfor\u001b[39;00m T, S \u001b[38;5;129;01min\u001b[39;00m combined\u001b[38;5;241m.\u001b[39mitems()]\n",
      "\u001b[0;31mAssertionError\u001b[0m: Error 401 for sensor: d7a965e8-60c0-4688-a18a-efae93b4a03f, from: 2023-05-04T10:00:00+00:00 until 2023-05-04T11:00:00+00:00\nhttps://api.whysor.com/sensors/d7a965e8-60c0-4688-a18a-efae93b4a03f/read?filter=%7B%22order%22:+%22datetimeMeasure+ASC%22,+%22limit%22:+5000,+%22where%22:+%7B%22and%22:+%5B%7B%22datetimeMeasure%22:+%7B%22gte%22:+%222023-05-04T10:00:00%2B00:00%22%7D%7D,+%7B%22datetimeMeasure%22:+%7B%22lt%22:+%222023-05-04T11:00:00%2B00:00%22%7D%7D%5D%7D%7D"
     ]
    }
   ],
   "source": [
    "#| code-fold: true\n",
    "#| code-summary: \"Watergifte Processor in AICore\"\n",
    "data_params['sensorId'] = dict(soilMoisture=data_params.get('sensorId'))\n",
    "\n",
    "aicore_call_params = dict(\n",
    "    data=await get_data_from_whysor(**data_params),\n",
    "    #data=watergifte_module.rewrite_data(df_moisture.copy(), \n",
    "    kwargs=call_params,\n",
    ")"
   ]
  },
  {
   "cell_type": "markdown",
   "metadata": {},
   "source": [
    "The call is made to the *infer* method of the AICore module object."
   ]
  },
  {
   "cell_type": "code",
   "execution_count": null,
   "metadata": {},
   "outputs": [],
   "source": [
    "t0 = time.perf_counter_ns()\n",
    "result = echo_module.infer(aicore_call_params['data'], **aicore_call_params['kwargs'])\n",
    "t1 = time.perf_counter_ns()\n",
    "print(f\"Execution took {round((t1-t0) / 1e6,2)} ms.\")\n"
   ]
  },
  {
   "cell_type": "markdown",
   "metadata": {},
   "source": [
    "From the AICore module we get a dictionary with the fields"
   ]
  },
  {
   "cell_type": "code",
   "execution_count": null,
   "metadata": {},
   "outputs": [],
   "source": [
    "print([K for K in result.keys()])"
   ]
  },
  {
   "cell_type": "code",
   "execution_count": null,
   "metadata": {},
   "outputs": [],
   "source": [
    "print(json.dumps(result.get('msg'), indent=3))"
   ]
  },
  {
   "cell_type": "markdown",
   "metadata": {},
   "source": []
  },
  {
   "cell_type": "markdown",
   "metadata": {},
   "source": [
    "Where:\n",
    "\n",
    "msg\n",
    ": contains the messages from AICore Module"
   ]
  },
  {
   "cell_type": "code",
   "execution_count": null,
   "metadata": {},
   "outputs": [],
   "source": [
    "print(\"\\n\".join(result['msg']))"
   ]
  },
  {
   "cell_type": "markdown",
   "metadata": {},
   "source": [
    "data\n",
    ": contains the result data from AICore Module processing"
   ]
  },
  {
   "cell_type": "code",
   "execution_count": null,
   "metadata": {},
   "outputs": [],
   "source": [
    "print(json.dumps(result['data'], indent=2))"
   ]
  },
  {
   "cell_type": "markdown",
   "metadata": {},
   "source": [
    "#### AICore - remote call\n",
    "\n",
    "For the call to the actual AICore module we add a format parameter to define how dataframe is formatted"
   ]
  },
  {
   "cell_type": "code",
   "execution_count": null,
   "metadata": {},
   "outputs": [],
   "source": [
    "#| code-fold: true\n",
    "#| code-summary: \"Watergifte Processor in AICore\"\n",
    "\n",
    "\n",
    "format_params=dict(\n",
    "    format=\"records\",\n",
    ")\n",
    "print(json.dumps(format_params, indent=2))"
   ]
  },
  {
   "cell_type": "markdown",
   "metadata": {},
   "source": [
    "We make the call, read the response into a dataframe and convert it to a numpy array for the plot. The \n",
    "online call is made to the *post* method of the AICore, specifying the company and project in the URL and\n",
    "the call parameters in the body. The body is a list of call parameters where each object is a dictionary specifying:\n"
   ]
  },
  {
   "cell_type": "code",
   "execution_count": null,
   "metadata": {},
   "outputs": [],
   "source": [
    "t00 = time.perf_counter_ns()\n",
    "\n",
    "aicore_call_params = dict(\n",
    "        module_id=aicore_modules['read'],\n",
    "        kwargs=dict(**call_params, **format_params),\n",
    "        data=await get_data_from_whysor(**data_params),\n",
    "    )\n",
    "\n",
    "t01 = time.perf_counter_ns()"
   ]
  },
  {
   "cell_type": "markdown",
   "metadata": {},
   "source": [
    "The *aicore_call_params* looks basicaly like this:"
   ]
  },
  {
   "cell_type": "code",
   "execution_count": null,
   "metadata": {},
   "outputs": [],
   "source": [
    "print(json.dumps({k:v[0:2] if isinstance(v, list) else v for k,v in aicore_call_params.items()}, indent=2))"
   ]
  },
  {
   "cell_type": "markdown",
   "metadata": {},
   "source": [
    "module_id\n",
    ": the id of the module to call\n",
    "\n",
    "kwargs\n",
    ": the call parameters for the module\n",
    "\n",
    "data\n",
    ": the data to pass to the module - it's expected to be formatted according to the format parameter\n",
    "\n",
    "We now could make the REST call to the AICore module"
   ]
  },
  {
   "cell_type": "code",
   "execution_count": null,
   "metadata": {},
   "outputs": [],
   "source": [
    "async with aiohttp.ClientSession(**aicoreparams) as session:\n",
    "    t10 = time.perf_counter_ns()\n",
    "\n",
    "    req = await session.post(\n",
    "        \"/api/infer/\", \n",
    "        #params=dict(company='whysor', project='aicorebridge'),\n",
    "        data = json.dumps(aicore_call_params, indent=2))\n",
    "    t11 = time.perf_counter_ns()\n",
    "\n",
    "    readdata = await req.read()\n",
    "    raw_read = json.loads(readdata.decode(\"utf-8\"))\n",
    "\n",
    "    print(f\"Query took {round((t11-t10 + (t01-t00)) / 1e6,2)} ms (whysor time: {round((t01-t00) / 1e6,2)} + aicore time: {round((t10-t11) / 1e6,2)}) \")"
   ]
  },
  {
   "cell_type": "markdown",
   "metadata": {},
   "source": [
    "### Watergifte\n",
    "\n",
    "#### Moisture data"
   ]
  },
  {
   "cell_type": "code",
   "execution_count": null,
   "metadata": {},
   "outputs": [],
   "source": [
    "#| code-fold: true\n",
    "#| code-summary: \"Getting the moisture data for show\"\n",
    "\n",
    "data_params = dict(\n",
    "    sensorId='d7a965e8-60c0-4688-a18a-efae93b4a03f',\n",
    "    since=make_datetime(\"2023-05-04\").isoformat(),\n",
    "    until=make_datetime(\"2023-08-08\").isoformat(),\n",
    ")\n",
    "\n",
    "data_params.update({\n",
    "    \"realm\": \"whysor\", \n",
    "    \"truncate\":\"second\"\n",
    "})\n",
    "\n",
    "format_params=dict(\n",
    "    format=\"json/split-index\",\n",
    "    timeFormat='iso'\n",
    ")\n",
    "\n",
    "call_params=dict(\n",
    "    sensitivity=4.0\n",
    ")\n",
    "\n",
    "t0=0\n",
    "async with aiohttp.ClientSession(**wodanparams) as session:\n",
    "    t0 = time.perf_counter_ns()\n",
    "    req = await session.get(\n",
    "        \"/whysor/read\", \n",
    "        params={\n",
    "            **data_params,\n",
    "            **format_params\n",
    "        })\n",
    "    t1 = time.perf_counter_ns()\n",
    "\n",
    "    moisturedata = await req.read()\n",
    "    df_moisture = pd.read_json(\n",
    "        moisturedata.decode(\"utf-8\"), \n",
    "        orient='split')\n",
    "    jsondata = await req.json()\n",
    "    print(f\"Query took {round((t1-t0) / 1e6,2)} ms for {len(df_moisture)} records\")\n",
    "\n",
    "    df_moisture.plot()\n",
    "    write_data(df_moisture, \"basic_moisture_data\")"
   ]
  },
  {
   "cell_type": "markdown",
   "metadata": {},
   "source": [
    "#### Wodan\n",
    "\n",
    "Base parameters for the query determine the formatting of the result data"
   ]
  },
  {
   "cell_type": "code",
   "execution_count": null,
   "metadata": {},
   "outputs": [],
   "source": [
    "format_params=dict(\n",
    "    format=\"json/split-index\",\n",
    "    timeFormat='iso'\n",
    ")"
   ]
  },
  {
   "cell_type": "markdown",
   "metadata": {},
   "source": [
    "De call parameters specific to the Watergifte module, there are more options but leave it at *sensitivity* and we use the defaults for the others."
   ]
  },
  {
   "cell_type": "code",
   "execution_count": null,
   "metadata": {},
   "outputs": [],
   "source": [
    "call_params=dict(\n",
    "    sensitivity=5.0\n",
    ")"
   ]
  },
  {
   "cell_type": "markdown",
   "metadata": {},
   "source": [
    "For the REST call we combine the parameters into the url parameters"
   ]
  },
  {
   "cell_type": "code",
   "execution_count": null,
   "metadata": {},
   "outputs": [],
   "source": [
    "url_params=dict(\n",
    "    **data_params,\n",
    "    **call_params,\n",
    "    **format_params\n",
    ")"
   ]
  },
  {
   "cell_type": "markdown",
   "metadata": {},
   "source": [
    "We make the call, read the response into a dataframe and convert it to a numpy array for the plot"
   ]
  },
  {
   "cell_type": "code",
   "execution_count": null,
   "metadata": {},
   "outputs": [],
   "source": [
    "t0=0\n",
    "async with aiohttp.ClientSession(**wodanparams) as session:\n",
    "    t0 = time.perf_counter_ns()\n",
    "    req = await session.get(\n",
    "        \"/whysor/watergifte\", \n",
    "        params=url_params)\n",
    "    t1 = time.perf_counter_ns()\n",
    "\n",
    "    wateringdata = await req.read()\n",
    "    df_watering_wodan = pd.read_json(\n",
    "        wateringdata.decode(\"utf-8\"), \n",
    "        orient='split')\n",
    "    jsondata = await req.json()\n",
    "    print(f\"Query took {round((t1-t0) / 1e6,2)} ms for {len(df_watering_wodan)} records\")\n",
    "    write_data(df_watering_wodan, \"basic_moisture_moments\")\n",
    "\n",
    "\n",
    "    vlines=df_watering_wodan.index.to_numpy()\n",
    "    df_moisture.plot().vlines(vlines, ymin=df_moisture.min(), ymax=df_moisture.max(), linestyles='dotted')"
   ]
  },
  {
   "cell_type": "markdown",
   "metadata": {},
   "source": [
    "#### AICore - direct call\n",
    "\n",
    "We call the AICore module directly to demonstrate the inner workings"
   ]
  },
  {
   "cell_type": "code",
   "execution_count": null,
   "metadata": {},
   "outputs": [],
   "source": [
    "from wodan.processors.watergifte import Module as WatergifteModule\n",
    "\n",
    "watergifte_module = WatergifteModule(os.path.join(os.getcwd(), 'cache'), None)"
   ]
  },
  {
   "cell_type": "markdown",
   "metadata": {},
   "source": [
    "AICore call parameters consist of the data and the call parameters in the form a a kwargs property. SensorId can be a dictionary to provide named columns for the analytics functions (it's up to the function to specify what it needs)."
   ]
  },
  {
   "cell_type": "code",
   "execution_count": null,
   "metadata": {},
   "outputs": [],
   "source": [
    "#| code-fold: true\n",
    "#| code-summary: \"Watergifte Processor in AICore\"\n",
    "data_params['sensorId'] = dict(soilMoisture=data_params.get('sensorId'))\n",
    "\n",
    "aicore_call_params = dict(\n",
    "    data=await get_data_from_whysor(**data_params),\n",
    "    #data=watergifte_module.rewrite_data(df_moisture.copy(), \n",
    "    kwargs=call_params,\n",
    ")"
   ]
  },
  {
   "cell_type": "markdown",
   "metadata": {},
   "source": [
    "The call is made to the *infer* method of the AICore module object."
   ]
  },
  {
   "cell_type": "code",
   "execution_count": null,
   "metadata": {},
   "outputs": [],
   "source": [
    "t0 = time.perf_counter_ns()\n",
    "result = watergifte_module.infer(aicore_call_params['data'], **aicore_call_params['kwargs'])\n",
    "t1 = time.perf_counter_ns()\n",
    "print(f\"Execution took {round((t1-t0) / 1e6,2)} ms.\")\n"
   ]
  },
  {
   "cell_type": "markdown",
   "metadata": {},
   "source": [
    "From the AICore module we get a dictionary with the fields"
   ]
  },
  {
   "cell_type": "code",
   "execution_count": null,
   "metadata": {},
   "outputs": [],
   "source": [
    "print([K for K in result.keys()])"
   ]
  },
  {
   "cell_type": "markdown",
   "metadata": {},
   "source": [
    "Where:\n",
    "\n",
    "msg\n",
    ": contains the messages from AICore Module"
   ]
  },
  {
   "cell_type": "code",
   "execution_count": null,
   "metadata": {},
   "outputs": [],
   "source": [
    "print(\"\\n\".join(result['msg']))"
   ]
  },
  {
   "cell_type": "markdown",
   "metadata": {},
   "source": [
    "data\n",
    ": contains the result data from AICore Module processing"
   ]
  },
  {
   "cell_type": "code",
   "execution_count": null,
   "metadata": {},
   "outputs": [],
   "source": [
    "print(json.dumps(result['data'], indent=2))"
   ]
  },
  {
   "cell_type": "markdown",
   "metadata": {},
   "source": [
    "#### AICore - remote call\n",
    "\n",
    "For the call to the actual AICore module we add a format parameter to define how dataframe is formatted"
   ]
  },
  {
   "cell_type": "code",
   "execution_count": null,
   "metadata": {},
   "outputs": [],
   "source": [
    "#| code-fold: true\n",
    "#| code-summary: \"Watergifte Processor in AICore\"\n",
    "\n",
    "\n",
    "format_params=dict(\n",
    "    format=\"records\",\n",
    ")\n",
    "print(json.dumps(format_params, indent=2))"
   ]
  },
  {
   "cell_type": "markdown",
   "metadata": {},
   "source": [
    "We make the call, read the response into a dataframe and convert it to a numpy array for the plot. The \n",
    "online call is made to the *post* method of the AICore, specifying the company and project in the URL and\n",
    "the call parameters in the body. The body is a list of call parameters where each object is a dictionary specifying:\n"
   ]
  },
  {
   "cell_type": "code",
   "execution_count": null,
   "metadata": {},
   "outputs": [],
   "source": [
    "t00 = time.perf_counter_ns()\n",
    "aicore_call_params = dict(\n",
    "        module_id = aicore_modules['watergifte'],\n",
    "        kwargs=dict(**call_params, **format_params),\n",
    "        data=await get_data_from_whysor(**data_params),\n",
    "    )\n",
    "\n",
    "t01 = time.perf_counter_ns()"
   ]
  },
  {
   "cell_type": "markdown",
   "metadata": {},
   "source": [
    "The *aicore_call_params* looks basicaly like this:"
   ]
  },
  {
   "cell_type": "code",
   "execution_count": null,
   "metadata": {},
   "outputs": [],
   "source": [
    "print(json.dumps({k:v[0:5] if isinstance(v, list) else v for k,v in aicore_call_params.items()}, indent=2))"
   ]
  },
  {
   "cell_type": "markdown",
   "metadata": {},
   "source": [
    "\n",
    "kwargs\n",
    ": the call parameters for the module\n",
    "\n",
    "data\n",
    ": the data to pass to the module - it's expected to be formatted according to the format parameter\n",
    "\n",
    "We now make the REST call to the AICore module and read the response"
   ]
  },
  {
   "cell_type": "code",
   "execution_count": null,
   "metadata": {},
   "outputs": [],
   "source": [
    "async with aiohttp.ClientSession(**aicoreparams) as session:\n",
    "    t10 = time.perf_counter_ns()\n",
    "\n",
    "    req = await session.post(\n",
    "        \"/api/infer/\", \n",
    "        data = json.dumps(aicore_call_params))\n",
    "    t11 = time.perf_counter_ns()\n",
    "\n",
    "    wateringdata = await req.read()\n",
    "    raw_watering = json.loads(wateringdata.decode(\"utf-8\"))\n",
    "\n",
    "    print(f\"Query took {round((t11-t10 + (t01-t00)) / 1e6,2)} ms (whysor time: {round((t01-t00) / 1e6,2)} + aicore time: {round((t10-t11) / 1e6,2)}) \")"
   ]
  },
  {
   "cell_type": "markdown",
   "metadata": {},
   "source": [
    "The cloud call returns a multi-level dictionary with a 'modules' key where it's value is a dictionary with module id's as keys, and each associated value is a dict with keys msg and data that were returned by the infer method of the CustomModule. We get the first module-id in the list and like before we get a dictionary with keys:"
   ]
  },
  {
   "cell_type": "code",
   "execution_count": null,
   "metadata": {},
   "outputs": [],
   "source": [
    "raw_watering"
   ]
  },
  {
   "cell_type": "code",
   "execution_count": null,
   "metadata": {},
   "outputs": [],
   "source": [
    "list(raw_watering.keys())"
   ]
  },
  {
   "cell_type": "markdown",
   "metadata": {},
   "source": [
    "msg\n",
    ": messages from AICore Module"
   ]
  },
  {
   "cell_type": "code",
   "execution_count": null,
   "metadata": {},
   "outputs": [],
   "source": [
    "print(\"\\n\".join(raw_watering['msg']))"
   ]
  },
  {
   "cell_type": "markdown",
   "metadata": {},
   "source": [
    "data\n",
    ": data from AICore Module"
   ]
  },
  {
   "cell_type": "code",
   "execution_count": null,
   "metadata": {},
   "outputs": [],
   "source": [
    "print(json.dumps(raw_watering['data'], indent=2))"
   ]
  },
  {
   "cell_type": "markdown",
   "metadata": {},
   "source": [
    "For pandas data frame we can use"
   ]
  },
  {
   "cell_type": "code",
   "execution_count": null,
   "metadata": {},
   "outputs": [],
   "source": [
    "#| code-fold: true\n",
    "df_watering = pd.DataFrame.from_dict(\n",
    "    raw_watering['data'])\n",
    "df_watering.set_index('time', inplace=True)\n",
    "df_watering.index = pd.to_datetime(df_watering.index)\n",
    "\n",
    "print(df_watering)"
   ]
  },
  {
   "cell_type": "markdown",
   "metadata": {},
   "source": [
    "### Sapflow {#sec-function-sapflow}\n",
    "\n",
    "#### Wodan"
   ]
  },
  {
   "cell_type": "code",
   "execution_count": null,
   "metadata": {},
   "outputs": [],
   "source": [
    "#| code-fold: true\n",
    "#| code-summary: \"Sapflow Processor\"\n",
    "\n",
    "sensorId = dict(\n",
    "    uncorrectedOuter='291fffc3-790a-40b4-91e3-bc720d254ede',\n",
    "    uncorrectedInner='1d28e24c-f6d8-4ffc-b23d-7c08c6f803d2',\n",
    ")\n",
    "\n",
    "data_params = dict(\n",
    "    since=make_datetime(\"2023-09-01\").isoformat(),\n",
    "    until=make_datetime(\"2023-09-08\").isoformat(),\n",
    "    realm=\"whysor\", \n",
    "    truncate=\"second\"\n",
    ")\n",
    "\n",
    "format_params=dict(\n",
    "    format=\"json/table\",\n",
    "    timeFormat='iso'\n",
    ")\n",
    "\n",
    "# For in-depth testing we write the basic data \n",
    "\n",
    "async with aiohttp.ClientSession(**wodanparams) as session:\n",
    "    t0 = time.perf_counter_ns()\n",
    "    req = await session.get(\n",
    "        \"/whysor/read\", \n",
    "        params=dict(\n",
    "            sensorId=json.dumps(sensorId),\n",
    "            **data_params,\n",
    "            **format_params\n",
    "        ))\n",
    "    t1 = time.perf_counter_ns()\n",
    "\n",
    "    flowdataraw = await req.read()\n",
    "    df_flowdata = pd.read_json(\n",
    "        flowdataraw.decode(\"utf-8\"), \n",
    "        orient='table')\n",
    "    print(f\"Query took {round((t1-t0) / 1e6,2)} ms for {len(df_flowdata)} records\")\n",
    "    print(df_flowdata)\n",
    "    #df_moisture.plot()\n",
    "    write_data(df_flowdata, \"basic_sapflow_data\")"
   ]
  },
  {
   "cell_type": "code",
   "execution_count": null,
   "metadata": {},
   "outputs": [],
   "source": [
    "call_params=dict(\n",
    "    timezone='Europe/London',\n",
    ")\n",
    "\n",
    "#| code-fold: true\n",
    "payload=[\n",
    "    dict(\n",
    "        **data_params,\n",
    "        sensorId = sensorId,\n",
    "        metadata=dict(\n",
    "            outlierSensitivity = 4,\n",
    "            flowFocus='Outer and inner (mean)',\n",
    "            barkDepth=0.5,\n",
    "            circumference=19.8\n",
    "        )\n",
    "    ),\n",
    "    \n",
    "]\n",
    "t0=0\n",
    "async with aiohttp.ClientSession(**wodanparams) as session:\n",
    "    t0 = time.perf_counter_ns()\n",
    "    req = await session.post(\n",
    "        \"/whysor/sapflow\", \n",
    "        params={\n",
    "            **format_params,\n",
    "            **call_params\n",
    "        },\n",
    "        data=json.dumps(payload)\n",
    "    )\n",
    "    t1 = time.perf_counter_ns()\n",
    "    if req.status == 200:\n",
    "        rdata = await req.json()\n",
    "        if rdata:\n",
    "            print('resolved request:', json.dumps(rdata[0]['request'],indent=3))\n",
    "            df_sapflow = pd.read_json(\n",
    "                json.dumps(rdata[0]['data']), \n",
    "                orient='table')\n",
    "            print(df_sapflow.info())\n",
    "            \n",
    "            print(df_sapflow.head(5))\n",
    "            df_sapflow[[c for c in df_sapflow.columns if 'Volume' in c]].plot()\n",
    "        \n",
    "            write_data(df_sapflow, \"basic_sapflow_result_data\")\n",
    "\n",
    "    print(f\"Query took {round((t1-t0) / 1e6,2)} ms\")"
   ]
  },
  {
   "cell_type": "code",
   "execution_count": null,
   "metadata": {},
   "outputs": [],
   "source": [
    "df_sapflow.isna().any(axis=None)"
   ]
  },
  {
   "cell_type": "markdown",
   "metadata": {},
   "source": [
    "#### AICore - direct call"
   ]
  },
  {
   "cell_type": "code",
   "execution_count": null,
   "metadata": {},
   "outputs": [],
   "source": [
    "#| code-fold: true\n",
    "import wodan.processors.sapflow\n",
    "importlib.reload(wodan.processors.sapflow)\n",
    "\n",
    "from wodan.processors.sapflow import Module as SapflowModule\n",
    "sapflow_module = SapflowModule(None, None)"
   ]
  },
  {
   "cell_type": "code",
   "execution_count": null,
   "metadata": {},
   "outputs": [],
   "source": [
    "data_params, format_params"
   ]
  },
  {
   "cell_type": "code",
   "execution_count": null,
   "metadata": {},
   "outputs": [],
   "source": [
    "#| code-fold: true\n",
    "#| code-summary: \"Sapflow Processor in AICore\"\n",
    "metadata=dict(\n",
    "    outlierSensitivity = 4,\n",
    "    flowFocus='Outer and inner (mean)',\n",
    "    barkDepth=0.5,\n",
    "    circumference=19.8\n",
    ")\n",
    "\n",
    "aicore_call_params = dict(\n",
    "    kwargs=dict(\n",
    "        **call_params, \n",
    "        format=\"records\",\n",
    "        **metadata),\n",
    "\n",
    "    data=await get_data_from_wodan(**data_params, sensorId=sensorId, format=\"json/records\")\n",
    ")\n",
    "\n",
    "t0 = time.perf_counter_ns()\n",
    "result = sapflow_module.infer(aicore_call_params['data'], **aicore_call_params['kwargs'])\n",
    "t1 = time.perf_counter_ns()\n",
    "print(f\"Execution took {round((t1-t0) / 1e6,2)} ms.\")\n",
    "\n",
    "#print(json.dumps(result, indent=2))"
   ]
  },
  {
   "cell_type": "markdown",
   "metadata": {},
   "source": [
    "From the AICore module we get a dictionary with the fields"
   ]
  },
  {
   "cell_type": "code",
   "execution_count": null,
   "metadata": {},
   "outputs": [],
   "source": [
    "print([K for K in result.keys()])"
   ]
  },
  {
   "cell_type": "markdown",
   "metadata": {},
   "source": [
    "msg\n",
    ": messages from AICore Module"
   ]
  },
  {
   "cell_type": "code",
   "execution_count": null,
   "metadata": {},
   "outputs": [],
   "source": [
    "print(\"\\n\".join(result['msg']))"
   ]
  },
  {
   "cell_type": "markdown",
   "metadata": {},
   "source": [
    "data\n",
    ": data from AICore Module"
   ]
  },
  {
   "cell_type": "code",
   "execution_count": null,
   "metadata": {},
   "outputs": [],
   "source": [
    "print(json.dumps(result['data'][0:6], indent=2))"
   ]
  },
  {
   "cell_type": "markdown",
   "metadata": {},
   "source": [
    "#### AICore - remote call"
   ]
  },
  {
   "cell_type": "code",
   "execution_count": null,
   "metadata": {},
   "outputs": [],
   "source": [
    "#| code-fold: true\n",
    "#| code-summary: \"Watergifte Processor in AICore\"\n",
    "\n",
    "\n",
    "format_params=dict(\n",
    "    format=\"records\",\n",
    ")\n",
    "\n",
    "\n",
    "t0=0\n",
    "async with aiohttp.ClientSession(**aicoreparams) as session:\n",
    "    t0 = time.perf_counter_ns()\n",
    "    \n",
    "    # simulate remote call including fetching data\n",
    "    aicore_call_params = dict(\n",
    "            module_id=aicore_modules['sapflow'],\n",
    "            kwargs=dict(**call_params, **format_params, **metadata),\n",
    "            data=await get_data_from_wodan(**data_params, sensorId=sensorId)\n",
    "        )\n",
    "    \n",
    "    t2 = time.perf_counter_ns()\n",
    "\n",
    "    req = await session.post(\n",
    "        \"/api/infer/\", \n",
    "        data = json.dumps(aicore_call_params))\n",
    "    t1 = time.perf_counter_ns()\n",
    "\n",
    "    sapflowdata = await req.read()\n",
    "    try:\n",
    "        raw_sapflow = json.loads(sapflowdata.decode(\"utf-8\"))\n",
    "    except:\n",
    "        print(sapflowdata.decode(\"utf-8\"))\n",
    "        raw_sapflow = None\n",
    "        pass\n",
    "    print(f\"Query took {round((t1-t0) / 1e6,2)} ms (whysor time: {round((t2-t0) / 1e6,2)} + aicore time: {round((t1-t2) / 1e6,2)}) for {0} records\")"
   ]
  },
  {
   "cell_type": "markdown",
   "metadata": {},
   "source": [
    "The *aicore_call_params* that we send to the AICore module looks basicaly like this:"
   ]
  },
  {
   "cell_type": "code",
   "execution_count": null,
   "metadata": {},
   "outputs": [],
   "source": [
    "print(json.dumps({k:v[0:5] if isinstance(v, list) else v for k,v in aicore_call_params.items()}, indent=2))"
   ]
  },
  {
   "cell_type": "markdown",
   "metadata": {},
   "source": [
    "The result is a dictionary containing:\n",
    "\n",
    "msg\n",
    ": messages from AICore Module"
   ]
  },
  {
   "cell_type": "code",
   "execution_count": null,
   "metadata": {},
   "outputs": [],
   "source": [
    "if raw_sapflow:\n",
    "    print(\"\\n\".join(raw_sapflow['msg']))"
   ]
  },
  {
   "cell_type": "markdown",
   "metadata": {},
   "source": [
    "data\n",
    ": data from AICore Module"
   ]
  },
  {
   "cell_type": "code",
   "execution_count": null,
   "metadata": {},
   "outputs": [],
   "source": [
    "if raw_sapflow:\n",
    "    print(json.dumps(raw_sapflow['data'][0:3], indent=2))"
   ]
  },
  {
   "cell_type": "markdown",
   "metadata": {},
   "source": [
    "For pandas data frame we can use"
   ]
  },
  {
   "cell_type": "code",
   "execution_count": null,
   "metadata": {},
   "outputs": [],
   "source": [
    "#| code-fold: true\n",
    "if raw_sapflow:\n",
    "\n",
    "    df_sapflow = pd.DataFrame.from_dict(\n",
    "        raw_sapflow['data'])\n",
    "    df_sapflow.set_index('time', inplace=True)\n",
    "    df_sapflow.index = pd.to_datetime(df_sapflow.index, format='ISO8601')\n",
    "\n",
    "    print(df_sapflow)"
   ]
  },
  {
   "cell_type": "markdown",
   "metadata": {},
   "source": [
    "### Dendometrics {#sec-function-dendrometrics}\n",
    "\n",
    "#### Wodan\n"
   ]
  },
  {
   "cell_type": "code",
   "execution_count": null,
   "metadata": {},
   "outputs": [],
   "source": []
  },
  {
   "cell_type": "code",
   "execution_count": null,
   "metadata": {},
   "outputs": [],
   "source": []
  },
  {
   "cell_type": "code",
   "execution_count": null,
   "metadata": {},
   "outputs": [],
   "source": [
    "#| code-fold: true\n",
    "#| code-summary: \"Sapflow Processor\"\n",
    "sensorId = 'f096c2fa-43fe-402d-a982-7868f6840277'\n",
    "\n",
    "data_params = dict(\n",
    "    since=make_datetime(\"2023-09-01\").isoformat(),\n",
    "    until=make_datetime(\"2023-09-08\").isoformat(),\n",
    "    realm=\"whysor\", \n",
    "    truncate=\"second\"\n",
    ")\n",
    "\n",
    "format_params=dict(\n",
    "    format=\"json/table\",\n",
    "    timeFormat='iso'\n",
    ")\n",
    "\n",
    "# For in-depth testing we write the basic data \n",
    "\n",
    "async with aiohttp.ClientSession(**wodanparams) as session:\n",
    "    t0 = time.perf_counter_ns()\n",
    "    req = await session.get(\n",
    "        \"/whysor/read\", \n",
    "        params=dict(\n",
    "            sensorId=sensorId,\n",
    "            **data_params,\n",
    "            **format_params\n",
    "        ))\n",
    "    t1 = time.perf_counter_ns()\n",
    "\n",
    "    dendrodataraw = await req.read()\n",
    "    df_dendrodata = pd.read_json(\n",
    "        dendrodataraw.decode(\"utf-8\"), \n",
    "        orient='table')\n",
    "    print(f\"Query took {round((t1-t0) / 1e6,2)} ms for {len(df_dendrodata)} records\")\n",
    "    print(df_dendrodata)\n",
    "    #df_moisture.plot()\n",
    "    write_data(df_dendrodata, \"basic_dendro_data\")"
   ]
  },
  {
   "cell_type": "code",
   "execution_count": null,
   "metadata": {},
   "outputs": [],
   "source": [
    "call_params=dict(\n",
    "    timezone='Europe/London',\n",
    ")\n",
    "\n",
    "#| code-fold: true\n",
    "payload=[\n",
    "    dict(\n",
    "        **data_params,\n",
    "        sensorId = sensorId,\n",
    "    ),\n",
    "    \n",
    "]\n",
    "t0=0\n",
    "async with aiohttp.ClientSession(**wodanparams) as session:\n",
    "    t0 = time.perf_counter_ns()\n",
    "    req = await session.post(\n",
    "        \"/whysor/dendrometrics\", \n",
    "        params={\n",
    "            **format_params,\n",
    "            **data_params\n",
    "        },\n",
    "        data=json.dumps(payload)\n",
    "    )\n",
    "    t1 = time.perf_counter_ns()\n",
    "\n",
    "    if req.status == 200:\n",
    "        rdata = await req.json()\n",
    "        if rdata:\n",
    "            print('resolved request:', json.dumps(rdata[0]['request'],indent=3))\n",
    "            df_dendro = pd.read_json(\n",
    "                json.dumps(rdata[0]['data']), \n",
    "                orient='table')\n",
    "            print(df_dendro.info())\n",
    "            \n",
    "            print(df_dendro.tail(5))\n",
    "            df_dendro[[c for c in df_dendro.columns if 'clean' not in c]].plot()\n",
    "        \n",
    "            write_data(df_dendro, \"basic_sapflow_result_data\")\n",
    "\n",
    "    print(f\"Query took {round((t1-t0) / 1e6,2)} ms\")"
   ]
  },
  {
   "cell_type": "markdown",
   "metadata": {},
   "source": [
    "#### AICore - remote call\n"
   ]
  },
  {
   "cell_type": "code",
   "execution_count": null,
   "metadata": {},
   "outputs": [],
   "source": [
    "#| code-fold: true\n",
    "#| code-summary: \"Watergifte Processor in AICore\"\n",
    "\n",
    "\n",
    "format_params=dict(\n",
    "    format=\"records\",\n",
    ")\n",
    "\n",
    "\n",
    "t0=0\n",
    "async with aiohttp.ClientSession(**aicoreparams) as session:\n",
    "    t0 = time.perf_counter_ns()\n",
    "    \n",
    "    # simulate remote call including fetching data\n",
    "    aicore_call_params = dict(\n",
    "            module_id=aicore_modules['dendrometrics'],\n",
    "            kwargs=dict(**format_params),\n",
    "            data=await get_data_from_whysor(**data_params, sensorId=sensorId)\n",
    "        )\n",
    "    \n",
    "    t2 = time.perf_counter_ns()\n",
    "\n",
    "    req = await session.post(\n",
    "        \"/api/infer/\", \n",
    "        data = json.dumps(aicore_call_params))\n",
    "    t1 = time.perf_counter_ns()\n",
    "\n",
    "    dendrodata = await req.read()\n",
    "    try:\n",
    "        raw_dendro = json.loads(dendrodata.decode(\"utf-8\"))\n",
    "    except:\n",
    "        print(dendrodata.decode(\"utf-8\"))\n",
    "        raw_dendro = None\n",
    "        pass\n",
    "    print(f\"Query took {round((t1-t0) / 1e6,2)} ms (whysor time: {round((t2-t0) / 1e6,2)} + aicore time: {round((t1-t2) / 1e6,2)})\")"
   ]
  },
  {
   "cell_type": "markdown",
   "metadata": {},
   "source": [
    "The call request then looks like:"
   ]
  },
  {
   "cell_type": "code",
   "execution_count": null,
   "metadata": {},
   "outputs": [],
   "source": [
    "print(json.dumps({k:v[0:5] if isinstance(v, list) else v for k,v in aicore_call_params.items()}, indent=2))"
   ]
  },
  {
   "cell_type": "markdown",
   "metadata": {},
   "source": [
    "The resulting data"
   ]
  },
  {
   "cell_type": "code",
   "execution_count": null,
   "metadata": {},
   "outputs": [],
   "source": [
    "print(json.dumps({k:v[0:5] if isinstance(v, list) else v for k,v in raw_dendro.items()}, indent=2))"
   ]
  },
  {
   "cell_type": "markdown",
   "metadata": {},
   "source": [
    "Interpreted as dataframe the result"
   ]
  },
  {
   "cell_type": "code",
   "execution_count": null,
   "metadata": {},
   "outputs": [],
   "source": [
    "#| code-fold: true\n",
    "if raw_dendro:\n",
    "\n",
    "    df_dendro = pd.DataFrame.from_dict(\n",
    "        raw_dendro['data'])\n",
    "    df_dendro.set_index('time', inplace=True)\n",
    "    df_dendro.index = pd.to_datetime(df_dendro.index, format='ISO8601')\n",
    "\n",
    "    print(df_dendro.tail(5))\n",
    "    df_dendro[[c for c in df_dendro.columns if 'clean' not in c]].plot()\n"
   ]
  },
  {
   "cell_type": "code",
   "execution_count": null,
   "metadata": {},
   "outputs": [],
   "source": []
  },
  {
   "cell_type": "markdown",
   "metadata": {},
   "source": [
    "### Element availability"
   ]
  },
  {
   "cell_type": "markdown",
   "metadata": {},
   "source": []
  },
  {
   "cell_type": "code",
   "execution_count": null,
   "metadata": {},
   "outputs": [],
   "source": [
    "soillife_sensors = dict(\n",
    "    redoxPotential = 'cc0787a2-c7a4-4b33-ba9f-1974cc2483b5',\n",
    "    acidity = '6f178072-020a-4b45-b4de-410665fda7db'\n",
    ")\n",
    "element_sensors = dict(\n",
    "    Cu='af118fab-2e59-450d-98bd-805a45c627b7',\n",
    "    Mn='b02c223f-0b2a-46a3-8771-5286721e4ccc'\n",
    ")"
   ]
  },
  {
   "cell_type": "code",
   "execution_count": null,
   "metadata": {},
   "outputs": [],
   "source": [
    "async with aiohttp.ClientSession(**whysorparams) as session:\n",
    "    for I in set(soillife_sensors.values()) | set(element_sensors.values()):\n",
    "        await ingest_whysordata(ds, session, **dict(\n",
    "            sensorId=I,\n",
    "            realm='whysor',\n",
    "            since='2022-01-01',\n",
    "            until=datetime.datetime.utcnow().isoformat()\n",
    "        ))\n"
   ]
  },
  {
   "cell_type": "code",
   "execution_count": null,
   "metadata": {},
   "outputs": [],
   "source": []
  },
  {
   "cell_type": "markdown",
   "metadata": {},
   "source": [
    "#### Input data"
   ]
  },
  {
   "cell_type": "code",
   "execution_count": null,
   "metadata": {},
   "outputs": [],
   "source": [
    "data_params = dict(\n",
    "    since='2024-01-01',\n",
    "    until='2024-02-01',\n",
    ")"
   ]
  },
  {
   "cell_type": "markdown",
   "metadata": {},
   "source": [
    "#### Wodan"
   ]
  },
  {
   "cell_type": "code",
   "execution_count": null,
   "metadata": {},
   "outputs": [],
   "source": [
    "format_params=dict(\n",
    "    format=\"json/table\",\n",
    "    timeFormat='iso'\n",
    ")\n",
    "\n",
    "# For in-depth testing we write the basic data \n",
    "\n",
    "async with aiohttp.ClientSession(**wodanparams) as session:\n",
    "    t0 = time.perf_counter_ns()\n",
    "    req = await session.get(\n",
    "        \"/whysor/element_availability\", \n",
    "        params=dict(\n",
    "            sensorId=json.dumps(soillife_sensors),\n",
    "            **data_params,\n",
    "            **format_params\n",
    "        ))\n",
    "    t1 = time.perf_counter_ns()\n",
    "\n",
    "    elementdataraw = await req.read()\n",
    "    df_elementdata = pd.read_json(\n",
    "        elementdataraw.decode(\"utf-8\"), \n",
    "        orient='table')\n",
    "    print(f\"Query took {round((t1-t0) / 1e6,2)} ms for {len(df_elementdata)} records\")\n",
    "    print(df_elementdata)"
   ]
  },
  {
   "cell_type": "markdown",
   "metadata": {},
   "source": [
    "#### AICore"
   ]
  },
  {
   "cell_type": "code",
   "execution_count": null,
   "metadata": {},
   "outputs": [],
   "source": [
    "#| code-fold: true\n",
    "#| code-summary: \"Watergifte Processor in AICore\"\n",
    "\n",
    "\n",
    "format_params=dict(\n",
    "    format=\"records\",\n",
    ")\n",
    "\n",
    "\n",
    "t0=0\n",
    "async with aiohttp.ClientSession(**aicoreparams) as session:\n",
    "    t0 = time.perf_counter_ns()\n",
    "    \n",
    "    # simulate remote call including fetching data\n",
    "    aicore_call_params = dict(\n",
    "            module_id=aicore_modules['element_availability'],\n",
    "            kwargs=dict(**format_params),\n",
    "            data=await get_data_from_whysor(**data_params, sensorId=soillife_sensors.copy())\n",
    "        )\n",
    "    \n",
    "    t2 = time.perf_counter_ns()"
   ]
  },
  {
   "cell_type": "code",
   "execution_count": null,
   "metadata": {},
   "outputs": [],
   "source": [
    "print(json.dumps({k:v[0:5] if isinstance(v, list) else v for k,v in aicore_call_params.items()}, indent=2))"
   ]
  },
  {
   "cell_type": "code",
   "execution_count": null,
   "metadata": {},
   "outputs": [],
   "source": [
    "t01 = time.perf_counter_ns()\n",
    "async with aiohttp.ClientSession(**aicoreparams) as session:\n",
    "\n",
    "    req = await session.post(\n",
    "        \"/api/infer/\", \n",
    "        data = json.dumps(aicore_call_params))\n",
    "    t1 = time.perf_counter_ns()\n",
    "\n",
    "    elementdata = await req.read()\n",
    "    try:\n",
    "        raw_elementdata = json.loads(elementdata.decode(\"utf-8\"))\n",
    "    except:\n",
    "        print(elementdata.decode(\"utf-8\"))\n",
    "        raw_elementdata = None\n",
    "        pass\n",
    "    print(f\"Query took {round((t1-t01+t2-t0) / 1e6,2)} ms (whysor time: {round((t2-t0) / 1e6,2)} + aicore time: {round((t1-t01) / 1e6,2)}) for {0} records\")"
   ]
  },
  {
   "cell_type": "code",
   "execution_count": null,
   "metadata": {},
   "outputs": [],
   "source": [
    "print('\\n'.join(raw_elementdata['msg']))"
   ]
  },
  {
   "cell_type": "code",
   "execution_count": null,
   "metadata": {},
   "outputs": [],
   "source": [
    "if raw_elementdata:\n",
    "    print(json.dumps(raw_elementdata['data'][0:2], indent=2))"
   ]
  },
  {
   "cell_type": "code",
   "execution_count": null,
   "metadata": {},
   "outputs": [],
   "source": [
    "#| code-fold: true\n",
    "if raw_elementdata:\n",
    "\n",
    "    df_elementdata = pd.DataFrame.from_dict(\n",
    "        raw_elementdata['data'])\n",
    "    df_elementdata.set_index('time', inplace=True)\n",
    "    df_elementdata.index = pd.to_datetime(df_elementdata.index, format='ISO8601')\n",
    "\n",
    "    print(df_elementdata)"
   ]
  },
  {
   "cell_type": "code",
   "execution_count": null,
   "metadata": {},
   "outputs": [],
   "source": []
  },
  {
   "attachments": {},
   "cell_type": "markdown",
   "metadata": {},
   "source": [
    "### Mildew\n",
    "\n"
   ]
  },
  {
   "cell_type": "code",
   "execution_count": null,
   "metadata": {},
   "outputs": [],
   "source": [
    "import pandas as pd"
   ]
  },
  {
   "cell_type": "code",
   "execution_count": null,
   "metadata": {},
   "outputs": [],
   "source": [
    "pd.read_json('data/testdata_meeldauw.json', orient='records').head().to_dict(orient='records')"
   ]
  },
  {
   "cell_type": "code",
   "execution_count": null,
   "metadata": {},
   "outputs": [],
   "source": [
    "#| code-fold: true\n",
    "#| code-summary: \"Mildew Processor in AICore\"\n",
    "\n",
    "\n",
    "format_params=dict(\n",
    "    format=\"records\",\n",
    ")\n",
    "call_params = dict()\n",
    "metadata = dict()\n",
    "\n",
    "t0=0\n",
    "async with aiohttp.ClientSession(**aicoreparams) as session:\n",
    "    t0 = time.perf_counter_ns()\n",
    "    \n",
    "    # simulate remote call including fetching data\n",
    "    aicore_call_params = dict(\n",
    "            module_id=aicore_modules['meeldauw'],\n",
    "            kwargs=dict(**call_params, **format_params, **metadata),\n",
    "            data=[\n",
    "                {k:v for k,v in R.items() if v is not None and not pd.isna(v)}\n",
    "                for R in pd.read_json('data/testdata_meeldauw.json', orient='records').to_dict(orient='records')\n",
    "            ]\n",
    "        )\n",
    "    \n",
    "    t2 = time.perf_counter_ns()\n",
    "\n",
    "    req = await session.post(\n",
    "        \"/api/infer/\", \n",
    "        data = json.dumps(aicore_call_params))\n",
    "    t1 = time.perf_counter_ns()\n",
    "\n",
    "    mildewdata = await req.read()\n",
    "    try:\n",
    "        raw_mildewdata = json.loads(mildewdata.decode(\"utf-8\"))\n",
    "    except:\n",
    "        print(mildewdata.decode(\"utf-8\"))\n",
    "        raw_mildewdata = None\n",
    "        pass\n",
    "    print(f\"Query took {round((t1-t0) / 1e6,2)} ms (whysor time: {round((t2-t0) / 1e6,2)} + aicore time: {round((t1-t2) / 1e6,2)}) for {0} records\")"
   ]
  },
  {
   "cell_type": "markdown",
   "metadata": {},
   "source": [
    "The payload looks like:"
   ]
  },
  {
   "cell_type": "code",
   "execution_count": null,
   "metadata": {},
   "outputs": [],
   "source": [
    "print(json.dumps({k:v[0:5] if isinstance(v, list) else v for k,v in aicore_call_params.items()}, indent=2))"
   ]
  },
  {
   "cell_type": "markdown",
   "metadata": {},
   "source": [
    "The returned messages can be found und the 'msg' key"
   ]
  },
  {
   "cell_type": "code",
   "execution_count": null,
   "metadata": {},
   "outputs": [],
   "source": [
    "#| echo: true\n",
    "print(\"\\n\".join(raw_mildewdata['msg']))"
   ]
  },
  {
   "cell_type": "code",
   "execution_count": null,
   "metadata": {},
   "outputs": [],
   "source": [
    "pd.DataFrame(raw_mildewdata['data']).set_index('time').head(9)"
   ]
  },
  {
   "cell_type": "markdown",
   "metadata": {},
   "source": [
    "#### Product gebruik"
   ]
  },
  {
   "cell_type": "markdown",
   "metadata": {},
   "source": [
    "With the parameter `productgebruik` set to `True` de module will calculate the cumlative use of each product from the\n",
    "input data and return a table with used and remaining uses for each product. "
   ]
  },
  {
   "cell_type": "code",
   "execution_count": null,
   "metadata": {},
   "outputs": [],
   "source": [
    "#| code-fold: true\n",
    "#| code-summary: \"Mildew Processor in AICore\"\n",
    "\n",
    "\n",
    "call_params=dict(\n",
    "    productgebruik=True,\n",
    ")"
   ]
  },
  {
   "cell_type": "markdown",
   "metadata": {},
   "source": [
    "The module only needs the rows with `product` use"
   ]
  },
  {
   "cell_type": "code",
   "execution_count": null,
   "metadata": {},
   "outputs": [],
   "source": [
    "pd.read_json('data/testdata_meeldauw.json', orient='records')[['time', 'product']].dropna()"
   ]
  },
  {
   "cell_type": "code",
   "execution_count": null,
   "metadata": {},
   "outputs": [],
   "source": [
    "t0=0\n",
    "async with aiohttp.ClientSession(**aicoreparams) as session:\n",
    "    t0 = time.perf_counter_ns()\n",
    "    \n",
    "    # simulate remote call including fetching data\n",
    "    aicore_call_params = dict(\n",
    "            module_id=aicore_modules['meeldauw'],\n",
    "            kwargs=dict(**call_params, **format_params, **metadata),\n",
    "            data=[\n",
    "                {k:v for k,v in R.items() if v is not None and not pd.isna(v)}\n",
    "                for R in pd.read_json('data/testdata_meeldauw.json', orient='records')[['time', 'product']].dropna().to_dict(orient='records')\n",
    "            ]\n",
    "        )\n",
    "    \n",
    "    t2 = time.perf_counter_ns()\n",
    "\n",
    "    req = await session.post(\n",
    "        \"/api/infer/\", \n",
    "        data = json.dumps(aicore_call_params))\n",
    "    t1 = time.perf_counter_ns()\n",
    "\n",
    "    mildewdata = await req.read()\n",
    "    try:\n",
    "        raw_mildewdata = json.loads(mildewdata.decode(\"utf-8\"))\n",
    "    except:\n",
    "        print(mildewdata.decode(\"utf-8\"))\n",
    "        raw_mildewdata = None\n",
    "        pass\n",
    "    print(f\"Query took {round((t1-t0) / 1e6,2)} ms (whysor time: {round((t2-t0) / 1e6,2)} + aicore time: {round((t1-t2) / 1e6,2)}) for {0} records\")"
   ]
  },
  {
   "cell_type": "markdown",
   "metadata": {},
   "source": [
    "The payload passed to the module looks like"
   ]
  },
  {
   "cell_type": "code",
   "execution_count": null,
   "metadata": {},
   "outputs": [],
   "source": [
    "#|echo: false\n",
    "print(json.dumps(\n",
    "    {\n",
    "        k:v[0:5] if isinstance(v, list) else v \n",
    "        for k,v in aicore_call_params.items()}, \n",
    "    indent=2\n",
    "))"
   ]
  },
  {
   "cell_type": "markdown",
   "metadata": {},
   "source": [
    "dan wordt een tabel geretourneerd met reeds gebruikte en de nog resterende gebruiksmgelijkheden per product."
   ]
  },
  {
   "cell_type": "code",
   "execution_count": null,
   "metadata": {},
   "outputs": [],
   "source": [
    "#|echo: false\n",
    "print(json.dumps(raw_mildewdata['data'][0:3], indent=2 ))"
   ]
  },
  {
   "cell_type": "code",
   "execution_count": null,
   "metadata": {},
   "outputs": [],
   "source": [
    "pd.DataFrame(raw_mildewdata['data'])"
   ]
  },
  {
   "cell_type": "code",
   "execution_count": null,
   "metadata": {},
   "outputs": [],
   "source": []
  },
  {
   "cell_type": "code",
   "execution_count": null,
   "metadata": {},
   "outputs": [],
   "source": []
  },
  {
   "cell_type": "markdown",
   "metadata": {},
   "source": [
    "## RScript bridge"
   ]
  },
  {
   "cell_type": "markdown",
   "metadata": {},
   "source": [
    "### Remote call"
   ]
  },
  {
   "cell_type": "code",
   "execution_count": null,
   "metadata": {},
   "outputs": [],
   "source": []
  },
  {
   "cell_type": "code",
   "execution_count": null,
   "metadata": {},
   "outputs": [],
   "source": [
    "#| code-fold: true\n",
    "#| code-summary: \"Sapflow Prediction RScript Processor in AICore\"\n",
    "\n",
    "\n",
    "t0=0\n",
    "async with aiohttp.ClientSession(**aicoreparams) as session:\n",
    "    t0 = time.perf_counter_ns()\n",
    "    \n",
    "    # simulate remote call including fetching data\n",
    "    aicore_call_params = dict(\n",
    "            module_id=aicore_modules['sapflux_prediction'],\n",
    "            kwargs=dict(\n",
    "                format='records',\n",
    "                readTag='Predicted_sapflux',\n",
    "                camelCase=True\n",
    "            ),\n",
    "            data=[]\n",
    "        )\n",
    "    \n",
    "    t2 = time.perf_counter_ns()\n",
    "\n",
    "    req = await session.post(\n",
    "        \"/api/infer/\", \n",
    "        data = json.dumps(aicore_call_params))\n",
    "    t1 = time.perf_counter_ns()\n",
    "\n",
    "    sapflowdata = await req.read()\n",
    "    try:\n",
    "        raw_sapflow = json.loads(sapflowdata.decode(\"utf-8\"))\n",
    "    except:\n",
    "        print(sapflowdata.decode(\"utf-8\"))\n",
    "        raw_sapflow = None\n",
    "        pass\n",
    "    print(f\"Query took {round((t1-t0) / 1e6,2)} ms (whysor time: {round((t2-t0) / 1e6,2)} + aicore time: {round((t1-t2) / 1e6,2)}) for {0} records\")"
   ]
  },
  {
   "cell_type": "code",
   "execution_count": null,
   "metadata": {},
   "outputs": [],
   "source": [
    "print(json.dumps({k:v[0:5] if isinstance(v, list) else v for k,v in aicore_call_params.items()}, indent=2))"
   ]
  },
  {
   "cell_type": "code",
   "execution_count": null,
   "metadata": {},
   "outputs": [],
   "source": [
    "if raw_sapflow:\n",
    "    print(\"\\n\".join(raw_sapflow['msg']))"
   ]
  },
  {
   "cell_type": "code",
   "execution_count": null,
   "metadata": {},
   "outputs": [],
   "source": [
    "if raw_sapflow:\n",
    "    print(json.dumps(raw_sapflow['data'][0:3], indent=2))"
   ]
  },
  {
   "cell_type": "code",
   "execution_count": null,
   "metadata": {},
   "outputs": [],
   "source": [
    "#| code-fold: true\n",
    "if raw_sapflow:\n",
    "\n",
    "    df_sapflow = pd.DataFrame.from_dict(\n",
    "        raw_sapflow['data'])\n",
    "    df_sapflow.set_index('time', inplace=True)\n",
    "    df_sapflow.index = pd.to_datetime(df_sapflow.index, format='ISO8601')\n",
    "\n",
    "    print(df_sapflow)"
   ]
  }
 ],
 "metadata": {
  "kernelspec": {
   "display_name": "python3",
   "language": "python",
   "name": "python3"
  }
 },
 "nbformat": 4,
 "nbformat_minor": 4
}
