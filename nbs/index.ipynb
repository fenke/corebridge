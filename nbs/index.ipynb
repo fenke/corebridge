{
 "cells": [
  {
   "cell_type": "code",
   "execution_count": null,
   "metadata": {},
   "outputs": [],
   "source": [
    "#| hide\n",
    "from corebridge.core import *"
   ]
  },
  {
   "cell_type": "markdown",
   "metadata": {},
   "source": [
    "# corebridge\n",
    "\n",
    "> Bridge code to connect Stactics AICore to WODAN processors"
   ]
  },
  {
   "cell_type": "markdown",
   "metadata": {},
   "source": [
    "This package provides functions and classes to run wodan style processing functions in the \n",
    "Stactics AICore environment."
   ]
  },
  {
   "cell_type": "markdown",
   "metadata": {},
   "source": [
    "## Install"
   ]
  },
  {
   "cell_type": "markdown",
   "metadata": {},
   "source": [
    "```sh\n",
    "pip install corebridge\n",
    "```"
   ]
  },
  {
   "cell_type": "markdown",
   "metadata": {},
   "source": [
    "## How to use"
   ]
  },
  {
   "cell_type": "markdown",
   "metadata": {},
   "source": [
    "### Introduction\n",
    "\n",
    "#### Wodan processing functions\n",
    "\n",
    "Wodan is a proprietary backend service that applies high performance, custom analytical processing to timeseries data in the Whysor data and dashboarding environment.\n",
    "\n",
    "Each wodan module defines one function that operates as the entry point. The parameter annotations in this function definition are used to format data and retrieve parameters from the originating call to the wodan api. This function is called with data retrieved according to a specification and with additional parameters as annotated.\n",
    "\n",
    "A simple function might look like:\n",
    "\n",
    "```{python} \n",
    "import numpy as np\n",
    "\n",
    "def multiply(data:np.ndarray, multiplier:float=1.0):\n",
    "    return data * multiplier\n",
    "    \n",
    "```\n",
    "\n"
   ]
  },
  {
   "cell_type": "markdown",
   "metadata": {},
   "source": [
    "#### AICore modules\n",
    "\n",
    "For AICore one defines a class, always named `Module` with a constructor `__init__` and a method `infer`.\n",
    "\n",
    "This package defines a baseclass to quickly construct a custom `Module` class that uses a wodan processor function inside the AICore system:\n",
    "\n",
    "\n",
    "\n",
    "```{python} \n",
    "import numpy as np\n",
    "import corebridge\n",
    "\n",
    "def multiply(data:np.ndarray, multiplier:float=1.0):\n",
    "    return data * multiplier\n",
    "\n",
    "class Module(corebridge.aicorebridge.AICoreModule):\n",
    "    def __init__(self, save_dir, assets_dir, *args, **kwargs):\n",
    "        super().__init__(multiply, save_dir, assets_dir, *args, **kwargs)\n",
    "    \n",
    "```\n",
    "\n",
    "That's it. Well, you can add parameters to `__init__` that can be used as hyperparameters and you could override `infer` for the same reason. "
   ]
  },
  {
   "cell_type": "code",
   "execution_count": null,
   "metadata": {},
   "outputs": [],
   "source": []
  },
  {
   "cell_type": "markdown",
   "metadata": {},
   "source": [
    "## nbdev cycle\n",
    "\n",
    "- edit\n",
    "- nbdev_export\n",
    "- pip install -e ‘.\\[dev\\]’\n",
    "- nbdev_test\n",
    "- nbdev_clean\n",
    "- nbdev_readme\n",
    "- nbdev_prepare\n",
    "- git add .\n",
    "- \n"
   ]
  }
 ],
 "metadata": {
  "kernelspec": {
   "display_name": "python3",
   "language": "python",
   "name": "python3"
  }
 },
 "nbformat": 4,
 "nbformat_minor": 4
}
