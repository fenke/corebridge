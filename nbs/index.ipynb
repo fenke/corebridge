{
 "cells": [
  {
   "cell_type": "code",
   "execution_count": null,
   "metadata": {},
   "outputs": [
    {
     "name": "stdout",
     "output_type": "stream",
     "text": [
      "Loading corebridge.core from /home/fenke/repos/corebridge/corebridge/core.py\n"
     ]
    }
   ],
   "source": [
    "#| hide\n",
    "from corebridge.core import *"
   ]
  },
  {
   "cell_type": "markdown",
   "metadata": {},
   "source": [
    "# corebridge\n",
    "\n",
    "> Bridge code to connect Stactics AICore to WODAN processors"
   ]
  },
  {
   "cell_type": "markdown",
   "metadata": {},
   "source": [
    "This package provides functions and classes to run wodan style processing functions in the \n",
    "Stactics AICore environment."
   ]
  },
  {
   "cell_type": "markdown",
   "metadata": {},
   "source": [
    "## Installation\n",
    "\n",
    "Use"
   ]
  },
  {
   "cell_type": "markdown",
   "metadata": {},
   "source": [
    "```sh\n",
    "pip install corebridge\n",
    "```"
   ]
  },
  {
   "cell_type": "markdown",
   "metadata": {},
   "source": [
    "to install corebrdige. "
   ]
  },
  {
   "cell_type": "markdown",
   "metadata": {},
   "source": [
    "## How to use"
   ]
  },
  {
   "cell_type": "markdown",
   "metadata": {},
   "source": [
    "### Introduction\n",
    "\n",
    "Wodan is a proprietary backend service that applies high performance, custom analytical processing to timeseries data in the Whysor data and dashboarding environment.\n",
    "\n",
    "Each wodan module defines one function that operates as the entry point. The parameter annotations in this function definition are used to format data and retrieve parameters from the originating call to the wodan api. This function is called with data retrieved according to a specification and with additional parameters as annotated.\n",
    "\n",
    "A simple function might look like:\n",
    "\n",
    "```{python} \n",
    "import numpy as np\n",
    "\n",
    "def multiply(data:np.ndarray, multiplier:float=1.0):\n",
    "    return data * multiplier\n",
    "    \n",
    "```\n",
    "\n",
    " Wodan binds this function to a service endpoint and takes care of fetching data and parameters and converting the result for the caller.\n"
   ]
  },
  {
   "cell_type": "markdown",
   "metadata": {},
   "source": [
    "### AICore modules\n",
    "\n",
    "For AICore users define a class, always named `CustomModule` with a constructor `__init__` and a method `infer`.\n",
    "\n",
    "This package defines a baseclass to quickly construct a  `CustomModule` class that is able to use a wodan processor function inside the AICore system:\n",
    "\n",
    "\n",
    "\n",
    "```{python} \n",
    "import numpy as np\n",
    "import corebridge\n",
    "\n",
    "def multiply(data:np.ndarray, multiplier:float=1.0):\n",
    "    return data * multiplier\n",
    "\n",
    "class CustomModule(corebridge.aicorebridge.AICoreModule):\n",
    "    def __init__(self, save_dir, assets_dir, *args, **kwargs):\n",
    "        super().__init__(multiply, save_dir, assets_dir, *args, **kwargs)\n",
    "    \n",
    "```\n",
    "\n",
    "That's it. Well, you can add parameters to `__init__` that can be used as hyperparameters in the web-interface and you could override `infer` for the same reason. The baseclass takes care of converting call parameters and data to the function specification and, calls the function and converts the result for the caller, similar to the original Wodan service."
   ]
  },
  {
   "cell_type": "code",
   "execution_count": null,
   "metadata": {},
   "outputs": [],
   "source": []
  },
  {
   "cell_type": "markdown",
   "metadata": {},
   "source": [
    "## Development\n",
    "\n",
    "### NBDev\n",
    "\n",
    "This library is developed with [NBDev](https://nbdev.fast.ai/) - a literate programming \n",
    "toolkit that supports developing code using jupyter notebooks and mix code with documentation.\n",
    "\n",
    "Literate programming is a methodology - introduced in 1984 by Donald Knuth - that combines a \n",
    "programming language with a documentation language. In this approach, a program is explained \n",
    "in a human language (such as English) alongside code snippets.\n",
    "The literate source file is then processed by a preprocessor to produce both source code \n",
    "and formatted documentation.\n",
    "\n",
    "This paradigm enhances program robustness, portability, and maintainability, making it a \n",
    "valuable tool in scientific computing and data science[^1]\n",
    "\n",
    "[^1]: [Wikipedia on 'Literate Programming'](https://en.wikipedia.org/wiki/Literate_programming)\n",
    "\n",
    "### Quarto\n",
    "\n",
    "Documentation is prepared from the notebook with [Quarto](https://quarto.org/). Quarto too\n",
    "combines code with documentation but it does not extract source code into modules like nbdev.\n",
    "\n",
    "### Installation\n",
    "\n",
    "#### Quarto\n",
    "\n",
    "Quarto uses Pandoc and, for pdf format, LaTeX. These must be available on your system.\n",
    "\n",
    "Install [Quarto](https://quarto.org/docs/get-started/) as you see fit, there is a \n",
    "[VSCode extension](https://marketplace.visualstudio.com/items?itemName=quarto.quarto) which \n",
    "handles this. \n",
    "\n",
    "#### NBDev\n",
    "\n",
    "NBDev is available as PyPi package and is installed with\n",
    "\n",
    "    pip install nbdev\n",
    "\n",
    "or if you are using conda\n",
    "\n",
    "    conda install -c fastai -y nbdev\n",
    "\n",
    "If so desired you can let NBDev install Quarto with \n",
    "\n",
    "    nbdev_install_quarto\n",
    "\n",
    "But this ask for the system admin password.\n",
    "\n",
    "\n",
    "### Local editing & testing\n",
    "\n",
    "Setup a virtual environment, activate it and install the development package and dependencies with, on linux\n",
    "\n",
    "``` \n",
    "    pip install -e ‘.[dev]’\n",
    "\n",
    "```\n",
    "\n",
    "or on Windows\n",
    "\n",
    "```\n",
    "    pip install -e .[dev]\n",
    "\n",
    "```\n",
    "\n",
    "#### Jupyter\n",
    "The above pip install should also install jupyter but to use it the kernel needs to be \n",
    "installed with:\n",
    "\n",
    "```\n",
    "    python -m ipykernel install --user --name=corebridge.venv\n",
    "```\n",
    "\n",
    "### nbdev cycle\n",
    "\n",
    "- edit\n",
    "- nbdev_prepare\n",
    "\n",
    "The latter performs\n",
    "- nbdev_export\n",
    "- nbdev_test\n",
    "- nbdev_clean\n",
    "- nbdev_readme\n",
    "\n",
    "Then commit and to upload to Pypi with `nbdev_pypi`\n"
   ]
  },
  {
   "cell_type": "markdown",
   "metadata": {},
   "source": []
  }
 ],
 "metadata": {
  "kernelspec": {
   "display_name": "corebridge.venv",
   "language": "python",
   "name": "corebridge.venv"
  }
 },
 "nbformat": 4,
 "nbformat_minor": 4
}
